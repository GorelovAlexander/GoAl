{
 "cells": [
  {
   "cell_type": "markdown",
   "metadata": {},
   "source": [
    "# Выбор локации для скважины"
   ]
  },
  {
   "cell_type": "markdown",
   "metadata": {},
   "source": [
    "Вы работаете в добывающей компании «ГлавРосГосНефть». Нужно решить, где бурить новую скважину.\n",
    "\n",
    "Вам предоставлены пробы нефти в трёх регионах: в каждом 100 000 месторождений, где измерили качество нефти и объём её запасов. Постройте модель машинного обучения, которая поможет определить регион, где добыча принесёт наибольшую прибыль. Проанализируйте возможную прибыль и риски техникой *Bootstrap.*\n",
    "\n",
    "Шаги для выбора локации:\n",
    "\n",
    "- В избранном регионе ищут месторождения, для каждого определяют значения признаков;\n",
    "- Строят модель и оценивают объём запасов;\n",
    "- Выбирают месторождения с самым высокими оценками значений. Количество месторождений зависит от бюджета компании и стоимости разработки одной скважины;\n",
    "- Прибыль равна суммарной прибыли отобранных месторождений."
   ]
  },
  {
   "cell_type": "markdown",
   "metadata": {},
   "source": [
    "## Загрузка и подготовка данных"
   ]
  },
  {
   "cell_type": "code",
   "execution_count": 1,
   "metadata": {},
   "outputs": [],
   "source": [
    "!pip install phik -q"
   ]
  },
  {
   "cell_type": "markdown",
   "metadata": {},
   "source": [
    "Импортируем библиотеки."
   ]
  },
  {
   "cell_type": "code",
   "execution_count": 2,
   "metadata": {},
   "outputs": [],
   "source": [
    "import pandas as pd\n",
    "import warnings\n",
    "warnings.simplefilter(\"ignore\") \n",
    "import matplotlib.pyplot as plt\n",
    "import seaborn as sns\n",
    "import numpy as np\n",
    "from scipy import stats as st\n",
    "\n",
    "import phik\n",
    "from phik.report import plot_correlation_matrix\n",
    "\n",
    "from sklearn.model_selection import train_test_split\n",
    "from sklearn.linear_model import LinearRegression\n",
    "from sklearn.pipeline import make_pipeline, Pipeline\n",
    "from sklearn.preprocessing import StandardScaler\n",
    "from sklearn.metrics import mean_squared_error\n",
    "from tqdm import tqdm"
   ]
  },
  {
   "cell_type": "markdown",
   "metadata": {},
   "source": [
    "Устанавливаем константы."
   ]
  },
  {
   "cell_type": "code",
   "execution_count": 3,
   "metadata": {},
   "outputs": [],
   "source": [
    "RANDOM_STATE = 42\n",
    "TEST_SIZE = 0.25"
   ]
  },
  {
   "cell_type": "markdown",
   "metadata": {},
   "source": [
    "## Обучение и проверка модели"
   ]
  },
  {
   "cell_type": "markdown",
   "metadata": {},
   "source": [
    "Считаем CSV-файлы с данными и изучим общую информацию о датафреймах."
   ]
  },
  {
   "cell_type": "code",
   "execution_count": 4,
   "metadata": {
    "scrolled": false
   },
   "outputs": [
    {
     "data": {
      "text/html": [
       "<div>\n",
       "<style scoped>\n",
       "    .dataframe tbody tr th:only-of-type {\n",
       "        vertical-align: middle;\n",
       "    }\n",
       "\n",
       "    .dataframe tbody tr th {\n",
       "        vertical-align: top;\n",
       "    }\n",
       "\n",
       "    .dataframe thead th {\n",
       "        text-align: right;\n",
       "    }\n",
       "</style>\n",
       "<table border=\"1\" class=\"dataframe\">\n",
       "  <thead>\n",
       "    <tr style=\"text-align: right;\">\n",
       "      <th></th>\n",
       "      <th>id</th>\n",
       "      <th>f0</th>\n",
       "      <th>f1</th>\n",
       "      <th>f2</th>\n",
       "      <th>product</th>\n",
       "    </tr>\n",
       "  </thead>\n",
       "  <tbody>\n",
       "    <tr>\n",
       "      <th>0</th>\n",
       "      <td>txEyH</td>\n",
       "      <td>0.705745</td>\n",
       "      <td>-0.497823</td>\n",
       "      <td>1.221170</td>\n",
       "      <td>105.280062</td>\n",
       "    </tr>\n",
       "    <tr>\n",
       "      <th>1</th>\n",
       "      <td>2acmU</td>\n",
       "      <td>1.334711</td>\n",
       "      <td>-0.340164</td>\n",
       "      <td>4.365080</td>\n",
       "      <td>73.037750</td>\n",
       "    </tr>\n",
       "    <tr>\n",
       "      <th>2</th>\n",
       "      <td>409Wp</td>\n",
       "      <td>1.022732</td>\n",
       "      <td>0.151990</td>\n",
       "      <td>1.419926</td>\n",
       "      <td>85.265647</td>\n",
       "    </tr>\n",
       "    <tr>\n",
       "      <th>3</th>\n",
       "      <td>iJLyR</td>\n",
       "      <td>-0.032172</td>\n",
       "      <td>0.139033</td>\n",
       "      <td>2.978566</td>\n",
       "      <td>168.620776</td>\n",
       "    </tr>\n",
       "    <tr>\n",
       "      <th>4</th>\n",
       "      <td>Xdl7t</td>\n",
       "      <td>1.988431</td>\n",
       "      <td>0.155413</td>\n",
       "      <td>4.751769</td>\n",
       "      <td>154.036647</td>\n",
       "    </tr>\n",
       "  </tbody>\n",
       "</table>\n",
       "</div>"
      ],
      "text/plain": [
       "      id        f0        f1        f2     product\n",
       "0  txEyH  0.705745 -0.497823  1.221170  105.280062\n",
       "1  2acmU  1.334711 -0.340164  4.365080   73.037750\n",
       "2  409Wp  1.022732  0.151990  1.419926   85.265647\n",
       "3  iJLyR -0.032172  0.139033  2.978566  168.620776\n",
       "4  Xdl7t  1.988431  0.155413  4.751769  154.036647"
      ]
     },
     "metadata": {},
     "output_type": "display_data"
    },
    {
     "name": "stdout",
     "output_type": "stream",
     "text": [
      "<class 'pandas.core.frame.DataFrame'>\n",
      "RangeIndex: 100000 entries, 0 to 99999\n",
      "Data columns (total 5 columns):\n",
      " #   Column   Non-Null Count   Dtype  \n",
      "---  ------   --------------   -----  \n",
      " 0   id       100000 non-null  object \n",
      " 1   f0       100000 non-null  float64\n",
      " 2   f1       100000 non-null  float64\n",
      " 3   f2       100000 non-null  float64\n",
      " 4   product  100000 non-null  float64\n",
      "dtypes: float64(4), object(1)\n",
      "memory usage: 3.8+ MB\n",
      "\n"
     ]
    },
    {
     "data": {
      "text/html": [
       "<div>\n",
       "<style scoped>\n",
       "    .dataframe tbody tr th:only-of-type {\n",
       "        vertical-align: middle;\n",
       "    }\n",
       "\n",
       "    .dataframe tbody tr th {\n",
       "        vertical-align: top;\n",
       "    }\n",
       "\n",
       "    .dataframe thead th {\n",
       "        text-align: right;\n",
       "    }\n",
       "</style>\n",
       "<table border=\"1\" class=\"dataframe\">\n",
       "  <thead>\n",
       "    <tr style=\"text-align: right;\">\n",
       "      <th></th>\n",
       "      <th>id</th>\n",
       "      <th>f0</th>\n",
       "      <th>f1</th>\n",
       "      <th>f2</th>\n",
       "      <th>product</th>\n",
       "    </tr>\n",
       "  </thead>\n",
       "  <tbody>\n",
       "    <tr>\n",
       "      <th>0</th>\n",
       "      <td>kBEdx</td>\n",
       "      <td>-15.001348</td>\n",
       "      <td>-8.276000</td>\n",
       "      <td>-0.005876</td>\n",
       "      <td>3.179103</td>\n",
       "    </tr>\n",
       "    <tr>\n",
       "      <th>1</th>\n",
       "      <td>62mP7</td>\n",
       "      <td>14.272088</td>\n",
       "      <td>-3.475083</td>\n",
       "      <td>0.999183</td>\n",
       "      <td>26.953261</td>\n",
       "    </tr>\n",
       "    <tr>\n",
       "      <th>2</th>\n",
       "      <td>vyE1P</td>\n",
       "      <td>6.263187</td>\n",
       "      <td>-5.948386</td>\n",
       "      <td>5.001160</td>\n",
       "      <td>134.766305</td>\n",
       "    </tr>\n",
       "    <tr>\n",
       "      <th>3</th>\n",
       "      <td>KcrkZ</td>\n",
       "      <td>-13.081196</td>\n",
       "      <td>-11.506057</td>\n",
       "      <td>4.999415</td>\n",
       "      <td>137.945408</td>\n",
       "    </tr>\n",
       "    <tr>\n",
       "      <th>4</th>\n",
       "      <td>AHL4O</td>\n",
       "      <td>12.702195</td>\n",
       "      <td>-8.147433</td>\n",
       "      <td>5.004363</td>\n",
       "      <td>134.766305</td>\n",
       "    </tr>\n",
       "  </tbody>\n",
       "</table>\n",
       "</div>"
      ],
      "text/plain": [
       "      id         f0         f1        f2     product\n",
       "0  kBEdx -15.001348  -8.276000 -0.005876    3.179103\n",
       "1  62mP7  14.272088  -3.475083  0.999183   26.953261\n",
       "2  vyE1P   6.263187  -5.948386  5.001160  134.766305\n",
       "3  KcrkZ -13.081196 -11.506057  4.999415  137.945408\n",
       "4  AHL4O  12.702195  -8.147433  5.004363  134.766305"
      ]
     },
     "metadata": {},
     "output_type": "display_data"
    },
    {
     "name": "stdout",
     "output_type": "stream",
     "text": [
      "<class 'pandas.core.frame.DataFrame'>\n",
      "RangeIndex: 100000 entries, 0 to 99999\n",
      "Data columns (total 5 columns):\n",
      " #   Column   Non-Null Count   Dtype  \n",
      "---  ------   --------------   -----  \n",
      " 0   id       100000 non-null  object \n",
      " 1   f0       100000 non-null  float64\n",
      " 2   f1       100000 non-null  float64\n",
      " 3   f2       100000 non-null  float64\n",
      " 4   product  100000 non-null  float64\n",
      "dtypes: float64(4), object(1)\n",
      "memory usage: 3.8+ MB\n",
      "\n"
     ]
    },
    {
     "data": {
      "text/html": [
       "<div>\n",
       "<style scoped>\n",
       "    .dataframe tbody tr th:only-of-type {\n",
       "        vertical-align: middle;\n",
       "    }\n",
       "\n",
       "    .dataframe tbody tr th {\n",
       "        vertical-align: top;\n",
       "    }\n",
       "\n",
       "    .dataframe thead th {\n",
       "        text-align: right;\n",
       "    }\n",
       "</style>\n",
       "<table border=\"1\" class=\"dataframe\">\n",
       "  <thead>\n",
       "    <tr style=\"text-align: right;\">\n",
       "      <th></th>\n",
       "      <th>id</th>\n",
       "      <th>f0</th>\n",
       "      <th>f1</th>\n",
       "      <th>f2</th>\n",
       "      <th>product</th>\n",
       "    </tr>\n",
       "  </thead>\n",
       "  <tbody>\n",
       "    <tr>\n",
       "      <th>0</th>\n",
       "      <td>fwXo0</td>\n",
       "      <td>-1.146987</td>\n",
       "      <td>0.963328</td>\n",
       "      <td>-0.828965</td>\n",
       "      <td>27.758673</td>\n",
       "    </tr>\n",
       "    <tr>\n",
       "      <th>1</th>\n",
       "      <td>WJtFt</td>\n",
       "      <td>0.262778</td>\n",
       "      <td>0.269839</td>\n",
       "      <td>-2.530187</td>\n",
       "      <td>56.069697</td>\n",
       "    </tr>\n",
       "    <tr>\n",
       "      <th>2</th>\n",
       "      <td>ovLUW</td>\n",
       "      <td>0.194587</td>\n",
       "      <td>0.289035</td>\n",
       "      <td>-5.586433</td>\n",
       "      <td>62.871910</td>\n",
       "    </tr>\n",
       "    <tr>\n",
       "      <th>3</th>\n",
       "      <td>q6cA6</td>\n",
       "      <td>2.236060</td>\n",
       "      <td>-0.553760</td>\n",
       "      <td>0.930038</td>\n",
       "      <td>114.572842</td>\n",
       "    </tr>\n",
       "    <tr>\n",
       "      <th>4</th>\n",
       "      <td>WPMUX</td>\n",
       "      <td>-0.515993</td>\n",
       "      <td>1.716266</td>\n",
       "      <td>5.899011</td>\n",
       "      <td>149.600746</td>\n",
       "    </tr>\n",
       "  </tbody>\n",
       "</table>\n",
       "</div>"
      ],
      "text/plain": [
       "      id        f0        f1        f2     product\n",
       "0  fwXo0 -1.146987  0.963328 -0.828965   27.758673\n",
       "1  WJtFt  0.262778  0.269839 -2.530187   56.069697\n",
       "2  ovLUW  0.194587  0.289035 -5.586433   62.871910\n",
       "3  q6cA6  2.236060 -0.553760  0.930038  114.572842\n",
       "4  WPMUX -0.515993  1.716266  5.899011  149.600746"
      ]
     },
     "metadata": {},
     "output_type": "display_data"
    },
    {
     "name": "stdout",
     "output_type": "stream",
     "text": [
      "<class 'pandas.core.frame.DataFrame'>\n",
      "RangeIndex: 100000 entries, 0 to 99999\n",
      "Data columns (total 5 columns):\n",
      " #   Column   Non-Null Count   Dtype  \n",
      "---  ------   --------------   -----  \n",
      " 0   id       100000 non-null  object \n",
      " 1   f0       100000 non-null  float64\n",
      " 2   f1       100000 non-null  float64\n",
      " 3   f2       100000 non-null  float64\n",
      " 4   product  100000 non-null  float64\n",
      "dtypes: float64(4), object(1)\n",
      "memory usage: 3.8+ MB\n"
     ]
    }
   ],
   "source": [
    "df1 = pd.read_csv('/datasets/geo_data_0.csv')\n",
    "df2 = pd.read_csv('/datasets/geo_data_1.csv')\n",
    "df3 = pd.read_csv('/datasets/geo_data_2.csv')\n",
    "\n",
    "display(df1.head(5))\n",
    "df1.info()\n",
    "print()\n",
    "display(df2.head(5))\n",
    "df2.info()\n",
    "print()\n",
    "display(df3.head(5))\n",
    "df3.info()"
   ]
  },
  {
   "cell_type": "markdown",
   "metadata": {},
   "source": [
    "Датафреймы с данными геологоразведки трёх регионов содержат:\n",
    "\n",
    "**index** — уникальный идентификатор скважины в качестве индекса;\n",
    "\n",
    "**f0, f1, f2** — три признака точек (неважно, что они означают, но сами признаки значимы);\n",
    "\n",
    "**product** — объём запасов в скважине (тыс. баррелей)."
   ]
  },
  {
   "cell_type": "markdown",
   "metadata": {},
   "source": [
    "## Подготовка к расчёту прибыли"
   ]
  },
  {
   "cell_type": "markdown",
   "metadata": {},
   "source": [
    "### Проверка наличия дубликатов"
   ]
  },
  {
   "cell_type": "markdown",
   "metadata": {},
   "source": [
    "Проверим дубликаты в индексах датафреймов."
   ]
  },
  {
   "cell_type": "code",
   "execution_count": 5,
   "metadata": {},
   "outputs": [
    {
     "name": "stdout",
     "output_type": "stream",
     "text": [
      "0\n",
      "0\n"
     ]
    },
    {
     "data": {
      "text/plain": [
       "0"
      ]
     },
     "execution_count": 5,
     "metadata": {},
     "output_type": "execute_result"
    }
   ],
   "source": [
    "print(df1.duplicated().sum())\n",
    "print(df2.duplicated().sum())\n",
    "df3.duplicated().sum()"
   ]
  },
  {
   "cell_type": "markdown",
   "metadata": {},
   "source": [
    "### Исследовательский анализ данных"
   ]
  },
  {
   "cell_type": "markdown",
   "metadata": {},
   "source": [
    "Выведем общую информацию о данных."
   ]
  },
  {
   "cell_type": "code",
   "execution_count": 6,
   "metadata": {},
   "outputs": [
    {
     "data": {
      "text/html": [
       "<div>\n",
       "<style scoped>\n",
       "    .dataframe tbody tr th:only-of-type {\n",
       "        vertical-align: middle;\n",
       "    }\n",
       "\n",
       "    .dataframe tbody tr th {\n",
       "        vertical-align: top;\n",
       "    }\n",
       "\n",
       "    .dataframe thead th {\n",
       "        text-align: right;\n",
       "    }\n",
       "</style>\n",
       "<table border=\"1\" class=\"dataframe\">\n",
       "  <thead>\n",
       "    <tr style=\"text-align: right;\">\n",
       "      <th></th>\n",
       "      <th>f0</th>\n",
       "      <th>f1</th>\n",
       "      <th>f2</th>\n",
       "      <th>product</th>\n",
       "    </tr>\n",
       "  </thead>\n",
       "  <tbody>\n",
       "    <tr>\n",
       "      <th>count</th>\n",
       "      <td>100000.000000</td>\n",
       "      <td>100000.000000</td>\n",
       "      <td>100000.000000</td>\n",
       "      <td>100000.000000</td>\n",
       "    </tr>\n",
       "    <tr>\n",
       "      <th>mean</th>\n",
       "      <td>0.500419</td>\n",
       "      <td>0.250143</td>\n",
       "      <td>2.502647</td>\n",
       "      <td>92.500000</td>\n",
       "    </tr>\n",
       "    <tr>\n",
       "      <th>std</th>\n",
       "      <td>0.871832</td>\n",
       "      <td>0.504433</td>\n",
       "      <td>3.248248</td>\n",
       "      <td>44.288691</td>\n",
       "    </tr>\n",
       "    <tr>\n",
       "      <th>min</th>\n",
       "      <td>-1.408605</td>\n",
       "      <td>-0.848218</td>\n",
       "      <td>-12.088328</td>\n",
       "      <td>0.000000</td>\n",
       "    </tr>\n",
       "    <tr>\n",
       "      <th>25%</th>\n",
       "      <td>-0.072580</td>\n",
       "      <td>-0.200881</td>\n",
       "      <td>0.287748</td>\n",
       "      <td>56.497507</td>\n",
       "    </tr>\n",
       "    <tr>\n",
       "      <th>50%</th>\n",
       "      <td>0.502360</td>\n",
       "      <td>0.250252</td>\n",
       "      <td>2.515969</td>\n",
       "      <td>91.849972</td>\n",
       "    </tr>\n",
       "    <tr>\n",
       "      <th>75%</th>\n",
       "      <td>1.073581</td>\n",
       "      <td>0.700646</td>\n",
       "      <td>4.715088</td>\n",
       "      <td>128.564089</td>\n",
       "    </tr>\n",
       "    <tr>\n",
       "      <th>max</th>\n",
       "      <td>2.362331</td>\n",
       "      <td>1.343769</td>\n",
       "      <td>16.003790</td>\n",
       "      <td>185.364347</td>\n",
       "    </tr>\n",
       "  </tbody>\n",
       "</table>\n",
       "</div>"
      ],
      "text/plain": [
       "                  f0             f1             f2        product\n",
       "count  100000.000000  100000.000000  100000.000000  100000.000000\n",
       "mean        0.500419       0.250143       2.502647      92.500000\n",
       "std         0.871832       0.504433       3.248248      44.288691\n",
       "min        -1.408605      -0.848218     -12.088328       0.000000\n",
       "25%        -0.072580      -0.200881       0.287748      56.497507\n",
       "50%         0.502360       0.250252       2.515969      91.849972\n",
       "75%         1.073581       0.700646       4.715088     128.564089\n",
       "max         2.362331       1.343769      16.003790     185.364347"
      ]
     },
     "metadata": {},
     "output_type": "display_data"
    },
    {
     "data": {
      "text/html": [
       "<div>\n",
       "<style scoped>\n",
       "    .dataframe tbody tr th:only-of-type {\n",
       "        vertical-align: middle;\n",
       "    }\n",
       "\n",
       "    .dataframe tbody tr th {\n",
       "        vertical-align: top;\n",
       "    }\n",
       "\n",
       "    .dataframe thead th {\n",
       "        text-align: right;\n",
       "    }\n",
       "</style>\n",
       "<table border=\"1\" class=\"dataframe\">\n",
       "  <thead>\n",
       "    <tr style=\"text-align: right;\">\n",
       "      <th></th>\n",
       "      <th>f0</th>\n",
       "      <th>f1</th>\n",
       "      <th>f2</th>\n",
       "      <th>product</th>\n",
       "    </tr>\n",
       "  </thead>\n",
       "  <tbody>\n",
       "    <tr>\n",
       "      <th>count</th>\n",
       "      <td>100000.000000</td>\n",
       "      <td>100000.000000</td>\n",
       "      <td>100000.000000</td>\n",
       "      <td>100000.000000</td>\n",
       "    </tr>\n",
       "    <tr>\n",
       "      <th>mean</th>\n",
       "      <td>1.141296</td>\n",
       "      <td>-4.796579</td>\n",
       "      <td>2.494541</td>\n",
       "      <td>68.825000</td>\n",
       "    </tr>\n",
       "    <tr>\n",
       "      <th>std</th>\n",
       "      <td>8.965932</td>\n",
       "      <td>5.119872</td>\n",
       "      <td>1.703572</td>\n",
       "      <td>45.944423</td>\n",
       "    </tr>\n",
       "    <tr>\n",
       "      <th>min</th>\n",
       "      <td>-31.609576</td>\n",
       "      <td>-26.358598</td>\n",
       "      <td>-0.018144</td>\n",
       "      <td>0.000000</td>\n",
       "    </tr>\n",
       "    <tr>\n",
       "      <th>25%</th>\n",
       "      <td>-6.298551</td>\n",
       "      <td>-8.267985</td>\n",
       "      <td>1.000021</td>\n",
       "      <td>26.953261</td>\n",
       "    </tr>\n",
       "    <tr>\n",
       "      <th>50%</th>\n",
       "      <td>1.153055</td>\n",
       "      <td>-4.813172</td>\n",
       "      <td>2.011479</td>\n",
       "      <td>57.085625</td>\n",
       "    </tr>\n",
       "    <tr>\n",
       "      <th>75%</th>\n",
       "      <td>8.621015</td>\n",
       "      <td>-1.332816</td>\n",
       "      <td>3.999904</td>\n",
       "      <td>107.813044</td>\n",
       "    </tr>\n",
       "    <tr>\n",
       "      <th>max</th>\n",
       "      <td>29.421755</td>\n",
       "      <td>18.734063</td>\n",
       "      <td>5.019721</td>\n",
       "      <td>137.945408</td>\n",
       "    </tr>\n",
       "  </tbody>\n",
       "</table>\n",
       "</div>"
      ],
      "text/plain": [
       "                  f0             f1             f2        product\n",
       "count  100000.000000  100000.000000  100000.000000  100000.000000\n",
       "mean        1.141296      -4.796579       2.494541      68.825000\n",
       "std         8.965932       5.119872       1.703572      45.944423\n",
       "min       -31.609576     -26.358598      -0.018144       0.000000\n",
       "25%        -6.298551      -8.267985       1.000021      26.953261\n",
       "50%         1.153055      -4.813172       2.011479      57.085625\n",
       "75%         8.621015      -1.332816       3.999904     107.813044\n",
       "max        29.421755      18.734063       5.019721     137.945408"
      ]
     },
     "metadata": {},
     "output_type": "display_data"
    },
    {
     "data": {
      "text/html": [
       "<div>\n",
       "<style scoped>\n",
       "    .dataframe tbody tr th:only-of-type {\n",
       "        vertical-align: middle;\n",
       "    }\n",
       "\n",
       "    .dataframe tbody tr th {\n",
       "        vertical-align: top;\n",
       "    }\n",
       "\n",
       "    .dataframe thead th {\n",
       "        text-align: right;\n",
       "    }\n",
       "</style>\n",
       "<table border=\"1\" class=\"dataframe\">\n",
       "  <thead>\n",
       "    <tr style=\"text-align: right;\">\n",
       "      <th></th>\n",
       "      <th>f0</th>\n",
       "      <th>f1</th>\n",
       "      <th>f2</th>\n",
       "      <th>product</th>\n",
       "    </tr>\n",
       "  </thead>\n",
       "  <tbody>\n",
       "    <tr>\n",
       "      <th>count</th>\n",
       "      <td>100000.000000</td>\n",
       "      <td>100000.000000</td>\n",
       "      <td>100000.000000</td>\n",
       "      <td>100000.000000</td>\n",
       "    </tr>\n",
       "    <tr>\n",
       "      <th>mean</th>\n",
       "      <td>0.002023</td>\n",
       "      <td>-0.002081</td>\n",
       "      <td>2.495128</td>\n",
       "      <td>95.000000</td>\n",
       "    </tr>\n",
       "    <tr>\n",
       "      <th>std</th>\n",
       "      <td>1.732045</td>\n",
       "      <td>1.730417</td>\n",
       "      <td>3.473445</td>\n",
       "      <td>44.749921</td>\n",
       "    </tr>\n",
       "    <tr>\n",
       "      <th>min</th>\n",
       "      <td>-8.760004</td>\n",
       "      <td>-7.084020</td>\n",
       "      <td>-11.970335</td>\n",
       "      <td>0.000000</td>\n",
       "    </tr>\n",
       "    <tr>\n",
       "      <th>25%</th>\n",
       "      <td>-1.162288</td>\n",
       "      <td>-1.174820</td>\n",
       "      <td>0.130359</td>\n",
       "      <td>59.450441</td>\n",
       "    </tr>\n",
       "    <tr>\n",
       "      <th>50%</th>\n",
       "      <td>0.009424</td>\n",
       "      <td>-0.009482</td>\n",
       "      <td>2.484236</td>\n",
       "      <td>94.925613</td>\n",
       "    </tr>\n",
       "    <tr>\n",
       "      <th>75%</th>\n",
       "      <td>1.158535</td>\n",
       "      <td>1.163678</td>\n",
       "      <td>4.858794</td>\n",
       "      <td>130.595027</td>\n",
       "    </tr>\n",
       "    <tr>\n",
       "      <th>max</th>\n",
       "      <td>7.238262</td>\n",
       "      <td>7.844801</td>\n",
       "      <td>16.739402</td>\n",
       "      <td>190.029838</td>\n",
       "    </tr>\n",
       "  </tbody>\n",
       "</table>\n",
       "</div>"
      ],
      "text/plain": [
       "                  f0             f1             f2        product\n",
       "count  100000.000000  100000.000000  100000.000000  100000.000000\n",
       "mean        0.002023      -0.002081       2.495128      95.000000\n",
       "std         1.732045       1.730417       3.473445      44.749921\n",
       "min        -8.760004      -7.084020     -11.970335       0.000000\n",
       "25%        -1.162288      -1.174820       0.130359      59.450441\n",
       "50%         0.009424      -0.009482       2.484236      94.925613\n",
       "75%         1.158535       1.163678       4.858794     130.595027\n",
       "max         7.238262       7.844801      16.739402     190.029838"
      ]
     },
     "execution_count": 6,
     "metadata": {},
     "output_type": "execute_result"
    }
   ],
   "source": [
    "display(df1.describe())\n",
    "display(df2.describe())\n",
    "df3.describe()"
   ]
  },
  {
   "cell_type": "markdown",
   "metadata": {},
   "source": [
    "Сохраним их в список df_list, чтобы в дальнейшем было удобнее к ним обращаться. "
   ]
  },
  {
   "cell_type": "code",
   "execution_count": 7,
   "metadata": {},
   "outputs": [],
   "source": [
    "df_list = [df1, df2, df3]"
   ]
  },
  {
   "cell_type": "markdown",
   "metadata": {},
   "source": [
    "Построим гистограммы для каждого численного столбца каждого датафрейма."
   ]
  },
  {
   "cell_type": "code",
   "execution_count": 8,
   "metadata": {
    "scrolled": false
   },
   "outputs": [
    {
     "name": "stdout",
     "output_type": "stream",
     "text": [
      "['f0', 'f1', 'f2', 'product']\n"
     ]
    },
    {
     "data": {
      "image/png": "[encoded data removed]",
      "text/plain": [
       "<Figure size 1008x1080 with 4 Axes>"
      ]
     },
     "metadata": {},
     "output_type": "display_data"
    },
    {
     "name": "stdout",
     "output_type": "stream",
     "text": [
      "['f0', 'f1', 'f2', 'product']\n"
     ]
    },
    {
     "data": {
      "image/png": "[encoded data removed]",
      "text/plain": [
       "<Figure size 1008x1080 with 4 Axes>"
      ]
     },
     "metadata": {},
     "output_type": "display_data"
    },
    {
     "name": "stdout",
     "output_type": "stream",
     "text": [
      "['f0', 'f1', 'f2', 'product']\n"
     ]
    },
    {
     "data": {
      "image/png": "[encoded data removed]",
      "text/plain": [
       "<Figure size 1008x1080 with 4 Axes>"
      ]
     },
     "metadata": {},
     "output_type": "display_data"
    }
   ],
   "source": [
    "# Устанавливаем стиль и цветовую палитру seaborn\n",
    "sns.set_style(\"whitegrid\")\n",
    "palette = sns.color_palette(\"husl\")  # Можно выбрать другую палитру: \"mako\", \"rocket\", \"viridis\" и т.д.\n",
    "\n",
    "for df in df_list:\n",
    "    # Выбираем числовые колонки\n",
    "    num_columns = df.select_dtypes(include=['float64', 'int64']).columns.tolist()\n",
    "    print(num_columns)\n",
    "    \n",
    "    # Исключаем столбец id\n",
    "    if 'id' in num_columns:\n",
    "        num_columns.remove('id')\n",
    "    \n",
    "    # Создаем фигуру\n",
    "    plt.figure(figsize=(14, 15))\n",
    "    \n",
    "    for i, column in enumerate(num_columns):\n",
    "        plt.subplot(3, 3, i + 1)\n",
    "        \n",
    "        # Строим гистограмму с использованием seaborn и выбранной палитры\n",
    "        sns.histplot(data=df, x=column, bins=30, \n",
    "                    color=palette[i % len(palette)],  # Циклически используем цвета палитры\n",
    "                    edgecolor='white', linewidth=0.5,\n",
    "                    alpha=0.8)\n",
    "        \n",
    "        # Настройки оформления\n",
    "        plt.title(column, fontsize=12, pad=10)\n",
    "        plt.xlabel(column, fontsize=10)\n",
    "        plt.ylabel('Частота', fontsize=10)\n",
    "        \n",
    "        # Добавляем легкую сетку\n",
    "        plt.grid(axis='y', alpha=0.3)\n",
    "    \n",
    "    plt.tight_layout()\n",
    "    plt.show()"
   ]
  },
  {
   "cell_type": "markdown",
   "metadata": {},
   "source": [
    "Также посмотрим на \"ящики с усами\"."
   ]
  },
  {
   "cell_type": "code",
   "execution_count": 9,
   "metadata": {
    "scrolled": false
   },
   "outputs": [
    {
     "data": {
      "image/png": "[encoded data removed]",
      "text/plain": [
       "<Figure size 1008x1080 with 4 Axes>"
      ]
     },
     "metadata": {},
     "output_type": "display_data"
    },
    {
     "data": {
      "image/png": "[encoded data removed]",
      "text/plain": [
       "<Figure size 1008x1080 with 4 Axes>"
      ]
     },
     "metadata": {},
     "output_type": "display_data"
    },
    {
     "data": {
      "image/png": "[encoded data removed]",
      "text/plain": [
       "<Figure size 1008x1080 with 4 Axes>"
      ]
     },
     "metadata": {},
     "output_type": "display_data"
    }
   ],
   "source": [
    "for df in df_list:\n",
    "    \n",
    "# Выберем все столбцы, которые имеют тип данных 'object' и после выведем списки их уникальных значений\n",
    "    \n",
    "    num_columns = df.select_dtypes(include=['float64','int64']).columns.tolist()\n",
    "    #исключим столбец id из результатов\n",
    "    if 'id' in num_columns:\n",
    "        num_columns.remove('id')\n",
    "        \n",
    "    plt.figure(figsize=(14, 15))\n",
    "    for i, column in enumerate(num_columns):\n",
    "    # Создаем subplot для текущего столбца\n",
    "        plt.subplot(3, 3, i + 1)  # 2 строки, 3 столбца, текущий график\n",
    "    \n",
    "    # Строим график размаха для текущего столбца\n",
    "        df.boxplot(column=column, ax=plt.gca())\n",
    "    \n",
    "    # Добавляем заголовок с названием столбца\n",
    "        plt.title(column)\n",
    "    \n",
    "    # Добавляем метки для осей\n",
    "        plt.xlabel(column)\n",
    "        plt.ylabel('Value')\n",
    "        \n",
    "plt.tight_layout()\n",
    "plt.show()"
   ]
  },
  {
   "cell_type": "markdown",
   "metadata": {},
   "source": [
    "Заметим, что в некоторых столбцах имеются явные выбросы. Такие данные следует почистить."
   ]
  },
  {
   "cell_type": "markdown",
   "metadata": {},
   "source": [
    "Почистим и проверим данные 1 региона.\n",
    "\n",
    "Граница усов видна неявно, поэтому получим ее значение."
   ]
  },
  {
   "cell_type": "code",
   "execution_count": 10,
   "metadata": {},
   "outputs": [
    {
     "name": "stdout",
     "output_type": "stream",
     "text": [
      "down: -6.3532614580838125\n",
      "up: 11.356097512311544\n"
     ]
    }
   ],
   "source": [
    "q25=np.array(df1['f2'].quantile(0.25))\n",
    "q75=np.array(df1['f2'].quantile(0.75))\n",
    "down=q25-1.5*(q75-q25)\n",
    "up=q75+1.5*(q75-q25)\n",
    "print('down:',down)\n",
    "print('up:',up)"
   ]
  },
  {
   "cell_type": "code",
   "execution_count": 11,
   "metadata": {},
   "outputs": [
    {
     "data": {
      "image/png": "[encoded data removed]",
      "text/plain": [
       "<Figure size 432x288 with 1 Axes>"
      ]
     },
     "metadata": {},
     "output_type": "display_data"
    }
   ],
   "source": [
    "df1 = df1.loc[(df1['f2']<11.3)&(df1['f2']>-6.3)]\n",
    "df1.boxplot(column='f2', ax=plt.gca())\n",
    "plt.ylabel('Value')\n",
    "plt.show()"
   ]
  },
  {
   "cell_type": "markdown",
   "metadata": {},
   "source": [
    "Почистим и проверим данные 2 региона.\n",
    "\n",
    "Граница усов видна неявно, поэтому получим ее значение."
   ]
  },
  {
   "cell_type": "code",
   "execution_count": 12,
   "metadata": {},
   "outputs": [
    {
     "name": "stdout",
     "output_type": "stream",
     "text": [
      "down: -18.670738069582377\n",
      "up: 9.069937223519565\n"
     ]
    }
   ],
   "source": [
    "q25=np.array(df2['f1'].quantile(0.25))\n",
    "q75=np.array(df2['f1'].quantile(0.75))\n",
    "down=q25-1.5*(q75-q25)\n",
    "up=q75+1.5*(q75-q25)\n",
    "print('down:',down)\n",
    "print('up:',up)"
   ]
  },
  {
   "cell_type": "code",
   "execution_count": 13,
   "metadata": {},
   "outputs": [
    {
     "data": {
      "image/png": "[encoded data removed]",
      "text/plain": [
       "<Figure size 432x288 with 1 Axes>"
      ]
     },
     "metadata": {},
     "output_type": "display_data"
    }
   ],
   "source": [
    "df2 = df2.loc[(df2['f1']<9)&(df2['f1']>-18.6)]\n",
    "df2.boxplot(column='f1', ax=plt.gca())\n",
    "plt.ylabel('Value')\n",
    "plt.show()"
   ]
  },
  {
   "cell_type": "markdown",
   "metadata": {},
   "source": [
    "Почистим и проверим данные 3 региона.\n",
    "\n",
    "Границы усов видна неявно, поэтому получим их значение."
   ]
  },
  {
   "cell_type": "code",
   "execution_count": 14,
   "metadata": {},
   "outputs": [
    {
     "name": "stdout",
     "output_type": "stream",
     "text": [
      "down f0 : -4.643524223522959\n",
      "up f0 : 4.639771092118378\n",
      "down f1 : -4.682565825428671\n",
      "up f1 : 4.671424081839961\n",
      "down f2 : -6.962293786328402\n",
      "up f2 : 11.951446027690594\n",
      "down product : -47.26643772727831\n",
      "up product : 237.31190538130107\n"
     ]
    }
   ],
   "source": [
    "num_columns = df3.select_dtypes(include=['float64']).columns.tolist()\n",
    "for i in (num_columns):\n",
    "    q25=np.array(df3[i].quantile(0.25))\n",
    "    q75=np.array(df3[i].quantile(0.75))\n",
    "    down=q25-1.5*(q75-q25)\n",
    "    up=q75+1.5*(q75-q25)\n",
    "    print('down',i,':', down)\n",
    "    print('up',i,':', up)"
   ]
  },
  {
   "cell_type": "code",
   "execution_count": 15,
   "metadata": {},
   "outputs": [
    {
     "data": {
      "image/png": "[encoded data removed]",
      "text/plain": [
       "<Figure size 864x576 with 4 Axes>"
      ]
     },
     "metadata": {},
     "output_type": "display_data"
    }
   ],
   "source": [
    "df3 = df3.loc[(df3['f0'] < 4.6) & (df3['f0'] > -4.6)]\n",
    "df3 = df3.loc[(df3['f1'] < 4.6) & (df3['f1'] > -4.6)]\n",
    "df3 = df3.loc[(df3['f2'] < 11.9) & (df3['f2'] > -6.9)]\n",
    "\n",
    "# Создание графиков\n",
    "plt.figure(figsize=(12, 8))\n",
    "num_columns = df3.select_dtypes(include=['float64']).columns.tolist()\n",
    "for i, column in enumerate(num_columns):\n",
    "    plt.subplot(3, 4, i + 1)  # 3 строки, 4 столбца, текущий график\n",
    "    df3.boxplot(column=column, ax=plt.gca())\n",
    "    plt.ylabel('Value')\n",
    "plt.tight_layout()\n",
    "plt.show()"
   ]
  },
  {
   "cell_type": "markdown",
   "metadata": {},
   "source": [
    "Выведем матрицы корреляции для всех датафреймов."
   ]
  },
  {
   "cell_type": "code",
   "execution_count": 16,
   "metadata": {
    "scrolled": false
   },
   "outputs": [
    {
     "data": {
      "image/png": "[encoded data removed]",
      "text/plain": [
       "<Figure size 360x216 with 2 Axes>"
      ]
     },
     "metadata": {},
     "output_type": "display_data"
    },
    {
     "data": {
      "image/png": "[encoded data removed]",
      "text/plain": [
       "<Figure size 360x216 with 2 Axes>"
      ]
     },
     "metadata": {},
     "output_type": "display_data"
    },
    {
     "data": {
      "image/png": "[encoded data removed]",
      "text/plain": [
       "<Figure size 360x216 with 2 Axes>"
      ]
     },
     "metadata": {},
     "output_type": "display_data"
    }
   ],
   "source": [
    "for i in (df_list):\n",
    "    df_corr = i.drop(columns=['id'])\n",
    "#соберем все численные переменные в датафрейме с помощью функции и сохраним их в переменную\n",
    "    num_columns = df_corr.select_dtypes(include=['float64','int64']).columns.tolist()\n",
    "\n",
    "    phik_matrix = df_corr.phik_matrix(interval_cols=num_columns)\n",
    "\n",
    "#строим матрицу корреляции Phik\n",
    "    plot_correlation_matrix(phik_matrix.values, \n",
    "                       x_labels = phik_matrix.columns,\n",
    "                       y_labels = phik_matrix.index,\n",
    "                       vmin = 0, vmax = 1,color_map = 'Greens',\n",
    "                       title = r'Корреляция по $\\phi_k$',\n",
    "                       fontsize_factor = 1.5, \n",
    "                       figsize = (5,3)\n",
    "                       )"
   ]
  },
  {
   "cell_type": "markdown",
   "metadata": {},
   "source": [
    "Мультиколлинеарности, которая может негативно повлиять на качество моделей, не наблюдается. При этом можно отметить, что в регионе 1 весьма высокая связь признака f2 с целевым признаком product."
   ]
  },
  {
   "cell_type": "markdown",
   "metadata": {},
   "source": [
    "**Вывод:**\n",
    "в первом регионе на целевой признак самое большое влияние оказывает фактор f2 - коэф. = 0.48 \n",
    "во втором регионе на целевой признак оказывает влияение  f2 - коэф = 0.98\n",
    "в третьем регионе на целевой признак влияет тоже в основном только f2 - коэф = 0.44\n",
    "\n",
    "\n",
    "**Вывод по подготовке данных:**\n",
    "Данные были проверены на пропуски, дубликаты, были удалены выбросы и проверена корреляция входных признаков с целевым. Данные подготовлены к дальнейшей работе."
   ]
  },
  {
   "cell_type": "markdown",
   "metadata": {},
   "source": [
    "### Обучение и проверка модели"
   ]
  },
  {
   "cell_type": "code",
   "execution_count": 17,
   "metadata": {
    "scrolled": true
   },
   "outputs": [
    {
     "name": "stdout",
     "output_type": "stream",
     "text": [
      "Значения для трех датафреймов:\n",
      "\n",
      "Средний запас предсказанного сырья для датафрейма 1: 92.39879990657768\n",
      "Значение ошибки на модели для датафрейма 1: 37.75660035026169\n",
      "\n",
      "Средний запас предсказанного сырья для датафрейма 2: 68.7128780391376\n",
      "Значение ошибки на модели для датафрейма 2: 0.8902801001028846\n",
      "\n",
      "Средний запас предсказанного сырья для датафрейма 3: 94.77102387765939\n",
      "Значение ошибки на модели для датафрейма 3: 40.145872311342174\n",
      "\n"
     ]
    }
   ],
   "source": [
    "print('Значения для трех датафреймов:\\n')\n",
    "\n",
    "# Список для сохранения новых датафреймов\n",
    "target_dataframes = []\n",
    "\n",
    "for i, df in enumerate(df_list):\n",
    "    X = df.drop([\"id\", \"product\"], axis=1)\n",
    "    y = df[\"product\"]\n",
    "    \n",
    "    X_train, X_valid, y_train, y_valid = train_test_split(\n",
    "        X, y, test_size=TEST_SIZE, random_state=RANDOM_STATE\n",
    "    )\n",
    "    \n",
    "    new_pipeline = Pipeline([\n",
    "        ('scaler', StandardScaler()),\n",
    "        ('regressor', LinearRegression())\n",
    "    ])\n",
    "    \n",
    "    new_pipeline.fit(X_train, y_train)\n",
    "    y_pred = new_pipeline.predict(X_valid)\n",
    "    rmse = mean_squared_error(y_valid, y_pred) ** 0.5\n",
    "    \n",
    "    # Создаем новый датафрейм с предсказаниями и реальными значениями\n",
    "    result_df = pd.DataFrame({\n",
    "        'real': y_valid,\n",
    "        'pred': y_pred\n",
    "    })\n",
    "    \n",
    "    # Сохраняем новый датафрейм в список\n",
    "    target_dataframes.append(result_df)\n",
    "    \n",
    "    print(f'Средний запас предсказанного сырья для датафрейма {i+1}:', y_pred.mean())\n",
    "    print(f'Значение ошибки на модели для датафрейма {i+1}:', rmse)\n",
    "    print()"
   ]
  },
  {
   "cell_type": "markdown",
   "metadata": {},
   "source": [
    "Создадим 3 новых переменных в которые занесем предсказания и реальные объёмы."
   ]
  },
  {
   "cell_type": "code",
   "execution_count": 18,
   "metadata": {},
   "outputs": [],
   "source": [
    "target1 = target_dataframes[0]\n",
    "target2 = target_dataframes[1]\n",
    "target3 = target_dataframes[2]"
   ]
  },
  {
   "cell_type": "code",
   "execution_count": 19,
   "metadata": {
    "scrolled": true
   },
   "outputs": [
    {
     "data": {
      "text/html": [
       "<div>\n",
       "<style scoped>\n",
       "    .dataframe tbody tr th:only-of-type {\n",
       "        vertical-align: middle;\n",
       "    }\n",
       "\n",
       "    .dataframe tbody tr th {\n",
       "        vertical-align: top;\n",
       "    }\n",
       "\n",
       "    .dataframe thead th {\n",
       "        text-align: right;\n",
       "    }\n",
       "</style>\n",
       "<table border=\"1\" class=\"dataframe\">\n",
       "  <thead>\n",
       "    <tr style=\"text-align: right;\">\n",
       "      <th></th>\n",
       "      <th>real</th>\n",
       "      <th>pred</th>\n",
       "    </tr>\n",
       "  </thead>\n",
       "  <tbody>\n",
       "    <tr>\n",
       "      <th>count</th>\n",
       "      <td>25000.000000</td>\n",
       "      <td>25000.000000</td>\n",
       "    </tr>\n",
       "    <tr>\n",
       "      <th>mean</th>\n",
       "      <td>92.325956</td>\n",
       "      <td>92.398800</td>\n",
       "    </tr>\n",
       "    <tr>\n",
       "      <th>std</th>\n",
       "      <td>44.277512</td>\n",
       "      <td>23.217563</td>\n",
       "    </tr>\n",
       "    <tr>\n",
       "      <th>min</th>\n",
       "      <td>0.021781</td>\n",
       "      <td>-9.836371</td>\n",
       "    </tr>\n",
       "    <tr>\n",
       "      <th>25%</th>\n",
       "      <td>56.300099</td>\n",
       "      <td>76.788865</td>\n",
       "    </tr>\n",
       "    <tr>\n",
       "      <th>50%</th>\n",
       "      <td>90.785176</td>\n",
       "      <td>92.414871</td>\n",
       "    </tr>\n",
       "    <tr>\n",
       "      <th>75%</th>\n",
       "      <td>128.117571</td>\n",
       "      <td>108.036487</td>\n",
       "    </tr>\n",
       "    <tr>\n",
       "      <th>max</th>\n",
       "      <td>185.355615</td>\n",
       "      <td>176.536104</td>\n",
       "    </tr>\n",
       "  </tbody>\n",
       "</table>\n",
       "</div>"
      ],
      "text/plain": [
       "               real          pred\n",
       "count  25000.000000  25000.000000\n",
       "mean      92.325956     92.398800\n",
       "std       44.277512     23.217563\n",
       "min        0.021781     -9.836371\n",
       "25%       56.300099     76.788865\n",
       "50%       90.785176     92.414871\n",
       "75%      128.117571    108.036487\n",
       "max      185.355615    176.536104"
      ]
     },
     "execution_count": 19,
     "metadata": {},
     "output_type": "execute_result"
    }
   ],
   "source": [
    "target1.describe()"
   ]
  },
  {
   "cell_type": "code",
   "execution_count": 20,
   "metadata": {
    "scrolled": true
   },
   "outputs": [
    {
     "data": {
      "text/html": [
       "<div>\n",
       "<style scoped>\n",
       "    .dataframe tbody tr th:only-of-type {\n",
       "        vertical-align: middle;\n",
       "    }\n",
       "\n",
       "    .dataframe tbody tr th {\n",
       "        vertical-align: top;\n",
       "    }\n",
       "\n",
       "    .dataframe thead th {\n",
       "        text-align: right;\n",
       "    }\n",
       "</style>\n",
       "<table border=\"1\" class=\"dataframe\">\n",
       "  <thead>\n",
       "    <tr style=\"text-align: right;\">\n",
       "      <th></th>\n",
       "      <th>real</th>\n",
       "      <th>pred</th>\n",
       "    </tr>\n",
       "  </thead>\n",
       "  <tbody>\n",
       "    <tr>\n",
       "      <th>count</th>\n",
       "      <td>25000.000000</td>\n",
       "      <td>25000.000000</td>\n",
       "    </tr>\n",
       "    <tr>\n",
       "      <th>mean</th>\n",
       "      <td>68.725381</td>\n",
       "      <td>68.712878</td>\n",
       "    </tr>\n",
       "    <tr>\n",
       "      <th>std</th>\n",
       "      <td>45.945586</td>\n",
       "      <td>45.946672</td>\n",
       "    </tr>\n",
       "    <tr>\n",
       "      <th>min</th>\n",
       "      <td>0.000000</td>\n",
       "      <td>-2.070621</td>\n",
       "    </tr>\n",
       "    <tr>\n",
       "      <th>25%</th>\n",
       "      <td>30.132364</td>\n",
       "      <td>28.578501</td>\n",
       "    </tr>\n",
       "    <tr>\n",
       "      <th>50%</th>\n",
       "      <td>57.085625</td>\n",
       "      <td>57.918041</td>\n",
       "    </tr>\n",
       "    <tr>\n",
       "      <th>75%</th>\n",
       "      <td>107.813044</td>\n",
       "      <td>109.313612</td>\n",
       "    </tr>\n",
       "    <tr>\n",
       "      <th>max</th>\n",
       "      <td>137.945408</td>\n",
       "      <td>139.983277</td>\n",
       "    </tr>\n",
       "  </tbody>\n",
       "</table>\n",
       "</div>"
      ],
      "text/plain": [
       "               real          pred\n",
       "count  25000.000000  25000.000000\n",
       "mean      68.725381     68.712878\n",
       "std       45.945586     45.946672\n",
       "min        0.000000     -2.070621\n",
       "25%       30.132364     28.578501\n",
       "50%       57.085625     57.918041\n",
       "75%      107.813044    109.313612\n",
       "max      137.945408    139.983277"
      ]
     },
     "execution_count": 20,
     "metadata": {},
     "output_type": "execute_result"
    }
   ],
   "source": [
    "target2.describe()"
   ]
  },
  {
   "cell_type": "code",
   "execution_count": 21,
   "metadata": {
    "scrolled": true
   },
   "outputs": [
    {
     "data": {
      "text/html": [
       "<div>\n",
       "<style scoped>\n",
       "    .dataframe tbody tr th:only-of-type {\n",
       "        vertical-align: middle;\n",
       "    }\n",
       "\n",
       "    .dataframe tbody tr th {\n",
       "        vertical-align: top;\n",
       "    }\n",
       "\n",
       "    .dataframe thead th {\n",
       "        text-align: right;\n",
       "    }\n",
       "</style>\n",
       "<table border=\"1\" class=\"dataframe\">\n",
       "  <thead>\n",
       "    <tr style=\"text-align: right;\">\n",
       "      <th></th>\n",
       "      <th>real</th>\n",
       "      <th>pred</th>\n",
       "    </tr>\n",
       "  </thead>\n",
       "  <tbody>\n",
       "    <tr>\n",
       "      <th>count</th>\n",
       "      <td>25000.000000</td>\n",
       "      <td>25000.000000</td>\n",
       "    </tr>\n",
       "    <tr>\n",
       "      <th>mean</th>\n",
       "      <td>95.150999</td>\n",
       "      <td>94.771024</td>\n",
       "    </tr>\n",
       "    <tr>\n",
       "      <th>std</th>\n",
       "      <td>44.783220</td>\n",
       "      <td>19.927375</td>\n",
       "    </tr>\n",
       "    <tr>\n",
       "      <th>min</th>\n",
       "      <td>0.019327</td>\n",
       "      <td>16.196849</td>\n",
       "    </tr>\n",
       "    <tr>\n",
       "      <th>25%</th>\n",
       "      <td>59.666842</td>\n",
       "      <td>81.157678</td>\n",
       "    </tr>\n",
       "    <tr>\n",
       "      <th>50%</th>\n",
       "      <td>94.936982</td>\n",
       "      <td>94.612618</td>\n",
       "    </tr>\n",
       "    <tr>\n",
       "      <th>75%</th>\n",
       "      <td>130.566313</td>\n",
       "      <td>108.357649</td>\n",
       "    </tr>\n",
       "    <tr>\n",
       "      <th>max</th>\n",
       "      <td>190.011722</td>\n",
       "      <td>170.529209</td>\n",
       "    </tr>\n",
       "  </tbody>\n",
       "</table>\n",
       "</div>"
      ],
      "text/plain": [
       "               real          pred\n",
       "count  25000.000000  25000.000000\n",
       "mean      95.150999     94.771024\n",
       "std       44.783220     19.927375\n",
       "min        0.019327     16.196849\n",
       "25%       59.666842     81.157678\n",
       "50%       94.936982     94.612618\n",
       "75%      130.566313    108.357649\n",
       "max      190.011722    170.529209"
      ]
     },
     "execution_count": 21,
     "metadata": {},
     "output_type": "execute_result"
    }
   ],
   "source": [
    "target3.describe()"
   ]
  },
  {
   "cell_type": "markdown",
   "metadata": {},
   "source": [
    "**Вывод**\n",
    "\n",
    "Самый большой объём сырья предсказывается в 3 регионе - 94.8, но в этом регионе самое большое значение ошибки модели. \n",
    "\n",
    "Во втором регионе самая маленькая ошибка, скорее всего из-за сильной корреляции входного признака с целевым, однако там самые низкие показатели по объёму добываемого сырья - 68.7. \n",
    "\n",
    "В 1 регионе значения объёмов и ошибки довольно близки к 3 региону, но оба показателя меньше."
   ]
  },
  {
   "cell_type": "markdown",
   "metadata": {},
   "source": [
    "## Расчёт прибыли и рисков "
   ]
  },
  {
   "cell_type": "markdown",
   "metadata": {},
   "source": [
    "Введем необходимые константы. "
   ]
  },
  {
   "cell_type": "code",
   "execution_count": 22,
   "metadata": {},
   "outputs": [],
   "source": [
    "all_points = 500\n",
    "best_points = 200\n",
    "budget = 10000000000\n",
    "price_per_barrel = 450000\n",
    "#вероятность убытков\n",
    "damage_treshold =  0.025 "
   ]
  },
  {
   "cell_type": "markdown",
   "metadata": {},
   "source": [
    "Рассчитаем объем сырья, чтобы выйти в плюс."
   ]
  },
  {
   "cell_type": "code",
   "execution_count": 23,
   "metadata": {},
   "outputs": [
    {
     "name": "stdout",
     "output_type": "stream",
     "text": [
      "Достаточный объём сырья для безубыточной разработки новой скважины 111.11\n"
     ]
    }
   ],
   "source": [
    "non_damage_value = (budget/(price_per_barrel))/best_points\n",
    "print(\"Достаточный объём сырья для безубыточной разработки новой скважины\",round(non_damage_value,2))"
   ]
  },
  {
   "cell_type": "markdown",
   "metadata": {},
   "source": [
    "Мы получили такое значение, при котором скважина начнет приносить прибыль это 111.1. В среднем каждый из регионов приносит меньше этого обьема, значит для наших целей подойдет довольно малая часть скважин."
   ]
  },
  {
   "cell_type": "code",
   "execution_count": 24,
   "metadata": {
    "scrolled": true
   },
   "outputs": [
    {
     "data": {
      "text/html": [
       "<div>\n",
       "<style scoped>\n",
       "    .dataframe tbody tr th:only-of-type {\n",
       "        vertical-align: middle;\n",
       "    }\n",
       "\n",
       "    .dataframe tbody tr th {\n",
       "        vertical-align: top;\n",
       "    }\n",
       "\n",
       "    .dataframe thead th {\n",
       "        text-align: right;\n",
       "    }\n",
       "</style>\n",
       "<table border=\"1\" class=\"dataframe\">\n",
       "  <thead>\n",
       "    <tr style=\"text-align: right;\">\n",
       "      <th></th>\n",
       "      <th>f0</th>\n",
       "      <th>f1</th>\n",
       "      <th>f2</th>\n",
       "      <th>product</th>\n",
       "    </tr>\n",
       "  </thead>\n",
       "  <tbody>\n",
       "    <tr>\n",
       "      <th>count</th>\n",
       "      <td>99455.000000</td>\n",
       "      <td>99455.000000</td>\n",
       "      <td>99455.000000</td>\n",
       "      <td>99455.000000</td>\n",
       "    </tr>\n",
       "    <tr>\n",
       "      <th>mean</th>\n",
       "      <td>0.500625</td>\n",
       "      <td>0.250072</td>\n",
       "      <td>2.503490</td>\n",
       "      <td>92.501878</td>\n",
       "    </tr>\n",
       "    <tr>\n",
       "      <th>std</th>\n",
       "      <td>0.871849</td>\n",
       "      <td>0.504443</td>\n",
       "      <td>3.177016</td>\n",
       "      <td>44.227156</td>\n",
       "    </tr>\n",
       "    <tr>\n",
       "      <th>min</th>\n",
       "      <td>-1.408605</td>\n",
       "      <td>-0.848218</td>\n",
       "      <td>-6.296441</td>\n",
       "      <td>0.000000</td>\n",
       "    </tr>\n",
       "    <tr>\n",
       "      <th>25%</th>\n",
       "      <td>-0.072327</td>\n",
       "      <td>-0.201052</td>\n",
       "      <td>0.302271</td>\n",
       "      <td>56.569867</td>\n",
       "    </tr>\n",
       "    <tr>\n",
       "      <th>50%</th>\n",
       "      <td>0.502639</td>\n",
       "      <td>0.250038</td>\n",
       "      <td>2.516342</td>\n",
       "      <td>91.842786</td>\n",
       "    </tr>\n",
       "    <tr>\n",
       "      <th>75%</th>\n",
       "      <td>1.073731</td>\n",
       "      <td>0.700608</td>\n",
       "      <td>4.702998</td>\n",
       "      <td>128.513356</td>\n",
       "    </tr>\n",
       "    <tr>\n",
       "      <th>max</th>\n",
       "      <td>2.362331</td>\n",
       "      <td>1.343769</td>\n",
       "      <td>11.296029</td>\n",
       "      <td>185.364347</td>\n",
       "    </tr>\n",
       "  </tbody>\n",
       "</table>\n",
       "</div>"
      ],
      "text/plain": [
       "                 f0            f1            f2       product\n",
       "count  99455.000000  99455.000000  99455.000000  99455.000000\n",
       "mean       0.500625      0.250072      2.503490     92.501878\n",
       "std        0.871849      0.504443      3.177016     44.227156\n",
       "min       -1.408605     -0.848218     -6.296441      0.000000\n",
       "25%       -0.072327     -0.201052      0.302271     56.569867\n",
       "50%        0.502639      0.250038      2.516342     91.842786\n",
       "75%        1.073731      0.700608      4.702998    128.513356\n",
       "max        2.362331      1.343769     11.296029    185.364347"
      ]
     },
     "metadata": {},
     "output_type": "display_data"
    },
    {
     "data": {
      "text/html": [
       "<div>\n",
       "<style scoped>\n",
       "    .dataframe tbody tr th:only-of-type {\n",
       "        vertical-align: middle;\n",
       "    }\n",
       "\n",
       "    .dataframe tbody tr th {\n",
       "        vertical-align: top;\n",
       "    }\n",
       "\n",
       "    .dataframe thead th {\n",
       "        text-align: right;\n",
       "    }\n",
       "</style>\n",
       "<table border=\"1\" class=\"dataframe\">\n",
       "  <thead>\n",
       "    <tr style=\"text-align: right;\">\n",
       "      <th></th>\n",
       "      <th>f0</th>\n",
       "      <th>f1</th>\n",
       "      <th>f2</th>\n",
       "      <th>product</th>\n",
       "    </tr>\n",
       "  </thead>\n",
       "  <tbody>\n",
       "    <tr>\n",
       "      <th>count</th>\n",
       "      <td>99342.000000</td>\n",
       "      <td>99342.000000</td>\n",
       "      <td>99342.000000</td>\n",
       "      <td>99342.000000</td>\n",
       "    </tr>\n",
       "    <tr>\n",
       "      <th>mean</th>\n",
       "      <td>1.140103</td>\n",
       "      <td>-4.802545</td>\n",
       "      <td>2.493950</td>\n",
       "      <td>68.809579</td>\n",
       "    </tr>\n",
       "    <tr>\n",
       "      <th>std</th>\n",
       "      <td>8.965949</td>\n",
       "      <td>4.980411</td>\n",
       "      <td>1.703254</td>\n",
       "      <td>45.935275</td>\n",
       "    </tr>\n",
       "    <tr>\n",
       "      <th>min</th>\n",
       "      <td>-31.609576</td>\n",
       "      <td>-18.599840</td>\n",
       "      <td>-0.018144</td>\n",
       "      <td>0.000000</td>\n",
       "    </tr>\n",
       "    <tr>\n",
       "      <th>25%</th>\n",
       "      <td>-6.299865</td>\n",
       "      <td>-8.248387</td>\n",
       "      <td>1.000016</td>\n",
       "      <td>26.953261</td>\n",
       "    </tr>\n",
       "    <tr>\n",
       "      <th>50%</th>\n",
       "      <td>1.150199</td>\n",
       "      <td>-4.816117</td>\n",
       "      <td>2.011374</td>\n",
       "      <td>57.085625</td>\n",
       "    </tr>\n",
       "    <tr>\n",
       "      <th>75%</th>\n",
       "      <td>8.621050</td>\n",
       "      <td>-1.364062</td>\n",
       "      <td>3.999893</td>\n",
       "      <td>107.813044</td>\n",
       "    </tr>\n",
       "    <tr>\n",
       "      <th>max</th>\n",
       "      <td>29.421755</td>\n",
       "      <td>8.993895</td>\n",
       "      <td>5.019721</td>\n",
       "      <td>137.945408</td>\n",
       "    </tr>\n",
       "  </tbody>\n",
       "</table>\n",
       "</div>"
      ],
      "text/plain": [
       "                 f0            f1            f2       product\n",
       "count  99342.000000  99342.000000  99342.000000  99342.000000\n",
       "mean       1.140103     -4.802545      2.493950     68.809579\n",
       "std        8.965949      4.980411      1.703254     45.935275\n",
       "min      -31.609576    -18.599840     -0.018144      0.000000\n",
       "25%       -6.299865     -8.248387      1.000016     26.953261\n",
       "50%        1.150199     -4.816117      2.011374     57.085625\n",
       "75%        8.621050     -1.364062      3.999893    107.813044\n",
       "max       29.421755      8.993895      5.019721    137.945408"
      ]
     },
     "metadata": {},
     "output_type": "display_data"
    },
    {
     "data": {
      "text/html": [
       "<div>\n",
       "<style scoped>\n",
       "    .dataframe tbody tr th:only-of-type {\n",
       "        vertical-align: middle;\n",
       "    }\n",
       "\n",
       "    .dataframe tbody tr th {\n",
       "        vertical-align: top;\n",
       "    }\n",
       "\n",
       "    .dataframe thead th {\n",
       "        text-align: right;\n",
       "    }\n",
       "</style>\n",
       "<table border=\"1\" class=\"dataframe\">\n",
       "  <thead>\n",
       "    <tr style=\"text-align: right;\">\n",
       "      <th></th>\n",
       "      <th>f0</th>\n",
       "      <th>f1</th>\n",
       "      <th>f2</th>\n",
       "      <th>product</th>\n",
       "    </tr>\n",
       "  </thead>\n",
       "  <tbody>\n",
       "    <tr>\n",
       "      <th>count</th>\n",
       "      <td>97848.000000</td>\n",
       "      <td>97848.000000</td>\n",
       "      <td>97848.000000</td>\n",
       "      <td>97848.000000</td>\n",
       "    </tr>\n",
       "    <tr>\n",
       "      <th>mean</th>\n",
       "      <td>0.001620</td>\n",
       "      <td>-0.002321</td>\n",
       "      <td>2.493791</td>\n",
       "      <td>94.758694</td>\n",
       "    </tr>\n",
       "    <tr>\n",
       "      <th>std</th>\n",
       "      <td>1.677402</td>\n",
       "      <td>1.676726</td>\n",
       "      <td>3.387134</td>\n",
       "      <td>44.685961</td>\n",
       "    </tr>\n",
       "    <tr>\n",
       "      <th>min</th>\n",
       "      <td>-4.599275</td>\n",
       "      <td>-4.598167</td>\n",
       "      <td>-6.899536</td>\n",
       "      <td>0.000000</td>\n",
       "    </tr>\n",
       "    <tr>\n",
       "      <th>25%</th>\n",
       "      <td>-1.152132</td>\n",
       "      <td>-1.162989</td>\n",
       "      <td>0.147625</td>\n",
       "      <td>59.304378</td>\n",
       "    </tr>\n",
       "    <tr>\n",
       "      <th>50%</th>\n",
       "      <td>0.009417</td>\n",
       "      <td>-0.009353</td>\n",
       "      <td>2.482386</td>\n",
       "      <td>94.667404</td>\n",
       "    </tr>\n",
       "    <tr>\n",
       "      <th>75%</th>\n",
       "      <td>1.148185</td>\n",
       "      <td>1.154078</td>\n",
       "      <td>4.838957</td>\n",
       "      <td>130.286025</td>\n",
       "    </tr>\n",
       "    <tr>\n",
       "      <th>max</th>\n",
       "      <td>4.597004</td>\n",
       "      <td>4.598268</td>\n",
       "      <td>11.893861</td>\n",
       "      <td>190.029838</td>\n",
       "    </tr>\n",
       "  </tbody>\n",
       "</table>\n",
       "</div>"
      ],
      "text/plain": [
       "                 f0            f1            f2       product\n",
       "count  97848.000000  97848.000000  97848.000000  97848.000000\n",
       "mean       0.001620     -0.002321      2.493791     94.758694\n",
       "std        1.677402      1.676726      3.387134     44.685961\n",
       "min       -4.599275     -4.598167     -6.899536      0.000000\n",
       "25%       -1.152132     -1.162989      0.147625     59.304378\n",
       "50%        0.009417     -0.009353      2.482386     94.667404\n",
       "75%        1.148185      1.154078      4.838957    130.286025\n",
       "max        4.597004      4.598268     11.893861    190.029838"
      ]
     },
     "execution_count": 24,
     "metadata": {},
     "output_type": "execute_result"
    }
   ],
   "source": [
    "display(df1.describe())\n",
    "display(df2.describe())\n",
    "df3.describe()"
   ]
  },
  {
   "cell_type": "markdown",
   "metadata": {},
   "source": [
    "Выведя статистическую информацию по всем скважинам мы получаем, что в 1 и 3 регионе как минимум по 25% скважин нам подходят по обьемам, а во 2 регионе немного меньше."
   ]
  },
  {
   "cell_type": "markdown",
   "metadata": {},
   "source": [
    "Напишем функцию расчета прибыли."
   ]
  },
  {
   "cell_type": "code",
   "execution_count": 25,
   "metadata": {},
   "outputs": [],
   "source": [
    "def revenue(target, probabilities, count):\n",
    "    \n",
    "    # Выберите скважины с максимальными значениями предсказаний. \n",
    "    probs_sorted = probabilities.sort_values(ascending=False)\n",
    "    \n",
    "    #Просуммируйте целевое значение объёма сырья, соответствующее этим предсказаниям.\n",
    "    selected = target[probs_sorted.index][:count] \n",
    "    \n",
    "    #Рассчитайте прибыль для полученного объёма сырья.\n",
    "    return (price_per_barrel * selected.sum()) - budget"
   ]
  },
  {
   "cell_type": "markdown",
   "metadata": {},
   "source": [
    "Теперь рассчитаем потенциальную прибыль в каждом из регионов с помощью метода Bootstrap."
   ]
  },
  {
   "cell_type": "code",
   "execution_count": 26,
   "metadata": {},
   "outputs": [],
   "source": [
    "def bootstrap(target, probabilities, count, number):\n",
    "    state = np.random.RandomState(12345)\n",
    "    values = []\n",
    "    for i in range(1000):\n",
    "        target_subsample = target.sample(n=500, replace=True, random_state=state)\n",
    "        probs_subsample = probabilities[target_subsample.index]\n",
    "        revenue_value = revenue(target_subsample,probs_subsample,count)\n",
    "        values.append(revenue_value)\n",
    "        \n",
    "    values = pd.Series(values)\n",
    "    values_mean = values.mean()\n",
    "    \n",
    "    lower = values.quantile(0.025)\n",
    "    upper = values.quantile(0.975)\n",
    "    \n",
    "    risk = values.loc[values<0].count()/values.count()*100\n",
    "    \n",
    "    print(f'Средняя прибыль в регионе {number} составляет {values_mean/1000000} млн. рублей')\n",
    "    print(f'95% доверительный интервал составляет от {lower/1000000} млн. до {upper/1000000} млн.')\n",
    "    print(f'Доля убыточных скважин в регионе составляет {risk} %')"
   ]
  },
  {
   "cell_type": "code",
   "execution_count": 27,
   "metadata": {
    "scrolled": true
   },
   "outputs": [
    {
     "name": "stdout",
     "output_type": "stream",
     "text": [
      "Средняя прибыль в регионе 1 составляет 435.9337721386621 млн. рублей\n",
      "95% доверительный интервал составляет от -116.23161277720818 млн. до 966.504180707376 млн.\n",
      "Доля убыточных скважин в регионе составляет 6.1 %\n"
     ]
    }
   ],
   "source": [
    "boot1 = bootstrap(target1['real'], target1['pred'], best_points, 1)\n",
    "boot1"
   ]
  },
  {
   "cell_type": "code",
   "execution_count": 28,
   "metadata": {
    "scrolled": true
   },
   "outputs": [
    {
     "name": "stdout",
     "output_type": "stream",
     "text": [
      "Средняя прибыль в регионе 2 составляет 489.66125441175245 млн. рублей\n",
      "95% доверительный интервал составляет от 55.116177273614944 млн. до 905.7626504248402 млн.\n",
      "Доля убыточных скважин в регионе составляет 1.0999999999999999 %\n"
     ]
    }
   ],
   "source": [
    "boot2 = bootstrap(target2['real'], target2['pred'], best_points, 2)\n",
    "boot2"
   ]
  },
  {
   "cell_type": "code",
   "execution_count": 29,
   "metadata": {},
   "outputs": [
    {
     "name": "stdout",
     "output_type": "stream",
     "text": [
      "Средняя прибыль в регионе 3 составляет 403.68792786213845 млн. рублей\n",
      "95% доверительный интервал составляет от -153.1169847619049 млн. до 952.8874167078603 млн.\n",
      "Доля убыточных скважин в регионе составляет 7.1 %\n"
     ]
    }
   ],
   "source": [
    "boot3 = bootstrap(target3['real'], target3['pred'], best_points, 3)\n",
    "boot3"
   ]
  },
  {
   "cell_type": "markdown",
   "metadata": {},
   "source": [
    "Исходя из полученных значений можно сделать вывод, что из предложенных регионов лучшим по показателям средней прибыли является **2 регион**. Средняя прибыль в нем составляет **489.66 млн рублей**. Также доля убыточных скважин во 2 регионе намного меньше, чем в 1 и 3 регионах соотвественно - **1%**."
   ]
  },
  {
   "cell_type": "markdown",
   "metadata": {},
   "source": [
    "# Итоговый вывод"
   ]
  },
  {
   "cell_type": "markdown",
   "metadata": {},
   "source": [
    "В ходе исследования обработаны и проанализированы данные о пробах нефти в трёх регионах. Для каждого региона построены модели, предсказывающие запасы сырья в скважинах. Проанализированы возможная прибыль и риски техникой **Bootstrap**.\n",
    "\n",
    "**Загрузка данных**\n",
    "Датафреймы с данными геологоразведки трёх регионов содержали:\n",
    "\n",
    "* **index** — уникальный идентификатор скважины в качестве индекса;\n",
    "\n",
    "* **f0, f1, f2** — три признака точек (неважно, что они означают, но сами признаки значимы);\n",
    "\n",
    "* **product** — объём запасов в скважине (тыс. баррелей).\n",
    "\n",
    "**Предобработка данных**\n",
    "Данные были проверены на пропуски, дубликаты, были удалены выбросы и проверена корреляция входных признаков с целевым. Данные подготовлены к дальнейшей работе.\n",
    "\n",
    "**Исследовательский анализ**\n",
    "По результатам исследовательского анализа данных можно отметить следующее:\n",
    "\n",
    "* мультиколлинеарности, которая может негативно повлиять на качество моделей, не обнаружено;\n",
    "* в регионе 2 весьма высокая связь признака f2 с целевым признаком product.\n",
    "\n",
    "**Обучение и проверка модели**\n",
    "По результатам обучения и проверки моделей, предсказывающих запасы сырья в скважинах, можно отметить следующее, что модель для региона 2 обладает лучших качеством по метрике RMSE — корень среднеквадратичной ошибки гораздо ниже, чем у других моделей других регионов.\n",
    "\n",
    "**Расчет рисков и прибыли** для каждого региона с применением техники Bootstrap позволил выбрать регион 2 для разработки месторождения. \n",
    "\n",
    "**Показатели региона 2:**\n",
    "\n",
    "* средняя прибыль — **489.66 млн. руб**;\n",
    "* 95%-й доверительный интервал — от **55 до 905 млн. руб.**;\n",
    "* вероятность убытков — **1%**."
   ]
  }
 ],
 "metadata": {
  "ExecuteTimeLog": [
   {
    "duration": 12,
    "start_time": "2025-03-28T16:34:30.916Z"
   },
   {
    "duration": 1582,
    "start_time": "2025-07-05T14:49:02.493Z"
   },
   {
    "duration": 13,
    "start_time": "2025-07-05T14:49:58.194Z"
   },
   {
    "duration": 1412,
    "start_time": "2025-07-05T14:50:58.779Z"
   },
   {
    "duration": 427,
    "start_time": "2025-07-05T14:55:40.824Z"
   },
   {
    "duration": 399,
    "start_time": "2025-07-05T14:56:38.036Z"
   },
   {
    "duration": 430,
    "start_time": "2025-07-05T14:57:50.587Z"
   },
   {
    "duration": 9,
    "start_time": "2025-07-05T14:59:22.671Z"
   },
   {
    "duration": 449,
    "start_time": "2025-07-05T15:01:15.752Z"
   },
   {
    "duration": 406,
    "start_time": "2025-07-05T15:04:52.854Z"
   },
   {
    "duration": 436,
    "start_time": "2025-07-05T15:05:16.600Z"
   },
   {
    "duration": 442,
    "start_time": "2025-07-05T15:05:31.578Z"
   },
   {
    "duration": 407,
    "start_time": "2025-07-05T15:06:40.763Z"
   },
   {
    "duration": 7,
    "start_time": "2025-07-05T15:07:49.598Z"
   },
   {
    "duration": 1414,
    "start_time": "2025-07-05T15:08:02.161Z"
   },
   {
    "duration": 11,
    "start_time": "2025-07-05T15:08:03.577Z"
   },
   {
    "duration": 549,
    "start_time": "2025-07-05T15:08:03.589Z"
   },
   {
    "duration": 3,
    "start_time": "2025-07-05T15:08:04.140Z"
   },
   {
    "duration": 139,
    "start_time": "2025-07-05T15:08:04.145Z"
   },
   {
    "duration": 160,
    "start_time": "2025-07-05T15:21:01.661Z"
   },
   {
    "duration": 96,
    "start_time": "2025-07-05T15:24:51.388Z"
   },
   {
    "duration": 11,
    "start_time": "2025-07-05T15:24:59.312Z"
   },
   {
    "duration": 2495,
    "start_time": "2025-07-05T15:25:39.845Z"
   },
   {
    "duration": 2643,
    "start_time": "2025-07-05T15:26:59.958Z"
   },
   {
    "duration": 3196,
    "start_time": "2025-07-05T17:19:25.016Z"
   },
   {
    "duration": 1592,
    "start_time": "2025-07-05T17:19:28.214Z"
   },
   {
    "duration": 11,
    "start_time": "2025-07-05T17:19:29.808Z"
   },
   {
    "duration": 479,
    "start_time": "2025-07-05T17:19:29.820Z"
   },
   {
    "duration": 139,
    "start_time": "2025-07-05T17:19:30.300Z"
   },
   {
    "duration": 116,
    "start_time": "2025-07-05T17:19:30.441Z"
   },
   {
    "duration": 3,
    "start_time": "2025-07-05T17:19:30.558Z"
   },
   {
    "duration": 2939,
    "start_time": "2025-07-05T17:19:30.563Z"
   },
   {
    "duration": 2774,
    "start_time": "2025-07-05T17:19:33.504Z"
   },
   {
    "duration": 104,
    "start_time": "2025-07-05T17:20:57.906Z"
   },
   {
    "duration": 11,
    "start_time": "2025-07-05T17:21:09.239Z"
   },
   {
    "duration": 10,
    "start_time": "2025-07-05T17:21:26.167Z"
   },
   {
    "duration": 219,
    "start_time": "2025-07-05T17:21:42.959Z"
   },
   {
    "duration": 10,
    "start_time": "2025-07-05T17:22:12.204Z"
   },
   {
    "duration": 11,
    "start_time": "2025-07-05T17:22:33.945Z"
   },
   {
    "duration": 335,
    "start_time": "2025-07-05T17:22:38.298Z"
   },
   {
    "duration": 26,
    "start_time": "2025-07-05T17:23:12.021Z"
   },
   {
    "duration": 988,
    "start_time": "2025-07-05T17:24:04.528Z"
   },
   {
    "duration": 729,
    "start_time": "2025-07-05T17:24:42.679Z"
   },
   {
    "duration": 93,
    "start_time": "2025-07-05T17:27:31.510Z"
   },
   {
    "duration": 3517,
    "start_time": "2025-07-05T17:27:54.119Z"
   },
   {
    "duration": 2464,
    "start_time": "2025-07-05T17:28:21.057Z"
   },
   {
    "duration": 1873,
    "start_time": "2025-07-05T17:28:32.308Z"
   },
   {
    "duration": 3,
    "start_time": "2025-07-05T17:33:59.432Z"
   },
   {
    "duration": 419,
    "start_time": "2025-07-05T17:34:48.696Z"
   },
   {
    "duration": 3,
    "start_time": "2025-07-05T17:35:45.140Z"
   },
   {
    "duration": 16,
    "start_time": "2025-07-05T17:35:56.042Z"
   },
   {
    "duration": 18,
    "start_time": "2025-07-05T17:36:13.940Z"
   },
   {
    "duration": 17,
    "start_time": "2025-07-05T17:36:27.674Z"
   },
   {
    "duration": 3,
    "start_time": "2025-07-05T17:38:37.064Z"
   },
   {
    "duration": 3,
    "start_time": "2025-07-05T17:38:48.324Z"
   },
   {
    "duration": 9,
    "start_time": "2025-07-05T17:39:13.953Z"
   },
   {
    "duration": 92,
    "start_time": "2025-07-05T17:39:28.833Z"
   },
   {
    "duration": 3,
    "start_time": "2025-07-05T17:40:24.780Z"
   },
   {
    "duration": 5,
    "start_time": "2025-07-05T17:41:02.777Z"
   },
   {
    "duration": 1310,
    "start_time": "2025-07-05T17:41:18.031Z"
   },
   {
    "duration": 1338,
    "start_time": "2025-07-05T17:41:35.002Z"
   },
   {
    "duration": 1280,
    "start_time": "2025-07-05T17:41:47.074Z"
   },
   {
    "duration": 3642,
    "start_time": "2025-07-06T19:37:17.947Z"
   },
   {
    "duration": 1711,
    "start_time": "2025-07-06T19:37:21.592Z"
   },
   {
    "duration": 3,
    "start_time": "2025-07-06T19:37:23.305Z"
   },
   {
    "duration": 575,
    "start_time": "2025-07-06T19:37:23.310Z"
   },
   {
    "duration": 155,
    "start_time": "2025-07-06T19:37:23.886Z"
   },
   {
    "duration": 130,
    "start_time": "2025-07-06T19:37:24.043Z"
   },
   {
    "duration": 3,
    "start_time": "2025-07-06T19:37:24.175Z"
   },
   {
    "duration": 2223,
    "start_time": "2025-07-06T19:37:24.179Z"
   },
   {
    "duration": 2323,
    "start_time": "2025-07-06T19:37:26.403Z"
   },
   {
    "duration": 18,
    "start_time": "2025-07-06T19:37:28.728Z"
   },
   {
    "duration": 354,
    "start_time": "2025-07-06T19:37:28.748Z"
   },
   {
    "duration": 10,
    "start_time": "2025-07-06T19:37:29.104Z"
   },
   {
    "duration": 185,
    "start_time": "2025-07-06T19:37:29.116Z"
   },
   {
    "duration": 41,
    "start_time": "2025-07-06T19:37:29.302Z"
   },
   {
    "duration": 779,
    "start_time": "2025-07-06T19:37:29.345Z"
   },
   {
    "duration": 2204,
    "start_time": "2025-07-06T19:37:30.126Z"
   },
   {
    "duration": 421,
    "start_time": "2025-07-06T19:37:32.332Z"
   },
   {
    "duration": 3,
    "start_time": "2025-07-06T19:37:32.840Z"
   },
   {
    "duration": 46,
    "start_time": "2025-07-06T19:37:32.846Z"
   },
   {
    "duration": 16,
    "start_time": "2025-07-06T19:37:32.893Z"
   },
   {
    "duration": 40,
    "start_time": "2025-07-06T19:37:32.911Z"
   },
   {
    "duration": 11,
    "start_time": "2025-07-06T19:37:32.953Z"
   },
   {
    "duration": 10,
    "start_time": "2025-07-06T19:37:32.966Z"
   },
   {
    "duration": 143,
    "start_time": "2025-07-06T19:37:32.977Z"
   },
   {
    "duration": 3,
    "start_time": "2025-07-06T19:37:33.122Z"
   },
   {
    "duration": 8,
    "start_time": "2025-07-06T19:37:33.139Z"
   },
   {
    "duration": 1465,
    "start_time": "2025-07-06T19:37:33.149Z"
   },
   {
    "duration": 1397,
    "start_time": "2025-07-06T19:37:34.617Z"
   },
   {
    "duration": 1378,
    "start_time": "2025-07-06T19:37:36.016Z"
   },
   {
    "duration": 2587,
    "start_time": "2025-07-06T19:40:42.225Z"
   },
   {
    "duration": 1635,
    "start_time": "2025-07-06T19:40:44.815Z"
   },
   {
    "duration": 10,
    "start_time": "2025-07-06T19:40:46.452Z"
   },
   {
    "duration": 493,
    "start_time": "2025-07-06T19:40:46.464Z"
   },
   {
    "duration": 155,
    "start_time": "2025-07-06T19:40:46.960Z"
   },
   {
    "duration": 112,
    "start_time": "2025-07-06T19:40:47.117Z"
   },
   {
    "duration": 11,
    "start_time": "2025-07-06T19:40:47.230Z"
   },
   {
    "duration": 2180,
    "start_time": "2025-07-06T19:40:47.243Z"
   },
   {
    "duration": 9425,
    "start_time": "2025-07-06T19:40:49.425Z"
   },
   {
    "duration": 2381,
    "start_time": "2025-07-06T19:40:58.853Z"
   },
   {
    "duration": 11,
    "start_time": "2025-07-06T19:41:01.236Z"
   },
   {
    "duration": 334,
    "start_time": "2025-07-06T19:41:01.250Z"
   },
   {
    "duration": 12,
    "start_time": "2025-07-06T19:41:01.587Z"
   },
   {
    "duration": 230,
    "start_time": "2025-07-06T19:41:01.602Z"
   },
   {
    "duration": 32,
    "start_time": "2025-07-06T19:41:01.834Z"
   },
   {
    "duration": 793,
    "start_time": "2025-07-06T19:41:01.868Z"
   },
   {
    "duration": 2105,
    "start_time": "2025-07-06T19:41:02.664Z"
   },
   {
    "duration": 387,
    "start_time": "2025-07-06T19:41:04.772Z"
   },
   {
    "duration": 4,
    "start_time": "2025-07-06T19:41:05.161Z"
   },
   {
    "duration": 177,
    "start_time": "2025-07-06T19:41:05.167Z"
   },
   {
    "duration": 59,
    "start_time": "2025-07-06T19:41:05.346Z"
   },
   {
    "duration": 50,
    "start_time": "2025-07-06T19:41:05.406Z"
   },
   {
    "duration": 6,
    "start_time": "2025-07-06T19:41:05.458Z"
   },
   {
    "duration": 20,
    "start_time": "2025-07-06T19:41:05.467Z"
   },
   {
    "duration": 133,
    "start_time": "2025-07-06T19:41:05.489Z"
   },
   {
    "duration": 4,
    "start_time": "2025-07-06T19:41:05.624Z"
   },
   {
    "duration": 7,
    "start_time": "2025-07-06T19:41:05.640Z"
   },
   {
    "duration": 1541,
    "start_time": "2025-07-06T19:41:05.650Z"
   },
   {
    "duration": 1441,
    "start_time": "2025-07-06T19:41:07.193Z"
   },
   {
    "duration": 1385,
    "start_time": "2025-07-06T19:41:08.635Z"
   },
   {
    "duration": 6517,
    "start_time": "2025-07-06T19:43:32.685Z"
   },
   {
    "duration": 1102,
    "start_time": "2025-07-06T19:45:02.753Z"
   },
   {
    "duration": 3040,
    "start_time": "2025-07-06T19:49:15.428Z"
   },
   {
    "duration": 2388,
    "start_time": "2025-07-06T20:23:27.712Z"
   },
   {
    "duration": 1458,
    "start_time": "2025-07-06T20:23:30.103Z"
   },
   {
    "duration": 3,
    "start_time": "2025-07-06T20:23:31.563Z"
   },
   {
    "duration": 529,
    "start_time": "2025-07-06T20:23:31.568Z"
   },
   {
    "duration": 168,
    "start_time": "2025-07-06T20:23:32.098Z"
   },
   {
    "duration": 115,
    "start_time": "2025-07-06T20:23:32.268Z"
   },
   {
    "duration": 2,
    "start_time": "2025-07-06T20:23:32.385Z"
   },
   {
    "duration": 3084,
    "start_time": "2025-07-06T20:23:32.389Z"
   },
   {
    "duration": 2189,
    "start_time": "2025-07-06T20:23:35.475Z"
   },
   {
    "duration": 9,
    "start_time": "2025-07-06T20:23:37.667Z"
   },
   {
    "duration": 225,
    "start_time": "2025-07-06T20:23:37.677Z"
   },
   {
    "duration": 10,
    "start_time": "2025-07-06T20:23:37.903Z"
   },
   {
    "duration": 315,
    "start_time": "2025-07-06T20:23:37.915Z"
   },
   {
    "duration": 27,
    "start_time": "2025-07-06T20:23:38.238Z"
   },
   {
    "duration": 749,
    "start_time": "2025-07-06T20:23:38.267Z"
   },
   {
    "duration": 1928,
    "start_time": "2025-07-06T20:23:39.018Z"
   },
   {
    "duration": 401,
    "start_time": "2025-07-06T20:23:40.948Z"
   },
   {
    "duration": 4,
    "start_time": "2025-07-06T20:23:41.351Z"
   },
   {
    "duration": 111,
    "start_time": "2025-07-06T20:23:41.440Z"
   },
   {
    "duration": 16,
    "start_time": "2025-07-06T20:23:41.553Z"
   },
   {
    "duration": 39,
    "start_time": "2025-07-06T20:23:41.571Z"
   },
   {
    "duration": 3,
    "start_time": "2025-07-06T20:23:41.611Z"
   },
   {
    "duration": 13,
    "start_time": "2025-07-06T20:23:41.616Z"
   },
   {
    "duration": 109,
    "start_time": "2025-07-06T20:23:41.631Z"
   },
   {
    "duration": 3,
    "start_time": "2025-07-06T20:23:41.742Z"
   },
   {
    "duration": 50,
    "start_time": "2025-07-06T20:23:41.746Z"
   },
   {
    "duration": 1355,
    "start_time": "2025-07-06T20:23:41.797Z"
   },
   {
    "duration": 1348,
    "start_time": "2025-07-06T20:23:43.155Z"
   },
   {
    "duration": 1377,
    "start_time": "2025-07-06T20:23:44.505Z"
   }
  ],
  "kernelspec": {
   "display_name": "Python 3 (ipykernel)",
   "language": "python",
   "name": "python3"
  },
  "language_info": {
   "codemirror_mode": {
    "name": "ipython",
    "version": 3
   },
   "file_extension": ".py",
   "mimetype": "text/x-python",
   "name": "python",
   "nbconvert_exporter": "python",
   "pygments_lexer": "ipython3",
   "version": "3.9.5"
  },
  "toc": {
   "base_numbering": 1,
   "nav_menu": {},
   "number_sections": true,
   "sideBar": true,
   "skip_h1_title": true,
   "title_cell": "Table of Contents",
   "title_sidebar": "Contents",
   "toc_cell": false,
   "toc_position": {},
   "toc_section_display": true,
   "toc_window_display": false
  }
 },
 "nbformat": 4,
 "nbformat_minor": 2
}
