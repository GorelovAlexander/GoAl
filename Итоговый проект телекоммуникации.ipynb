{
 "cells": [
  {
   "cell_type": "markdown",
   "id": "48ee0daf",
   "metadata": {},
   "source": [
    "# Итоговый проект: телекоммуникации\n",
    "\n",
    "# Описание проекта\n",
    "\n",
    "Оператор связи «ТелеДом» хочет бороться с оттоком клиентов. Для этого его сотрудники начнут предлагать промокоды и специальные условия всем, кто планирует отказаться от услуг связи. Чтобы заранее находить таких пользователей, «ТелеДому» нужна модель, которая будет предсказывать, разорвёт ли абонент договор. Команда оператора собрала персональные данные о некоторых клиентах, информацию об их тарифах и услугах.\n",
    "\n",
    "Оператор предоставляет два основных типа услуг: \n",
    "\n",
    "- Стационарную телефонную связь. Телефон можно подключить к нескольким линиям одновременно; \n",
    "- Интернет. Подключение может быть двух типов: через телефонную линию (DSL) или оптоволоконный кабель (Fiber optic).\n",
    "\n",
    "Дополнительные услуги:\n",
    "\n",
    "- Интернет-безопасность: антивирус (DeviceProtection) и блокировка небезопасных сайтов (OnlineSecurity);\n",
    "- Выделенная линия технической поддержки (TechSupport);\n",
    "- Облачное хранилище файлов для резервного копирования данных (OnlineBackup);\n",
    "- Стриминговое телевидение (StreamingTV) и каталог фильмов (StreamingMovies).\n",
    "\n",
    "Клиенты могут платить за услуги каждый месяц или заключить договор на 1–2 года. Возможно оплатить счёт разными способами, а также получить электронный чек.\n",
    "\n",
    "**Цель проекта** \n",
    "\n",
    "Обучить модель машинного обучения, прогнозирующую возможный отток клиентов.\n",
    "\n",
    "**Задачи проекта**\n",
    "- загрузить данные\n",
    "- подготовить итоговую таблицу, которая будет включать в себя всех клиентов\n",
    "- провести исследовательский и корреляционный анализы\n",
    "- подготовить и обучить разные модели\n",
    "- выбрать лучшую модель\n",
    "- провести анализ и интерпретацию важности признаков\n",
    "\n",
    "**Целевое ограничение** \n",
    "\n",
    "Значение метрики roc_auc лучшей модели на тестовой выборке должно быть >= 0.85."
   ]
  },
  {
   "cell_type": "markdown",
   "id": "196a14c6",
   "metadata": {},
   "source": [
    "## Подготовка"
   ]
  },
  {
   "cell_type": "markdown",
   "id": "63544aab",
   "metadata": {},
   "source": [
    "Загружаем необходимые библиотеки."
   ]
  },
  {
   "cell_type": "code",
   "execution_count": 1,
   "id": "545615e9",
   "metadata": {},
   "outputs": [
    {
     "name": "stdout",
     "output_type": "stream",
     "text": [
      "Found existing installation: scikit-learn 0.24.1\n",
      "Uninstalling scikit-learn-0.24.1:\n",
      "  Successfully uninstalled scikit-learn-0.24.1\n",
      "Collecting scikit-learn==1.3.2\n",
      "  Downloading scikit_learn-1.3.2-cp39-cp39-manylinux_2_17_x86_64.manylinux2014_x86_64.whl (10.9 MB)\n",
      "\u001b[K     |████████████████████████████████| 10.9 MB 2.0 MB/s eta 0:00:01 MB/s eta 0:00:01\n",
      "\u001b[?25hRequirement already satisfied: numpy<2.0,>=1.17.3 in /opt/conda/lib/python3.9/site-packages (from scikit-learn==1.3.2) (1.21.1)\n",
      "Collecting joblib>=1.1.1\n",
      "  Downloading joblib-1.5.2-py3-none-any.whl (308 kB)\n",
      "\u001b[K     |████████████████████████████████| 308 kB 89.8 MB/s eta 0:00:01\n",
      "\u001b[?25hRequirement already satisfied: threadpoolctl>=2.0.0 in /opt/conda/lib/python3.9/site-packages (from scikit-learn==1.3.2) (3.1.0)\n",
      "Requirement already satisfied: scipy>=1.5.0 in /opt/conda/lib/python3.9/site-packages (from scikit-learn==1.3.2) (1.9.1)\n",
      "Installing collected packages: joblib, scikit-learn\n",
      "  Attempting uninstall: joblib\n",
      "    Found existing installation: joblib 1.1.0\n",
      "    Uninstalling joblib-1.1.0:\n",
      "      Successfully uninstalled joblib-1.1.0\n",
      "Successfully installed joblib-1.5.2 scikit-learn-1.3.2\n"
     ]
    }
   ],
   "source": [
    "!pip install pandas -q\n",
    "!pip install matplotlib -q\n",
    "!pip install phik -q\n",
    "!pip uninstall scikit-learn -y\n",
    "!pip install scikit-learn==1.3.2"
   ]
  },
  {
   "cell_type": "code",
   "execution_count": 2,
   "id": "0024f279",
   "metadata": {},
   "outputs": [],
   "source": [
    "import pandas as pd\n",
    "import warnings\n",
    "warnings.simplefilter(\"ignore\") \n",
    "import matplotlib.pyplot as plt\n",
    "import seaborn as sns\n",
    "import numpy as np\n",
    "from scipy import stats as st\n",
    "import sklearn\n",
    "import phik\n",
    "from datetime import (datetime as dt, \n",
    "                      date, \n",
    "                      time)\n",
    "from functools import reduce\n",
    "from phik.report import plot_correlation_matrix\n",
    "\n",
    "from sklearn.model_selection import (train_test_split, \n",
    "                                     GridSearchCV, \n",
    "                                     RandomizedSearchCV,\n",
    "                                     cross_val_score)\n",
    "from sklearn.preprocessing import (OneHotEncoder, \n",
    "                                   OrdinalEncoder, \n",
    "                                   StandardScaler, \n",
    "                                   MinMaxScaler, \n",
    "                                   PolynomialFeatures, \n",
    "                                   RobustScaler,\n",
    "                                   LabelEncoder)\n",
    "from sklearn.linear_model import LinearRegression, LogisticRegression\n",
    "from sklearn.pipeline import Pipeline\n",
    "from sklearn.compose import ColumnTransformer\n",
    "from sklearn.impute import SimpleImputer\n",
    "from sklearn.tree import DecisionTreeClassifier, DecisionTreeRegressor\n",
    "from sklearn.svm import SVC\n",
    "from sklearn.metrics import (roc_auc_score, \n",
    "                             accuracy_score, \n",
    "                             confusion_matrix, \n",
    "                             mean_squared_error, \n",
    "                             mean_absolute_error, \n",
    "                             r2_score,\n",
    "                             make_scorer,\n",
    "                             RocCurveDisplay)\n",
    "from catboost import CatBoostClassifier"
   ]
  },
  {
   "cell_type": "markdown",
   "id": "31904a18",
   "metadata": {},
   "source": [
    "Вводим константы."
   ]
  },
  {
   "cell_type": "code",
   "execution_count": 3,
   "id": "8a903f15",
   "metadata": {},
   "outputs": [],
   "source": [
    "RANDOM_STATE = 80925\n",
    "TEST_SIZE = 0.25"
   ]
  },
  {
   "cell_type": "markdown",
   "id": "f8cb535a",
   "metadata": {},
   "source": [
    "## Загрузка данных"
   ]
  },
  {
   "cell_type": "markdown",
   "id": "9afdce2d",
   "metadata": {},
   "source": [
    "Создадим датасеты и укажем в них наши данные."
   ]
  },
  {
   "cell_type": "code",
   "execution_count": 4,
   "id": "6d6c540c",
   "metadata": {},
   "outputs": [],
   "source": [
    "contract = pd.read_csv('/datasets/contract_new.csv')\n",
    "personal = pd.read_csv('/datasets/personal_new.csv')\n",
    "internet = pd.read_csv('/datasets/internet_new.csv')\n",
    "phone = pd.read_csv('/datasets/phone_new.csv')"
   ]
  },
  {
   "cell_type": "markdown",
   "id": "f16109c3",
   "metadata": {},
   "source": [
    "Выведем первые строки и информацию, чтобы проверить содержание наших данных."
   ]
  },
  {
   "cell_type": "code",
   "execution_count": 5,
   "id": "12d0057d",
   "metadata": {
    "scrolled": false
   },
   "outputs": [
    {
     "data": {
      "text/html": [
       "<div>\n",
       "<style scoped>\n",
       "    .dataframe tbody tr th:only-of-type {\n",
       "        vertical-align: middle;\n",
       "    }\n",
       "\n",
       "    .dataframe tbody tr th {\n",
       "        vertical-align: top;\n",
       "    }\n",
       "\n",
       "    .dataframe thead th {\n",
       "        text-align: right;\n",
       "    }\n",
       "</style>\n",
       "<table border=\"1\" class=\"dataframe\">\n",
       "  <thead>\n",
       "    <tr style=\"text-align: right;\">\n",
       "      <th></th>\n",
       "      <th>customerID</th>\n",
       "      <th>BeginDate</th>\n",
       "      <th>EndDate</th>\n",
       "      <th>Type</th>\n",
       "      <th>PaperlessBilling</th>\n",
       "      <th>PaymentMethod</th>\n",
       "      <th>MonthlyCharges</th>\n",
       "      <th>TotalCharges</th>\n",
       "    </tr>\n",
       "  </thead>\n",
       "  <tbody>\n",
       "    <tr>\n",
       "      <th>0</th>\n",
       "      <td>7590-VHVEG</td>\n",
       "      <td>2020-01-01</td>\n",
       "      <td>No</td>\n",
       "      <td>Month-to-month</td>\n",
       "      <td>Yes</td>\n",
       "      <td>Electronic check</td>\n",
       "      <td>29.85</td>\n",
       "      <td>31.04</td>\n",
       "    </tr>\n",
       "    <tr>\n",
       "      <th>1</th>\n",
       "      <td>5575-GNVDE</td>\n",
       "      <td>2017-04-01</td>\n",
       "      <td>No</td>\n",
       "      <td>One year</td>\n",
       "      <td>No</td>\n",
       "      <td>Mailed check</td>\n",
       "      <td>56.95</td>\n",
       "      <td>2071.84</td>\n",
       "    </tr>\n",
       "    <tr>\n",
       "      <th>2</th>\n",
       "      <td>3668-QPYBK</td>\n",
       "      <td>2019-10-01</td>\n",
       "      <td>No</td>\n",
       "      <td>Month-to-month</td>\n",
       "      <td>Yes</td>\n",
       "      <td>Mailed check</td>\n",
       "      <td>53.85</td>\n",
       "      <td>226.17</td>\n",
       "    </tr>\n",
       "    <tr>\n",
       "      <th>3</th>\n",
       "      <td>7795-CFOCW</td>\n",
       "      <td>2016-05-01</td>\n",
       "      <td>No</td>\n",
       "      <td>One year</td>\n",
       "      <td>No</td>\n",
       "      <td>Bank transfer (automatic)</td>\n",
       "      <td>42.30</td>\n",
       "      <td>1960.6</td>\n",
       "    </tr>\n",
       "    <tr>\n",
       "      <th>4</th>\n",
       "      <td>9237-HQITU</td>\n",
       "      <td>2019-09-01</td>\n",
       "      <td>No</td>\n",
       "      <td>Month-to-month</td>\n",
       "      <td>Yes</td>\n",
       "      <td>Electronic check</td>\n",
       "      <td>70.70</td>\n",
       "      <td>353.5</td>\n",
       "    </tr>\n",
       "  </tbody>\n",
       "</table>\n",
       "</div>"
      ],
      "text/plain": [
       "   customerID   BeginDate EndDate            Type PaperlessBilling  \\\n",
       "0  7590-VHVEG  2020-01-01      No  Month-to-month              Yes   \n",
       "1  5575-GNVDE  2017-04-01      No        One year               No   \n",
       "2  3668-QPYBK  2019-10-01      No  Month-to-month              Yes   \n",
       "3  7795-CFOCW  2016-05-01      No        One year               No   \n",
       "4  9237-HQITU  2019-09-01      No  Month-to-month              Yes   \n",
       "\n",
       "               PaymentMethod  MonthlyCharges TotalCharges  \n",
       "0           Electronic check           29.85        31.04  \n",
       "1               Mailed check           56.95      2071.84  \n",
       "2               Mailed check           53.85       226.17  \n",
       "3  Bank transfer (automatic)           42.30       1960.6  \n",
       "4           Electronic check           70.70        353.5  "
      ]
     },
     "metadata": {},
     "output_type": "display_data"
    },
    {
     "name": "stdout",
     "output_type": "stream",
     "text": [
      "<class 'pandas.core.frame.DataFrame'>\n",
      "RangeIndex: 7043 entries, 0 to 7042\n",
      "Data columns (total 8 columns):\n",
      " #   Column            Non-Null Count  Dtype  \n",
      "---  ------            --------------  -----  \n",
      " 0   customerID        7043 non-null   object \n",
      " 1   BeginDate         7043 non-null   object \n",
      " 2   EndDate           7043 non-null   object \n",
      " 3   Type              7043 non-null   object \n",
      " 4   PaperlessBilling  7043 non-null   object \n",
      " 5   PaymentMethod     7043 non-null   object \n",
      " 6   MonthlyCharges    7043 non-null   float64\n",
      " 7   TotalCharges      7043 non-null   object \n",
      "dtypes: float64(1), object(7)\n",
      "memory usage: 440.3+ KB\n",
      "None\n",
      "\n"
     ]
    },
    {
     "data": {
      "text/html": [
       "<div>\n",
       "<style scoped>\n",
       "    .dataframe tbody tr th:only-of-type {\n",
       "        vertical-align: middle;\n",
       "    }\n",
       "\n",
       "    .dataframe tbody tr th {\n",
       "        vertical-align: top;\n",
       "    }\n",
       "\n",
       "    .dataframe thead th {\n",
       "        text-align: right;\n",
       "    }\n",
       "</style>\n",
       "<table border=\"1\" class=\"dataframe\">\n",
       "  <thead>\n",
       "    <tr style=\"text-align: right;\">\n",
       "      <th></th>\n",
       "      <th>customerID</th>\n",
       "      <th>gender</th>\n",
       "      <th>SeniorCitizen</th>\n",
       "      <th>Partner</th>\n",
       "      <th>Dependents</th>\n",
       "    </tr>\n",
       "  </thead>\n",
       "  <tbody>\n",
       "    <tr>\n",
       "      <th>0</th>\n",
       "      <td>7590-VHVEG</td>\n",
       "      <td>Female</td>\n",
       "      <td>0</td>\n",
       "      <td>Yes</td>\n",
       "      <td>No</td>\n",
       "    </tr>\n",
       "    <tr>\n",
       "      <th>1</th>\n",
       "      <td>5575-GNVDE</td>\n",
       "      <td>Male</td>\n",
       "      <td>0</td>\n",
       "      <td>No</td>\n",
       "      <td>No</td>\n",
       "    </tr>\n",
       "    <tr>\n",
       "      <th>2</th>\n",
       "      <td>3668-QPYBK</td>\n",
       "      <td>Male</td>\n",
       "      <td>0</td>\n",
       "      <td>No</td>\n",
       "      <td>No</td>\n",
       "    </tr>\n",
       "    <tr>\n",
       "      <th>3</th>\n",
       "      <td>7795-CFOCW</td>\n",
       "      <td>Male</td>\n",
       "      <td>0</td>\n",
       "      <td>No</td>\n",
       "      <td>No</td>\n",
       "    </tr>\n",
       "    <tr>\n",
       "      <th>4</th>\n",
       "      <td>9237-HQITU</td>\n",
       "      <td>Female</td>\n",
       "      <td>0</td>\n",
       "      <td>No</td>\n",
       "      <td>No</td>\n",
       "    </tr>\n",
       "  </tbody>\n",
       "</table>\n",
       "</div>"
      ],
      "text/plain": [
       "   customerID  gender  SeniorCitizen Partner Dependents\n",
       "0  7590-VHVEG  Female              0     Yes         No\n",
       "1  5575-GNVDE    Male              0      No         No\n",
       "2  3668-QPYBK    Male              0      No         No\n",
       "3  7795-CFOCW    Male              0      No         No\n",
       "4  9237-HQITU  Female              0      No         No"
      ]
     },
     "metadata": {},
     "output_type": "display_data"
    },
    {
     "name": "stdout",
     "output_type": "stream",
     "text": [
      "<class 'pandas.core.frame.DataFrame'>\n",
      "RangeIndex: 7043 entries, 0 to 7042\n",
      "Data columns (total 5 columns):\n",
      " #   Column         Non-Null Count  Dtype \n",
      "---  ------         --------------  ----- \n",
      " 0   customerID     7043 non-null   object\n",
      " 1   gender         7043 non-null   object\n",
      " 2   SeniorCitizen  7043 non-null   int64 \n",
      " 3   Partner        7043 non-null   object\n",
      " 4   Dependents     7043 non-null   object\n",
      "dtypes: int64(1), object(4)\n",
      "memory usage: 275.2+ KB\n",
      "None\n",
      "\n"
     ]
    },
    {
     "data": {
      "text/html": [
       "<div>\n",
       "<style scoped>\n",
       "    .dataframe tbody tr th:only-of-type {\n",
       "        vertical-align: middle;\n",
       "    }\n",
       "\n",
       "    .dataframe tbody tr th {\n",
       "        vertical-align: top;\n",
       "    }\n",
       "\n",
       "    .dataframe thead th {\n",
       "        text-align: right;\n",
       "    }\n",
       "</style>\n",
       "<table border=\"1\" class=\"dataframe\">\n",
       "  <thead>\n",
       "    <tr style=\"text-align: right;\">\n",
       "      <th></th>\n",
       "      <th>customerID</th>\n",
       "      <th>InternetService</th>\n",
       "      <th>OnlineSecurity</th>\n",
       "      <th>OnlineBackup</th>\n",
       "      <th>DeviceProtection</th>\n",
       "      <th>TechSupport</th>\n",
       "      <th>StreamingTV</th>\n",
       "      <th>StreamingMovies</th>\n",
       "    </tr>\n",
       "  </thead>\n",
       "  <tbody>\n",
       "    <tr>\n",
       "      <th>0</th>\n",
       "      <td>7590-VHVEG</td>\n",
       "      <td>DSL</td>\n",
       "      <td>No</td>\n",
       "      <td>Yes</td>\n",
       "      <td>No</td>\n",
       "      <td>No</td>\n",
       "      <td>No</td>\n",
       "      <td>No</td>\n",
       "    </tr>\n",
       "    <tr>\n",
       "      <th>1</th>\n",
       "      <td>5575-GNVDE</td>\n",
       "      <td>DSL</td>\n",
       "      <td>Yes</td>\n",
       "      <td>No</td>\n",
       "      <td>Yes</td>\n",
       "      <td>No</td>\n",
       "      <td>No</td>\n",
       "      <td>No</td>\n",
       "    </tr>\n",
       "    <tr>\n",
       "      <th>2</th>\n",
       "      <td>3668-QPYBK</td>\n",
       "      <td>DSL</td>\n",
       "      <td>Yes</td>\n",
       "      <td>Yes</td>\n",
       "      <td>No</td>\n",
       "      <td>No</td>\n",
       "      <td>No</td>\n",
       "      <td>No</td>\n",
       "    </tr>\n",
       "    <tr>\n",
       "      <th>3</th>\n",
       "      <td>7795-CFOCW</td>\n",
       "      <td>DSL</td>\n",
       "      <td>Yes</td>\n",
       "      <td>No</td>\n",
       "      <td>Yes</td>\n",
       "      <td>Yes</td>\n",
       "      <td>No</td>\n",
       "      <td>No</td>\n",
       "    </tr>\n",
       "    <tr>\n",
       "      <th>4</th>\n",
       "      <td>9237-HQITU</td>\n",
       "      <td>Fiber optic</td>\n",
       "      <td>No</td>\n",
       "      <td>No</td>\n",
       "      <td>No</td>\n",
       "      <td>No</td>\n",
       "      <td>No</td>\n",
       "      <td>No</td>\n",
       "    </tr>\n",
       "  </tbody>\n",
       "</table>\n",
       "</div>"
      ],
      "text/plain": [
       "   customerID InternetService OnlineSecurity OnlineBackup DeviceProtection  \\\n",
       "0  7590-VHVEG             DSL             No          Yes               No   \n",
       "1  5575-GNVDE             DSL            Yes           No              Yes   \n",
       "2  3668-QPYBK             DSL            Yes          Yes               No   \n",
       "3  7795-CFOCW             DSL            Yes           No              Yes   \n",
       "4  9237-HQITU     Fiber optic             No           No               No   \n",
       "\n",
       "  TechSupport StreamingTV StreamingMovies  \n",
       "0          No          No              No  \n",
       "1          No          No              No  \n",
       "2          No          No              No  \n",
       "3         Yes          No              No  \n",
       "4          No          No              No  "
      ]
     },
     "metadata": {},
     "output_type": "display_data"
    },
    {
     "name": "stdout",
     "output_type": "stream",
     "text": [
      "<class 'pandas.core.frame.DataFrame'>\n",
      "RangeIndex: 5517 entries, 0 to 5516\n",
      "Data columns (total 8 columns):\n",
      " #   Column            Non-Null Count  Dtype \n",
      "---  ------            --------------  ----- \n",
      " 0   customerID        5517 non-null   object\n",
      " 1   InternetService   5517 non-null   object\n",
      " 2   OnlineSecurity    5517 non-null   object\n",
      " 3   OnlineBackup      5517 non-null   object\n",
      " 4   DeviceProtection  5517 non-null   object\n",
      " 5   TechSupport       5517 non-null   object\n",
      " 6   StreamingTV       5517 non-null   object\n",
      " 7   StreamingMovies   5517 non-null   object\n",
      "dtypes: object(8)\n",
      "memory usage: 344.9+ KB\n",
      "None\n"
     ]
    },
    {
     "data": {
      "text/html": [
       "<div>\n",
       "<style scoped>\n",
       "    .dataframe tbody tr th:only-of-type {\n",
       "        vertical-align: middle;\n",
       "    }\n",
       "\n",
       "    .dataframe tbody tr th {\n",
       "        vertical-align: top;\n",
       "    }\n",
       "\n",
       "    .dataframe thead th {\n",
       "        text-align: right;\n",
       "    }\n",
       "</style>\n",
       "<table border=\"1\" class=\"dataframe\">\n",
       "  <thead>\n",
       "    <tr style=\"text-align: right;\">\n",
       "      <th></th>\n",
       "      <th>customerID</th>\n",
       "      <th>MultipleLines</th>\n",
       "    </tr>\n",
       "  </thead>\n",
       "  <tbody>\n",
       "    <tr>\n",
       "      <th>0</th>\n",
       "      <td>5575-GNVDE</td>\n",
       "      <td>No</td>\n",
       "    </tr>\n",
       "    <tr>\n",
       "      <th>1</th>\n",
       "      <td>3668-QPYBK</td>\n",
       "      <td>No</td>\n",
       "    </tr>\n",
       "    <tr>\n",
       "      <th>2</th>\n",
       "      <td>9237-HQITU</td>\n",
       "      <td>No</td>\n",
       "    </tr>\n",
       "    <tr>\n",
       "      <th>3</th>\n",
       "      <td>9305-CDSKC</td>\n",
       "      <td>Yes</td>\n",
       "    </tr>\n",
       "    <tr>\n",
       "      <th>4</th>\n",
       "      <td>1452-KIOVK</td>\n",
       "      <td>Yes</td>\n",
       "    </tr>\n",
       "  </tbody>\n",
       "</table>\n",
       "</div>"
      ],
      "text/plain": [
       "   customerID MultipleLines\n",
       "0  5575-GNVDE            No\n",
       "1  3668-QPYBK            No\n",
       "2  9237-HQITU            No\n",
       "3  9305-CDSKC           Yes\n",
       "4  1452-KIOVK           Yes"
      ]
     },
     "metadata": {},
     "output_type": "display_data"
    },
    {
     "name": "stdout",
     "output_type": "stream",
     "text": [
      "<class 'pandas.core.frame.DataFrame'>\n",
      "RangeIndex: 6361 entries, 0 to 6360\n",
      "Data columns (total 2 columns):\n",
      " #   Column         Non-Null Count  Dtype \n",
      "---  ------         --------------  ----- \n",
      " 0   customerID     6361 non-null   object\n",
      " 1   MultipleLines  6361 non-null   object\n",
      "dtypes: object(2)\n",
      "memory usage: 99.5+ KB\n",
      "None\n"
     ]
    }
   ],
   "source": [
    "display(contract.head())\n",
    "print(contract.info())\n",
    "print()\n",
    "display(personal.head())\n",
    "print(personal.info())\n",
    "print()\n",
    "display(internet.head())\n",
    "print(internet.info())\n",
    "display(phone.head())\n",
    "print(phone.info())"
   ]
  },
  {
   "cell_type": "markdown",
   "id": "0b22faea",
   "metadata": {},
   "source": [
    "**Выводы по загрузке данных**\n",
    "\n",
    "- Данные были загружены и проверены на соответствие\n",
    "- Некоторые числа и даты записаны типом object (требуется заменить)\n",
    "- Булевые переменные обозначены словами (не требует изменений)\n",
    "- Отсутствуют пропуски в данных\n",
    "- Отсутствует столбец с целевым признаком (требуется создать) "
   ]
  },
  {
   "cell_type": "markdown",
   "id": "0fd6b770",
   "metadata": {},
   "source": [
    "## Предобработка данных"
   ]
  },
  {
   "cell_type": "markdown",
   "id": "cf092026",
   "metadata": {},
   "source": [
    "Изменим тип данных там, где это необходимо."
   ]
  },
  {
   "cell_type": "code",
   "execution_count": 6,
   "id": "c6210c71",
   "metadata": {},
   "outputs": [],
   "source": [
    "contract['TotalCharges'] = pd.to_numeric(contract['TotalCharges'], errors='coerce')\n",
    "contract['BeginDate'] = pd.to_datetime(contract['BeginDate'], format='%Y-%m-%d')"
   ]
  },
  {
   "cell_type": "markdown",
   "id": "fd14c939",
   "metadata": {},
   "source": [
    "Создадим столбец с целевым признаком, опираясь на данные из столбца EndDate. Для этого посмотрим на уникальные значения столбца."
   ]
  },
  {
   "cell_type": "code",
   "execution_count": 7,
   "id": "358ca890",
   "metadata": {},
   "outputs": [
    {
     "name": "stdout",
     "output_type": "stream",
     "text": [
      "['No' '2017-05-01' '2016-03-01' '2018-09-01' '2018-11-01' '2018-12-01'\n",
      " '2019-08-01' '2018-07-01' '2017-09-01' '2015-09-01' '2016-07-01'\n",
      " '2016-06-01' '2018-03-01' '2019-02-01' '2018-06-01' '2019-06-01'\n",
      " '2020-01-01' '2019-11-01' '2016-09-01' '2015-06-01' '2016-12-01'\n",
      " '2019-05-01' '2019-04-01' '2017-06-01' '2017-08-01' '2018-04-01'\n",
      " '2018-08-01' '2018-02-01' '2019-07-01' '2015-12-01' '2014-06-01'\n",
      " '2018-10-01' '2019-01-01' '2017-07-01' '2017-12-01' '2018-05-01'\n",
      " '2015-11-01' '2019-10-01' '2019-03-01' '2016-02-01' '2016-10-01'\n",
      " '2018-01-01' '2017-11-01' '2015-10-01' '2019-12-01' '2015-07-01'\n",
      " '2017-04-01' '2015-02-01' '2017-03-01' '2016-05-01' '2016-11-01'\n",
      " '2015-08-01' '2019-09-01' '2017-10-01' '2017-02-01' '2016-08-01'\n",
      " '2016-04-01' '2015-05-01' '2014-09-01' '2014-10-01' '2017-01-01'\n",
      " '2015-03-01' '2015-01-01' '2016-01-01' '2015-04-01' '2014-12-01'\n",
      " '2014-11-01']\n"
     ]
    }
   ],
   "source": [
    "print(contract['EndDate'].unique())"
   ]
  },
  {
   "cell_type": "markdown",
   "id": "f89db517",
   "metadata": {},
   "source": [
    "Можно выделить два вида данных: дата завершения договора и **No**, если договор не был завершен. ИСходя из этого мы можем создать столбец с целевым признаком **target**, где 1 означает незавершенный контракт (No), а 0 - завершенный контракт."
   ]
  },
  {
   "cell_type": "code",
   "execution_count": 8,
   "id": "6ea27da1",
   "metadata": {},
   "outputs": [],
   "source": [
    "contract['target'] = [1 if i != 'No' else 0 for i in contract['EndDate']]"
   ]
  },
  {
   "cell_type": "markdown",
   "id": "50c6edd2",
   "metadata": {},
   "source": [
    "Проверим столбец с целевым признаком."
   ]
  },
  {
   "cell_type": "code",
   "execution_count": 9,
   "id": "1db9eb9b",
   "metadata": {},
   "outputs": [
    {
     "data": {
      "text/html": [
       "<div>\n",
       "<style scoped>\n",
       "    .dataframe tbody tr th:only-of-type {\n",
       "        vertical-align: middle;\n",
       "    }\n",
       "\n",
       "    .dataframe tbody tr th {\n",
       "        vertical-align: top;\n",
       "    }\n",
       "\n",
       "    .dataframe thead th {\n",
       "        text-align: right;\n",
       "    }\n",
       "</style>\n",
       "<table border=\"1\" class=\"dataframe\">\n",
       "  <thead>\n",
       "    <tr style=\"text-align: right;\">\n",
       "      <th></th>\n",
       "      <th>customerID</th>\n",
       "      <th>BeginDate</th>\n",
       "      <th>EndDate</th>\n",
       "      <th>Type</th>\n",
       "      <th>PaperlessBilling</th>\n",
       "      <th>PaymentMethod</th>\n",
       "      <th>MonthlyCharges</th>\n",
       "      <th>TotalCharges</th>\n",
       "      <th>target</th>\n",
       "    </tr>\n",
       "  </thead>\n",
       "  <tbody>\n",
       "    <tr>\n",
       "      <th>0</th>\n",
       "      <td>7590-VHVEG</td>\n",
       "      <td>2020-01-01</td>\n",
       "      <td>No</td>\n",
       "      <td>Month-to-month</td>\n",
       "      <td>Yes</td>\n",
       "      <td>Electronic check</td>\n",
       "      <td>29.85</td>\n",
       "      <td>31.04</td>\n",
       "      <td>0</td>\n",
       "    </tr>\n",
       "    <tr>\n",
       "      <th>1</th>\n",
       "      <td>5575-GNVDE</td>\n",
       "      <td>2017-04-01</td>\n",
       "      <td>No</td>\n",
       "      <td>One year</td>\n",
       "      <td>No</td>\n",
       "      <td>Mailed check</td>\n",
       "      <td>56.95</td>\n",
       "      <td>2071.84</td>\n",
       "      <td>0</td>\n",
       "    </tr>\n",
       "    <tr>\n",
       "      <th>2</th>\n",
       "      <td>3668-QPYBK</td>\n",
       "      <td>2019-10-01</td>\n",
       "      <td>No</td>\n",
       "      <td>Month-to-month</td>\n",
       "      <td>Yes</td>\n",
       "      <td>Mailed check</td>\n",
       "      <td>53.85</td>\n",
       "      <td>226.17</td>\n",
       "      <td>0</td>\n",
       "    </tr>\n",
       "    <tr>\n",
       "      <th>3</th>\n",
       "      <td>7795-CFOCW</td>\n",
       "      <td>2016-05-01</td>\n",
       "      <td>No</td>\n",
       "      <td>One year</td>\n",
       "      <td>No</td>\n",
       "      <td>Bank transfer (automatic)</td>\n",
       "      <td>42.30</td>\n",
       "      <td>1960.60</td>\n",
       "      <td>0</td>\n",
       "    </tr>\n",
       "    <tr>\n",
       "      <th>4</th>\n",
       "      <td>9237-HQITU</td>\n",
       "      <td>2019-09-01</td>\n",
       "      <td>No</td>\n",
       "      <td>Month-to-month</td>\n",
       "      <td>Yes</td>\n",
       "      <td>Electronic check</td>\n",
       "      <td>70.70</td>\n",
       "      <td>353.50</td>\n",
       "      <td>0</td>\n",
       "    </tr>\n",
       "    <tr>\n",
       "      <th>5</th>\n",
       "      <td>9305-CDSKC</td>\n",
       "      <td>2019-03-01</td>\n",
       "      <td>No</td>\n",
       "      <td>Month-to-month</td>\n",
       "      <td>Yes</td>\n",
       "      <td>Electronic check</td>\n",
       "      <td>99.65</td>\n",
       "      <td>1150.96</td>\n",
       "      <td>0</td>\n",
       "    </tr>\n",
       "    <tr>\n",
       "      <th>6</th>\n",
       "      <td>1452-KIOVK</td>\n",
       "      <td>2018-04-01</td>\n",
       "      <td>No</td>\n",
       "      <td>Month-to-month</td>\n",
       "      <td>Yes</td>\n",
       "      <td>Credit card (automatic)</td>\n",
       "      <td>89.10</td>\n",
       "      <td>2058.21</td>\n",
       "      <td>0</td>\n",
       "    </tr>\n",
       "    <tr>\n",
       "      <th>7</th>\n",
       "      <td>6713-OKOMC</td>\n",
       "      <td>2019-04-01</td>\n",
       "      <td>No</td>\n",
       "      <td>Month-to-month</td>\n",
       "      <td>No</td>\n",
       "      <td>Mailed check</td>\n",
       "      <td>29.75</td>\n",
       "      <td>300.48</td>\n",
       "      <td>0</td>\n",
       "    </tr>\n",
       "    <tr>\n",
       "      <th>8</th>\n",
       "      <td>7892-POOKP</td>\n",
       "      <td>2017-07-01</td>\n",
       "      <td>No</td>\n",
       "      <td>Month-to-month</td>\n",
       "      <td>Yes</td>\n",
       "      <td>Electronic check</td>\n",
       "      <td>104.80</td>\n",
       "      <td>3573.68</td>\n",
       "      <td>0</td>\n",
       "    </tr>\n",
       "    <tr>\n",
       "      <th>9</th>\n",
       "      <td>6388-TABGU</td>\n",
       "      <td>2014-12-01</td>\n",
       "      <td>2017-05-01</td>\n",
       "      <td>One year</td>\n",
       "      <td>No</td>\n",
       "      <td>Bank transfer (automatic)</td>\n",
       "      <td>56.15</td>\n",
       "      <td>1628.35</td>\n",
       "      <td>1</td>\n",
       "    </tr>\n",
       "  </tbody>\n",
       "</table>\n",
       "</div>"
      ],
      "text/plain": [
       "   customerID  BeginDate     EndDate            Type PaperlessBilling  \\\n",
       "0  7590-VHVEG 2020-01-01          No  Month-to-month              Yes   \n",
       "1  5575-GNVDE 2017-04-01          No        One year               No   \n",
       "2  3668-QPYBK 2019-10-01          No  Month-to-month              Yes   \n",
       "3  7795-CFOCW 2016-05-01          No        One year               No   \n",
       "4  9237-HQITU 2019-09-01          No  Month-to-month              Yes   \n",
       "5  9305-CDSKC 2019-03-01          No  Month-to-month              Yes   \n",
       "6  1452-KIOVK 2018-04-01          No  Month-to-month              Yes   \n",
       "7  6713-OKOMC 2019-04-01          No  Month-to-month               No   \n",
       "8  7892-POOKP 2017-07-01          No  Month-to-month              Yes   \n",
       "9  6388-TABGU 2014-12-01  2017-05-01        One year               No   \n",
       "\n",
       "               PaymentMethod  MonthlyCharges  TotalCharges  target  \n",
       "0           Electronic check           29.85         31.04       0  \n",
       "1               Mailed check           56.95       2071.84       0  \n",
       "2               Mailed check           53.85        226.17       0  \n",
       "3  Bank transfer (automatic)           42.30       1960.60       0  \n",
       "4           Electronic check           70.70        353.50       0  \n",
       "5           Electronic check           99.65       1150.96       0  \n",
       "6    Credit card (automatic)           89.10       2058.21       0  \n",
       "7               Mailed check           29.75        300.48       0  \n",
       "8           Electronic check          104.80       3573.68       0  \n",
       "9  Bank transfer (automatic)           56.15       1628.35       1  "
      ]
     },
     "execution_count": 9,
     "metadata": {},
     "output_type": "execute_result"
    }
   ],
   "source": [
    "contract.head(10)"
   ]
  },
  {
   "cell_type": "markdown",
   "id": "671141ac",
   "metadata": {},
   "source": [
    "Чтобы изменить привести тип данных к datetime в столбце EndDate изменим значение No на дату, когда были представлены данные - 1 февраля 2020 года."
   ]
  },
  {
   "cell_type": "code",
   "execution_count": 10,
   "id": "4ae3b550",
   "metadata": {},
   "outputs": [],
   "source": [
    "contract.loc[(contract['EndDate'] == 'No'),'EndDate'] = '2020-02-01'"
   ]
  },
  {
   "cell_type": "markdown",
   "id": "2df4540a",
   "metadata": {},
   "source": [
    "Изменим тип данных в столбце EndDate на datetime."
   ]
  },
  {
   "cell_type": "code",
   "execution_count": 11,
   "id": "65b7d8e1",
   "metadata": {},
   "outputs": [],
   "source": [
    "contract['EndDate'] = pd.to_datetime(contract['EndDate'],format= \"%Y/%m/%d\")"
   ]
  },
  {
   "cell_type": "markdown",
   "id": "89e35e46",
   "metadata": {},
   "source": [
    "Теперь, когда данные преведены к подходящим типам, проверим датасеты на наличие дубликатов."
   ]
  },
  {
   "cell_type": "code",
   "execution_count": 12,
   "id": "11750908",
   "metadata": {},
   "outputs": [
    {
     "name": "stdout",
     "output_type": "stream",
     "text": [
      "0\n",
      "0\n",
      "0\n"
     ]
    },
    {
     "data": {
      "text/plain": [
       "0"
      ]
     },
     "execution_count": 12,
     "metadata": {},
     "output_type": "execute_result"
    }
   ],
   "source": [
    "print(contract.duplicated().sum())\n",
    "print(personal.duplicated().sum())\n",
    "print(internet.duplicated().sum())\n",
    "phone.duplicated().sum()"
   ]
  },
  {
   "cell_type": "markdown",
   "id": "ba43f2ab",
   "metadata": {},
   "source": [
    "Выведем информацию по уникальным наименованиям текстовых столбцов во всех датафреймах чтобы проверить названия на опечатки."
   ]
  },
  {
   "cell_type": "code",
   "execution_count": 13,
   "id": "f27d090c",
   "metadata": {},
   "outputs": [
    {
     "name": "stdout",
     "output_type": "stream",
     "text": [
      "['Month-to-month' 'One year' 'Two year']\n",
      "['Electronic check' 'Mailed check' 'Bank transfer (automatic)'\n",
      " 'Credit card (automatic)']\n",
      "['Female' 'Male']\n",
      "['DSL' 'Fiber optic']\n"
     ]
    }
   ],
   "source": [
    "unique_values = contract['Type'].unique()\n",
    "print(unique_values)\n",
    "unique_values = contract['PaymentMethod'].unique()\n",
    "print(unique_values)\n",
    "unique_values = personal['gender'].unique()\n",
    "print(unique_values)\n",
    "unique_values = internet['InternetService'].unique()\n",
    "print(unique_values)"
   ]
  },
  {
   "cell_type": "markdown",
   "id": "8d03ad6b",
   "metadata": {},
   "source": [
    "Опечаток не обнаружено. Вывдеме всю информацию о датасетах ещё раз, чтобы проверить изменения."
   ]
  },
  {
   "cell_type": "code",
   "execution_count": 14,
   "id": "50734492",
   "metadata": {},
   "outputs": [
    {
     "data": {
      "text/html": [
       "<div>\n",
       "<style scoped>\n",
       "    .dataframe tbody tr th:only-of-type {\n",
       "        vertical-align: middle;\n",
       "    }\n",
       "\n",
       "    .dataframe tbody tr th {\n",
       "        vertical-align: top;\n",
       "    }\n",
       "\n",
       "    .dataframe thead th {\n",
       "        text-align: right;\n",
       "    }\n",
       "</style>\n",
       "<table border=\"1\" class=\"dataframe\">\n",
       "  <thead>\n",
       "    <tr style=\"text-align: right;\">\n",
       "      <th></th>\n",
       "      <th>customerID</th>\n",
       "      <th>BeginDate</th>\n",
       "      <th>EndDate</th>\n",
       "      <th>Type</th>\n",
       "      <th>PaperlessBilling</th>\n",
       "      <th>PaymentMethod</th>\n",
       "      <th>MonthlyCharges</th>\n",
       "      <th>TotalCharges</th>\n",
       "      <th>target</th>\n",
       "    </tr>\n",
       "  </thead>\n",
       "  <tbody>\n",
       "    <tr>\n",
       "      <th>0</th>\n",
       "      <td>7590-VHVEG</td>\n",
       "      <td>2020-01-01</td>\n",
       "      <td>2020-02-01</td>\n",
       "      <td>Month-to-month</td>\n",
       "      <td>Yes</td>\n",
       "      <td>Electronic check</td>\n",
       "      <td>29.85</td>\n",
       "      <td>31.04</td>\n",
       "      <td>0</td>\n",
       "    </tr>\n",
       "    <tr>\n",
       "      <th>1</th>\n",
       "      <td>5575-GNVDE</td>\n",
       "      <td>2017-04-01</td>\n",
       "      <td>2020-02-01</td>\n",
       "      <td>One year</td>\n",
       "      <td>No</td>\n",
       "      <td>Mailed check</td>\n",
       "      <td>56.95</td>\n",
       "      <td>2071.84</td>\n",
       "      <td>0</td>\n",
       "    </tr>\n",
       "    <tr>\n",
       "      <th>2</th>\n",
       "      <td>3668-QPYBK</td>\n",
       "      <td>2019-10-01</td>\n",
       "      <td>2020-02-01</td>\n",
       "      <td>Month-to-month</td>\n",
       "      <td>Yes</td>\n",
       "      <td>Mailed check</td>\n",
       "      <td>53.85</td>\n",
       "      <td>226.17</td>\n",
       "      <td>0</td>\n",
       "    </tr>\n",
       "    <tr>\n",
       "      <th>3</th>\n",
       "      <td>7795-CFOCW</td>\n",
       "      <td>2016-05-01</td>\n",
       "      <td>2020-02-01</td>\n",
       "      <td>One year</td>\n",
       "      <td>No</td>\n",
       "      <td>Bank transfer (automatic)</td>\n",
       "      <td>42.30</td>\n",
       "      <td>1960.60</td>\n",
       "      <td>0</td>\n",
       "    </tr>\n",
       "    <tr>\n",
       "      <th>4</th>\n",
       "      <td>9237-HQITU</td>\n",
       "      <td>2019-09-01</td>\n",
       "      <td>2020-02-01</td>\n",
       "      <td>Month-to-month</td>\n",
       "      <td>Yes</td>\n",
       "      <td>Electronic check</td>\n",
       "      <td>70.70</td>\n",
       "      <td>353.50</td>\n",
       "      <td>0</td>\n",
       "    </tr>\n",
       "  </tbody>\n",
       "</table>\n",
       "</div>"
      ],
      "text/plain": [
       "   customerID  BeginDate    EndDate            Type PaperlessBilling  \\\n",
       "0  7590-VHVEG 2020-01-01 2020-02-01  Month-to-month              Yes   \n",
       "1  5575-GNVDE 2017-04-01 2020-02-01        One year               No   \n",
       "2  3668-QPYBK 2019-10-01 2020-02-01  Month-to-month              Yes   \n",
       "3  7795-CFOCW 2016-05-01 2020-02-01        One year               No   \n",
       "4  9237-HQITU 2019-09-01 2020-02-01  Month-to-month              Yes   \n",
       "\n",
       "               PaymentMethod  MonthlyCharges  TotalCharges  target  \n",
       "0           Electronic check           29.85         31.04       0  \n",
       "1               Mailed check           56.95       2071.84       0  \n",
       "2               Mailed check           53.85        226.17       0  \n",
       "3  Bank transfer (automatic)           42.30       1960.60       0  \n",
       "4           Electronic check           70.70        353.50       0  "
      ]
     },
     "metadata": {},
     "output_type": "display_data"
    },
    {
     "name": "stdout",
     "output_type": "stream",
     "text": [
      "<class 'pandas.core.frame.DataFrame'>\n",
      "RangeIndex: 7043 entries, 0 to 7042\n",
      "Data columns (total 9 columns):\n",
      " #   Column            Non-Null Count  Dtype         \n",
      "---  ------            --------------  -----         \n",
      " 0   customerID        7043 non-null   object        \n",
      " 1   BeginDate         7043 non-null   datetime64[ns]\n",
      " 2   EndDate           7043 non-null   datetime64[ns]\n",
      " 3   Type              7043 non-null   object        \n",
      " 4   PaperlessBilling  7043 non-null   object        \n",
      " 5   PaymentMethod     7043 non-null   object        \n",
      " 6   MonthlyCharges    7043 non-null   float64       \n",
      " 7   TotalCharges      7032 non-null   float64       \n",
      " 8   target            7043 non-null   int64         \n",
      "dtypes: datetime64[ns](2), float64(2), int64(1), object(4)\n",
      "memory usage: 495.3+ KB\n",
      "None\n",
      "\n"
     ]
    },
    {
     "data": {
      "text/html": [
       "<div>\n",
       "<style scoped>\n",
       "    .dataframe tbody tr th:only-of-type {\n",
       "        vertical-align: middle;\n",
       "    }\n",
       "\n",
       "    .dataframe tbody tr th {\n",
       "        vertical-align: top;\n",
       "    }\n",
       "\n",
       "    .dataframe thead th {\n",
       "        text-align: right;\n",
       "    }\n",
       "</style>\n",
       "<table border=\"1\" class=\"dataframe\">\n",
       "  <thead>\n",
       "    <tr style=\"text-align: right;\">\n",
       "      <th></th>\n",
       "      <th>customerID</th>\n",
       "      <th>gender</th>\n",
       "      <th>SeniorCitizen</th>\n",
       "      <th>Partner</th>\n",
       "      <th>Dependents</th>\n",
       "    </tr>\n",
       "  </thead>\n",
       "  <tbody>\n",
       "    <tr>\n",
       "      <th>0</th>\n",
       "      <td>7590-VHVEG</td>\n",
       "      <td>Female</td>\n",
       "      <td>0</td>\n",
       "      <td>Yes</td>\n",
       "      <td>No</td>\n",
       "    </tr>\n",
       "    <tr>\n",
       "      <th>1</th>\n",
       "      <td>5575-GNVDE</td>\n",
       "      <td>Male</td>\n",
       "      <td>0</td>\n",
       "      <td>No</td>\n",
       "      <td>No</td>\n",
       "    </tr>\n",
       "    <tr>\n",
       "      <th>2</th>\n",
       "      <td>3668-QPYBK</td>\n",
       "      <td>Male</td>\n",
       "      <td>0</td>\n",
       "      <td>No</td>\n",
       "      <td>No</td>\n",
       "    </tr>\n",
       "    <tr>\n",
       "      <th>3</th>\n",
       "      <td>7795-CFOCW</td>\n",
       "      <td>Male</td>\n",
       "      <td>0</td>\n",
       "      <td>No</td>\n",
       "      <td>No</td>\n",
       "    </tr>\n",
       "    <tr>\n",
       "      <th>4</th>\n",
       "      <td>9237-HQITU</td>\n",
       "      <td>Female</td>\n",
       "      <td>0</td>\n",
       "      <td>No</td>\n",
       "      <td>No</td>\n",
       "    </tr>\n",
       "  </tbody>\n",
       "</table>\n",
       "</div>"
      ],
      "text/plain": [
       "   customerID  gender  SeniorCitizen Partner Dependents\n",
       "0  7590-VHVEG  Female              0     Yes         No\n",
       "1  5575-GNVDE    Male              0      No         No\n",
       "2  3668-QPYBK    Male              0      No         No\n",
       "3  7795-CFOCW    Male              0      No         No\n",
       "4  9237-HQITU  Female              0      No         No"
      ]
     },
     "metadata": {},
     "output_type": "display_data"
    },
    {
     "name": "stdout",
     "output_type": "stream",
     "text": [
      "<class 'pandas.core.frame.DataFrame'>\n",
      "RangeIndex: 7043 entries, 0 to 7042\n",
      "Data columns (total 5 columns):\n",
      " #   Column         Non-Null Count  Dtype \n",
      "---  ------         --------------  ----- \n",
      " 0   customerID     7043 non-null   object\n",
      " 1   gender         7043 non-null   object\n",
      " 2   SeniorCitizen  7043 non-null   int64 \n",
      " 3   Partner        7043 non-null   object\n",
      " 4   Dependents     7043 non-null   object\n",
      "dtypes: int64(1), object(4)\n",
      "memory usage: 275.2+ KB\n",
      "None\n",
      "\n"
     ]
    },
    {
     "data": {
      "text/html": [
       "<div>\n",
       "<style scoped>\n",
       "    .dataframe tbody tr th:only-of-type {\n",
       "        vertical-align: middle;\n",
       "    }\n",
       "\n",
       "    .dataframe tbody tr th {\n",
       "        vertical-align: top;\n",
       "    }\n",
       "\n",
       "    .dataframe thead th {\n",
       "        text-align: right;\n",
       "    }\n",
       "</style>\n",
       "<table border=\"1\" class=\"dataframe\">\n",
       "  <thead>\n",
       "    <tr style=\"text-align: right;\">\n",
       "      <th></th>\n",
       "      <th>customerID</th>\n",
       "      <th>InternetService</th>\n",
       "      <th>OnlineSecurity</th>\n",
       "      <th>OnlineBackup</th>\n",
       "      <th>DeviceProtection</th>\n",
       "      <th>TechSupport</th>\n",
       "      <th>StreamingTV</th>\n",
       "      <th>StreamingMovies</th>\n",
       "    </tr>\n",
       "  </thead>\n",
       "  <tbody>\n",
       "    <tr>\n",
       "      <th>0</th>\n",
       "      <td>7590-VHVEG</td>\n",
       "      <td>DSL</td>\n",
       "      <td>No</td>\n",
       "      <td>Yes</td>\n",
       "      <td>No</td>\n",
       "      <td>No</td>\n",
       "      <td>No</td>\n",
       "      <td>No</td>\n",
       "    </tr>\n",
       "    <tr>\n",
       "      <th>1</th>\n",
       "      <td>5575-GNVDE</td>\n",
       "      <td>DSL</td>\n",
       "      <td>Yes</td>\n",
       "      <td>No</td>\n",
       "      <td>Yes</td>\n",
       "      <td>No</td>\n",
       "      <td>No</td>\n",
       "      <td>No</td>\n",
       "    </tr>\n",
       "    <tr>\n",
       "      <th>2</th>\n",
       "      <td>3668-QPYBK</td>\n",
       "      <td>DSL</td>\n",
       "      <td>Yes</td>\n",
       "      <td>Yes</td>\n",
       "      <td>No</td>\n",
       "      <td>No</td>\n",
       "      <td>No</td>\n",
       "      <td>No</td>\n",
       "    </tr>\n",
       "    <tr>\n",
       "      <th>3</th>\n",
       "      <td>7795-CFOCW</td>\n",
       "      <td>DSL</td>\n",
       "      <td>Yes</td>\n",
       "      <td>No</td>\n",
       "      <td>Yes</td>\n",
       "      <td>Yes</td>\n",
       "      <td>No</td>\n",
       "      <td>No</td>\n",
       "    </tr>\n",
       "    <tr>\n",
       "      <th>4</th>\n",
       "      <td>9237-HQITU</td>\n",
       "      <td>Fiber optic</td>\n",
       "      <td>No</td>\n",
       "      <td>No</td>\n",
       "      <td>No</td>\n",
       "      <td>No</td>\n",
       "      <td>No</td>\n",
       "      <td>No</td>\n",
       "    </tr>\n",
       "  </tbody>\n",
       "</table>\n",
       "</div>"
      ],
      "text/plain": [
       "   customerID InternetService OnlineSecurity OnlineBackup DeviceProtection  \\\n",
       "0  7590-VHVEG             DSL             No          Yes               No   \n",
       "1  5575-GNVDE             DSL            Yes           No              Yes   \n",
       "2  3668-QPYBK             DSL            Yes          Yes               No   \n",
       "3  7795-CFOCW             DSL            Yes           No              Yes   \n",
       "4  9237-HQITU     Fiber optic             No           No               No   \n",
       "\n",
       "  TechSupport StreamingTV StreamingMovies  \n",
       "0          No          No              No  \n",
       "1          No          No              No  \n",
       "2          No          No              No  \n",
       "3         Yes          No              No  \n",
       "4          No          No              No  "
      ]
     },
     "metadata": {},
     "output_type": "display_data"
    },
    {
     "name": "stdout",
     "output_type": "stream",
     "text": [
      "<class 'pandas.core.frame.DataFrame'>\n",
      "RangeIndex: 5517 entries, 0 to 5516\n",
      "Data columns (total 8 columns):\n",
      " #   Column            Non-Null Count  Dtype \n",
      "---  ------            --------------  ----- \n",
      " 0   customerID        5517 non-null   object\n",
      " 1   InternetService   5517 non-null   object\n",
      " 2   OnlineSecurity    5517 non-null   object\n",
      " 3   OnlineBackup      5517 non-null   object\n",
      " 4   DeviceProtection  5517 non-null   object\n",
      " 5   TechSupport       5517 non-null   object\n",
      " 6   StreamingTV       5517 non-null   object\n",
      " 7   StreamingMovies   5517 non-null   object\n",
      "dtypes: object(8)\n",
      "memory usage: 344.9+ KB\n",
      "None\n"
     ]
    },
    {
     "data": {
      "text/html": [
       "<div>\n",
       "<style scoped>\n",
       "    .dataframe tbody tr th:only-of-type {\n",
       "        vertical-align: middle;\n",
       "    }\n",
       "\n",
       "    .dataframe tbody tr th {\n",
       "        vertical-align: top;\n",
       "    }\n",
       "\n",
       "    .dataframe thead th {\n",
       "        text-align: right;\n",
       "    }\n",
       "</style>\n",
       "<table border=\"1\" class=\"dataframe\">\n",
       "  <thead>\n",
       "    <tr style=\"text-align: right;\">\n",
       "      <th></th>\n",
       "      <th>customerID</th>\n",
       "      <th>MultipleLines</th>\n",
       "    </tr>\n",
       "  </thead>\n",
       "  <tbody>\n",
       "    <tr>\n",
       "      <th>0</th>\n",
       "      <td>5575-GNVDE</td>\n",
       "      <td>No</td>\n",
       "    </tr>\n",
       "    <tr>\n",
       "      <th>1</th>\n",
       "      <td>3668-QPYBK</td>\n",
       "      <td>No</td>\n",
       "    </tr>\n",
       "    <tr>\n",
       "      <th>2</th>\n",
       "      <td>9237-HQITU</td>\n",
       "      <td>No</td>\n",
       "    </tr>\n",
       "    <tr>\n",
       "      <th>3</th>\n",
       "      <td>9305-CDSKC</td>\n",
       "      <td>Yes</td>\n",
       "    </tr>\n",
       "    <tr>\n",
       "      <th>4</th>\n",
       "      <td>1452-KIOVK</td>\n",
       "      <td>Yes</td>\n",
       "    </tr>\n",
       "  </tbody>\n",
       "</table>\n",
       "</div>"
      ],
      "text/plain": [
       "   customerID MultipleLines\n",
       "0  5575-GNVDE            No\n",
       "1  3668-QPYBK            No\n",
       "2  9237-HQITU            No\n",
       "3  9305-CDSKC           Yes\n",
       "4  1452-KIOVK           Yes"
      ]
     },
     "metadata": {},
     "output_type": "display_data"
    },
    {
     "name": "stdout",
     "output_type": "stream",
     "text": [
      "<class 'pandas.core.frame.DataFrame'>\n",
      "RangeIndex: 6361 entries, 0 to 6360\n",
      "Data columns (total 2 columns):\n",
      " #   Column         Non-Null Count  Dtype \n",
      "---  ------         --------------  ----- \n",
      " 0   customerID     6361 non-null   object\n",
      " 1   MultipleLines  6361 non-null   object\n",
      "dtypes: object(2)\n",
      "memory usage: 99.5+ KB\n",
      "None\n"
     ]
    }
   ],
   "source": [
    "display(contract.head())\n",
    "print(contract.info())\n",
    "print()\n",
    "display(personal.head())\n",
    "print(personal.info())\n",
    "print()\n",
    "display(internet.head())\n",
    "print(internet.info())\n",
    "display(phone.head())\n",
    "print(phone.info())"
   ]
  },
  {
   "cell_type": "markdown",
   "id": "0591b05b",
   "metadata": {},
   "source": [
    "**Выводы по предобработке данных**\n",
    "\n",
    "- Числа и даты были переведены в нужный тип данных\n",
    "- Создан столбец с целевым признаком\n",
    "- Дубликаты не обнаружены\n",
    "- Опечатки не обнаружены"
   ]
  },
  {
   "cell_type": "markdown",
   "id": "2cbbc135",
   "metadata": {},
   "source": [
    "## Исследовательский анализ данных"
   ]
  },
  {
   "cell_type": "markdown",
   "id": "85dde895",
   "metadata": {},
   "source": [
    "Для исследовательского анализа данных обьединим все датафреймы по столбцу **customerID** для более удобной дальнейшней работы."
   ]
  },
  {
   "cell_type": "code",
   "execution_count": 15,
   "id": "8eba8ece",
   "metadata": {},
   "outputs": [],
   "source": [
    "names = [contract, internet, personal, phone]\n",
    "data = reduce(lambda left,right: pd.merge(left, right, on=['customerID'], how='outer'), names)"
   ]
  },
  {
   "cell_type": "code",
   "execution_count": 16,
   "id": "5820b9ca",
   "metadata": {},
   "outputs": [
    {
     "data": {
      "text/html": [
       "<div>\n",
       "<style scoped>\n",
       "    .dataframe tbody tr th:only-of-type {\n",
       "        vertical-align: middle;\n",
       "    }\n",
       "\n",
       "    .dataframe tbody tr th {\n",
       "        vertical-align: top;\n",
       "    }\n",
       "\n",
       "    .dataframe thead th {\n",
       "        text-align: right;\n",
       "    }\n",
       "</style>\n",
       "<table border=\"1\" class=\"dataframe\">\n",
       "  <thead>\n",
       "    <tr style=\"text-align: right;\">\n",
       "      <th></th>\n",
       "      <th>customerID</th>\n",
       "      <th>BeginDate</th>\n",
       "      <th>EndDate</th>\n",
       "      <th>Type</th>\n",
       "      <th>PaperlessBilling</th>\n",
       "      <th>PaymentMethod</th>\n",
       "      <th>MonthlyCharges</th>\n",
       "      <th>TotalCharges</th>\n",
       "      <th>target</th>\n",
       "      <th>InternetService</th>\n",
       "      <th>...</th>\n",
       "      <th>OnlineBackup</th>\n",
       "      <th>DeviceProtection</th>\n",
       "      <th>TechSupport</th>\n",
       "      <th>StreamingTV</th>\n",
       "      <th>StreamingMovies</th>\n",
       "      <th>gender</th>\n",
       "      <th>SeniorCitizen</th>\n",
       "      <th>Partner</th>\n",
       "      <th>Dependents</th>\n",
       "      <th>MultipleLines</th>\n",
       "    </tr>\n",
       "  </thead>\n",
       "  <tbody>\n",
       "    <tr>\n",
       "      <th>0</th>\n",
       "      <td>7590-VHVEG</td>\n",
       "      <td>2020-01-01</td>\n",
       "      <td>2020-02-01</td>\n",
       "      <td>Month-to-month</td>\n",
       "      <td>Yes</td>\n",
       "      <td>Electronic check</td>\n",
       "      <td>29.85</td>\n",
       "      <td>31.04</td>\n",
       "      <td>0</td>\n",
       "      <td>DSL</td>\n",
       "      <td>...</td>\n",
       "      <td>Yes</td>\n",
       "      <td>No</td>\n",
       "      <td>No</td>\n",
       "      <td>No</td>\n",
       "      <td>No</td>\n",
       "      <td>Female</td>\n",
       "      <td>0</td>\n",
       "      <td>Yes</td>\n",
       "      <td>No</td>\n",
       "      <td>NaN</td>\n",
       "    </tr>\n",
       "    <tr>\n",
       "      <th>1</th>\n",
       "      <td>5575-GNVDE</td>\n",
       "      <td>2017-04-01</td>\n",
       "      <td>2020-02-01</td>\n",
       "      <td>One year</td>\n",
       "      <td>No</td>\n",
       "      <td>Mailed check</td>\n",
       "      <td>56.95</td>\n",
       "      <td>2071.84</td>\n",
       "      <td>0</td>\n",
       "      <td>DSL</td>\n",
       "      <td>...</td>\n",
       "      <td>No</td>\n",
       "      <td>Yes</td>\n",
       "      <td>No</td>\n",
       "      <td>No</td>\n",
       "      <td>No</td>\n",
       "      <td>Male</td>\n",
       "      <td>0</td>\n",
       "      <td>No</td>\n",
       "      <td>No</td>\n",
       "      <td>No</td>\n",
       "    </tr>\n",
       "    <tr>\n",
       "      <th>2</th>\n",
       "      <td>3668-QPYBK</td>\n",
       "      <td>2019-10-01</td>\n",
       "      <td>2020-02-01</td>\n",
       "      <td>Month-to-month</td>\n",
       "      <td>Yes</td>\n",
       "      <td>Mailed check</td>\n",
       "      <td>53.85</td>\n",
       "      <td>226.17</td>\n",
       "      <td>0</td>\n",
       "      <td>DSL</td>\n",
       "      <td>...</td>\n",
       "      <td>Yes</td>\n",
       "      <td>No</td>\n",
       "      <td>No</td>\n",
       "      <td>No</td>\n",
       "      <td>No</td>\n",
       "      <td>Male</td>\n",
       "      <td>0</td>\n",
       "      <td>No</td>\n",
       "      <td>No</td>\n",
       "      <td>No</td>\n",
       "    </tr>\n",
       "    <tr>\n",
       "      <th>3</th>\n",
       "      <td>7795-CFOCW</td>\n",
       "      <td>2016-05-01</td>\n",
       "      <td>2020-02-01</td>\n",
       "      <td>One year</td>\n",
       "      <td>No</td>\n",
       "      <td>Bank transfer (automatic)</td>\n",
       "      <td>42.30</td>\n",
       "      <td>1960.60</td>\n",
       "      <td>0</td>\n",
       "      <td>DSL</td>\n",
       "      <td>...</td>\n",
       "      <td>No</td>\n",
       "      <td>Yes</td>\n",
       "      <td>Yes</td>\n",
       "      <td>No</td>\n",
       "      <td>No</td>\n",
       "      <td>Male</td>\n",
       "      <td>0</td>\n",
       "      <td>No</td>\n",
       "      <td>No</td>\n",
       "      <td>NaN</td>\n",
       "    </tr>\n",
       "    <tr>\n",
       "      <th>4</th>\n",
       "      <td>9237-HQITU</td>\n",
       "      <td>2019-09-01</td>\n",
       "      <td>2020-02-01</td>\n",
       "      <td>Month-to-month</td>\n",
       "      <td>Yes</td>\n",
       "      <td>Electronic check</td>\n",
       "      <td>70.70</td>\n",
       "      <td>353.50</td>\n",
       "      <td>0</td>\n",
       "      <td>Fiber optic</td>\n",
       "      <td>...</td>\n",
       "      <td>No</td>\n",
       "      <td>No</td>\n",
       "      <td>No</td>\n",
       "      <td>No</td>\n",
       "      <td>No</td>\n",
       "      <td>Female</td>\n",
       "      <td>0</td>\n",
       "      <td>No</td>\n",
       "      <td>No</td>\n",
       "      <td>No</td>\n",
       "    </tr>\n",
       "  </tbody>\n",
       "</table>\n",
       "<p>5 rows × 21 columns</p>\n",
       "</div>"
      ],
      "text/plain": [
       "   customerID  BeginDate    EndDate            Type PaperlessBilling  \\\n",
       "0  7590-VHVEG 2020-01-01 2020-02-01  Month-to-month              Yes   \n",
       "1  5575-GNVDE 2017-04-01 2020-02-01        One year               No   \n",
       "2  3668-QPYBK 2019-10-01 2020-02-01  Month-to-month              Yes   \n",
       "3  7795-CFOCW 2016-05-01 2020-02-01        One year               No   \n",
       "4  9237-HQITU 2019-09-01 2020-02-01  Month-to-month              Yes   \n",
       "\n",
       "               PaymentMethod  MonthlyCharges  TotalCharges  target  \\\n",
       "0           Electronic check           29.85         31.04       0   \n",
       "1               Mailed check           56.95       2071.84       0   \n",
       "2               Mailed check           53.85        226.17       0   \n",
       "3  Bank transfer (automatic)           42.30       1960.60       0   \n",
       "4           Electronic check           70.70        353.50       0   \n",
       "\n",
       "  InternetService  ... OnlineBackup DeviceProtection TechSupport StreamingTV  \\\n",
       "0             DSL  ...          Yes               No          No          No   \n",
       "1             DSL  ...           No              Yes          No          No   \n",
       "2             DSL  ...          Yes               No          No          No   \n",
       "3             DSL  ...           No              Yes         Yes          No   \n",
       "4     Fiber optic  ...           No               No          No          No   \n",
       "\n",
       "  StreamingMovies  gender SeniorCitizen  Partner Dependents MultipleLines  \n",
       "0              No  Female             0      Yes         No           NaN  \n",
       "1              No    Male             0       No         No            No  \n",
       "2              No    Male             0       No         No            No  \n",
       "3              No    Male             0       No         No           NaN  \n",
       "4              No  Female             0       No         No            No  \n",
       "\n",
       "[5 rows x 21 columns]"
      ]
     },
     "metadata": {},
     "output_type": "display_data"
    },
    {
     "name": "stdout",
     "output_type": "stream",
     "text": [
      "\n",
      "<class 'pandas.core.frame.DataFrame'>\n",
      "Int64Index: 7043 entries, 0 to 7042\n",
      "Data columns (total 21 columns):\n",
      " #   Column            Non-Null Count  Dtype         \n",
      "---  ------            --------------  -----         \n",
      " 0   customerID        7043 non-null   object        \n",
      " 1   BeginDate         7043 non-null   datetime64[ns]\n",
      " 2   EndDate           7043 non-null   datetime64[ns]\n",
      " 3   Type              7043 non-null   object        \n",
      " 4   PaperlessBilling  7043 non-null   object        \n",
      " 5   PaymentMethod     7043 non-null   object        \n",
      " 6   MonthlyCharges    7043 non-null   float64       \n",
      " 7   TotalCharges      7032 non-null   float64       \n",
      " 8   target            7043 non-null   int64         \n",
      " 9   InternetService   5517 non-null   object        \n",
      " 10  OnlineSecurity    5517 non-null   object        \n",
      " 11  OnlineBackup      5517 non-null   object        \n",
      " 12  DeviceProtection  5517 non-null   object        \n",
      " 13  TechSupport       5517 non-null   object        \n",
      " 14  StreamingTV       5517 non-null   object        \n",
      " 15  StreamingMovies   5517 non-null   object        \n",
      " 16  gender            7043 non-null   object        \n",
      " 17  SeniorCitizen     7043 non-null   int64         \n",
      " 18  Partner           7043 non-null   object        \n",
      " 19  Dependents        7043 non-null   object        \n",
      " 20  MultipleLines     6361 non-null   object        \n",
      "dtypes: datetime64[ns](2), float64(2), int64(2), object(15)\n",
      "memory usage: 1.2+ MB\n"
     ]
    }
   ],
   "source": [
    "display(data.head())\n",
    "print()\n",
    "data.info()"
   ]
  },
  {
   "cell_type": "markdown",
   "id": "14a2a7e7",
   "metadata": {},
   "source": [
    "После объединения появились пропуски в данных."
   ]
  },
  {
   "cell_type": "code",
   "execution_count": 17,
   "id": "5829dc7f",
   "metadata": {},
   "outputs": [
    {
     "data": {
      "text/plain": [
       "customerID             0\n",
       "BeginDate              0\n",
       "EndDate                0\n",
       "Type                   0\n",
       "PaperlessBilling       0\n",
       "PaymentMethod          0\n",
       "MonthlyCharges         0\n",
       "TotalCharges          11\n",
       "target                 0\n",
       "InternetService     1526\n",
       "OnlineSecurity      1526\n",
       "OnlineBackup        1526\n",
       "DeviceProtection    1526\n",
       "TechSupport         1526\n",
       "StreamingTV         1526\n",
       "StreamingMovies     1526\n",
       "gender                 0\n",
       "SeniorCitizen          0\n",
       "Partner                0\n",
       "Dependents             0\n",
       "MultipleLines        682\n",
       "dtype: int64"
      ]
     },
     "execution_count": 17,
     "metadata": {},
     "output_type": "execute_result"
    }
   ],
   "source": [
    "data.isna().sum()"
   ]
  },
  {
   "cell_type": "markdown",
   "id": "ae130abd",
   "metadata": {},
   "source": [
    "Мы видим несколько столбцов с одинаковым количеством пропусков. Разберемся с ними поотдельности. \n",
    "\n",
    "Столбцы со значением пропусков 1526 - это пользователи, о которых не было никакой информации в датафрейме **Internet**. Скорее всего они просто не подключили данную услугу. \n",
    "\n",
    "Пропуски в столбце **MyltiplieLines** говорят что пользователь не пользовался услугами телефона. \n",
    "\n",
    "Заменим эти пропуски на фразы **no_internet** и **no_phone**."
   ]
  },
  {
   "cell_type": "code",
   "execution_count": 18,
   "id": "f3a42179",
   "metadata": {},
   "outputs": [],
   "source": [
    "data['MultipleLines'].fillna('no_phone', inplace = True)\n",
    "\n",
    "internet_columns = ['InternetService', 'OnlineSecurity', 'OnlineBackup', \n",
    "                   'DeviceProtection', 'TechSupport', 'StreamingTV', 'StreamingMovies']\n",
    "\n",
    "for column in internet_columns:\n",
    "    data[column].fillna('no_internet', inplace=True)"
   ]
  },
  {
   "cell_type": "code",
   "execution_count": 19,
   "id": "a087be9f",
   "metadata": {},
   "outputs": [
    {
     "data": {
      "text/plain": [
       "customerID           0\n",
       "BeginDate            0\n",
       "EndDate              0\n",
       "Type                 0\n",
       "PaperlessBilling     0\n",
       "PaymentMethod        0\n",
       "MonthlyCharges       0\n",
       "TotalCharges        11\n",
       "target               0\n",
       "InternetService      0\n",
       "OnlineSecurity       0\n",
       "OnlineBackup         0\n",
       "DeviceProtection     0\n",
       "TechSupport          0\n",
       "StreamingTV          0\n",
       "StreamingMovies      0\n",
       "gender               0\n",
       "SeniorCitizen        0\n",
       "Partner              0\n",
       "Dependents           0\n",
       "MultipleLines        0\n",
       "dtype: int64"
      ]
     },
     "execution_count": 19,
     "metadata": {},
     "output_type": "execute_result"
    }
   ],
   "source": [
    "data.isna().sum()"
   ]
  },
  {
   "cell_type": "markdown",
   "id": "6f2efc8d",
   "metadata": {},
   "source": [
    "Отдельно рассмотрим пропуски в столбце **TotalCharges**."
   ]
  },
  {
   "cell_type": "code",
   "execution_count": 20,
   "id": "2fad2a45",
   "metadata": {},
   "outputs": [
    {
     "data": {
      "text/html": [
       "<div>\n",
       "<style scoped>\n",
       "    .dataframe tbody tr th:only-of-type {\n",
       "        vertical-align: middle;\n",
       "    }\n",
       "\n",
       "    .dataframe tbody tr th {\n",
       "        vertical-align: top;\n",
       "    }\n",
       "\n",
       "    .dataframe thead th {\n",
       "        text-align: right;\n",
       "    }\n",
       "</style>\n",
       "<table border=\"1\" class=\"dataframe\">\n",
       "  <thead>\n",
       "    <tr style=\"text-align: right;\">\n",
       "      <th></th>\n",
       "      <th>customerID</th>\n",
       "      <th>BeginDate</th>\n",
       "      <th>EndDate</th>\n",
       "      <th>Type</th>\n",
       "      <th>PaperlessBilling</th>\n",
       "      <th>PaymentMethod</th>\n",
       "      <th>MonthlyCharges</th>\n",
       "      <th>TotalCharges</th>\n",
       "      <th>target</th>\n",
       "      <th>InternetService</th>\n",
       "      <th>...</th>\n",
       "      <th>OnlineBackup</th>\n",
       "      <th>DeviceProtection</th>\n",
       "      <th>TechSupport</th>\n",
       "      <th>StreamingTV</th>\n",
       "      <th>StreamingMovies</th>\n",
       "      <th>gender</th>\n",
       "      <th>SeniorCitizen</th>\n",
       "      <th>Partner</th>\n",
       "      <th>Dependents</th>\n",
       "      <th>MultipleLines</th>\n",
       "    </tr>\n",
       "  </thead>\n",
       "  <tbody>\n",
       "    <tr>\n",
       "      <th>488</th>\n",
       "      <td>4472-LVYGI</td>\n",
       "      <td>2020-02-01</td>\n",
       "      <td>2020-02-01</td>\n",
       "      <td>Two year</td>\n",
       "      <td>Yes</td>\n",
       "      <td>Bank transfer (automatic)</td>\n",
       "      <td>52.55</td>\n",
       "      <td>NaN</td>\n",
       "      <td>0</td>\n",
       "      <td>DSL</td>\n",
       "      <td>...</td>\n",
       "      <td>No</td>\n",
       "      <td>Yes</td>\n",
       "      <td>Yes</td>\n",
       "      <td>Yes</td>\n",
       "      <td>No</td>\n",
       "      <td>Female</td>\n",
       "      <td>0</td>\n",
       "      <td>Yes</td>\n",
       "      <td>Yes</td>\n",
       "      <td>no_phone</td>\n",
       "    </tr>\n",
       "    <tr>\n",
       "      <th>753</th>\n",
       "      <td>3115-CZMZD</td>\n",
       "      <td>2020-02-01</td>\n",
       "      <td>2020-02-01</td>\n",
       "      <td>Two year</td>\n",
       "      <td>No</td>\n",
       "      <td>Mailed check</td>\n",
       "      <td>20.25</td>\n",
       "      <td>NaN</td>\n",
       "      <td>0</td>\n",
       "      <td>no_internet</td>\n",
       "      <td>...</td>\n",
       "      <td>no_internet</td>\n",
       "      <td>no_internet</td>\n",
       "      <td>no_internet</td>\n",
       "      <td>no_internet</td>\n",
       "      <td>no_internet</td>\n",
       "      <td>Male</td>\n",
       "      <td>0</td>\n",
       "      <td>No</td>\n",
       "      <td>Yes</td>\n",
       "      <td>No</td>\n",
       "    </tr>\n",
       "    <tr>\n",
       "      <th>936</th>\n",
       "      <td>5709-LVOEQ</td>\n",
       "      <td>2020-02-01</td>\n",
       "      <td>2020-02-01</td>\n",
       "      <td>Two year</td>\n",
       "      <td>No</td>\n",
       "      <td>Mailed check</td>\n",
       "      <td>80.85</td>\n",
       "      <td>NaN</td>\n",
       "      <td>0</td>\n",
       "      <td>DSL</td>\n",
       "      <td>...</td>\n",
       "      <td>Yes</td>\n",
       "      <td>Yes</td>\n",
       "      <td>No</td>\n",
       "      <td>Yes</td>\n",
       "      <td>Yes</td>\n",
       "      <td>Female</td>\n",
       "      <td>0</td>\n",
       "      <td>Yes</td>\n",
       "      <td>Yes</td>\n",
       "      <td>No</td>\n",
       "    </tr>\n",
       "    <tr>\n",
       "      <th>1082</th>\n",
       "      <td>4367-NUYAO</td>\n",
       "      <td>2020-02-01</td>\n",
       "      <td>2020-02-01</td>\n",
       "      <td>Two year</td>\n",
       "      <td>No</td>\n",
       "      <td>Mailed check</td>\n",
       "      <td>25.75</td>\n",
       "      <td>NaN</td>\n",
       "      <td>0</td>\n",
       "      <td>no_internet</td>\n",
       "      <td>...</td>\n",
       "      <td>no_internet</td>\n",
       "      <td>no_internet</td>\n",
       "      <td>no_internet</td>\n",
       "      <td>no_internet</td>\n",
       "      <td>no_internet</td>\n",
       "      <td>Male</td>\n",
       "      <td>0</td>\n",
       "      <td>Yes</td>\n",
       "      <td>Yes</td>\n",
       "      <td>Yes</td>\n",
       "    </tr>\n",
       "    <tr>\n",
       "      <th>1340</th>\n",
       "      <td>1371-DWPAZ</td>\n",
       "      <td>2020-02-01</td>\n",
       "      <td>2020-02-01</td>\n",
       "      <td>Two year</td>\n",
       "      <td>No</td>\n",
       "      <td>Credit card (automatic)</td>\n",
       "      <td>56.05</td>\n",
       "      <td>NaN</td>\n",
       "      <td>0</td>\n",
       "      <td>DSL</td>\n",
       "      <td>...</td>\n",
       "      <td>Yes</td>\n",
       "      <td>Yes</td>\n",
       "      <td>Yes</td>\n",
       "      <td>Yes</td>\n",
       "      <td>No</td>\n",
       "      <td>Female</td>\n",
       "      <td>0</td>\n",
       "      <td>Yes</td>\n",
       "      <td>Yes</td>\n",
       "      <td>no_phone</td>\n",
       "    </tr>\n",
       "    <tr>\n",
       "      <th>3331</th>\n",
       "      <td>7644-OMVMY</td>\n",
       "      <td>2020-02-01</td>\n",
       "      <td>2020-02-01</td>\n",
       "      <td>Two year</td>\n",
       "      <td>No</td>\n",
       "      <td>Mailed check</td>\n",
       "      <td>19.85</td>\n",
       "      <td>NaN</td>\n",
       "      <td>0</td>\n",
       "      <td>no_internet</td>\n",
       "      <td>...</td>\n",
       "      <td>no_internet</td>\n",
       "      <td>no_internet</td>\n",
       "      <td>no_internet</td>\n",
       "      <td>no_internet</td>\n",
       "      <td>no_internet</td>\n",
       "      <td>Male</td>\n",
       "      <td>0</td>\n",
       "      <td>Yes</td>\n",
       "      <td>Yes</td>\n",
       "      <td>No</td>\n",
       "    </tr>\n",
       "    <tr>\n",
       "      <th>3826</th>\n",
       "      <td>3213-VVOLG</td>\n",
       "      <td>2020-02-01</td>\n",
       "      <td>2020-02-01</td>\n",
       "      <td>Two year</td>\n",
       "      <td>No</td>\n",
       "      <td>Mailed check</td>\n",
       "      <td>25.35</td>\n",
       "      <td>NaN</td>\n",
       "      <td>0</td>\n",
       "      <td>no_internet</td>\n",
       "      <td>...</td>\n",
       "      <td>no_internet</td>\n",
       "      <td>no_internet</td>\n",
       "      <td>no_internet</td>\n",
       "      <td>no_internet</td>\n",
       "      <td>no_internet</td>\n",
       "      <td>Male</td>\n",
       "      <td>0</td>\n",
       "      <td>Yes</td>\n",
       "      <td>Yes</td>\n",
       "      <td>Yes</td>\n",
       "    </tr>\n",
       "    <tr>\n",
       "      <th>4380</th>\n",
       "      <td>2520-SGTTA</td>\n",
       "      <td>2020-02-01</td>\n",
       "      <td>2020-02-01</td>\n",
       "      <td>Two year</td>\n",
       "      <td>No</td>\n",
       "      <td>Mailed check</td>\n",
       "      <td>20.00</td>\n",
       "      <td>NaN</td>\n",
       "      <td>0</td>\n",
       "      <td>no_internet</td>\n",
       "      <td>...</td>\n",
       "      <td>no_internet</td>\n",
       "      <td>no_internet</td>\n",
       "      <td>no_internet</td>\n",
       "      <td>no_internet</td>\n",
       "      <td>no_internet</td>\n",
       "      <td>Female</td>\n",
       "      <td>0</td>\n",
       "      <td>Yes</td>\n",
       "      <td>Yes</td>\n",
       "      <td>No</td>\n",
       "    </tr>\n",
       "    <tr>\n",
       "      <th>5218</th>\n",
       "      <td>2923-ARZLG</td>\n",
       "      <td>2020-02-01</td>\n",
       "      <td>2020-02-01</td>\n",
       "      <td>One year</td>\n",
       "      <td>Yes</td>\n",
       "      <td>Mailed check</td>\n",
       "      <td>19.70</td>\n",
       "      <td>NaN</td>\n",
       "      <td>0</td>\n",
       "      <td>no_internet</td>\n",
       "      <td>...</td>\n",
       "      <td>no_internet</td>\n",
       "      <td>no_internet</td>\n",
       "      <td>no_internet</td>\n",
       "      <td>no_internet</td>\n",
       "      <td>no_internet</td>\n",
       "      <td>Male</td>\n",
       "      <td>0</td>\n",
       "      <td>Yes</td>\n",
       "      <td>Yes</td>\n",
       "      <td>No</td>\n",
       "    </tr>\n",
       "    <tr>\n",
       "      <th>6670</th>\n",
       "      <td>4075-WKNIU</td>\n",
       "      <td>2020-02-01</td>\n",
       "      <td>2020-02-01</td>\n",
       "      <td>Two year</td>\n",
       "      <td>No</td>\n",
       "      <td>Mailed check</td>\n",
       "      <td>73.35</td>\n",
       "      <td>NaN</td>\n",
       "      <td>0</td>\n",
       "      <td>DSL</td>\n",
       "      <td>...</td>\n",
       "      <td>Yes</td>\n",
       "      <td>Yes</td>\n",
       "      <td>Yes</td>\n",
       "      <td>Yes</td>\n",
       "      <td>No</td>\n",
       "      <td>Female</td>\n",
       "      <td>0</td>\n",
       "      <td>Yes</td>\n",
       "      <td>Yes</td>\n",
       "      <td>Yes</td>\n",
       "    </tr>\n",
       "    <tr>\n",
       "      <th>6754</th>\n",
       "      <td>2775-SEFEE</td>\n",
       "      <td>2020-02-01</td>\n",
       "      <td>2020-02-01</td>\n",
       "      <td>Two year</td>\n",
       "      <td>Yes</td>\n",
       "      <td>Bank transfer (automatic)</td>\n",
       "      <td>61.90</td>\n",
       "      <td>NaN</td>\n",
       "      <td>0</td>\n",
       "      <td>DSL</td>\n",
       "      <td>...</td>\n",
       "      <td>Yes</td>\n",
       "      <td>No</td>\n",
       "      <td>Yes</td>\n",
       "      <td>No</td>\n",
       "      <td>No</td>\n",
       "      <td>Male</td>\n",
       "      <td>0</td>\n",
       "      <td>No</td>\n",
       "      <td>Yes</td>\n",
       "      <td>Yes</td>\n",
       "    </tr>\n",
       "  </tbody>\n",
       "</table>\n",
       "<p>11 rows × 21 columns</p>\n",
       "</div>"
      ],
      "text/plain": [
       "      customerID  BeginDate    EndDate      Type PaperlessBilling  \\\n",
       "488   4472-LVYGI 2020-02-01 2020-02-01  Two year              Yes   \n",
       "753   3115-CZMZD 2020-02-01 2020-02-01  Two year               No   \n",
       "936   5709-LVOEQ 2020-02-01 2020-02-01  Two year               No   \n",
       "1082  4367-NUYAO 2020-02-01 2020-02-01  Two year               No   \n",
       "1340  1371-DWPAZ 2020-02-01 2020-02-01  Two year               No   \n",
       "3331  7644-OMVMY 2020-02-01 2020-02-01  Two year               No   \n",
       "3826  3213-VVOLG 2020-02-01 2020-02-01  Two year               No   \n",
       "4380  2520-SGTTA 2020-02-01 2020-02-01  Two year               No   \n",
       "5218  2923-ARZLG 2020-02-01 2020-02-01  One year              Yes   \n",
       "6670  4075-WKNIU 2020-02-01 2020-02-01  Two year               No   \n",
       "6754  2775-SEFEE 2020-02-01 2020-02-01  Two year              Yes   \n",
       "\n",
       "                  PaymentMethod  MonthlyCharges  TotalCharges  target  \\\n",
       "488   Bank transfer (automatic)           52.55           NaN       0   \n",
       "753                Mailed check           20.25           NaN       0   \n",
       "936                Mailed check           80.85           NaN       0   \n",
       "1082               Mailed check           25.75           NaN       0   \n",
       "1340    Credit card (automatic)           56.05           NaN       0   \n",
       "3331               Mailed check           19.85           NaN       0   \n",
       "3826               Mailed check           25.35           NaN       0   \n",
       "4380               Mailed check           20.00           NaN       0   \n",
       "5218               Mailed check           19.70           NaN       0   \n",
       "6670               Mailed check           73.35           NaN       0   \n",
       "6754  Bank transfer (automatic)           61.90           NaN       0   \n",
       "\n",
       "     InternetService  ... OnlineBackup DeviceProtection  TechSupport  \\\n",
       "488              DSL  ...           No              Yes          Yes   \n",
       "753      no_internet  ...  no_internet      no_internet  no_internet   \n",
       "936              DSL  ...          Yes              Yes           No   \n",
       "1082     no_internet  ...  no_internet      no_internet  no_internet   \n",
       "1340             DSL  ...          Yes              Yes          Yes   \n",
       "3331     no_internet  ...  no_internet      no_internet  no_internet   \n",
       "3826     no_internet  ...  no_internet      no_internet  no_internet   \n",
       "4380     no_internet  ...  no_internet      no_internet  no_internet   \n",
       "5218     no_internet  ...  no_internet      no_internet  no_internet   \n",
       "6670             DSL  ...          Yes              Yes          Yes   \n",
       "6754             DSL  ...          Yes               No          Yes   \n",
       "\n",
       "      StreamingTV StreamingMovies  gender SeniorCitizen  Partner Dependents  \\\n",
       "488           Yes              No  Female             0      Yes        Yes   \n",
       "753   no_internet     no_internet    Male             0       No        Yes   \n",
       "936           Yes             Yes  Female             0      Yes        Yes   \n",
       "1082  no_internet     no_internet    Male             0      Yes        Yes   \n",
       "1340          Yes              No  Female             0      Yes        Yes   \n",
       "3331  no_internet     no_internet    Male             0      Yes        Yes   \n",
       "3826  no_internet     no_internet    Male             0      Yes        Yes   \n",
       "4380  no_internet     no_internet  Female             0      Yes        Yes   \n",
       "5218  no_internet     no_internet    Male             0      Yes        Yes   \n",
       "6670          Yes              No  Female             0      Yes        Yes   \n",
       "6754           No              No    Male             0       No        Yes   \n",
       "\n",
       "     MultipleLines  \n",
       "488       no_phone  \n",
       "753             No  \n",
       "936             No  \n",
       "1082           Yes  \n",
       "1340      no_phone  \n",
       "3331            No  \n",
       "3826           Yes  \n",
       "4380            No  \n",
       "5218            No  \n",
       "6670           Yes  \n",
       "6754           Yes  \n",
       "\n",
       "[11 rows x 21 columns]"
      ]
     },
     "execution_count": 20,
     "metadata": {},
     "output_type": "execute_result"
    }
   ],
   "source": [
    "data[data['TotalCharges'].isna()]"
   ]
  },
  {
   "cell_type": "markdown",
   "id": "9e1b4aa2",
   "metadata": {},
   "source": [
    "Даты в столбцах **BeginDate** и **EndDate** совпадают. Из этого можно сделать вывод, что данные абоненты еще не успели оплатить услуги, так как заключили договор в день сбора данных. Заполним пропуски ежемесячным платежом **MonthlyCharges**."
   ]
  },
  {
   "cell_type": "code",
   "execution_count": 21,
   "id": "3e6f1086",
   "metadata": {},
   "outputs": [],
   "source": [
    "data['TotalCharges'].fillna(data[data['TotalCharges'].isnull()]['MonthlyCharges'], inplace = True)"
   ]
  },
  {
   "cell_type": "markdown",
   "id": "ec2be4d9",
   "metadata": {},
   "source": [
    "Создадим новый столбец **period** с количеством дней, которые пользователи пользуются подпиской."
   ]
  },
  {
   "cell_type": "code",
   "execution_count": 22,
   "id": "4f417d1d",
   "metadata": {},
   "outputs": [],
   "source": [
    "data['period']=(data['EndDate']-data['BeginDate'])/np.timedelta64(1,'D')"
   ]
  },
  {
   "cell_type": "markdown",
   "id": "51079588",
   "metadata": {},
   "source": [
    "Проверим все изменения."
   ]
  },
  {
   "cell_type": "code",
   "execution_count": 23,
   "id": "b67d6655",
   "metadata": {},
   "outputs": [
    {
     "name": "stdout",
     "output_type": "stream",
     "text": [
      "<class 'pandas.core.frame.DataFrame'>\n",
      "Int64Index: 7043 entries, 0 to 7042\n",
      "Data columns (total 22 columns):\n",
      " #   Column            Non-Null Count  Dtype         \n",
      "---  ------            --------------  -----         \n",
      " 0   customerID        7043 non-null   object        \n",
      " 1   BeginDate         7043 non-null   datetime64[ns]\n",
      " 2   EndDate           7043 non-null   datetime64[ns]\n",
      " 3   Type              7043 non-null   object        \n",
      " 4   PaperlessBilling  7043 non-null   object        \n",
      " 5   PaymentMethod     7043 non-null   object        \n",
      " 6   MonthlyCharges    7043 non-null   float64       \n",
      " 7   TotalCharges      7043 non-null   float64       \n",
      " 8   target            7043 non-null   int64         \n",
      " 9   InternetService   7043 non-null   object        \n",
      " 10  OnlineSecurity    7043 non-null   object        \n",
      " 11  OnlineBackup      7043 non-null   object        \n",
      " 12  DeviceProtection  7043 non-null   object        \n",
      " 13  TechSupport       7043 non-null   object        \n",
      " 14  StreamingTV       7043 non-null   object        \n",
      " 15  StreamingMovies   7043 non-null   object        \n",
      " 16  gender            7043 non-null   object        \n",
      " 17  SeniorCitizen     7043 non-null   int64         \n",
      " 18  Partner           7043 non-null   object        \n",
      " 19  Dependents        7043 non-null   object        \n",
      " 20  MultipleLines     7043 non-null   object        \n",
      " 21  period            7043 non-null   float64       \n",
      "dtypes: datetime64[ns](2), float64(3), int64(2), object(15)\n",
      "memory usage: 1.2+ MB\n"
     ]
    }
   ],
   "source": [
    "data.info()"
   ]
  },
  {
   "cell_type": "markdown",
   "id": "a3b7019b",
   "metadata": {},
   "source": [
    "После того, как все пропуски были заполнены, можно приступить к визуализации данных.\n",
    "\n",
    "Создадим гистограммы для численных данных и круговые диаграммы для категориальных."
   ]
  },
  {
   "cell_type": "code",
   "execution_count": 24,
   "id": "4ccca6a6",
   "metadata": {
    "scrolled": true
   },
   "outputs": [
    {
     "name": "stdout",
     "output_type": "stream",
     "text": [
      "Гистаграммы для всех числовых переменных:\n",
      "\n"
     ]
    },
    {
     "data": {
      "image/png": "[encoded data removed]",
      "text/plain": [
       "<Figure size 864x576 with 3 Axes>"
      ]
     },
     "metadata": {
      "needs_background": "light"
     },
     "output_type": "display_data"
    }
   ],
   "source": [
    "print('Гистаграммы для всех числовых переменных:\\n')\n",
    "\n",
    "# Найдем числовые столбцы в датафрейме\n",
    "numerical_columns = ['MonthlyCharges', 'TotalCharges','period']\n",
    "\n",
    "# Зададим размер фигуры для удобства визуализации\n",
    "plt.figure(figsize=(12, 8))\n",
    "\n",
    "# Цикл для итерации по каждому числовому столбцу\n",
    "for i, column in enumerate(numerical_columns):\n",
    "    # Создаем subplot для текущего столбца\n",
    "    plt.subplot(2, 3, i + 1)  # 2 строки, 3 столбца, текущий график\n",
    "    \n",
    "    # Строим гистограмму для текущего столбца\n",
    "    data[column].hist(bins=50)\n",
    "    \n",
    "    # Добавляем заголовок с названием столбца\n",
    "    plt.title(column)\n",
    "    \n",
    "    # Добавляем метки для осей\n",
    "    plt.xlabel(column)\n",
    "    plt.ylabel('Частота')\n",
    "\n",
    "# Отображаем все гистограммы\n",
    "plt.tight_layout()\n",
    "plt.show()"
   ]
  },
  {
   "cell_type": "code",
   "execution_count": 25,
   "id": "24a37fa8",
   "metadata": {},
   "outputs": [
    {
     "name": "stdout",
     "output_type": "stream",
     "text": [
      "Круговые диаграммы для всех категориальных переменных:\n",
      "\n"
     ]
    },
    {
     "data": {
      "image/png": "[encoded data removed]",
      "text/plain": [
       "<Figure size 720x720 with 16 Axes>"
      ]
     },
     "metadata": {},
     "output_type": "display_data"
    }
   ],
   "source": [
    "print('Круговые диаграммы для всех категориальных переменных:\\n')\n",
    "\n",
    "# Список столбцов, для которых нужно вывести круговые диаграммы\n",
    "categorical_columns = [col for col in data.columns if col not in numerical_columns and col != 'BeginDate' and col != 'customerID' and col != 'EndDate']\n",
    "\n",
    "# Зададим размер фигуры для удобства визуализации\n",
    "plt.figure(figsize=(10, 10))\n",
    "\n",
    "# Цикл для итерации по каждому столбцу\n",
    "for i, column in enumerate(categorical_columns):\n",
    "    # Создаем subplot для текущего столбца\n",
    "    plt.subplot(6, 3, i + 1)  # 3 строки, 2 столбца, текущий график\n",
    "    \n",
    "    # Подсчитываем количество каждого уникального значения в текущем столбце\n",
    "    column_data = data[column].value_counts()\n",
    "    \n",
    "    # Строим круговую диаграмму для текущего столбца\n",
    "    plt.pie(column_data, labels=column_data.index, autopct='%1.1f%%')\n",
    "    \n",
    "    # Добавляем заголовок с названием столбца\n",
    "    plt.title(column)\n",
    "\n",
    "# Отображаем все круговые диаграммы\n",
    "plt.tight_layout()\n",
    "plt.show()"
   ]
  },
  {
   "cell_type": "markdown",
   "id": "29d4320d",
   "metadata": {},
   "source": [
    "**Выводы по исследовательскому анализу данных**\n",
    "\n",
    "- В данных выбросов не обнаружено.\n",
    "- Месячные оплаты распределены таким образом, что основная часть пользователей платят 20 долларов, видимо, это цена минимальной подписки.\n",
    "- Дальше помесячная оплата распределена более равномерно с пиками сумм 50, 60, 70, 80, 90, 100 и 110 долларов.\n",
    "- В гистограмме **period** мы видим, что новых пользователей, которые пользуются подпиской первый год, больше. Однако есть и достаточно большое количесво пользователей, которые пользуются подпиской более 5 с половиной лет.\n",
    "- Чуть больше половины пользователей предпочитаю **помесячную оплату** подписки.\n",
    "- У 21% пользователей не подключена дополнительная услуга интернета.\n",
    "- Количество пользователей мужчин и женщин практически одинаковое. \n",
    "- 16% пользователей - это жители пенсионного возраста.\n",
    "- **15% процентов пользователей не продлили подписку**."
   ]
  },
  {
   "cell_type": "markdown",
   "id": "7e9b7be4",
   "metadata": {},
   "source": [
    "## Корреляционный анализ данных"
   ]
  },
  {
   "cell_type": "markdown",
   "id": "9c793c8d",
   "metadata": {},
   "source": [
    "Проведем корреляционный анализ всех признаков в датасете и отберем те, которые влияют на целевую переменную.\n",
    "\n",
    "Сначала сделаем копию данных и уберем столбец **customerID**, **EndDate** (так как на основе этого столбца формировали target) и **BeginDate** (так как на основе этого столбца формировали period)."
   ]
  },
  {
   "cell_type": "code",
   "execution_count": 26,
   "id": "4a766950",
   "metadata": {},
   "outputs": [],
   "source": [
    "data_corr = data.copy()\n",
    "data_corr = data_corr.drop(columns=['customerID', 'EndDate', 'BeginDate'])"
   ]
  },
  {
   "cell_type": "markdown",
   "id": "1b12d8cb",
   "metadata": {},
   "source": [
    "Построим матрицу корреляции phik."
   ]
  },
  {
   "cell_type": "code",
   "execution_count": 27,
   "id": "9b81d09f",
   "metadata": {},
   "outputs": [
    {
     "name": "stdout",
     "output_type": "stream",
     "text": [
      "interval columns not set, guessing: ['MonthlyCharges', 'TotalCharges', 'target', 'SeniorCitizen', 'period']\n"
     ]
    },
    {
     "data": {
      "text/html": [
       "<div>\n",
       "<style scoped>\n",
       "    .dataframe tbody tr th:only-of-type {\n",
       "        vertical-align: middle;\n",
       "    }\n",
       "\n",
       "    .dataframe tbody tr th {\n",
       "        vertical-align: top;\n",
       "    }\n",
       "\n",
       "    .dataframe thead th {\n",
       "        text-align: right;\n",
       "    }\n",
       "</style>\n",
       "<table border=\"1\" class=\"dataframe\">\n",
       "  <thead>\n",
       "    <tr style=\"text-align: right;\">\n",
       "      <th></th>\n",
       "      <th>Type</th>\n",
       "      <th>PaperlessBilling</th>\n",
       "      <th>PaymentMethod</th>\n",
       "      <th>MonthlyCharges</th>\n",
       "      <th>TotalCharges</th>\n",
       "      <th>target</th>\n",
       "      <th>InternetService</th>\n",
       "      <th>OnlineSecurity</th>\n",
       "      <th>OnlineBackup</th>\n",
       "      <th>DeviceProtection</th>\n",
       "      <th>TechSupport</th>\n",
       "      <th>StreamingTV</th>\n",
       "      <th>StreamingMovies</th>\n",
       "      <th>gender</th>\n",
       "      <th>SeniorCitizen</th>\n",
       "      <th>Partner</th>\n",
       "      <th>Dependents</th>\n",
       "      <th>MultipleLines</th>\n",
       "      <th>period</th>\n",
       "    </tr>\n",
       "  </thead>\n",
       "  <tbody>\n",
       "    <tr>\n",
       "      <th>Type</th>\n",
       "      <td>1.00</td>\n",
       "      <td>0.11</td>\n",
       "      <td>0.28</td>\n",
       "      <td>0.39</td>\n",
       "      <td>0.47</td>\n",
       "      <td>0.09</td>\n",
       "      <td>0.51</td>\n",
       "      <td>0.64</td>\n",
       "      <td>0.58</td>\n",
       "      <td>0.63</td>\n",
       "      <td>0.67</td>\n",
       "      <td>0.55</td>\n",
       "      <td>0.55</td>\n",
       "      <td>0.00</td>\n",
       "      <td>0.09</td>\n",
       "      <td>0.18</td>\n",
       "      <td>0.15</td>\n",
       "      <td>0.24</td>\n",
       "      <td>0.63</td>\n",
       "    </tr>\n",
       "    <tr>\n",
       "      <th>PaperlessBilling</th>\n",
       "      <td>0.11</td>\n",
       "      <td>1.00</td>\n",
       "      <td>0.37</td>\n",
       "      <td>0.47</td>\n",
       "      <td>0.20</td>\n",
       "      <td>0.08</td>\n",
       "      <td>0.23</td>\n",
       "      <td>0.21</td>\n",
       "      <td>0.20</td>\n",
       "      <td>0.20</td>\n",
       "      <td>0.20</td>\n",
       "      <td>0.20</td>\n",
       "      <td>0.20</td>\n",
       "      <td>0.00</td>\n",
       "      <td>0.24</td>\n",
       "      <td>0.01</td>\n",
       "      <td>0.17</td>\n",
       "      <td>0.10</td>\n",
       "      <td>0.03</td>\n",
       "    </tr>\n",
       "    <tr>\n",
       "      <th>PaymentMethod</th>\n",
       "      <td>0.28</td>\n",
       "      <td>0.37</td>\n",
       "      <td>1.00</td>\n",
       "      <td>0.40</td>\n",
       "      <td>0.34</td>\n",
       "      <td>0.21</td>\n",
       "      <td>0.32</td>\n",
       "      <td>0.32</td>\n",
       "      <td>0.29</td>\n",
       "      <td>0.30</td>\n",
       "      <td>0.32</td>\n",
       "      <td>0.28</td>\n",
       "      <td>0.29</td>\n",
       "      <td>0.00</td>\n",
       "      <td>0.29</td>\n",
       "      <td>0.24</td>\n",
       "      <td>0.22</td>\n",
       "      <td>0.17</td>\n",
       "      <td>0.35</td>\n",
       "    </tr>\n",
       "    <tr>\n",
       "      <th>MonthlyCharges</th>\n",
       "      <td>0.39</td>\n",
       "      <td>0.47</td>\n",
       "      <td>0.40</td>\n",
       "      <td>1.00</td>\n",
       "      <td>0.71</td>\n",
       "      <td>0.23</td>\n",
       "      <td>0.92</td>\n",
       "      <td>0.81</td>\n",
       "      <td>0.82</td>\n",
       "      <td>0.83</td>\n",
       "      <td>0.82</td>\n",
       "      <td>0.86</td>\n",
       "      <td>0.86</td>\n",
       "      <td>0.01</td>\n",
       "      <td>0.30</td>\n",
       "      <td>0.20</td>\n",
       "      <td>0.18</td>\n",
       "      <td>0.71</td>\n",
       "      <td>0.39</td>\n",
       "    </tr>\n",
       "    <tr>\n",
       "      <th>TotalCharges</th>\n",
       "      <td>0.47</td>\n",
       "      <td>0.20</td>\n",
       "      <td>0.34</td>\n",
       "      <td>0.71</td>\n",
       "      <td>1.00</td>\n",
       "      <td>0.30</td>\n",
       "      <td>0.49</td>\n",
       "      <td>0.52</td>\n",
       "      <td>0.55</td>\n",
       "      <td>0.56</td>\n",
       "      <td>0.53</td>\n",
       "      <td>0.56</td>\n",
       "      <td>0.55</td>\n",
       "      <td>0.00</td>\n",
       "      <td>0.14</td>\n",
       "      <td>0.38</td>\n",
       "      <td>0.08</td>\n",
       "      <td>0.47</td>\n",
       "      <td>0.85</td>\n",
       "    </tr>\n",
       "    <tr>\n",
       "      <th>target</th>\n",
       "      <td>0.09</td>\n",
       "      <td>0.08</td>\n",
       "      <td>0.21</td>\n",
       "      <td>0.23</td>\n",
       "      <td>0.30</td>\n",
       "      <td>1.00</td>\n",
       "      <td>0.06</td>\n",
       "      <td>0.06</td>\n",
       "      <td>0.09</td>\n",
       "      <td>0.09</td>\n",
       "      <td>0.05</td>\n",
       "      <td>0.08</td>\n",
       "      <td>0.09</td>\n",
       "      <td>0.01</td>\n",
       "      <td>0.09</td>\n",
       "      <td>0.23</td>\n",
       "      <td>0.05</td>\n",
       "      <td>0.11</td>\n",
       "      <td>0.37</td>\n",
       "    </tr>\n",
       "    <tr>\n",
       "      <th>InternetService</th>\n",
       "      <td>0.51</td>\n",
       "      <td>0.23</td>\n",
       "      <td>0.32</td>\n",
       "      <td>0.92</td>\n",
       "      <td>0.49</td>\n",
       "      <td>0.06</td>\n",
       "      <td>1.00</td>\n",
       "      <td>0.95</td>\n",
       "      <td>0.94</td>\n",
       "      <td>0.94</td>\n",
       "      <td>0.95</td>\n",
       "      <td>0.95</td>\n",
       "      <td>0.95</td>\n",
       "      <td>0.00</td>\n",
       "      <td>0.16</td>\n",
       "      <td>0.00</td>\n",
       "      <td>0.11</td>\n",
       "      <td>0.74</td>\n",
       "      <td>0.06</td>\n",
       "    </tr>\n",
       "    <tr>\n",
       "      <th>OnlineSecurity</th>\n",
       "      <td>0.64</td>\n",
       "      <td>0.21</td>\n",
       "      <td>0.32</td>\n",
       "      <td>0.81</td>\n",
       "      <td>0.52</td>\n",
       "      <td>0.06</td>\n",
       "      <td>0.95</td>\n",
       "      <td>1.00</td>\n",
       "      <td>0.95</td>\n",
       "      <td>0.95</td>\n",
       "      <td>0.95</td>\n",
       "      <td>0.94</td>\n",
       "      <td>0.94</td>\n",
       "      <td>0.00</td>\n",
       "      <td>0.13</td>\n",
       "      <td>0.09</td>\n",
       "      <td>0.12</td>\n",
       "      <td>0.54</td>\n",
       "      <td>0.35</td>\n",
       "    </tr>\n",
       "    <tr>\n",
       "      <th>OnlineBackup</th>\n",
       "      <td>0.58</td>\n",
       "      <td>0.20</td>\n",
       "      <td>0.29</td>\n",
       "      <td>0.82</td>\n",
       "      <td>0.55</td>\n",
       "      <td>0.09</td>\n",
       "      <td>0.94</td>\n",
       "      <td>0.95</td>\n",
       "      <td>1.00</td>\n",
       "      <td>0.95</td>\n",
       "      <td>0.95</td>\n",
       "      <td>0.95</td>\n",
       "      <td>0.95</td>\n",
       "      <td>0.00</td>\n",
       "      <td>0.11</td>\n",
       "      <td>0.09</td>\n",
       "      <td>0.10</td>\n",
       "      <td>0.56</td>\n",
       "      <td>0.37</td>\n",
       "    </tr>\n",
       "    <tr>\n",
       "      <th>DeviceProtection</th>\n",
       "      <td>0.63</td>\n",
       "      <td>0.20</td>\n",
       "      <td>0.30</td>\n",
       "      <td>0.83</td>\n",
       "      <td>0.56</td>\n",
       "      <td>0.09</td>\n",
       "      <td>0.94</td>\n",
       "      <td>0.95</td>\n",
       "      <td>0.95</td>\n",
       "      <td>1.00</td>\n",
       "      <td>0.95</td>\n",
       "      <td>0.95</td>\n",
       "      <td>0.95</td>\n",
       "      <td>0.00</td>\n",
       "      <td>0.11</td>\n",
       "      <td>0.10</td>\n",
       "      <td>0.09</td>\n",
       "      <td>0.56</td>\n",
       "      <td>0.37</td>\n",
       "    </tr>\n",
       "    <tr>\n",
       "      <th>TechSupport</th>\n",
       "      <td>0.67</td>\n",
       "      <td>0.20</td>\n",
       "      <td>0.32</td>\n",
       "      <td>0.82</td>\n",
       "      <td>0.53</td>\n",
       "      <td>0.05</td>\n",
       "      <td>0.95</td>\n",
       "      <td>0.95</td>\n",
       "      <td>0.95</td>\n",
       "      <td>0.95</td>\n",
       "      <td>1.00</td>\n",
       "      <td>0.95</td>\n",
       "      <td>0.95</td>\n",
       "      <td>0.00</td>\n",
       "      <td>0.14</td>\n",
       "      <td>0.08</td>\n",
       "      <td>0.11</td>\n",
       "      <td>0.54</td>\n",
       "      <td>0.35</td>\n",
       "    </tr>\n",
       "    <tr>\n",
       "      <th>StreamingTV</th>\n",
       "      <td>0.55</td>\n",
       "      <td>0.20</td>\n",
       "      <td>0.28</td>\n",
       "      <td>0.86</td>\n",
       "      <td>0.56</td>\n",
       "      <td>0.08</td>\n",
       "      <td>0.95</td>\n",
       "      <td>0.94</td>\n",
       "      <td>0.95</td>\n",
       "      <td>0.95</td>\n",
       "      <td>0.95</td>\n",
       "      <td>1.00</td>\n",
       "      <td>0.97</td>\n",
       "      <td>0.00</td>\n",
       "      <td>0.11</td>\n",
       "      <td>0.08</td>\n",
       "      <td>0.09</td>\n",
       "      <td>0.59</td>\n",
       "      <td>0.31</td>\n",
       "    </tr>\n",
       "    <tr>\n",
       "      <th>StreamingMovies</th>\n",
       "      <td>0.55</td>\n",
       "      <td>0.20</td>\n",
       "      <td>0.29</td>\n",
       "      <td>0.86</td>\n",
       "      <td>0.55</td>\n",
       "      <td>0.09</td>\n",
       "      <td>0.95</td>\n",
       "      <td>0.94</td>\n",
       "      <td>0.95</td>\n",
       "      <td>0.95</td>\n",
       "      <td>0.95</td>\n",
       "      <td>0.97</td>\n",
       "      <td>1.00</td>\n",
       "      <td>0.00</td>\n",
       "      <td>0.11</td>\n",
       "      <td>0.08</td>\n",
       "      <td>0.08</td>\n",
       "      <td>0.59</td>\n",
       "      <td>0.31</td>\n",
       "    </tr>\n",
       "    <tr>\n",
       "      <th>gender</th>\n",
       "      <td>0.00</td>\n",
       "      <td>0.00</td>\n",
       "      <td>0.00</td>\n",
       "      <td>0.01</td>\n",
       "      <td>0.00</td>\n",
       "      <td>0.01</td>\n",
       "      <td>0.00</td>\n",
       "      <td>0.00</td>\n",
       "      <td>0.00</td>\n",
       "      <td>0.00</td>\n",
       "      <td>0.00</td>\n",
       "      <td>0.00</td>\n",
       "      <td>0.00</td>\n",
       "      <td>1.00</td>\n",
       "      <td>0.00</td>\n",
       "      <td>0.00</td>\n",
       "      <td>0.00</td>\n",
       "      <td>0.00</td>\n",
       "      <td>0.00</td>\n",
       "    </tr>\n",
       "    <tr>\n",
       "      <th>SeniorCitizen</th>\n",
       "      <td>0.09</td>\n",
       "      <td>0.24</td>\n",
       "      <td>0.29</td>\n",
       "      <td>0.30</td>\n",
       "      <td>0.14</td>\n",
       "      <td>0.09</td>\n",
       "      <td>0.16</td>\n",
       "      <td>0.13</td>\n",
       "      <td>0.11</td>\n",
       "      <td>0.11</td>\n",
       "      <td>0.14</td>\n",
       "      <td>0.11</td>\n",
       "      <td>0.11</td>\n",
       "      <td>0.00</td>\n",
       "      <td>1.00</td>\n",
       "      <td>0.02</td>\n",
       "      <td>0.32</td>\n",
       "      <td>0.09</td>\n",
       "      <td>0.06</td>\n",
       "    </tr>\n",
       "    <tr>\n",
       "      <th>Partner</th>\n",
       "      <td>0.18</td>\n",
       "      <td>0.01</td>\n",
       "      <td>0.24</td>\n",
       "      <td>0.20</td>\n",
       "      <td>0.38</td>\n",
       "      <td>0.23</td>\n",
       "      <td>0.00</td>\n",
       "      <td>0.09</td>\n",
       "      <td>0.09</td>\n",
       "      <td>0.10</td>\n",
       "      <td>0.08</td>\n",
       "      <td>0.08</td>\n",
       "      <td>0.08</td>\n",
       "      <td>0.00</td>\n",
       "      <td>0.02</td>\n",
       "      <td>1.00</td>\n",
       "      <td>0.65</td>\n",
       "      <td>0.09</td>\n",
       "      <td>0.45</td>\n",
       "    </tr>\n",
       "    <tr>\n",
       "      <th>Dependents</th>\n",
       "      <td>0.15</td>\n",
       "      <td>0.17</td>\n",
       "      <td>0.22</td>\n",
       "      <td>0.18</td>\n",
       "      <td>0.08</td>\n",
       "      <td>0.05</td>\n",
       "      <td>0.11</td>\n",
       "      <td>0.12</td>\n",
       "      <td>0.10</td>\n",
       "      <td>0.09</td>\n",
       "      <td>0.11</td>\n",
       "      <td>0.09</td>\n",
       "      <td>0.08</td>\n",
       "      <td>0.00</td>\n",
       "      <td>0.32</td>\n",
       "      <td>0.65</td>\n",
       "      <td>1.00</td>\n",
       "      <td>0.01</td>\n",
       "      <td>0.20</td>\n",
       "    </tr>\n",
       "    <tr>\n",
       "      <th>MultipleLines</th>\n",
       "      <td>0.24</td>\n",
       "      <td>0.10</td>\n",
       "      <td>0.17</td>\n",
       "      <td>0.71</td>\n",
       "      <td>0.47</td>\n",
       "      <td>0.11</td>\n",
       "      <td>0.74</td>\n",
       "      <td>0.54</td>\n",
       "      <td>0.56</td>\n",
       "      <td>0.56</td>\n",
       "      <td>0.54</td>\n",
       "      <td>0.59</td>\n",
       "      <td>0.59</td>\n",
       "      <td>0.00</td>\n",
       "      <td>0.09</td>\n",
       "      <td>0.09</td>\n",
       "      <td>0.01</td>\n",
       "      <td>1.00</td>\n",
       "      <td>0.35</td>\n",
       "    </tr>\n",
       "    <tr>\n",
       "      <th>period</th>\n",
       "      <td>0.63</td>\n",
       "      <td>0.03</td>\n",
       "      <td>0.35</td>\n",
       "      <td>0.39</td>\n",
       "      <td>0.85</td>\n",
       "      <td>0.37</td>\n",
       "      <td>0.06</td>\n",
       "      <td>0.35</td>\n",
       "      <td>0.37</td>\n",
       "      <td>0.37</td>\n",
       "      <td>0.35</td>\n",
       "      <td>0.31</td>\n",
       "      <td>0.31</td>\n",
       "      <td>0.00</td>\n",
       "      <td>0.06</td>\n",
       "      <td>0.45</td>\n",
       "      <td>0.20</td>\n",
       "      <td>0.35</td>\n",
       "      <td>1.00</td>\n",
       "    </tr>\n",
       "  </tbody>\n",
       "</table>\n",
       "</div>"
      ],
      "text/plain": [
       "                  Type  PaperlessBilling  PaymentMethod  MonthlyCharges  \\\n",
       "Type              1.00              0.11           0.28            0.39   \n",
       "PaperlessBilling  0.11              1.00           0.37            0.47   \n",
       "PaymentMethod     0.28              0.37           1.00            0.40   \n",
       "MonthlyCharges    0.39              0.47           0.40            1.00   \n",
       "TotalCharges      0.47              0.20           0.34            0.71   \n",
       "target            0.09              0.08           0.21            0.23   \n",
       "InternetService   0.51              0.23           0.32            0.92   \n",
       "OnlineSecurity    0.64              0.21           0.32            0.81   \n",
       "OnlineBackup      0.58              0.20           0.29            0.82   \n",
       "DeviceProtection  0.63              0.20           0.30            0.83   \n",
       "TechSupport       0.67              0.20           0.32            0.82   \n",
       "StreamingTV       0.55              0.20           0.28            0.86   \n",
       "StreamingMovies   0.55              0.20           0.29            0.86   \n",
       "gender            0.00              0.00           0.00            0.01   \n",
       "SeniorCitizen     0.09              0.24           0.29            0.30   \n",
       "Partner           0.18              0.01           0.24            0.20   \n",
       "Dependents        0.15              0.17           0.22            0.18   \n",
       "MultipleLines     0.24              0.10           0.17            0.71   \n",
       "period            0.63              0.03           0.35            0.39   \n",
       "\n",
       "                  TotalCharges  target  InternetService  OnlineSecurity  \\\n",
       "Type                      0.47    0.09             0.51            0.64   \n",
       "PaperlessBilling          0.20    0.08             0.23            0.21   \n",
       "PaymentMethod             0.34    0.21             0.32            0.32   \n",
       "MonthlyCharges            0.71    0.23             0.92            0.81   \n",
       "TotalCharges              1.00    0.30             0.49            0.52   \n",
       "target                    0.30    1.00             0.06            0.06   \n",
       "InternetService           0.49    0.06             1.00            0.95   \n",
       "OnlineSecurity            0.52    0.06             0.95            1.00   \n",
       "OnlineBackup              0.55    0.09             0.94            0.95   \n",
       "DeviceProtection          0.56    0.09             0.94            0.95   \n",
       "TechSupport               0.53    0.05             0.95            0.95   \n",
       "StreamingTV               0.56    0.08             0.95            0.94   \n",
       "StreamingMovies           0.55    0.09             0.95            0.94   \n",
       "gender                    0.00    0.01             0.00            0.00   \n",
       "SeniorCitizen             0.14    0.09             0.16            0.13   \n",
       "Partner                   0.38    0.23             0.00            0.09   \n",
       "Dependents                0.08    0.05             0.11            0.12   \n",
       "MultipleLines             0.47    0.11             0.74            0.54   \n",
       "period                    0.85    0.37             0.06            0.35   \n",
       "\n",
       "                  OnlineBackup  DeviceProtection  TechSupport  StreamingTV  \\\n",
       "Type                      0.58              0.63         0.67         0.55   \n",
       "PaperlessBilling          0.20              0.20         0.20         0.20   \n",
       "PaymentMethod             0.29              0.30         0.32         0.28   \n",
       "MonthlyCharges            0.82              0.83         0.82         0.86   \n",
       "TotalCharges              0.55              0.56         0.53         0.56   \n",
       "target                    0.09              0.09         0.05         0.08   \n",
       "InternetService           0.94              0.94         0.95         0.95   \n",
       "OnlineSecurity            0.95              0.95         0.95         0.94   \n",
       "OnlineBackup              1.00              0.95         0.95         0.95   \n",
       "DeviceProtection          0.95              1.00         0.95         0.95   \n",
       "TechSupport               0.95              0.95         1.00         0.95   \n",
       "StreamingTV               0.95              0.95         0.95         1.00   \n",
       "StreamingMovies           0.95              0.95         0.95         0.97   \n",
       "gender                    0.00              0.00         0.00         0.00   \n",
       "SeniorCitizen             0.11              0.11         0.14         0.11   \n",
       "Partner                   0.09              0.10         0.08         0.08   \n",
       "Dependents                0.10              0.09         0.11         0.09   \n",
       "MultipleLines             0.56              0.56         0.54         0.59   \n",
       "period                    0.37              0.37         0.35         0.31   \n",
       "\n",
       "                  StreamingMovies  gender  SeniorCitizen  Partner  Dependents  \\\n",
       "Type                         0.55    0.00           0.09     0.18        0.15   \n",
       "PaperlessBilling             0.20    0.00           0.24     0.01        0.17   \n",
       "PaymentMethod                0.29    0.00           0.29     0.24        0.22   \n",
       "MonthlyCharges               0.86    0.01           0.30     0.20        0.18   \n",
       "TotalCharges                 0.55    0.00           0.14     0.38        0.08   \n",
       "target                       0.09    0.01           0.09     0.23        0.05   \n",
       "InternetService              0.95    0.00           0.16     0.00        0.11   \n",
       "OnlineSecurity               0.94    0.00           0.13     0.09        0.12   \n",
       "OnlineBackup                 0.95    0.00           0.11     0.09        0.10   \n",
       "DeviceProtection             0.95    0.00           0.11     0.10        0.09   \n",
       "TechSupport                  0.95    0.00           0.14     0.08        0.11   \n",
       "StreamingTV                  0.97    0.00           0.11     0.08        0.09   \n",
       "StreamingMovies              1.00    0.00           0.11     0.08        0.08   \n",
       "gender                       0.00    1.00           0.00     0.00        0.00   \n",
       "SeniorCitizen                0.11    0.00           1.00     0.02        0.32   \n",
       "Partner                      0.08    0.00           0.02     1.00        0.65   \n",
       "Dependents                   0.08    0.00           0.32     0.65        1.00   \n",
       "MultipleLines                0.59    0.00           0.09     0.09        0.01   \n",
       "period                       0.31    0.00           0.06     0.45        0.20   \n",
       "\n",
       "                  MultipleLines  period  \n",
       "Type                       0.24    0.63  \n",
       "PaperlessBilling           0.10    0.03  \n",
       "PaymentMethod              0.17    0.35  \n",
       "MonthlyCharges             0.71    0.39  \n",
       "TotalCharges               0.47    0.85  \n",
       "target                     0.11    0.37  \n",
       "InternetService            0.74    0.06  \n",
       "OnlineSecurity             0.54    0.35  \n",
       "OnlineBackup               0.56    0.37  \n",
       "DeviceProtection           0.56    0.37  \n",
       "TechSupport                0.54    0.35  \n",
       "StreamingTV                0.59    0.31  \n",
       "StreamingMovies            0.59    0.31  \n",
       "gender                     0.00    0.00  \n",
       "SeniorCitizen              0.09    0.06  \n",
       "Partner                    0.09    0.45  \n",
       "Dependents                 0.01    0.20  \n",
       "MultipleLines              1.00    0.35  \n",
       "period                     0.35    1.00  "
      ]
     },
     "execution_count": 27,
     "metadata": {},
     "output_type": "execute_result"
    }
   ],
   "source": [
    "phik_overview = data_corr.phik_matrix()\n",
    "phik_overview.round(2)"
   ]
  },
  {
   "cell_type": "code",
   "execution_count": 28,
   "id": "369721e8",
   "metadata": {},
   "outputs": [],
   "source": [
    "interval_cols = ['MonthlyCharges', 'TotalCharges', 'period']\n",
    "\n",
    "phik_overview = data_corr.phik_matrix(interval_cols = interval_cols)"
   ]
  },
  {
   "cell_type": "code",
   "execution_count": 29,
   "id": "55933291",
   "metadata": {},
   "outputs": [
    {
     "data": {
      "image/png": "[encoded data removed]",
      "text/plain": [
       "<Figure size 1440x864 with 2 Axes>"
      ]
     },
     "metadata": {
      "needs_background": "light"
     },
     "output_type": "display_data"
    }
   ],
   "source": [
    "plot_correlation_matrix(phik_overview.values, \n",
    "                       x_labels = phik_overview.columns,\n",
    "                       y_labels = phik_overview.index,\n",
    "                       vmin = 0,\n",
    "                       vmax = 1,\n",
    "                       title = r'Корреляция по $\\phi_k$',\n",
    "                       color_map= \"Greens\",\n",
    "                       fontsize_factor = 1.5,\n",
    "                       figsize = (20, 12))\n",
    "plt.show();"
   ]
  },
  {
   "cell_type": "markdown",
   "id": "c5dae8b1",
   "metadata": {},
   "source": [
    "Мы более отчетливо видим, какие признаки влияют на целевую переменную. Однако очень много признаков, которые имеют слабую корреляцию с **target**.\n",
    "\n",
    "В датафрейм для обучения модели отберем только те, в которых корреляция больше 0.1."
   ]
  },
  {
   "cell_type": "code",
   "execution_count": 30,
   "id": "be92153e",
   "metadata": {},
   "outputs": [],
   "source": [
    "data1 = data_corr.drop(columns=['Dependents','SeniorCitizen','gender', 'StreamingMovies', 'StreamingTV','TechSupport', 'DeviceProtection', 'OnlineBackup', 'OnlineSecurity', 'InternetService', 'PaperlessBilling', 'Type'])"
   ]
  },
  {
   "cell_type": "code",
   "execution_count": 31,
   "id": "7e58ac08",
   "metadata": {},
   "outputs": [
    {
     "data": {
      "text/html": [
       "<div>\n",
       "<style scoped>\n",
       "    .dataframe tbody tr th:only-of-type {\n",
       "        vertical-align: middle;\n",
       "    }\n",
       "\n",
       "    .dataframe tbody tr th {\n",
       "        vertical-align: top;\n",
       "    }\n",
       "\n",
       "    .dataframe thead th {\n",
       "        text-align: right;\n",
       "    }\n",
       "</style>\n",
       "<table border=\"1\" class=\"dataframe\">\n",
       "  <thead>\n",
       "    <tr style=\"text-align: right;\">\n",
       "      <th></th>\n",
       "      <th>PaymentMethod</th>\n",
       "      <th>MonthlyCharges</th>\n",
       "      <th>TotalCharges</th>\n",
       "      <th>target</th>\n",
       "      <th>Partner</th>\n",
       "      <th>MultipleLines</th>\n",
       "      <th>period</th>\n",
       "    </tr>\n",
       "  </thead>\n",
       "  <tbody>\n",
       "    <tr>\n",
       "      <th>0</th>\n",
       "      <td>Electronic check</td>\n",
       "      <td>29.85</td>\n",
       "      <td>31.04</td>\n",
       "      <td>0</td>\n",
       "      <td>Yes</td>\n",
       "      <td>no_phone</td>\n",
       "      <td>31.0</td>\n",
       "    </tr>\n",
       "    <tr>\n",
       "      <th>1</th>\n",
       "      <td>Mailed check</td>\n",
       "      <td>56.95</td>\n",
       "      <td>2071.84</td>\n",
       "      <td>0</td>\n",
       "      <td>No</td>\n",
       "      <td>No</td>\n",
       "      <td>1036.0</td>\n",
       "    </tr>\n",
       "    <tr>\n",
       "      <th>2</th>\n",
       "      <td>Mailed check</td>\n",
       "      <td>53.85</td>\n",
       "      <td>226.17</td>\n",
       "      <td>0</td>\n",
       "      <td>No</td>\n",
       "      <td>No</td>\n",
       "      <td>123.0</td>\n",
       "    </tr>\n",
       "    <tr>\n",
       "      <th>3</th>\n",
       "      <td>Bank transfer (automatic)</td>\n",
       "      <td>42.30</td>\n",
       "      <td>1960.60</td>\n",
       "      <td>0</td>\n",
       "      <td>No</td>\n",
       "      <td>no_phone</td>\n",
       "      <td>1371.0</td>\n",
       "    </tr>\n",
       "    <tr>\n",
       "      <th>4</th>\n",
       "      <td>Electronic check</td>\n",
       "      <td>70.70</td>\n",
       "      <td>353.50</td>\n",
       "      <td>0</td>\n",
       "      <td>No</td>\n",
       "      <td>No</td>\n",
       "      <td>153.0</td>\n",
       "    </tr>\n",
       "  </tbody>\n",
       "</table>\n",
       "</div>"
      ],
      "text/plain": [
       "               PaymentMethod  MonthlyCharges  TotalCharges  target Partner  \\\n",
       "0           Electronic check           29.85         31.04       0     Yes   \n",
       "1               Mailed check           56.95       2071.84       0      No   \n",
       "2               Mailed check           53.85        226.17       0      No   \n",
       "3  Bank transfer (automatic)           42.30       1960.60       0      No   \n",
       "4           Electronic check           70.70        353.50       0      No   \n",
       "\n",
       "  MultipleLines  period  \n",
       "0      no_phone    31.0  \n",
       "1            No  1036.0  \n",
       "2            No   123.0  \n",
       "3      no_phone  1371.0  \n",
       "4            No   153.0  "
      ]
     },
     "execution_count": 31,
     "metadata": {},
     "output_type": "execute_result"
    }
   ],
   "source": [
    "data1.head()"
   ]
  },
  {
   "cell_type": "code",
   "execution_count": 32,
   "id": "32a06f8b",
   "metadata": {},
   "outputs": [
    {
     "data": {
      "image/png": "[encoded data removed]",
      "text/plain": [
       "<Figure size 1440x864 with 2 Axes>"
      ]
     },
     "metadata": {
      "needs_background": "light"
     },
     "output_type": "display_data"
    }
   ],
   "source": [
    "phik_overview = data1.phik_matrix(interval_cols = interval_cols)\n",
    "plot_correlation_matrix(phik_overview.values, \n",
    "                       x_labels = phik_overview.columns,\n",
    "                       y_labels = phik_overview.index,\n",
    "                       vmin = 0,\n",
    "                       vmax = 1,\n",
    "                       title = r'Корреляция по $\\phi_k$',\n",
    "                       color_map= \"Greens\",\n",
    "                       fontsize_factor = 1.5,\n",
    "                       figsize = (20, 12))\n",
    "plt.show();"
   ]
  },
  {
   "cell_type": "markdown",
   "id": "cfea1b95",
   "metadata": {},
   "source": [
    "Мы удалили те признаки, которые оказывали меньше всего влияния и оставили более значимые, учитывая корреляцию с целевым признаком. Наибольшие значения показывают:\n",
    "- сроки использования подписки - **period**.\n",
    "- сколько клиент потратил на подписку - **TotalCharges**.\n",
    "\n",
    "Чем дольше клиент пользуется подпиской и чем больше он заплатил за всё время, тем меньше вероятность, что клиент откажется от продления подписки."
   ]
  },
  {
   "cell_type": "markdown",
   "id": "3db9bd63",
   "metadata": {},
   "source": [
    "## Подготовка и обучение модели"
   ]
  },
  {
   "cell_type": "markdown",
   "id": "770842a8",
   "metadata": {},
   "source": [
    "Выделим из датасета data1 целевой признак."
   ]
  },
  {
   "cell_type": "code",
   "execution_count": 33,
   "id": "6f206268",
   "metadata": {},
   "outputs": [],
   "source": [
    "X = data1.drop('target', axis = 1)\n",
    "y = data1['target']"
   ]
  },
  {
   "cell_type": "markdown",
   "id": "da191456",
   "metadata": {},
   "source": [
    "Выведем размеры датасетов."
   ]
  },
  {
   "cell_type": "code",
   "execution_count": 34,
   "id": "b4e8e369",
   "metadata": {},
   "outputs": [
    {
     "data": {
      "text/plain": [
       "((7043, 6), (7043,))"
      ]
     },
     "execution_count": 34,
     "metadata": {},
     "output_type": "execute_result"
    }
   ],
   "source": [
    "X.shape, y.shape"
   ]
  },
  {
   "cell_type": "markdown",
   "id": "4accc86c",
   "metadata": {},
   "source": [
    "Сформируем обучающую и тестовые выборки."
   ]
  },
  {
   "cell_type": "code",
   "execution_count": 35,
   "id": "1850b44f",
   "metadata": {},
   "outputs": [],
   "source": [
    "X_train, X_test, \\\n",
    "y_train, y_test = train_test_split(\n",
    "    X, y,\n",
    "    test_size = TEST_SIZE,\n",
    "    random_state = RANDOM_STATE,\n",
    "    stratify = y)"
   ]
  },
  {
   "cell_type": "markdown",
   "id": "04ee5307",
   "metadata": {},
   "source": [
    "Проверим распределение классов."
   ]
  },
  {
   "cell_type": "code",
   "execution_count": 36,
   "id": "224e903b",
   "metadata": {},
   "outputs": [
    {
     "name": "stdout",
     "output_type": "stream",
     "text": [
      "Расспределение в тренировочной выборке: 0    0.84362\n",
      "1    0.15638\n",
      "Name: target, dtype: float64\n",
      "\n",
      "Расспределение в тестовой выборке: 0    0.843839\n",
      "1    0.156161\n",
      "Name: target, dtype: float64\n"
     ]
    }
   ],
   "source": [
    "print('Расспределение в тренировочной выборке:', y_train.value_counts(normalize = True))\n",
    "print()\n",
    "print('Расспределение в тестовой выборке:', y_test.value_counts(normalize = True))"
   ]
  },
  {
   "cell_type": "markdown",
   "id": "c69072f9",
   "metadata": {},
   "source": [
    "Создадим списки для кодирования."
   ]
  },
  {
   "cell_type": "code",
   "execution_count": 37,
   "id": "3c7c925e",
   "metadata": {},
   "outputs": [
    {
     "data": {
      "text/plain": [
       "['MonthlyCharges', 'TotalCharges', 'period']"
      ]
     },
     "execution_count": 37,
     "metadata": {},
     "output_type": "execute_result"
    }
   ],
   "source": [
    "num_columns = X_train.select_dtypes(include=['float64','int64']).columns.tolist()\n",
    "num_columns"
   ]
  },
  {
   "cell_type": "code",
   "execution_count": 38,
   "id": "7f0d1db1",
   "metadata": {},
   "outputs": [
    {
     "name": "stdout",
     "output_type": "stream",
     "text": [
      "Уникальные значения для столбца 'PaymentMethod': ['Credit card (automatic)' 'Mailed check' 'Electronic check'\n",
      " 'Bank transfer (automatic)']\n",
      "Уникальные значения для столбца 'Partner': ['No' 'Yes']\n",
      "Уникальные значения для столбца 'MultipleLines': ['No' 'Yes' 'no_phone']\n"
     ]
    }
   ],
   "source": [
    "cat_columns = X_train.select_dtypes(include=['object']).columns.tolist()\n",
    "for column in cat_columns:\n",
    "        unique_values = X_train[column].unique()\n",
    "        print(f\"Уникальные значения для столбца '{column}': {unique_values}\")"
   ]
  },
  {
   "cell_type": "code",
   "execution_count": 39,
   "id": "256d6c92",
   "metadata": {},
   "outputs": [],
   "source": [
    "# признаки для OneHotEncoder\n",
    "ohe_columns = ['PaymentMethod', 'Partner', 'MultipleLines']\n",
    "\n",
    "# численные признаки\n",
    "num_columns = ['MonthlyCharges', 'TotalCharges', 'period']"
   ]
  },
  {
   "cell_type": "markdown",
   "id": "08e0103d",
   "metadata": {},
   "source": [
    "Создадим пайплайн для подготовки признаков из списка ohe_columns."
   ]
  },
  {
   "cell_type": "code",
   "execution_count": 40,
   "id": "dd63498c",
   "metadata": {},
   "outputs": [],
   "source": [
    "ohe_pipe = Pipeline([\n",
    "        (\n",
    "            'simpleImputer_ohe', \n",
    "            SimpleImputer(missing_values=np.nan, strategy='most_frequent')\n",
    "        ),\n",
    "        (    'ohe', \n",
    "            OneHotEncoder(sparse_output=False, handle_unknown='error',drop='first')\n",
    "        )\n",
    "])"
   ]
  },
  {
   "cell_type": "markdown",
   "id": "ba8cbbcb",
   "metadata": {},
   "source": [
    "Создадим общий пайплайн для подготовки данных."
   ]
  },
  {
   "cell_type": "code",
   "execution_count": 41,
   "id": "6024fe4e",
   "metadata": {
    "scrolled": true
   },
   "outputs": [
    {
     "name": "stdout",
     "output_type": "stream",
     "text": [
      "ColumnTransformer(remainder='passthrough',\n",
      "                  transformers=[('ohe',\n",
      "                                 Pipeline(steps=[('simpleImputer_ohe',\n",
      "                                                  SimpleImputer(strategy='most_frequent')),\n",
      "                                                 ('ohe',\n",
      "                                                  OneHotEncoder(drop='first',\n",
      "                                                                sparse_output=False))]),\n",
      "                                 ['PaymentMethod', 'Partner', 'MultipleLines']),\n",
      "                                ('num', MinMaxScaler(),\n",
      "                                 ['MonthlyCharges', 'TotalCharges', 'period'])])\n"
     ]
    }
   ],
   "source": [
    "data_preprocessor = ColumnTransformer(\n",
    "    [\n",
    "        ('ohe', ohe_pipe, ohe_columns),\n",
    "        ('num', MinMaxScaler(), num_columns)   \n",
    "    ], \n",
    "    remainder =  'passthrough'\n",
    ")\n",
    "print(data_preprocessor)"
   ]
  },
  {
   "cell_type": "markdown",
   "id": "9688cdc0",
   "metadata": {},
   "source": [
    "Создадим итоговый пайплайн."
   ]
  },
  {
   "cell_type": "code",
   "execution_count": 42,
   "id": "55327849",
   "metadata": {},
   "outputs": [],
   "source": [
    "pipe_final= Pipeline(\n",
    "    [\n",
    "        ('preprocessor', data_preprocessor),\n",
    "        ('models', DecisionTreeRegressor(random_state=RANDOM_STATE))\n",
    "    ]\n",
    ")"
   ]
  },
  {
   "cell_type": "markdown",
   "id": "91cad960",
   "metadata": {},
   "source": [
    "Визуализируем его."
   ]
  },
  {
   "cell_type": "code",
   "execution_count": 43,
   "id": "bd3fed63",
   "metadata": {},
   "outputs": [
    {
     "data": {
      "text/html": [
       "<style>#sk-container-id-1 {color: black;}#sk-container-id-1 pre{padding: 0;}#sk-container-id-1 div.sk-toggleable {background-color: white;}#sk-container-id-1 label.sk-toggleable__label {cursor: pointer;display: block;width: 100%;margin-bottom: 0;padding: 0.3em;box-sizing: border-box;text-align: center;}#sk-container-id-1 label.sk-toggleable__label-arrow:before {content: \"▸\";float: left;margin-right: 0.25em;color: #696969;}#sk-container-id-1 label.sk-toggleable__label-arrow:hover:before {color: black;}#sk-container-id-1 div.sk-estimator:hover label.sk-toggleable__label-arrow:before {color: black;}#sk-container-id-1 div.sk-toggleable__content {max-height: 0;max-width: 0;overflow: hidden;text-align: left;background-color: #f0f8ff;}#sk-container-id-1 div.sk-toggleable__content pre {margin: 0.2em;color: black;border-radius: 0.25em;background-color: #f0f8ff;}#sk-container-id-1 input.sk-toggleable__control:checked~div.sk-toggleable__content {max-height: 200px;max-width: 100%;overflow: auto;}#sk-container-id-1 input.sk-toggleable__control:checked~label.sk-toggleable__label-arrow:before {content: \"▾\";}#sk-container-id-1 div.sk-estimator input.sk-toggleable__control:checked~label.sk-toggleable__label {background-color: #d4ebff;}#sk-container-id-1 div.sk-label input.sk-toggleable__control:checked~label.sk-toggleable__label {background-color: #d4ebff;}#sk-container-id-1 input.sk-hidden--visually {border: 0;clip: rect(1px 1px 1px 1px);clip: rect(1px, 1px, 1px, 1px);height: 1px;margin: -1px;overflow: hidden;padding: 0;position: absolute;width: 1px;}#sk-container-id-1 div.sk-estimator {font-family: monospace;background-color: #f0f8ff;border: 1px dotted black;border-radius: 0.25em;box-sizing: border-box;margin-bottom: 0.5em;}#sk-container-id-1 div.sk-estimator:hover {background-color: #d4ebff;}#sk-container-id-1 div.sk-parallel-item::after {content: \"\";width: 100%;border-bottom: 1px solid gray;flex-grow: 1;}#sk-container-id-1 div.sk-label:hover label.sk-toggleable__label {background-color: #d4ebff;}#sk-container-id-1 div.sk-serial::before {content: \"\";position: absolute;border-left: 1px solid gray;box-sizing: border-box;top: 0;bottom: 0;left: 50%;z-index: 0;}#sk-container-id-1 div.sk-serial {display: flex;flex-direction: column;align-items: center;background-color: white;padding-right: 0.2em;padding-left: 0.2em;position: relative;}#sk-container-id-1 div.sk-item {position: relative;z-index: 1;}#sk-container-id-1 div.sk-parallel {display: flex;align-items: stretch;justify-content: center;background-color: white;position: relative;}#sk-container-id-1 div.sk-item::before, #sk-container-id-1 div.sk-parallel-item::before {content: \"\";position: absolute;border-left: 1px solid gray;box-sizing: border-box;top: 0;bottom: 0;left: 50%;z-index: -1;}#sk-container-id-1 div.sk-parallel-item {display: flex;flex-direction: column;z-index: 1;position: relative;background-color: white;}#sk-container-id-1 div.sk-parallel-item:first-child::after {align-self: flex-end;width: 50%;}#sk-container-id-1 div.sk-parallel-item:last-child::after {align-self: flex-start;width: 50%;}#sk-container-id-1 div.sk-parallel-item:only-child::after {width: 0;}#sk-container-id-1 div.sk-dashed-wrapped {border: 1px dashed gray;margin: 0 0.4em 0.5em 0.4em;box-sizing: border-box;padding-bottom: 0.4em;background-color: white;}#sk-container-id-1 div.sk-label label {font-family: monospace;font-weight: bold;display: inline-block;line-height: 1.2em;}#sk-container-id-1 div.sk-label-container {text-align: center;}#sk-container-id-1 div.sk-container {/* jupyter's `normalize.less` sets `[hidden] { display: none; }` but bootstrap.min.css set `[hidden] { display: none !important; }` so we also need the `!important` here to be able to override the default hidden behavior on the sphinx rendered scikit-learn.org. See: https://github.com/scikit-learn/scikit-learn/issues/21755 */display: inline-block !important;position: relative;}#sk-container-id-1 div.sk-text-repr-fallback {display: none;}</style><div id=\"sk-container-id-1\" class=\"sk-top-container\"><div class=\"sk-text-repr-fallback\"><pre>Pipeline(steps=[(&#x27;preprocessor&#x27;,\n",
       "                 ColumnTransformer(remainder=&#x27;passthrough&#x27;,\n",
       "                                   transformers=[(&#x27;ohe&#x27;,\n",
       "                                                  Pipeline(steps=[(&#x27;simpleImputer_ohe&#x27;,\n",
       "                                                                   SimpleImputer(strategy=&#x27;most_frequent&#x27;)),\n",
       "                                                                  (&#x27;ohe&#x27;,\n",
       "                                                                   OneHotEncoder(drop=&#x27;first&#x27;,\n",
       "                                                                                 sparse_output=False))]),\n",
       "                                                  [&#x27;PaymentMethod&#x27;, &#x27;Partner&#x27;,\n",
       "                                                   &#x27;MultipleLines&#x27;]),\n",
       "                                                 (&#x27;num&#x27;, MinMaxScaler(),\n",
       "                                                  [&#x27;MonthlyCharges&#x27;,\n",
       "                                                   &#x27;TotalCharges&#x27;,\n",
       "                                                   &#x27;period&#x27;])])),\n",
       "                (&#x27;models&#x27;, DecisionTreeRegressor(random_state=80925))])</pre><b>In a Jupyter environment, please rerun this cell to show the HTML representation or trust the notebook. <br />On GitHub, the HTML representation is unable to render, please try loading this page with nbviewer.org.</b></div><div class=\"sk-container\" hidden><div class=\"sk-item sk-dashed-wrapped\"><div class=\"sk-label-container\"><div class=\"sk-label sk-toggleable\"><input class=\"sk-toggleable__control sk-hidden--visually\" id=\"sk-estimator-id-1\" type=\"checkbox\" ><label for=\"sk-estimator-id-1\" class=\"sk-toggleable__label sk-toggleable__label-arrow\">Pipeline</label><div class=\"sk-toggleable__content\"><pre>Pipeline(steps=[(&#x27;preprocessor&#x27;,\n",
       "                 ColumnTransformer(remainder=&#x27;passthrough&#x27;,\n",
       "                                   transformers=[(&#x27;ohe&#x27;,\n",
       "                                                  Pipeline(steps=[(&#x27;simpleImputer_ohe&#x27;,\n",
       "                                                                   SimpleImputer(strategy=&#x27;most_frequent&#x27;)),\n",
       "                                                                  (&#x27;ohe&#x27;,\n",
       "                                                                   OneHotEncoder(drop=&#x27;first&#x27;,\n",
       "                                                                                 sparse_output=False))]),\n",
       "                                                  [&#x27;PaymentMethod&#x27;, &#x27;Partner&#x27;,\n",
       "                                                   &#x27;MultipleLines&#x27;]),\n",
       "                                                 (&#x27;num&#x27;, MinMaxScaler(),\n",
       "                                                  [&#x27;MonthlyCharges&#x27;,\n",
       "                                                   &#x27;TotalCharges&#x27;,\n",
       "                                                   &#x27;period&#x27;])])),\n",
       "                (&#x27;models&#x27;, DecisionTreeRegressor(random_state=80925))])</pre></div></div></div><div class=\"sk-serial\"><div class=\"sk-item sk-dashed-wrapped\"><div class=\"sk-label-container\"><div class=\"sk-label sk-toggleable\"><input class=\"sk-toggleable__control sk-hidden--visually\" id=\"sk-estimator-id-2\" type=\"checkbox\" ><label for=\"sk-estimator-id-2\" class=\"sk-toggleable__label sk-toggleable__label-arrow\">preprocessor: ColumnTransformer</label><div class=\"sk-toggleable__content\"><pre>ColumnTransformer(remainder=&#x27;passthrough&#x27;,\n",
       "                  transformers=[(&#x27;ohe&#x27;,\n",
       "                                 Pipeline(steps=[(&#x27;simpleImputer_ohe&#x27;,\n",
       "                                                  SimpleImputer(strategy=&#x27;most_frequent&#x27;)),\n",
       "                                                 (&#x27;ohe&#x27;,\n",
       "                                                  OneHotEncoder(drop=&#x27;first&#x27;,\n",
       "                                                                sparse_output=False))]),\n",
       "                                 [&#x27;PaymentMethod&#x27;, &#x27;Partner&#x27;, &#x27;MultipleLines&#x27;]),\n",
       "                                (&#x27;num&#x27;, MinMaxScaler(),\n",
       "                                 [&#x27;MonthlyCharges&#x27;, &#x27;TotalCharges&#x27;, &#x27;period&#x27;])])</pre></div></div></div><div class=\"sk-parallel\"><div class=\"sk-parallel-item\"><div class=\"sk-item\"><div class=\"sk-label-container\"><div class=\"sk-label sk-toggleable\"><input class=\"sk-toggleable__control sk-hidden--visually\" id=\"sk-estimator-id-3\" type=\"checkbox\" ><label for=\"sk-estimator-id-3\" class=\"sk-toggleable__label sk-toggleable__label-arrow\">ohe</label><div class=\"sk-toggleable__content\"><pre>[&#x27;PaymentMethod&#x27;, &#x27;Partner&#x27;, &#x27;MultipleLines&#x27;]</pre></div></div></div><div class=\"sk-serial\"><div class=\"sk-item\"><div class=\"sk-serial\"><div class=\"sk-item\"><div class=\"sk-estimator sk-toggleable\"><input class=\"sk-toggleable__control sk-hidden--visually\" id=\"sk-estimator-id-4\" type=\"checkbox\" ><label for=\"sk-estimator-id-4\" class=\"sk-toggleable__label sk-toggleable__label-arrow\">SimpleImputer</label><div class=\"sk-toggleable__content\"><pre>SimpleImputer(strategy=&#x27;most_frequent&#x27;)</pre></div></div></div><div class=\"sk-item\"><div class=\"sk-estimator sk-toggleable\"><input class=\"sk-toggleable__control sk-hidden--visually\" id=\"sk-estimator-id-5\" type=\"checkbox\" ><label for=\"sk-estimator-id-5\" class=\"sk-toggleable__label sk-toggleable__label-arrow\">OneHotEncoder</label><div class=\"sk-toggleable__content\"><pre>OneHotEncoder(drop=&#x27;first&#x27;, sparse_output=False)</pre></div></div></div></div></div></div></div></div><div class=\"sk-parallel-item\"><div class=\"sk-item\"><div class=\"sk-label-container\"><div class=\"sk-label sk-toggleable\"><input class=\"sk-toggleable__control sk-hidden--visually\" id=\"sk-estimator-id-6\" type=\"checkbox\" ><label for=\"sk-estimator-id-6\" class=\"sk-toggleable__label sk-toggleable__label-arrow\">num</label><div class=\"sk-toggleable__content\"><pre>[&#x27;MonthlyCharges&#x27;, &#x27;TotalCharges&#x27;, &#x27;period&#x27;]</pre></div></div></div><div class=\"sk-serial\"><div class=\"sk-item\"><div class=\"sk-estimator sk-toggleable\"><input class=\"sk-toggleable__control sk-hidden--visually\" id=\"sk-estimator-id-7\" type=\"checkbox\" ><label for=\"sk-estimator-id-7\" class=\"sk-toggleable__label sk-toggleable__label-arrow\">MinMaxScaler</label><div class=\"sk-toggleable__content\"><pre>MinMaxScaler()</pre></div></div></div></div></div></div><div class=\"sk-parallel-item\"><div class=\"sk-item\"><div class=\"sk-label-container\"><div class=\"sk-label sk-toggleable\"><input class=\"sk-toggleable__control sk-hidden--visually\" id=\"sk-estimator-id-8\" type=\"checkbox\" ><label for=\"sk-estimator-id-8\" class=\"sk-toggleable__label sk-toggleable__label-arrow\">remainder</label><div class=\"sk-toggleable__content\"><pre></pre></div></div></div><div class=\"sk-serial\"><div class=\"sk-item\"><div class=\"sk-estimator sk-toggleable\"><input class=\"sk-toggleable__control sk-hidden--visually\" id=\"sk-estimator-id-9\" type=\"checkbox\" ><label for=\"sk-estimator-id-9\" class=\"sk-toggleable__label sk-toggleable__label-arrow\">passthrough</label><div class=\"sk-toggleable__content\"><pre>passthrough</pre></div></div></div></div></div></div></div></div><div class=\"sk-item\"><div class=\"sk-estimator sk-toggleable\"><input class=\"sk-toggleable__control sk-hidden--visually\" id=\"sk-estimator-id-10\" type=\"checkbox\" ><label for=\"sk-estimator-id-10\" class=\"sk-toggleable__label sk-toggleable__label-arrow\">DecisionTreeRegressor</label><div class=\"sk-toggleable__content\"><pre>DecisionTreeRegressor(random_state=80925)</pre></div></div></div></div></div></div></div>"
      ],
      "text/plain": [
       "Pipeline(steps=[('preprocessor',\n",
       "                 ColumnTransformer(remainder='passthrough',\n",
       "                                   transformers=[('ohe',\n",
       "                                                  Pipeline(steps=[('simpleImputer_ohe',\n",
       "                                                                   SimpleImputer(strategy='most_frequent')),\n",
       "                                                                  ('ohe',\n",
       "                                                                   OneHotEncoder(drop='first',\n",
       "                                                                                 sparse_output=False))]),\n",
       "                                                  ['PaymentMethod', 'Partner',\n",
       "                                                   'MultipleLines']),\n",
       "                                                 ('num', MinMaxScaler(),\n",
       "                                                  ['MonthlyCharges',\n",
       "                                                   'TotalCharges',\n",
       "                                                   'period'])])),\n",
       "                ('models', DecisionTreeRegressor(random_state=80925))])"
      ]
     },
     "execution_count": 43,
     "metadata": {},
     "output_type": "execute_result"
    }
   ],
   "source": [
    "pipe_final"
   ]
  },
  {
   "cell_type": "markdown",
   "id": "c89071bf",
   "metadata": {},
   "source": [
    "Создадим словари для разных моделей: DecisionTreeClassifier, SVC, LogisticRegression."
   ]
  },
  {
   "cell_type": "code",
   "execution_count": 44,
   "id": "c87d7d21",
   "metadata": {},
   "outputs": [],
   "source": [
    "param_distributions = [\n",
    "    # словарь для модели DecisionTreeClassifier()\n",
    "    {\n",
    "        'models': [DecisionTreeClassifier(random_state=RANDOM_STATE)],\n",
    "        'models__max_depth': range(2, 7),\n",
    "        'models__max_features': range(2, 20),\n",
    "        'preprocessor__num': [StandardScaler(), MinMaxScaler(), 'passthrough'],\n",
    "        'models__min_samples_split': range(2,20) ,\n",
    "        'models__min_samples_leaf': range(2,20) ,\n",
    "    },\n",
    "    # словарь для модели SVC()\n",
    "    {\n",
    "        'models': [SVC(random_state=RANDOM_STATE, probability = True)],\n",
    "        'models__kernel':('rbf','linear','poly'),\n",
    "        'models__C': range(1,100),\n",
    "        'models__degree': range(1,10),\n",
    "        'preprocessor__num': [StandardScaler(), MinMaxScaler(), 'passthrough']  \n",
    "\n",
    "    },\n",
    "    # словарь для модели LogisticRegression()\n",
    "    {\n",
    "        'models': [LogisticRegression(random_state=RANDOM_STATE)],\n",
    "        'models__solver': ('liblinear', 'saga', 'lbfgs'),\n",
    "        'models__penalty': ('l1', 'l2', 'elasticnet', 'none'),\n",
    "        'models__C': range(1,100),\n",
    "        \n",
    "        'preprocessor__num': [StandardScaler(), MinMaxScaler(), 'passthrough']  \n",
    "    }\n",
    "\n",
    "] "
   ]
  },
  {
   "cell_type": "code",
   "execution_count": 45,
   "id": "fd50fada",
   "metadata": {},
   "outputs": [],
   "source": [
    "randomized_search = RandomizedSearchCV(\n",
    "    pipe_final, \n",
    "    param_distributions, \n",
    "    cv=5,\n",
    "    scoring='roc_auc',\n",
    "    random_state=RANDOM_STATE,\n",
    "    n_jobs=-1\n",
    "    \n",
    ")"
   ]
  },
  {
   "cell_type": "code",
   "execution_count": 46,
   "id": "f189a255",
   "metadata": {},
   "outputs": [
    {
     "data": {
      "text/plain": [
       "array([0, 0, 0, ..., 1, 0, 1])"
      ]
     },
     "execution_count": 46,
     "metadata": {},
     "output_type": "execute_result"
    }
   ],
   "source": [
    "le = LabelEncoder()\n",
    "y_train = le.fit_transform(y_train)\n",
    "y_train"
   ]
  },
  {
   "cell_type": "markdown",
   "id": "b0d705da",
   "metadata": {},
   "source": [
    "Обучим модель на тренировочной выборке."
   ]
  },
  {
   "cell_type": "code",
   "execution_count": 47,
   "id": "b65221c7",
   "metadata": {},
   "outputs": [
    {
     "data": {
      "text/html": [
       "<style>#sk-container-id-2 {color: black;}#sk-container-id-2 pre{padding: 0;}#sk-container-id-2 div.sk-toggleable {background-color: white;}#sk-container-id-2 label.sk-toggleable__label {cursor: pointer;display: block;width: 100%;margin-bottom: 0;padding: 0.3em;box-sizing: border-box;text-align: center;}#sk-container-id-2 label.sk-toggleable__label-arrow:before {content: \"▸\";float: left;margin-right: 0.25em;color: #696969;}#sk-container-id-2 label.sk-toggleable__label-arrow:hover:before {color: black;}#sk-container-id-2 div.sk-estimator:hover label.sk-toggleable__label-arrow:before {color: black;}#sk-container-id-2 div.sk-toggleable__content {max-height: 0;max-width: 0;overflow: hidden;text-align: left;background-color: #f0f8ff;}#sk-container-id-2 div.sk-toggleable__content pre {margin: 0.2em;color: black;border-radius: 0.25em;background-color: #f0f8ff;}#sk-container-id-2 input.sk-toggleable__control:checked~div.sk-toggleable__content {max-height: 200px;max-width: 100%;overflow: auto;}#sk-container-id-2 input.sk-toggleable__control:checked~label.sk-toggleable__label-arrow:before {content: \"▾\";}#sk-container-id-2 div.sk-estimator input.sk-toggleable__control:checked~label.sk-toggleable__label {background-color: #d4ebff;}#sk-container-id-2 div.sk-label input.sk-toggleable__control:checked~label.sk-toggleable__label {background-color: #d4ebff;}#sk-container-id-2 input.sk-hidden--visually {border: 0;clip: rect(1px 1px 1px 1px);clip: rect(1px, 1px, 1px, 1px);height: 1px;margin: -1px;overflow: hidden;padding: 0;position: absolute;width: 1px;}#sk-container-id-2 div.sk-estimator {font-family: monospace;background-color: #f0f8ff;border: 1px dotted black;border-radius: 0.25em;box-sizing: border-box;margin-bottom: 0.5em;}#sk-container-id-2 div.sk-estimator:hover {background-color: #d4ebff;}#sk-container-id-2 div.sk-parallel-item::after {content: \"\";width: 100%;border-bottom: 1px solid gray;flex-grow: 1;}#sk-container-id-2 div.sk-label:hover label.sk-toggleable__label {background-color: #d4ebff;}#sk-container-id-2 div.sk-serial::before {content: \"\";position: absolute;border-left: 1px solid gray;box-sizing: border-box;top: 0;bottom: 0;left: 50%;z-index: 0;}#sk-container-id-2 div.sk-serial {display: flex;flex-direction: column;align-items: center;background-color: white;padding-right: 0.2em;padding-left: 0.2em;position: relative;}#sk-container-id-2 div.sk-item {position: relative;z-index: 1;}#sk-container-id-2 div.sk-parallel {display: flex;align-items: stretch;justify-content: center;background-color: white;position: relative;}#sk-container-id-2 div.sk-item::before, #sk-container-id-2 div.sk-parallel-item::before {content: \"\";position: absolute;border-left: 1px solid gray;box-sizing: border-box;top: 0;bottom: 0;left: 50%;z-index: -1;}#sk-container-id-2 div.sk-parallel-item {display: flex;flex-direction: column;z-index: 1;position: relative;background-color: white;}#sk-container-id-2 div.sk-parallel-item:first-child::after {align-self: flex-end;width: 50%;}#sk-container-id-2 div.sk-parallel-item:last-child::after {align-self: flex-start;width: 50%;}#sk-container-id-2 div.sk-parallel-item:only-child::after {width: 0;}#sk-container-id-2 div.sk-dashed-wrapped {border: 1px dashed gray;margin: 0 0.4em 0.5em 0.4em;box-sizing: border-box;padding-bottom: 0.4em;background-color: white;}#sk-container-id-2 div.sk-label label {font-family: monospace;font-weight: bold;display: inline-block;line-height: 1.2em;}#sk-container-id-2 div.sk-label-container {text-align: center;}#sk-container-id-2 div.sk-container {/* jupyter's `normalize.less` sets `[hidden] { display: none; }` but bootstrap.min.css set `[hidden] { display: none !important; }` so we also need the `!important` here to be able to override the default hidden behavior on the sphinx rendered scikit-learn.org. See: https://github.com/scikit-learn/scikit-learn/issues/21755 */display: inline-block !important;position: relative;}#sk-container-id-2 div.sk-text-repr-fallback {display: none;}</style><div id=\"sk-container-id-2\" class=\"sk-top-container\"><div class=\"sk-text-repr-fallback\"><pre>RandomizedSearchCV(cv=5,\n",
       "                   estimator=Pipeline(steps=[(&#x27;preprocessor&#x27;,\n",
       "                                              ColumnTransformer(remainder=&#x27;passthrough&#x27;,\n",
       "                                                                transformers=[(&#x27;ohe&#x27;,\n",
       "                                                                               Pipeline(steps=[(&#x27;simpleImputer_ohe&#x27;,\n",
       "                                                                                                SimpleImputer(strategy=&#x27;most_frequent&#x27;)),\n",
       "                                                                                               (&#x27;ohe&#x27;,\n",
       "                                                                                                OneHotEncoder(drop=&#x27;first&#x27;,\n",
       "                                                                                                              sparse_output=False))]),\n",
       "                                                                               [&#x27;PaymentMethod&#x27;,\n",
       "                                                                                &#x27;Partner&#x27;,\n",
       "                                                                                &#x27;MultipleLines&#x27;]),\n",
       "                                                                              (&#x27;num&#x27;,\n",
       "                                                                               MinMaxScaler(),\n",
       "                                                                               [&#x27;MonthlyCharges&#x27;,...\n",
       "                                                            &#x27;poly&#x27;),\n",
       "                                         &#x27;preprocessor__num&#x27;: [StandardScaler(),\n",
       "                                                               MinMaxScaler(),\n",
       "                                                               &#x27;passthrough&#x27;]},\n",
       "                                        {&#x27;models&#x27;: [LogisticRegression(random_state=80925)],\n",
       "                                         &#x27;models__C&#x27;: range(1, 100),\n",
       "                                         &#x27;models__penalty&#x27;: (&#x27;l1&#x27;, &#x27;l2&#x27;,\n",
       "                                                             &#x27;elasticnet&#x27;,\n",
       "                                                             &#x27;none&#x27;),\n",
       "                                         &#x27;models__solver&#x27;: (&#x27;liblinear&#x27;, &#x27;saga&#x27;,\n",
       "                                                            &#x27;lbfgs&#x27;),\n",
       "                                         &#x27;preprocessor__num&#x27;: [StandardScaler(),\n",
       "                                                               MinMaxScaler(),\n",
       "                                                               &#x27;passthrough&#x27;]}],\n",
       "                   random_state=80925, scoring=&#x27;roc_auc&#x27;)</pre><b>In a Jupyter environment, please rerun this cell to show the HTML representation or trust the notebook. <br />On GitHub, the HTML representation is unable to render, please try loading this page with nbviewer.org.</b></div><div class=\"sk-container\" hidden><div class=\"sk-item sk-dashed-wrapped\"><div class=\"sk-label-container\"><div class=\"sk-label sk-toggleable\"><input class=\"sk-toggleable__control sk-hidden--visually\" id=\"sk-estimator-id-11\" type=\"checkbox\" ><label for=\"sk-estimator-id-11\" class=\"sk-toggleable__label sk-toggleable__label-arrow\">RandomizedSearchCV</label><div class=\"sk-toggleable__content\"><pre>RandomizedSearchCV(cv=5,\n",
       "                   estimator=Pipeline(steps=[(&#x27;preprocessor&#x27;,\n",
       "                                              ColumnTransformer(remainder=&#x27;passthrough&#x27;,\n",
       "                                                                transformers=[(&#x27;ohe&#x27;,\n",
       "                                                                               Pipeline(steps=[(&#x27;simpleImputer_ohe&#x27;,\n",
       "                                                                                                SimpleImputer(strategy=&#x27;most_frequent&#x27;)),\n",
       "                                                                                               (&#x27;ohe&#x27;,\n",
       "                                                                                                OneHotEncoder(drop=&#x27;first&#x27;,\n",
       "                                                                                                              sparse_output=False))]),\n",
       "                                                                               [&#x27;PaymentMethod&#x27;,\n",
       "                                                                                &#x27;Partner&#x27;,\n",
       "                                                                                &#x27;MultipleLines&#x27;]),\n",
       "                                                                              (&#x27;num&#x27;,\n",
       "                                                                               MinMaxScaler(),\n",
       "                                                                               [&#x27;MonthlyCharges&#x27;,...\n",
       "                                                            &#x27;poly&#x27;),\n",
       "                                         &#x27;preprocessor__num&#x27;: [StandardScaler(),\n",
       "                                                               MinMaxScaler(),\n",
       "                                                               &#x27;passthrough&#x27;]},\n",
       "                                        {&#x27;models&#x27;: [LogisticRegression(random_state=80925)],\n",
       "                                         &#x27;models__C&#x27;: range(1, 100),\n",
       "                                         &#x27;models__penalty&#x27;: (&#x27;l1&#x27;, &#x27;l2&#x27;,\n",
       "                                                             &#x27;elasticnet&#x27;,\n",
       "                                                             &#x27;none&#x27;),\n",
       "                                         &#x27;models__solver&#x27;: (&#x27;liblinear&#x27;, &#x27;saga&#x27;,\n",
       "                                                            &#x27;lbfgs&#x27;),\n",
       "                                         &#x27;preprocessor__num&#x27;: [StandardScaler(),\n",
       "                                                               MinMaxScaler(),\n",
       "                                                               &#x27;passthrough&#x27;]}],\n",
       "                   random_state=80925, scoring=&#x27;roc_auc&#x27;)</pre></div></div></div><div class=\"sk-parallel\"><div class=\"sk-parallel-item\"><div class=\"sk-item\"><div class=\"sk-label-container\"><div class=\"sk-label sk-toggleable\"><input class=\"sk-toggleable__control sk-hidden--visually\" id=\"sk-estimator-id-12\" type=\"checkbox\" ><label for=\"sk-estimator-id-12\" class=\"sk-toggleable__label sk-toggleable__label-arrow\">estimator: Pipeline</label><div class=\"sk-toggleable__content\"><pre>Pipeline(steps=[(&#x27;preprocessor&#x27;,\n",
       "                 ColumnTransformer(remainder=&#x27;passthrough&#x27;,\n",
       "                                   transformers=[(&#x27;ohe&#x27;,\n",
       "                                                  Pipeline(steps=[(&#x27;simpleImputer_ohe&#x27;,\n",
       "                                                                   SimpleImputer(strategy=&#x27;most_frequent&#x27;)),\n",
       "                                                                  (&#x27;ohe&#x27;,\n",
       "                                                                   OneHotEncoder(drop=&#x27;first&#x27;,\n",
       "                                                                                 sparse_output=False))]),\n",
       "                                                  [&#x27;PaymentMethod&#x27;, &#x27;Partner&#x27;,\n",
       "                                                   &#x27;MultipleLines&#x27;]),\n",
       "                                                 (&#x27;num&#x27;, MinMaxScaler(),\n",
       "                                                  [&#x27;MonthlyCharges&#x27;,\n",
       "                                                   &#x27;TotalCharges&#x27;,\n",
       "                                                   &#x27;period&#x27;])])),\n",
       "                (&#x27;models&#x27;, DecisionTreeRegressor(random_state=80925))])</pre></div></div></div><div class=\"sk-serial\"><div class=\"sk-item\"><div class=\"sk-serial\"><div class=\"sk-item sk-dashed-wrapped\"><div class=\"sk-label-container\"><div class=\"sk-label sk-toggleable\"><input class=\"sk-toggleable__control sk-hidden--visually\" id=\"sk-estimator-id-13\" type=\"checkbox\" ><label for=\"sk-estimator-id-13\" class=\"sk-toggleable__label sk-toggleable__label-arrow\">preprocessor: ColumnTransformer</label><div class=\"sk-toggleable__content\"><pre>ColumnTransformer(remainder=&#x27;passthrough&#x27;,\n",
       "                  transformers=[(&#x27;ohe&#x27;,\n",
       "                                 Pipeline(steps=[(&#x27;simpleImputer_ohe&#x27;,\n",
       "                                                  SimpleImputer(strategy=&#x27;most_frequent&#x27;)),\n",
       "                                                 (&#x27;ohe&#x27;,\n",
       "                                                  OneHotEncoder(drop=&#x27;first&#x27;,\n",
       "                                                                sparse_output=False))]),\n",
       "                                 [&#x27;PaymentMethod&#x27;, &#x27;Partner&#x27;, &#x27;MultipleLines&#x27;]),\n",
       "                                (&#x27;num&#x27;, MinMaxScaler(),\n",
       "                                 [&#x27;MonthlyCharges&#x27;, &#x27;TotalCharges&#x27;, &#x27;period&#x27;])])</pre></div></div></div><div class=\"sk-parallel\"><div class=\"sk-parallel-item\"><div class=\"sk-item\"><div class=\"sk-label-container\"><div class=\"sk-label sk-toggleable\"><input class=\"sk-toggleable__control sk-hidden--visually\" id=\"sk-estimator-id-14\" type=\"checkbox\" ><label for=\"sk-estimator-id-14\" class=\"sk-toggleable__label sk-toggleable__label-arrow\">ohe</label><div class=\"sk-toggleable__content\"><pre>[&#x27;PaymentMethod&#x27;, &#x27;Partner&#x27;, &#x27;MultipleLines&#x27;]</pre></div></div></div><div class=\"sk-serial\"><div class=\"sk-item\"><div class=\"sk-serial\"><div class=\"sk-item\"><div class=\"sk-estimator sk-toggleable\"><input class=\"sk-toggleable__control sk-hidden--visually\" id=\"sk-estimator-id-15\" type=\"checkbox\" ><label for=\"sk-estimator-id-15\" class=\"sk-toggleable__label sk-toggleable__label-arrow\">SimpleImputer</label><div class=\"sk-toggleable__content\"><pre>SimpleImputer(strategy=&#x27;most_frequent&#x27;)</pre></div></div></div><div class=\"sk-item\"><div class=\"sk-estimator sk-toggleable\"><input class=\"sk-toggleable__control sk-hidden--visually\" id=\"sk-estimator-id-16\" type=\"checkbox\" ><label for=\"sk-estimator-id-16\" class=\"sk-toggleable__label sk-toggleable__label-arrow\">OneHotEncoder</label><div class=\"sk-toggleable__content\"><pre>OneHotEncoder(drop=&#x27;first&#x27;, sparse_output=False)</pre></div></div></div></div></div></div></div></div><div class=\"sk-parallel-item\"><div class=\"sk-item\"><div class=\"sk-label-container\"><div class=\"sk-label sk-toggleable\"><input class=\"sk-toggleable__control sk-hidden--visually\" id=\"sk-estimator-id-17\" type=\"checkbox\" ><label for=\"sk-estimator-id-17\" class=\"sk-toggleable__label sk-toggleable__label-arrow\">num</label><div class=\"sk-toggleable__content\"><pre>[&#x27;MonthlyCharges&#x27;, &#x27;TotalCharges&#x27;, &#x27;period&#x27;]</pre></div></div></div><div class=\"sk-serial\"><div class=\"sk-item\"><div class=\"sk-estimator sk-toggleable\"><input class=\"sk-toggleable__control sk-hidden--visually\" id=\"sk-estimator-id-18\" type=\"checkbox\" ><label for=\"sk-estimator-id-18\" class=\"sk-toggleable__label sk-toggleable__label-arrow\">MinMaxScaler</label><div class=\"sk-toggleable__content\"><pre>MinMaxScaler()</pre></div></div></div></div></div></div><div class=\"sk-parallel-item\"><div class=\"sk-item\"><div class=\"sk-label-container\"><div class=\"sk-label sk-toggleable\"><input class=\"sk-toggleable__control sk-hidden--visually\" id=\"sk-estimator-id-19\" type=\"checkbox\" ><label for=\"sk-estimator-id-19\" class=\"sk-toggleable__label sk-toggleable__label-arrow\">remainder</label><div class=\"sk-toggleable__content\"><pre></pre></div></div></div><div class=\"sk-serial\"><div class=\"sk-item\"><div class=\"sk-estimator sk-toggleable\"><input class=\"sk-toggleable__control sk-hidden--visually\" id=\"sk-estimator-id-20\" type=\"checkbox\" ><label for=\"sk-estimator-id-20\" class=\"sk-toggleable__label sk-toggleable__label-arrow\">passthrough</label><div class=\"sk-toggleable__content\"><pre>passthrough</pre></div></div></div></div></div></div></div></div><div class=\"sk-item\"><div class=\"sk-estimator sk-toggleable\"><input class=\"sk-toggleable__control sk-hidden--visually\" id=\"sk-estimator-id-21\" type=\"checkbox\" ><label for=\"sk-estimator-id-21\" class=\"sk-toggleable__label sk-toggleable__label-arrow\">DecisionTreeRegressor</label><div class=\"sk-toggleable__content\"><pre>DecisionTreeRegressor(random_state=80925)</pre></div></div></div></div></div></div></div></div></div></div></div></div>"
      ],
      "text/plain": [
       "RandomizedSearchCV(cv=5,\n",
       "                   estimator=Pipeline(steps=[('preprocessor',\n",
       "                                              ColumnTransformer(remainder='passthrough',\n",
       "                                                                transformers=[('ohe',\n",
       "                                                                               Pipeline(steps=[('simpleImputer_ohe',\n",
       "                                                                                                SimpleImputer(strategy='most_frequent')),\n",
       "                                                                                               ('ohe',\n",
       "                                                                                                OneHotEncoder(drop='first',\n",
       "                                                                                                              sparse_output=False))]),\n",
       "                                                                               ['PaymentMethod',\n",
       "                                                                                'Partner',\n",
       "                                                                                'MultipleLines']),\n",
       "                                                                              ('num',\n",
       "                                                                               MinMaxScaler(),\n",
       "                                                                               ['MonthlyCharges',...\n",
       "                                                            'poly'),\n",
       "                                         'preprocessor__num': [StandardScaler(),\n",
       "                                                               MinMaxScaler(),\n",
       "                                                               'passthrough']},\n",
       "                                        {'models': [LogisticRegression(random_state=80925)],\n",
       "                                         'models__C': range(1, 100),\n",
       "                                         'models__penalty': ('l1', 'l2',\n",
       "                                                             'elasticnet',\n",
       "                                                             'none'),\n",
       "                                         'models__solver': ('liblinear', 'saga',\n",
       "                                                            'lbfgs'),\n",
       "                                         'preprocessor__num': [StandardScaler(),\n",
       "                                                               MinMaxScaler(),\n",
       "                                                               'passthrough']}],\n",
       "                   random_state=80925, scoring='roc_auc')"
      ]
     },
     "execution_count": 47,
     "metadata": {},
     "output_type": "execute_result"
    }
   ],
   "source": [
    "randomized_search.fit(X_train, y_train)"
   ]
  },
  {
   "cell_type": "code",
   "execution_count": 48,
   "id": "8ba52693",
   "metadata": {},
   "outputs": [
    {
     "name": "stdout",
     "output_type": "stream",
     "text": [
      "Лучшая модель и её параметры:\n",
      "\n",
      " Pipeline(steps=[('preprocessor',\n",
      "                 ColumnTransformer(remainder='passthrough',\n",
      "                                   transformers=[('ohe',\n",
      "                                                  Pipeline(steps=[('simpleImputer_ohe',\n",
      "                                                                   SimpleImputer(strategy='most_frequent')),\n",
      "                                                                  ('ohe',\n",
      "                                                                   OneHotEncoder(drop='first',\n",
      "                                                                                 sparse_output=False))]),\n",
      "                                                  ['PaymentMethod', 'Partner',\n",
      "                                                   'MultipleLines']),\n",
      "                                                 ('num', MinMaxScaler(),\n",
      "                                                  ['MonthlyCharges',\n",
      "                                                   'TotalCharges',\n",
      "                                                   'period'])])),\n",
      "                ('models',\n",
      "                 DecisionTreeClassifier(max_depth=4, max_features=16,\n",
      "                                        min_samples_leaf=4, min_samples_split=8,\n",
      "                                        random_state=80925))])\n",
      "Метрика ROC_AUC лучшей модели на тренировочной выборке: 0.7595246202593293\n"
     ]
    }
   ],
   "source": [
    "print('Лучшая модель и её параметры:\\n\\n', randomized_search.best_estimator_)\n",
    "print ('Метрика ROC_AUC лучшей модели на тренировочной выборке:', randomized_search.best_score_)"
   ]
  },
  {
   "cell_type": "markdown",
   "id": "43929973",
   "metadata": {},
   "source": [
    "Мы получили результат. Лучшая модель - **DecisionTreeClassifier** с гиперпараметрами **(max_depth=4, max_features=16, min_samples_leaf=4, min_samples_split=8, random_state=80925)**. Её показатели метрики **roc_auc - 0.75**, что достаточно мало и не удовлетворяет поставленной цели.\n",
    "\n",
    "Напишем еще один пайплайн по подбору гиперпараметров для модели CatBoostClassifier."
   ]
  },
  {
   "cell_type": "code",
   "execution_count": 49,
   "id": "3e385c56",
   "metadata": {},
   "outputs": [
    {
     "name": "stdout",
     "output_type": "stream",
     "text": [
      "Fitting 5 folds for each of 12 candidates, totalling 60 fits\n"
     ]
    },
    {
     "data": {
      "text/html": [
       "<style>#sk-container-id-3 {color: black;}#sk-container-id-3 pre{padding: 0;}#sk-container-id-3 div.sk-toggleable {background-color: white;}#sk-container-id-3 label.sk-toggleable__label {cursor: pointer;display: block;width: 100%;margin-bottom: 0;padding: 0.3em;box-sizing: border-box;text-align: center;}#sk-container-id-3 label.sk-toggleable__label-arrow:before {content: \"▸\";float: left;margin-right: 0.25em;color: #696969;}#sk-container-id-3 label.sk-toggleable__label-arrow:hover:before {color: black;}#sk-container-id-3 div.sk-estimator:hover label.sk-toggleable__label-arrow:before {color: black;}#sk-container-id-3 div.sk-toggleable__content {max-height: 0;max-width: 0;overflow: hidden;text-align: left;background-color: #f0f8ff;}#sk-container-id-3 div.sk-toggleable__content pre {margin: 0.2em;color: black;border-radius: 0.25em;background-color: #f0f8ff;}#sk-container-id-3 input.sk-toggleable__control:checked~div.sk-toggleable__content {max-height: 200px;max-width: 100%;overflow: auto;}#sk-container-id-3 input.sk-toggleable__control:checked~label.sk-toggleable__label-arrow:before {content: \"▾\";}#sk-container-id-3 div.sk-estimator input.sk-toggleable__control:checked~label.sk-toggleable__label {background-color: #d4ebff;}#sk-container-id-3 div.sk-label input.sk-toggleable__control:checked~label.sk-toggleable__label {background-color: #d4ebff;}#sk-container-id-3 input.sk-hidden--visually {border: 0;clip: rect(1px 1px 1px 1px);clip: rect(1px, 1px, 1px, 1px);height: 1px;margin: -1px;overflow: hidden;padding: 0;position: absolute;width: 1px;}#sk-container-id-3 div.sk-estimator {font-family: monospace;background-color: #f0f8ff;border: 1px dotted black;border-radius: 0.25em;box-sizing: border-box;margin-bottom: 0.5em;}#sk-container-id-3 div.sk-estimator:hover {background-color: #d4ebff;}#sk-container-id-3 div.sk-parallel-item::after {content: \"\";width: 100%;border-bottom: 1px solid gray;flex-grow: 1;}#sk-container-id-3 div.sk-label:hover label.sk-toggleable__label {background-color: #d4ebff;}#sk-container-id-3 div.sk-serial::before {content: \"\";position: absolute;border-left: 1px solid gray;box-sizing: border-box;top: 0;bottom: 0;left: 50%;z-index: 0;}#sk-container-id-3 div.sk-serial {display: flex;flex-direction: column;align-items: center;background-color: white;padding-right: 0.2em;padding-left: 0.2em;position: relative;}#sk-container-id-3 div.sk-item {position: relative;z-index: 1;}#sk-container-id-3 div.sk-parallel {display: flex;align-items: stretch;justify-content: center;background-color: white;position: relative;}#sk-container-id-3 div.sk-item::before, #sk-container-id-3 div.sk-parallel-item::before {content: \"\";position: absolute;border-left: 1px solid gray;box-sizing: border-box;top: 0;bottom: 0;left: 50%;z-index: -1;}#sk-container-id-3 div.sk-parallel-item {display: flex;flex-direction: column;z-index: 1;position: relative;background-color: white;}#sk-container-id-3 div.sk-parallel-item:first-child::after {align-self: flex-end;width: 50%;}#sk-container-id-3 div.sk-parallel-item:last-child::after {align-self: flex-start;width: 50%;}#sk-container-id-3 div.sk-parallel-item:only-child::after {width: 0;}#sk-container-id-3 div.sk-dashed-wrapped {border: 1px dashed gray;margin: 0 0.4em 0.5em 0.4em;box-sizing: border-box;padding-bottom: 0.4em;background-color: white;}#sk-container-id-3 div.sk-label label {font-family: monospace;font-weight: bold;display: inline-block;line-height: 1.2em;}#sk-container-id-3 div.sk-label-container {text-align: center;}#sk-container-id-3 div.sk-container {/* jupyter's `normalize.less` sets `[hidden] { display: none; }` but bootstrap.min.css set `[hidden] { display: none !important; }` so we also need the `!important` here to be able to override the default hidden behavior on the sphinx rendered scikit-learn.org. See: https://github.com/scikit-learn/scikit-learn/issues/21755 */display: inline-block !important;position: relative;}#sk-container-id-3 div.sk-text-repr-fallback {display: none;}</style><div id=\"sk-container-id-3\" class=\"sk-top-container\"><div class=\"sk-text-repr-fallback\"><pre>GridSearchCV(cv=5,\n",
       "             estimator=Pipeline(steps=[(&#x27;scaler&#x27;,\n",
       "                                        ColumnTransformer(remainder=&#x27;passthrough&#x27;,\n",
       "                                                          transformers=[(&#x27;ohe&#x27;,\n",
       "                                                                         Pipeline(steps=[(&#x27;simpleImputer_ohe&#x27;,\n",
       "                                                                                          SimpleImputer(strategy=&#x27;most_frequent&#x27;)),\n",
       "                                                                                         (&#x27;ohe&#x27;,\n",
       "                                                                                          OneHotEncoder(drop=&#x27;first&#x27;,\n",
       "                                                                                                        sparse_output=False))]),\n",
       "                                                                         [&#x27;PaymentMethod&#x27;,\n",
       "                                                                          &#x27;Partner&#x27;,\n",
       "                                                                          &#x27;MultipleLines&#x27;]),\n",
       "                                                                        (&#x27;num&#x27;,\n",
       "                                                                         MinMaxScaler(),\n",
       "                                                                         [&#x27;MonthlyCharges&#x27;,\n",
       "                                                                          &#x27;TotalCharges&#x27;,\n",
       "                                                                          &#x27;period&#x27;])])),\n",
       "                                       (&#x27;model&#x27;,\n",
       "                                        &lt;catboost.core.CatBoostClassifier object at 0x7fd79abccb80&gt;)]),\n",
       "             n_jobs=-1,\n",
       "             param_grid=[{&#x27;model&#x27;: [&lt;catboost.core.CatBoostClassifier object at 0x7fd79abcc3d0&gt;],\n",
       "                          &#x27;model__depth&#x27;: range(2, 8),\n",
       "                          &#x27;model__learning_rate&#x27;: [0.01, 0.03]}],\n",
       "             scoring=&#x27;roc_auc&#x27;, verbose=1)</pre><b>In a Jupyter environment, please rerun this cell to show the HTML representation or trust the notebook. <br />On GitHub, the HTML representation is unable to render, please try loading this page with nbviewer.org.</b></div><div class=\"sk-container\" hidden><div class=\"sk-item sk-dashed-wrapped\"><div class=\"sk-label-container\"><div class=\"sk-label sk-toggleable\"><input class=\"sk-toggleable__control sk-hidden--visually\" id=\"sk-estimator-id-22\" type=\"checkbox\" ><label for=\"sk-estimator-id-22\" class=\"sk-toggleable__label sk-toggleable__label-arrow\">GridSearchCV</label><div class=\"sk-toggleable__content\"><pre>GridSearchCV(cv=5,\n",
       "             estimator=Pipeline(steps=[(&#x27;scaler&#x27;,\n",
       "                                        ColumnTransformer(remainder=&#x27;passthrough&#x27;,\n",
       "                                                          transformers=[(&#x27;ohe&#x27;,\n",
       "                                                                         Pipeline(steps=[(&#x27;simpleImputer_ohe&#x27;,\n",
       "                                                                                          SimpleImputer(strategy=&#x27;most_frequent&#x27;)),\n",
       "                                                                                         (&#x27;ohe&#x27;,\n",
       "                                                                                          OneHotEncoder(drop=&#x27;first&#x27;,\n",
       "                                                                                                        sparse_output=False))]),\n",
       "                                                                         [&#x27;PaymentMethod&#x27;,\n",
       "                                                                          &#x27;Partner&#x27;,\n",
       "                                                                          &#x27;MultipleLines&#x27;]),\n",
       "                                                                        (&#x27;num&#x27;,\n",
       "                                                                         MinMaxScaler(),\n",
       "                                                                         [&#x27;MonthlyCharges&#x27;,\n",
       "                                                                          &#x27;TotalCharges&#x27;,\n",
       "                                                                          &#x27;period&#x27;])])),\n",
       "                                       (&#x27;model&#x27;,\n",
       "                                        &lt;catboost.core.CatBoostClassifier object at 0x7fd79abccb80&gt;)]),\n",
       "             n_jobs=-1,\n",
       "             param_grid=[{&#x27;model&#x27;: [&lt;catboost.core.CatBoostClassifier object at 0x7fd79abcc3d0&gt;],\n",
       "                          &#x27;model__depth&#x27;: range(2, 8),\n",
       "                          &#x27;model__learning_rate&#x27;: [0.01, 0.03]}],\n",
       "             scoring=&#x27;roc_auc&#x27;, verbose=1)</pre></div></div></div><div class=\"sk-parallel\"><div class=\"sk-parallel-item\"><div class=\"sk-item\"><div class=\"sk-label-container\"><div class=\"sk-label sk-toggleable\"><input class=\"sk-toggleable__control sk-hidden--visually\" id=\"sk-estimator-id-23\" type=\"checkbox\" ><label for=\"sk-estimator-id-23\" class=\"sk-toggleable__label sk-toggleable__label-arrow\">estimator: Pipeline</label><div class=\"sk-toggleable__content\"><pre>Pipeline(steps=[(&#x27;scaler&#x27;,\n",
       "                 ColumnTransformer(remainder=&#x27;passthrough&#x27;,\n",
       "                                   transformers=[(&#x27;ohe&#x27;,\n",
       "                                                  Pipeline(steps=[(&#x27;simpleImputer_ohe&#x27;,\n",
       "                                                                   SimpleImputer(strategy=&#x27;most_frequent&#x27;)),\n",
       "                                                                  (&#x27;ohe&#x27;,\n",
       "                                                                   OneHotEncoder(drop=&#x27;first&#x27;,\n",
       "                                                                                 sparse_output=False))]),\n",
       "                                                  [&#x27;PaymentMethod&#x27;, &#x27;Partner&#x27;,\n",
       "                                                   &#x27;MultipleLines&#x27;]),\n",
       "                                                 (&#x27;num&#x27;, MinMaxScaler(),\n",
       "                                                  [&#x27;MonthlyCharges&#x27;,\n",
       "                                                   &#x27;TotalCharges&#x27;,\n",
       "                                                   &#x27;period&#x27;])])),\n",
       "                (&#x27;model&#x27;,\n",
       "                 &lt;catboost.core.CatBoostClassifier object at 0x7fd79abccb80&gt;)])</pre></div></div></div><div class=\"sk-serial\"><div class=\"sk-item\"><div class=\"sk-serial\"><div class=\"sk-item sk-dashed-wrapped\"><div class=\"sk-label-container\"><div class=\"sk-label sk-toggleable\"><input class=\"sk-toggleable__control sk-hidden--visually\" id=\"sk-estimator-id-24\" type=\"checkbox\" ><label for=\"sk-estimator-id-24\" class=\"sk-toggleable__label sk-toggleable__label-arrow\">scaler: ColumnTransformer</label><div class=\"sk-toggleable__content\"><pre>ColumnTransformer(remainder=&#x27;passthrough&#x27;,\n",
       "                  transformers=[(&#x27;ohe&#x27;,\n",
       "                                 Pipeline(steps=[(&#x27;simpleImputer_ohe&#x27;,\n",
       "                                                  SimpleImputer(strategy=&#x27;most_frequent&#x27;)),\n",
       "                                                 (&#x27;ohe&#x27;,\n",
       "                                                  OneHotEncoder(drop=&#x27;first&#x27;,\n",
       "                                                                sparse_output=False))]),\n",
       "                                 [&#x27;PaymentMethod&#x27;, &#x27;Partner&#x27;, &#x27;MultipleLines&#x27;]),\n",
       "                                (&#x27;num&#x27;, MinMaxScaler(),\n",
       "                                 [&#x27;MonthlyCharges&#x27;, &#x27;TotalCharges&#x27;, &#x27;period&#x27;])])</pre></div></div></div><div class=\"sk-parallel\"><div class=\"sk-parallel-item\"><div class=\"sk-item\"><div class=\"sk-label-container\"><div class=\"sk-label sk-toggleable\"><input class=\"sk-toggleable__control sk-hidden--visually\" id=\"sk-estimator-id-25\" type=\"checkbox\" ><label for=\"sk-estimator-id-25\" class=\"sk-toggleable__label sk-toggleable__label-arrow\">ohe</label><div class=\"sk-toggleable__content\"><pre>[&#x27;PaymentMethod&#x27;, &#x27;Partner&#x27;, &#x27;MultipleLines&#x27;]</pre></div></div></div><div class=\"sk-serial\"><div class=\"sk-item\"><div class=\"sk-serial\"><div class=\"sk-item\"><div class=\"sk-estimator sk-toggleable\"><input class=\"sk-toggleable__control sk-hidden--visually\" id=\"sk-estimator-id-26\" type=\"checkbox\" ><label for=\"sk-estimator-id-26\" class=\"sk-toggleable__label sk-toggleable__label-arrow\">SimpleImputer</label><div class=\"sk-toggleable__content\"><pre>SimpleImputer(strategy=&#x27;most_frequent&#x27;)</pre></div></div></div><div class=\"sk-item\"><div class=\"sk-estimator sk-toggleable\"><input class=\"sk-toggleable__control sk-hidden--visually\" id=\"sk-estimator-id-27\" type=\"checkbox\" ><label for=\"sk-estimator-id-27\" class=\"sk-toggleable__label sk-toggleable__label-arrow\">OneHotEncoder</label><div class=\"sk-toggleable__content\"><pre>OneHotEncoder(drop=&#x27;first&#x27;, sparse_output=False)</pre></div></div></div></div></div></div></div></div><div class=\"sk-parallel-item\"><div class=\"sk-item\"><div class=\"sk-label-container\"><div class=\"sk-label sk-toggleable\"><input class=\"sk-toggleable__control sk-hidden--visually\" id=\"sk-estimator-id-28\" type=\"checkbox\" ><label for=\"sk-estimator-id-28\" class=\"sk-toggleable__label sk-toggleable__label-arrow\">num</label><div class=\"sk-toggleable__content\"><pre>[&#x27;MonthlyCharges&#x27;, &#x27;TotalCharges&#x27;, &#x27;period&#x27;]</pre></div></div></div><div class=\"sk-serial\"><div class=\"sk-item\"><div class=\"sk-estimator sk-toggleable\"><input class=\"sk-toggleable__control sk-hidden--visually\" id=\"sk-estimator-id-29\" type=\"checkbox\" ><label for=\"sk-estimator-id-29\" class=\"sk-toggleable__label sk-toggleable__label-arrow\">MinMaxScaler</label><div class=\"sk-toggleable__content\"><pre>MinMaxScaler()</pre></div></div></div></div></div></div><div class=\"sk-parallel-item\"><div class=\"sk-item\"><div class=\"sk-label-container\"><div class=\"sk-label sk-toggleable\"><input class=\"sk-toggleable__control sk-hidden--visually\" id=\"sk-estimator-id-30\" type=\"checkbox\" ><label for=\"sk-estimator-id-30\" class=\"sk-toggleable__label sk-toggleable__label-arrow\">remainder</label><div class=\"sk-toggleable__content\"><pre></pre></div></div></div><div class=\"sk-serial\"><div class=\"sk-item\"><div class=\"sk-estimator sk-toggleable\"><input class=\"sk-toggleable__control sk-hidden--visually\" id=\"sk-estimator-id-31\" type=\"checkbox\" ><label for=\"sk-estimator-id-31\" class=\"sk-toggleable__label sk-toggleable__label-arrow\">passthrough</label><div class=\"sk-toggleable__content\"><pre>passthrough</pre></div></div></div></div></div></div></div></div><div class=\"sk-item\"><div class=\"sk-estimator sk-toggleable\"><input class=\"sk-toggleable__control sk-hidden--visually\" id=\"sk-estimator-id-32\" type=\"checkbox\" ><label for=\"sk-estimator-id-32\" class=\"sk-toggleable__label sk-toggleable__label-arrow\">CatBoostClassifier</label><div class=\"sk-toggleable__content\"><pre>&lt;catboost.core.CatBoostClassifier object at 0x7fd79abccb80&gt;</pre></div></div></div></div></div></div></div></div></div></div></div></div>"
      ],
      "text/plain": [
       "GridSearchCV(cv=5,\n",
       "             estimator=Pipeline(steps=[('scaler',\n",
       "                                        ColumnTransformer(remainder='passthrough',\n",
       "                                                          transformers=[('ohe',\n",
       "                                                                         Pipeline(steps=[('simpleImputer_ohe',\n",
       "                                                                                          SimpleImputer(strategy='most_frequent')),\n",
       "                                                                                         ('ohe',\n",
       "                                                                                          OneHotEncoder(drop='first',\n",
       "                                                                                                        sparse_output=False))]),\n",
       "                                                                         ['PaymentMethod',\n",
       "                                                                          'Partner',\n",
       "                                                                          'MultipleLines']),\n",
       "                                                                        ('num',\n",
       "                                                                         MinMaxScaler(),\n",
       "                                                                         ['MonthlyCharges',\n",
       "                                                                          'TotalCharges',\n",
       "                                                                          'period'])])),\n",
       "                                       ('model',\n",
       "                                        <catboost.core.CatBoostClassifier object at 0x7fd79abccb80>)]),\n",
       "             n_jobs=-1,\n",
       "             param_grid=[{'model': [<catboost.core.CatBoostClassifier object at 0x7fd79abcc3d0>],\n",
       "                          'model__depth': range(2, 8),\n",
       "                          'model__learning_rate': [0.01, 0.03]}],\n",
       "             scoring='roc_auc', verbose=1)"
      ]
     },
     "execution_count": 49,
     "metadata": {},
     "output_type": "execute_result"
    }
   ],
   "source": [
    "pipeline_CB = Pipeline([('scaler', data_preprocessor),('model', CatBoostClassifier(iterations=100, learning_rate=0.1))])\n",
    "\n",
    "param_grid = [\n",
    "                {\n",
    "                'model': [CatBoostClassifier(random_state=RANDOM_STATE, verbose=0)],\n",
    "                'model__learning_rate': [0.01, 0.03],\n",
    "                'model__depth': range(2, 8, 1)\n",
    "                }]\n",
    "\n",
    "CB_CV = GridSearchCV(pipeline_CB,\n",
    "                    param_grid,\n",
    "                    cv = 5,\n",
    "                    scoring='roc_auc',\n",
    "                    n_jobs=-1,\n",
    "                    verbose=1)\n",
    "\n",
    "CB_CV.fit(X_train, y_train)"
   ]
  },
  {
   "cell_type": "code",
   "execution_count": 50,
   "id": "c2f06c02",
   "metadata": {},
   "outputs": [
    {
     "name": "stdout",
     "output_type": "stream",
     "text": [
      "Лучшая модель и её параметры:\n",
      "\n",
      " Pipeline(steps=[('scaler',\n",
      "                 ColumnTransformer(remainder='passthrough',\n",
      "                                   transformers=[('ohe',\n",
      "                                                  Pipeline(steps=[('simpleImputer_ohe',\n",
      "                                                                   SimpleImputer(strategy='most_frequent')),\n",
      "                                                                  ('ohe',\n",
      "                                                                   OneHotEncoder(drop='first',\n",
      "                                                                                 sparse_output=False))]),\n",
      "                                                  ['PaymentMethod', 'Partner',\n",
      "                                                   'MultipleLines']),\n",
      "                                                 ('num', MinMaxScaler(),\n",
      "                                                  ['MonthlyCharges',\n",
      "                                                   'TotalCharges',\n",
      "                                                   'period'])])),\n",
      "                ('model',\n",
      "                 <catboost.core.CatBoostClassifier object at 0x7fd79abcc0a0>)])\n",
      "Метрика ROC_AUC лучшей модели на тренировочной выборке: 0.8927205405433305\n"
     ]
    }
   ],
   "source": [
    "print('Лучшая модель и её параметры:\\n\\n', CB_CV.best_estimator_)\n",
    "print ('Метрика ROC_AUC лучшей модели на тренировочной выборке:', CB_CV.best_score_)"
   ]
  },
  {
   "cell_type": "markdown",
   "id": "b7360e9b",
   "metadata": {},
   "source": [
    "Здесь лучше всех себя показала модель **CatBoostClassifier**. Её метрика **roc_auc - 0.85**. \n",
    "\n",
    "Будем использовать данную модель для финального предсказания на тестовой выборке."
   ]
  },
  {
   "cell_type": "code",
   "execution_count": 51,
   "id": "644e73ea",
   "metadata": {},
   "outputs": [
    {
     "data": {
      "text/plain": [
       "array([0.15731752, 0.02986029, 0.012318  , ..., 0.00565193, 0.06010552,\n",
       "       0.15776895])"
      ]
     },
     "execution_count": 51,
     "metadata": {},
     "output_type": "execute_result"
    }
   ],
   "source": [
    "y_test_probas = CB_CV.predict_proba(X_test)[:,1]\n",
    "y_test_probas"
   ]
  },
  {
   "cell_type": "code",
   "execution_count": 52,
   "id": "8c96a16d",
   "metadata": {},
   "outputs": [
    {
     "name": "stdout",
     "output_type": "stream",
     "text": [
      "(1761,)\n"
     ]
    },
    {
     "data": {
      "text/plain": [
       "(1761,)"
      ]
     },
     "execution_count": 52,
     "metadata": {},
     "output_type": "execute_result"
    }
   ],
   "source": [
    "print(y_test.shape)\n",
    "y_test_probas.shape"
   ]
  },
  {
   "cell_type": "markdown",
   "id": "6838133a",
   "metadata": {},
   "source": [
    "Выведем лучшие параметры для полученной модели."
   ]
  },
  {
   "cell_type": "code",
   "execution_count": 53,
   "id": "5ba8fc7e",
   "metadata": {},
   "outputs": [
    {
     "data": {
      "text/plain": [
       "{'model': <catboost.core.CatBoostClassifier at 0x7fd79abcc3d0>,\n",
       " 'model__depth': 5,\n",
       " 'model__learning_rate': 0.03}"
      ]
     },
     "execution_count": 53,
     "metadata": {},
     "output_type": "execute_result"
    }
   ],
   "source": [
    "CB_CV.best_params_"
   ]
  },
  {
   "cell_type": "code",
   "execution_count": 54,
   "id": "7b5a4d26",
   "metadata": {},
   "outputs": [
    {
     "name": "stdout",
     "output_type": "stream",
     "text": [
      "Метрика ROC-AUC на тестовой выборке: 0.9159867857579836\n"
     ]
    }
   ],
   "source": [
    "print(f'Метрика ROC-AUC на тестовой выборке: {roc_auc_score(y_test, y_test_probas)}')"
   ]
  },
  {
   "cell_type": "markdown",
   "id": "860fb089",
   "metadata": {},
   "source": [
    "Мы получили значение метрики **roc_auc 0.91** (наша цель >= 0.85). Данная модель с задачей справляется.\n",
    "\n",
    "\n",
    "Выведем матрицу ошибок для полученных предсказаний, чтобы проверить наличие ошибок 1 и 2 рода."
   ]
  },
  {
   "cell_type": "code",
   "execution_count": 55,
   "id": "e5fdef17",
   "metadata": {
    "scrolled": true
   },
   "outputs": [
    {
     "data": {
      "image/png": "[encoded data removed]",
      "text/plain": [
       "<Figure size 432x288 with 2 Axes>"
      ]
     },
     "metadata": {
      "needs_background": "light"
     },
     "output_type": "display_data"
    }
   ],
   "source": [
    "y_test_pred = CB_CV.predict(X_test)\n",
    "cm = confusion_matrix(y_test, y_test_pred)\n",
    "sns.heatmap(cm, annot=True, fmt='d', cmap='Blues_r')\n",
    "plt.ylabel('True label')\n",
    "plt.xlabel('Predicted'); "
   ]
  },
  {
   "cell_type": "markdown",
   "id": "1c7e83e7",
   "metadata": {},
   "source": [
    "- У полученной модель довольно высокая точность (Accuracy), что означает, что она хорошо предсказывает в общем случае. \n",
    "- Однако показатель Recall для класса 1 довольно низкая, что указывает на то, что модель пропускает много объектов класса 1 и предсказывает их как класс 0. Это не очень хорошо с точки зрения бизнеса, но в целом показатели довольно точные в большинстве случаев.\n",
    "\n",
    "Количество правильных ответов модели значительно преобладает над ошибочными: 1478 True Negative, 156 True Positive."
   ]
  },
  {
   "cell_type": "code",
   "execution_count": 56,
   "id": "bde1d984",
   "metadata": {},
   "outputs": [
    {
     "data": {
      "image/png": "[encoded data removed]",
      "text/plain": [
       "<Figure size 720x432 with 1 Axes>"
      ]
     },
     "metadata": {
      "needs_background": "light"
     },
     "output_type": "display_data"
    }
   ],
   "source": [
    "fig, ax = plt.subplots(figsize=(10, 6))\n",
    "\n",
    "RocCurveDisplay.from_estimator(\n",
    "    CB_CV,           \n",
    "    X_test,          \n",
    "    y_test,          \n",
    "    ax=ax,\n",
    "    name='CatBoost'  \n",
    ")\n",
    "\n",
    "ax.plot([0, 1], [0, 1], linestyle='--', color='gray', label='Random classifier')\n",
    "\n",
    "ax.set_title('ROC-кривая', fontsize=16)\n",
    "ax.set_xlabel('False Positive Rate', fontsize=12)\n",
    "ax.set_ylabel('True Positive Rate', fontsize=12)\n",
    "ax.legend(loc='lower right')\n",
    "ax.grid(True, alpha=0.3)\n",
    "\n",
    "plt.show()"
   ]
  },
  {
   "cell_type": "markdown",
   "id": "d8da3c2f",
   "metadata": {},
   "source": [
    "Визуализируем, какие признаки больше всего повлияли на предсказание."
   ]
  },
  {
   "cell_type": "code",
   "execution_count": 57,
   "id": "dcc693ba",
   "metadata": {},
   "outputs": [
    {
     "data": {
      "text/plain": [
       "Index(['PaymentMethod', 'MonthlyCharges', 'TotalCharges', 'Partner',\n",
       "       'MultipleLines', 'period'],\n",
       "      dtype='object')"
      ]
     },
     "execution_count": 57,
     "metadata": {},
     "output_type": "execute_result"
    }
   ],
   "source": [
    "X_train.columns"
   ]
  },
  {
   "cell_type": "code",
   "execution_count": 58,
   "id": "62392677",
   "metadata": {},
   "outputs": [
    {
     "data": {
      "image/png": "[encoded data removed]",
      "text/plain": [
       "<Figure size 864x576 with 1 Axes>"
      ]
     },
     "metadata": {
      "needs_background": "light"
     },
     "output_type": "display_data"
    }
   ],
   "source": [
    "best_model = CB_CV.best_estimator_\n",
    "model = best_model.named_steps['model']\n",
    "\n",
    "# Получение важности признаков и их имен\n",
    "feature_importances = model.get_feature_importance()\n",
    "\n",
    "# Извлекаем шаги пайплайна с названиями признаков\n",
    "data_preprocessor = best_model.named_steps['scaler']\n",
    "\n",
    "# Получаем имена признаков после всех преобразований\n",
    "transformed_feature_names = data_preprocessor.get_feature_names_out()\n",
    "\n",
    "# Создание датафрейма для удобного отображения\n",
    "feature_importance_df = pd.DataFrame({\n",
    "    'Признак': transformed_feature_names,\n",
    "    'Важность': feature_importances\n",
    "})\n",
    "\n",
    "# Сортировка по важности признаков\n",
    "feature_importance_df = feature_importance_df.sort_values(by='Важность', ascending=False)\n",
    "\n",
    "# Построение графика\n",
    "plt.figure(figsize=(12, 8))\n",
    "sns.barplot(x='Важность', y='Признак', data=feature_importance_df)\n",
    "plt.title('Важность признаков для модели CatBoostClassifier')\n",
    "plt.show()"
   ]
  },
  {
   "cell_type": "markdown",
   "id": "8308e1c9",
   "metadata": {},
   "source": [
    "На графике можно наглядно увидеть, что самые важные признаки которые повлияли на предсказание результата это:\n",
    "\n",
    "- period - время, которое прошло с даты заключения договора\n",
    "- TotalCharges - общие расходы абонента за все время\n",
    "- MonthlyCharges - размер ежемесячного платежа абонента\n",
    "- Partner - наличие супруга(и) у абонента\n",
    "\n",
    "Эти признаки заметно самые весомые и важные из всех остальных. Веса остальных признаков находятся примерно на одном уровне. "
   ]
  },
  {
   "cell_type": "markdown",
   "id": "9baa4d29",
   "metadata": {},
   "source": [
    "## Итоговый вывод"
   ]
  },
  {
   "cell_type": "markdown",
   "id": "16ee2a34",
   "metadata": {},
   "source": [
    "**Выводы по загрузке данных**\n",
    "\n",
    "- Данные были загружены и проверены на соответствие\n",
    "- Некоторые числа и даты записаны типом object (требуется заменить)\n",
    "- Булевые переменные обозначены словами (не требует изменений)\n",
    "- Отсутствуют пропуски в данных\n",
    "- Отсутствует столбец с целевым признаком (требуется создать) \n",
    "\n",
    "**Выводы по предобработке данных**\n",
    "\n",
    "- Числа и даты были переведены в нужный тип данных\n",
    "- Создан столбец с целевым признаком\n",
    "- Дубликаты не обнаружены\n",
    "- Опечатки не обнаружены\n",
    "\n",
    "**Выводы по исследовательскому анализу данных**\n",
    "\n",
    "- В данных выбросов не обнаружено.\n",
    "- Месячные оплаты распределены таким образом, что основная часть пользователей платят 20 долларов, видимо, это цена минимальной подписки.\n",
    "- Дальше помесячная оплата распределена более равномерно с пиками сумм 50, 60, 70, 80, 90, 100 и 110 долларов.\n",
    "- В гистограмме **period** мы видим, что новых пользователей, которые пользуются подпиской первый год, больше. Однако есть и достаточно большое количесво пользователей, которые пользуются подпиской более 5 с половиной лет.\n",
    "- Чуть больше половины пользователей предпочитаю **помесячную оплату** подписки.\n",
    "- У 21% пользователей не подключена дополнительная услуга интернета.\n",
    "- Количество пользователей мужчин и женщин практически одинаковое. \n",
    "- 16% пользователей - это жители пенсионного возраста.\n",
    "- **15% процентов пользователей не продлили подписку**.\n",
    "\n",
    "Наибольшие корреляционные значения показывают:\n",
    "- сроки использования подписки - **period**.\n",
    "- сколько клиент потратил на подписку - **TotalCharges**.\n",
    "\n",
    "Чем дольше клиент пользуется подпиской и чем больше он заплатил за всё время, тем меньше вероятность, что клиент откажется от продления подписки.\n",
    "\n",
    "**Подготовка и обучение модели**\n",
    "\n",
    "В ходе подготовки и обучения использовались модели: DecisionTreeClassifier, SVC, LogisticRegression, CatBoostClassifier.\n",
    "\n",
    "Лучше всех себя показала модель **CatBoostClassifier** с гиперпараметрами **('model__depth': 5, 'model__learning_rate': 0.03)**. Её метрика **roc_auc** на тренировочной выборке составила **0.85**. А на тестовой - **0.91**.\n",
    "- У полученной модель довольно высокая точность (Accuracy), что означает, что она хорошо предсказывает в общем случае. \n",
    "- Однако показатель Recall для класса 1 довольно низкая, что указывает на то, что модель пропускает много объектов класса 1 и предсказывает их как класс 0. Это не очень хорошо с точки зрения бизнеса, но в целом показатели довольно точные в большинстве случаев.\n",
    "\n",
    "Количество правильных ответов модели значительно преобладает над ошибочными: 1478 True Negative, 156 True Positive.\n",
    "\n",
    "Самые важные признаки которые повлияли на предсказание результата это:\n",
    "\n",
    "- period - время, которое прошло с даты заключения договора\n",
    "- TotalCharges - общие расходы абонента за все время\n",
    "- MonthlyCharges - размер ежемесячного платежа абонента\n",
    "- Partner - наличие супруга(и) у абонента\n",
    "\n",
    "**Рекомендации для бизнеса**\n",
    "\n",
    "На основе проведенного анализа данных и построенной модели прогнозирования оттока клиентов, можно порекомендовать следующее:\n",
    "\n",
    "*Фокус на лояльность долгосрочных клиентов*\n",
    "\n",
    "- Разработать программу лояльности для клиентов со стажем более 5 лет\n",
    "- Предложить эксклюзивные условия и бонусы для данной категории\n",
    "\n",
    "*Удержания новых клиентов*\n",
    "\n",
    "- Усилить поддержку клиентов в первый год использования услуги\n",
    "\n",
    "*Улучшение сервиса для семейных клиентов*\n",
    "\n",
    "- Разработать семейные пакеты и акции, так как наличие партнера является важным фактором лояльности"
   ]
  }
 ],
 "metadata": {
  "ExecuteTimeLog": [
   {
    "duration": 15376,
    "start_time": "2025-09-10T10:16:59.285Z"
   },
   {
    "duration": 1976,
    "start_time": "2025-09-10T10:17:14.663Z"
   },
   {
    "duration": 3,
    "start_time": "2025-09-10T10:17:16.641Z"
   },
   {
    "duration": 89,
    "start_time": "2025-09-10T10:27:55.508Z"
   },
   {
    "duration": 122,
    "start_time": "2025-09-10T10:28:49.773Z"
   },
   {
    "duration": 95,
    "start_time": "2025-09-10T10:29:01.487Z"
   },
   {
    "duration": 68,
    "start_time": "2025-09-10T10:29:02.417Z"
   },
   {
    "duration": 60,
    "start_time": "2025-09-10T10:29:22.288Z"
   },
   {
    "duration": 10,
    "start_time": "2025-09-10T10:50:40.476Z"
   },
   {
    "duration": 5,
    "start_time": "2025-09-10T10:55:15.656Z"
   },
   {
    "duration": 6,
    "start_time": "2025-09-10T11:00:53.802Z"
   },
   {
    "duration": 13,
    "start_time": "2025-09-10T11:01:39.285Z"
   },
   {
    "duration": 13,
    "start_time": "2025-09-10T11:01:51.268Z"
   },
   {
    "duration": 4,
    "start_time": "2025-09-10T11:03:42.621Z"
   },
   {
    "duration": 6,
    "start_time": "2025-09-10T11:04:02.927Z"
   },
   {
    "duration": 21,
    "start_time": "2025-09-10T11:05:20.688Z"
   },
   {
    "duration": 8,
    "start_time": "2025-09-10T11:05:50.912Z"
   },
   {
    "duration": 70,
    "start_time": "2025-09-10T11:07:14.068Z"
   },
   {
    "duration": 56,
    "start_time": "2025-09-10T11:11:45.393Z"
   },
   {
    "duration": 42,
    "start_time": "2025-09-10T11:11:51.678Z"
   },
   {
    "duration": 49,
    "start_time": "2025-09-10T11:12:39.952Z"
   },
   {
    "duration": 58,
    "start_time": "2025-09-10T11:12:50.616Z"
   },
   {
    "duration": 11,
    "start_time": "2025-09-10T11:14:56.362Z"
   },
   {
    "duration": 15553,
    "start_time": "2025-09-10T13:18:40.683Z"
   },
   {
    "duration": 1893,
    "start_time": "2025-09-10T13:18:56.239Z"
   },
   {
    "duration": 2,
    "start_time": "2025-09-10T13:18:58.137Z"
   },
   {
    "duration": 122,
    "start_time": "2025-09-10T13:18:58.141Z"
   },
   {
    "duration": 68,
    "start_time": "2025-09-10T13:18:58.264Z"
   },
   {
    "duration": 31,
    "start_time": "2025-09-10T13:18:58.333Z"
   },
   {
    "duration": 4,
    "start_time": "2025-09-10T13:18:58.366Z"
   },
   {
    "duration": 11,
    "start_time": "2025-09-10T13:18:58.371Z"
   },
   {
    "duration": 13,
    "start_time": "2025-09-10T13:18:58.384Z"
   },
   {
    "duration": 4,
    "start_time": "2025-09-10T13:18:58.399Z"
   },
   {
    "duration": 8,
    "start_time": "2025-09-10T13:18:58.405Z"
   },
   {
    "duration": 48,
    "start_time": "2025-09-10T13:18:58.414Z"
   },
   {
    "duration": 6,
    "start_time": "2025-09-10T13:18:58.464Z"
   },
   {
    "duration": 59,
    "start_time": "2025-09-10T13:18:58.472Z"
   },
   {
    "duration": 57,
    "start_time": "2025-09-10T13:18:58.563Z"
   },
   {
    "duration": 12,
    "start_time": "2025-09-10T13:18:58.622Z"
   },
   {
    "duration": 26,
    "start_time": "2025-09-10T13:19:36.071Z"
   },
   {
    "duration": 37,
    "start_time": "2025-09-10T13:19:40.766Z"
   },
   {
    "duration": 1394,
    "start_time": "2025-09-10T13:25:28.807Z"
   },
   {
    "duration": 8,
    "start_time": "2025-09-10T13:27:54.683Z"
   },
   {
    "duration": 12,
    "start_time": "2025-09-10T13:28:32.663Z"
   },
   {
    "duration": 25,
    "start_time": "2025-09-10T13:29:09.483Z"
   },
   {
    "duration": 5,
    "start_time": "2025-09-10T13:32:24.712Z"
   },
   {
    "duration": 5,
    "start_time": "2025-09-10T13:33:13.138Z"
   },
   {
    "duration": 17,
    "start_time": "2025-09-10T13:34:14.395Z"
   },
   {
    "duration": 713,
    "start_time": "2025-09-10T13:36:17.584Z"
   },
   {
    "duration": 584,
    "start_time": "2025-09-10T13:36:51.368Z"
   },
   {
    "duration": 509,
    "start_time": "2025-09-10T13:37:03.476Z"
   },
   {
    "duration": 633,
    "start_time": "2025-09-10T13:37:13.606Z"
   },
   {
    "duration": 895,
    "start_time": "2025-09-10T13:37:21.959Z"
   },
   {
    "duration": 593,
    "start_time": "2025-09-10T13:37:30.201Z"
   },
   {
    "duration": 1530,
    "start_time": "2025-09-10T13:41:10.001Z"
   },
   {
    "duration": 1363,
    "start_time": "2025-09-10T13:41:24.529Z"
   },
   {
    "duration": 1468,
    "start_time": "2025-09-10T13:41:32.481Z"
   },
   {
    "duration": 5,
    "start_time": "2025-09-10T13:54:14.148Z"
   },
   {
    "duration": 1533,
    "start_time": "2025-09-10T13:54:56.462Z"
   },
   {
    "duration": 6,
    "start_time": "2025-09-10T13:56:18.109Z"
   },
   {
    "duration": 1236,
    "start_time": "2025-09-10T13:56:18.944Z"
   },
   {
    "duration": 16939,
    "start_time": "2025-09-10T13:56:48.209Z"
   },
   {
    "duration": 1209,
    "start_time": "2025-09-10T13:57:47.434Z"
   },
   {
    "duration": 3284,
    "start_time": "2025-09-10T13:58:04.946Z"
   },
   {
    "duration": 1627,
    "start_time": "2025-09-10T13:59:05.682Z"
   },
   {
    "duration": 5,
    "start_time": "2025-09-10T14:08:33.747Z"
   },
   {
    "duration": 12,
    "start_time": "2025-09-10T14:08:35.827Z"
   },
   {
    "duration": 1078,
    "start_time": "2025-09-10T14:11:24.128Z"
   },
   {
    "duration": 12861,
    "start_time": "2025-09-10T14:14:12.767Z"
   },
   {
    "duration": 1566,
    "start_time": "2025-09-10T14:14:25.631Z"
   },
   {
    "duration": 2,
    "start_time": "2025-09-10T14:14:27.199Z"
   },
   {
    "duration": 92,
    "start_time": "2025-09-10T14:14:27.203Z"
   },
   {
    "duration": 67,
    "start_time": "2025-09-10T14:14:27.297Z"
   },
   {
    "duration": 9,
    "start_time": "2025-09-10T14:14:27.366Z"
   },
   {
    "duration": 54,
    "start_time": "2025-09-10T14:14:27.377Z"
   },
   {
    "duration": 9,
    "start_time": "2025-09-10T14:14:27.433Z"
   },
   {
    "duration": 117,
    "start_time": "2025-09-10T14:14:27.443Z"
   },
   {
    "duration": 7,
    "start_time": "2025-09-10T14:14:27.562Z"
   },
   {
    "duration": 7,
    "start_time": "2025-09-10T14:14:27.571Z"
   },
   {
    "duration": 24,
    "start_time": "2025-09-10T14:14:27.579Z"
   },
   {
    "duration": 6,
    "start_time": "2025-09-10T14:14:27.605Z"
   },
   {
    "duration": 80,
    "start_time": "2025-09-10T14:14:27.614Z"
   },
   {
    "duration": 24,
    "start_time": "2025-09-10T14:14:27.695Z"
   },
   {
    "duration": 56,
    "start_time": "2025-09-10T14:14:27.721Z"
   },
   {
    "duration": 12,
    "start_time": "2025-09-10T14:14:27.778Z"
   },
   {
    "duration": 9,
    "start_time": "2025-09-10T14:14:27.791Z"
   },
   {
    "duration": 59,
    "start_time": "2025-09-10T14:14:27.801Z"
   },
   {
    "duration": 26,
    "start_time": "2025-09-10T14:14:27.861Z"
   },
   {
    "duration": 4,
    "start_time": "2025-09-10T14:14:27.889Z"
   },
   {
    "duration": 32,
    "start_time": "2025-09-10T14:14:27.894Z"
   },
   {
    "duration": 20,
    "start_time": "2025-09-10T14:14:27.929Z"
   },
   {
    "duration": 680,
    "start_time": "2025-09-10T14:14:27.951Z"
   },
   {
    "duration": 1359,
    "start_time": "2025-09-10T14:14:28.632Z"
   },
   {
    "duration": 6,
    "start_time": "2025-09-10T14:14:29.992Z"
   },
   {
    "duration": 1037,
    "start_time": "2025-09-10T14:14:29.999Z"
   },
   {
    "duration": 899,
    "start_time": "2025-09-10T14:14:31.037Z"
   },
   {
    "duration": 2959,
    "start_time": "2025-09-10T14:14:31.938Z"
   },
   {
    "duration": 5,
    "start_time": "2025-09-10T14:14:34.898Z"
   },
   {
    "duration": 21,
    "start_time": "2025-09-10T14:14:34.904Z"
   },
   {
    "duration": 886,
    "start_time": "2025-09-10T14:14:34.926Z"
   },
   {
    "duration": 4,
    "start_time": "2025-09-10T14:18:44.032Z"
   },
   {
    "duration": 4,
    "start_time": "2025-09-10T14:19:00.913Z"
   },
   {
    "duration": 7,
    "start_time": "2025-09-10T14:20:29.966Z"
   },
   {
    "duration": 8,
    "start_time": "2025-09-10T14:21:00.890Z"
   },
   {
    "duration": 6,
    "start_time": "2025-09-10T14:21:47.561Z"
   },
   {
    "duration": 7,
    "start_time": "2025-09-10T14:22:07.881Z"
   },
   {
    "duration": 7,
    "start_time": "2025-09-10T14:22:18.871Z"
   },
   {
    "duration": 6,
    "start_time": "2025-09-10T14:23:22.616Z"
   },
   {
    "duration": 6,
    "start_time": "2025-09-10T14:24:20.429Z"
   },
   {
    "duration": 7,
    "start_time": "2025-09-10T14:24:47.576Z"
   },
   {
    "duration": 3,
    "start_time": "2025-09-10T14:27:23.922Z"
   },
   {
    "duration": 3,
    "start_time": "2025-09-10T14:27:52.956Z"
   },
   {
    "duration": 11,
    "start_time": "2025-09-10T14:28:15.102Z"
   },
   {
    "duration": 3,
    "start_time": "2025-09-10T14:28:51.184Z"
   },
   {
    "duration": 40,
    "start_time": "2025-09-10T14:29:14.747Z"
   },
   {
    "duration": 5,
    "start_time": "2025-09-10T14:29:46.930Z"
   },
   {
    "duration": 3,
    "start_time": "2025-09-10T14:29:58.029Z"
   },
   {
    "duration": 4,
    "start_time": "2025-09-10T14:30:10.443Z"
   },
   {
    "duration": 7893941,
    "start_time": "2025-09-10T14:30:19.828Z"
   },
   {
    "duration": 16,
    "start_time": "2025-09-10T16:41:53.770Z"
   },
   {
    "duration": 132310,
    "start_time": "2025-09-10T16:41:53.792Z"
   },
   {
    "duration": 15,
    "start_time": "2025-09-10T16:44:06.103Z"
   },
   {
    "duration": 20,
    "start_time": "2025-09-10T16:44:06.120Z"
   },
   {
    "duration": 4,
    "start_time": "2025-09-10T16:44:06.141Z"
   },
   {
    "duration": 24,
    "start_time": "2025-09-10T16:44:06.163Z"
   },
   {
    "duration": 37,
    "start_time": "2025-09-10T16:44:06.189Z"
   },
   {
    "duration": 274,
    "start_time": "2025-09-10T16:44:06.227Z"
   },
   {
    "duration": 4,
    "start_time": "2025-09-10T16:44:06.502Z"
   },
   {
    "duration": 188,
    "start_time": "2025-09-10T17:04:43.253Z"
   },
   {
    "duration": 1792,
    "start_time": "2025-09-11T14:38:49.974Z"
   },
   {
    "duration": 16575,
    "start_time": "2025-09-11T14:41:24.588Z"
   },
   {
    "duration": 1439,
    "start_time": "2025-09-11T14:41:41.165Z"
   },
   {
    "duration": 3,
    "start_time": "2025-09-11T14:41:42.606Z"
   },
   {
    "duration": 317,
    "start_time": "2025-09-11T14:41:42.611Z"
   },
   {
    "duration": 76,
    "start_time": "2025-09-11T14:41:42.930Z"
   },
   {
    "duration": 10,
    "start_time": "2025-09-11T14:41:43.008Z"
   },
   {
    "duration": 5,
    "start_time": "2025-09-11T14:41:43.020Z"
   },
   {
    "duration": 7,
    "start_time": "2025-09-11T14:41:43.026Z"
   },
   {
    "duration": 47,
    "start_time": "2025-09-11T14:41:43.035Z"
   },
   {
    "duration": 4,
    "start_time": "2025-09-11T14:41:43.085Z"
   },
   {
    "duration": 15,
    "start_time": "2025-09-11T14:41:43.091Z"
   },
   {
    "duration": 28,
    "start_time": "2025-09-11T14:41:43.108Z"
   },
   {
    "duration": 6,
    "start_time": "2025-09-11T14:41:43.138Z"
   },
   {
    "duration": 94,
    "start_time": "2025-09-11T14:41:43.146Z"
   },
   {
    "duration": 43,
    "start_time": "2025-09-11T14:41:43.242Z"
   },
   {
    "duration": 37,
    "start_time": "2025-09-11T14:41:43.286Z"
   },
   {
    "duration": 11,
    "start_time": "2025-09-11T14:41:43.325Z"
   },
   {
    "duration": 8,
    "start_time": "2025-09-11T14:41:43.338Z"
   },
   {
    "duration": 11,
    "start_time": "2025-09-11T14:41:43.371Z"
   },
   {
    "duration": 23,
    "start_time": "2025-09-11T14:41:43.383Z"
   },
   {
    "duration": 5,
    "start_time": "2025-09-11T14:41:43.408Z"
   },
   {
    "duration": 41,
    "start_time": "2025-09-11T14:41:43.414Z"
   },
   {
    "duration": 16,
    "start_time": "2025-09-11T14:41:43.457Z"
   },
   {
    "duration": 712,
    "start_time": "2025-09-11T14:41:43.475Z"
   },
   {
    "duration": 1611,
    "start_time": "2025-09-11T14:41:44.189Z"
   },
   {
    "duration": 5,
    "start_time": "2025-09-11T14:41:45.802Z"
   },
   {
    "duration": 1059,
    "start_time": "2025-09-11T14:41:45.808Z"
   },
   {
    "duration": 991,
    "start_time": "2025-09-11T14:41:46.874Z"
   },
   {
    "duration": 3118,
    "start_time": "2025-09-11T14:41:47.870Z"
   },
   {
    "duration": 4,
    "start_time": "2025-09-11T14:41:50.990Z"
   },
   {
    "duration": 20,
    "start_time": "2025-09-11T14:41:50.996Z"
   },
   {
    "duration": 964,
    "start_time": "2025-09-11T14:41:51.018Z"
   },
   {
    "duration": 4,
    "start_time": "2025-09-11T14:41:51.984Z"
   },
   {
    "duration": 21,
    "start_time": "2025-09-11T14:41:51.990Z"
   },
   {
    "duration": 13,
    "start_time": "2025-09-11T14:41:52.013Z"
   },
   {
    "duration": 8,
    "start_time": "2025-09-11T14:41:52.028Z"
   },
   {
    "duration": 35,
    "start_time": "2025-09-11T14:41:52.037Z"
   },
   {
    "duration": 13,
    "start_time": "2025-09-11T14:41:52.074Z"
   },
   {
    "duration": 3,
    "start_time": "2025-09-11T14:41:52.089Z"
   },
   {
    "duration": 9,
    "start_time": "2025-09-11T14:41:52.094Z"
   },
   {
    "duration": 10,
    "start_time": "2025-09-11T14:41:52.104Z"
   },
   {
    "duration": 3,
    "start_time": "2025-09-11T14:41:52.116Z"
   },
   {
    "duration": 60,
    "start_time": "2025-09-11T14:41:52.121Z"
   },
   {
    "duration": 5,
    "start_time": "2025-09-11T14:41:52.183Z"
   },
   {
    "duration": 11,
    "start_time": "2025-09-11T14:41:52.190Z"
   },
   {
    "duration": 14,
    "start_time": "2025-09-11T14:41:52.203Z"
   },
   {
    "duration": 4869476,
    "start_time": "2025-09-11T14:41:52.221Z"
   },
   {
    "duration": 19,
    "start_time": "2025-09-11T16:03:01.699Z"
   },
   {
    "duration": 139,
    "start_time": "2025-09-11T16:03:01.720Z"
   },
   {
    "duration": 0,
    "start_time": "2025-09-11T16:03:01.861Z"
   },
   {
    "duration": 0,
    "start_time": "2025-09-11T16:03:01.870Z"
   },
   {
    "duration": 0,
    "start_time": "2025-09-11T16:03:01.872Z"
   },
   {
    "duration": 0,
    "start_time": "2025-09-11T16:03:01.873Z"
   },
   {
    "duration": 0,
    "start_time": "2025-09-11T16:03:01.874Z"
   },
   {
    "duration": 0,
    "start_time": "2025-09-11T16:03:01.875Z"
   },
   {
    "duration": 0,
    "start_time": "2025-09-11T16:03:01.876Z"
   },
   {
    "duration": 0,
    "start_time": "2025-09-11T16:03:01.877Z"
   },
   {
    "duration": 0,
    "start_time": "2025-09-11T16:03:01.879Z"
   },
   {
    "duration": 50,
    "start_time": "2025-09-11T16:15:46.598Z"
   },
   {
    "duration": 125803,
    "start_time": "2025-09-11T16:16:04.262Z"
   },
   {
    "duration": 16,
    "start_time": "2025-09-11T16:18:10.068Z"
   },
   {
    "duration": 28,
    "start_time": "2025-09-11T16:18:10.086Z"
   },
   {
    "duration": 5,
    "start_time": "2025-09-11T16:18:10.116Z"
   },
   {
    "duration": 5,
    "start_time": "2025-09-11T16:18:10.122Z"
   },
   {
    "duration": 9,
    "start_time": "2025-09-11T16:18:10.128Z"
   },
   {
    "duration": 385,
    "start_time": "2025-09-11T16:18:10.139Z"
   },
   {
    "duration": 12,
    "start_time": "2025-09-11T16:18:10.525Z"
   },
   {
    "duration": 0,
    "start_time": "2025-09-11T16:18:10.538Z"
   },
   {
    "duration": 0,
    "start_time": "2025-09-11T16:18:10.540Z"
   },
   {
    "duration": 19,
    "start_time": "2025-09-11T16:18:37.624Z"
   },
   {
    "duration": 6,
    "start_time": "2025-09-11T16:20:56.611Z"
   },
   {
    "duration": 187,
    "start_time": "2025-09-11T16:22:05.599Z"
   },
   {
    "duration": 30020,
    "start_time": "2025-09-24T11:17:22.059Z"
   },
   {
    "duration": 2599,
    "start_time": "2025-09-24T11:17:52.081Z"
   },
   {
    "duration": 57,
    "start_time": "2025-09-24T11:17:54.682Z"
   },
   {
    "duration": 217,
    "start_time": "2025-09-24T11:17:54.742Z"
   },
   {
    "duration": 187,
    "start_time": "2025-09-24T11:17:54.961Z"
   },
   {
    "duration": 14,
    "start_time": "2025-09-24T11:17:55.150Z"
   },
   {
    "duration": 97,
    "start_time": "2025-09-24T11:17:55.166Z"
   },
   {
    "duration": 21,
    "start_time": "2025-09-24T11:17:55.264Z"
   },
   {
    "duration": 59,
    "start_time": "2025-09-24T11:17:55.287Z"
   },
   {
    "duration": 16,
    "start_time": "2025-09-24T11:17:55.350Z"
   },
   {
    "duration": 12,
    "start_time": "2025-09-24T11:17:55.368Z"
   },
   {
    "duration": 85,
    "start_time": "2025-09-24T11:17:55.382Z"
   },
   {
    "duration": 7,
    "start_time": "2025-09-24T11:17:55.468Z"
   },
   {
    "duration": 184,
    "start_time": "2025-09-24T11:17:55.476Z"
   },
   {
    "duration": 88,
    "start_time": "2025-09-24T11:17:55.661Z"
   },
   {
    "duration": 99,
    "start_time": "2025-09-24T11:17:55.752Z"
   },
   {
    "duration": 14,
    "start_time": "2025-09-24T11:17:55.854Z"
   },
   {
    "duration": 8,
    "start_time": "2025-09-24T11:17:55.869Z"
   },
   {
    "duration": 24,
    "start_time": "2025-09-24T11:17:55.940Z"
   },
   {
    "duration": 95,
    "start_time": "2025-09-24T11:17:55.966Z"
   },
   {
    "duration": 5,
    "start_time": "2025-09-24T11:17:56.063Z"
   },
   {
    "duration": 71,
    "start_time": "2025-09-24T11:17:56.070Z"
   },
   {
    "duration": 17,
    "start_time": "2025-09-24T11:17:56.144Z"
   },
   {
    "duration": 1302,
    "start_time": "2025-09-24T11:17:56.163Z"
   },
   {
    "duration": 3195,
    "start_time": "2025-09-24T11:17:57.467Z"
   },
   {
    "duration": 7,
    "start_time": "2025-09-24T11:18:00.664Z"
   },
   {
    "duration": 2597,
    "start_time": "2025-09-24T11:18:00.673Z"
   },
   {
    "duration": 2178,
    "start_time": "2025-09-24T11:18:03.274Z"
   },
   {
    "duration": 6091,
    "start_time": "2025-09-24T11:18:05.454Z"
   },
   {
    "duration": 5,
    "start_time": "2025-09-24T11:18:11.547Z"
   },
   {
    "duration": 14,
    "start_time": "2025-09-24T11:18:11.554Z"
   },
   {
    "duration": 1894,
    "start_time": "2025-09-24T11:18:11.570Z"
   },
   {
    "duration": 4,
    "start_time": "2025-09-24T11:18:13.466Z"
   },
   {
    "duration": 68,
    "start_time": "2025-09-24T11:18:13.472Z"
   },
   {
    "duration": 15,
    "start_time": "2025-09-24T11:18:13.542Z"
   },
   {
    "duration": 8,
    "start_time": "2025-09-24T11:18:13.559Z"
   },
   {
    "duration": 21,
    "start_time": "2025-09-24T11:18:13.569Z"
   },
   {
    "duration": 22,
    "start_time": "2025-09-24T11:18:13.640Z"
   },
   {
    "duration": 17,
    "start_time": "2025-09-24T11:18:13.664Z"
   },
   {
    "duration": 56,
    "start_time": "2025-09-24T11:18:13.683Z"
   },
   {
    "duration": 11,
    "start_time": "2025-09-24T11:18:13.741Z"
   },
   {
    "duration": 3,
    "start_time": "2025-09-24T11:18:13.754Z"
   },
   {
    "duration": 97,
    "start_time": "2025-09-24T11:18:13.758Z"
   },
   {
    "duration": 5,
    "start_time": "2025-09-24T11:18:13.857Z"
   },
   {
    "duration": 26,
    "start_time": "2025-09-24T11:18:13.864Z"
   },
   {
    "duration": 50,
    "start_time": "2025-09-24T11:18:13.891Z"
   },
   {
    "duration": 74,
    "start_time": "2025-09-24T15:30:20.055Z"
   },
   {
    "duration": 18447,
    "start_time": "2025-09-24T15:30:27.224Z"
   },
   {
    "duration": 1761,
    "start_time": "2025-09-24T15:30:45.679Z"
   },
   {
    "duration": 2,
    "start_time": "2025-09-24T15:30:47.445Z"
   },
   {
    "duration": 138,
    "start_time": "2025-09-24T15:30:47.449Z"
   },
   {
    "duration": 105,
    "start_time": "2025-09-24T15:30:47.589Z"
   },
   {
    "duration": 10,
    "start_time": "2025-09-24T15:30:47.697Z"
   },
   {
    "duration": 10,
    "start_time": "2025-09-24T15:30:47.709Z"
   },
   {
    "duration": 15,
    "start_time": "2025-09-24T15:30:47.720Z"
   },
   {
    "duration": 46,
    "start_time": "2025-09-24T15:30:47.738Z"
   },
   {
    "duration": 15,
    "start_time": "2025-09-24T15:30:47.787Z"
   },
   {
    "duration": 21,
    "start_time": "2025-09-24T15:30:47.803Z"
   },
   {
    "duration": 36,
    "start_time": "2025-09-24T15:30:47.825Z"
   },
   {
    "duration": 6,
    "start_time": "2025-09-24T15:30:47.863Z"
   },
   {
    "duration": 99,
    "start_time": "2025-09-24T15:30:47.871Z"
   },
   {
    "duration": 41,
    "start_time": "2025-09-24T15:30:47.976Z"
   },
   {
    "duration": 41,
    "start_time": "2025-09-24T15:30:48.019Z"
   },
   {
    "duration": 29,
    "start_time": "2025-09-24T15:30:48.078Z"
   },
   {
    "duration": 11,
    "start_time": "2025-09-24T15:30:48.108Z"
   },
   {
    "duration": 32,
    "start_time": "2025-09-24T15:30:48.121Z"
   },
   {
    "duration": 75,
    "start_time": "2025-09-24T15:30:48.155Z"
   },
   {
    "duration": 5,
    "start_time": "2025-09-24T15:30:48.232Z"
   },
   {
    "duration": 20,
    "start_time": "2025-09-24T15:30:48.239Z"
   },
   {
    "duration": 44,
    "start_time": "2025-09-24T15:30:48.261Z"
   },
   {
    "duration": 889,
    "start_time": "2025-09-24T15:30:48.306Z"
   },
   {
    "duration": 1727,
    "start_time": "2025-09-24T15:30:49.197Z"
   },
   {
    "duration": 7,
    "start_time": "2025-09-24T15:30:50.926Z"
   },
   {
    "duration": 1419,
    "start_time": "2025-09-24T15:30:50.938Z"
   },
   {
    "duration": 1190,
    "start_time": "2025-09-24T15:30:52.359Z"
   },
   {
    "duration": 3443,
    "start_time": "2025-09-24T15:30:53.551Z"
   },
   {
    "duration": 5,
    "start_time": "2025-09-24T15:30:56.996Z"
   },
   {
    "duration": 17,
    "start_time": "2025-09-24T15:30:57.003Z"
   },
   {
    "duration": 1088,
    "start_time": "2025-09-24T15:30:57.022Z"
   },
   {
    "duration": 4,
    "start_time": "2025-09-24T15:30:58.112Z"
   },
   {
    "duration": 17,
    "start_time": "2025-09-24T15:30:58.118Z"
   },
   {
    "duration": 10,
    "start_time": "2025-09-24T15:30:58.137Z"
   },
   {
    "duration": 8,
    "start_time": "2025-09-24T15:30:58.149Z"
   },
   {
    "duration": 29,
    "start_time": "2025-09-24T15:30:58.158Z"
   },
   {
    "duration": 9,
    "start_time": "2025-09-24T15:30:58.189Z"
   },
   {
    "duration": 4,
    "start_time": "2025-09-24T15:30:58.200Z"
   },
   {
    "duration": 9,
    "start_time": "2025-09-24T15:30:58.205Z"
   },
   {
    "duration": 13,
    "start_time": "2025-09-24T15:30:58.215Z"
   },
   {
    "duration": 7,
    "start_time": "2025-09-24T15:30:58.230Z"
   },
   {
    "duration": 71,
    "start_time": "2025-09-24T15:30:58.239Z"
   },
   {
    "duration": 12,
    "start_time": "2025-09-24T15:30:58.313Z"
   },
   {
    "duration": 4,
    "start_time": "2025-09-24T15:30:58.328Z"
   },
   {
    "duration": 9,
    "start_time": "2025-09-24T15:30:58.334Z"
   },
   {
    "duration": 9977712,
    "start_time": "2025-09-24T15:30:58.345Z"
   },
   {
    "duration": 33,
    "start_time": "2025-09-24T18:17:16.059Z"
   },
   {
    "duration": 173470,
    "start_time": "2025-09-24T18:17:16.094Z"
   },
   {
    "duration": 27,
    "start_time": "2025-09-24T18:20:09.566Z"
   },
   {
    "duration": 21,
    "start_time": "2025-09-24T18:20:09.594Z"
   },
   {
    "duration": 5,
    "start_time": "2025-09-24T18:20:09.617Z"
   },
   {
    "duration": 5,
    "start_time": "2025-09-24T18:20:09.624Z"
   },
   {
    "duration": 10,
    "start_time": "2025-09-24T18:20:09.631Z"
   },
   {
    "duration": 285,
    "start_time": "2025-09-24T18:20:09.675Z"
   },
   {
    "duration": 211,
    "start_time": "2025-09-24T18:20:09.962Z"
   },
   {
    "duration": 9,
    "start_time": "2025-09-24T18:20:10.180Z"
   },
   {
    "duration": 313,
    "start_time": "2025-09-24T18:20:10.190Z"
   }
  ],
  "kernelspec": {
   "display_name": "Python 3 (ipykernel)",
   "language": "python",
   "name": "python3"
  },
  "language_info": {
   "codemirror_mode": {
    "name": "ipython",
    "version": 3
   },
   "file_extension": ".py",
   "mimetype": "text/x-python",
   "name": "python",
   "nbconvert_exporter": "python",
   "pygments_lexer": "ipython3",
   "version": "3.9.5"
  },
  "toc": {
   "base_numbering": 1,
   "nav_menu": {},
   "number_sections": true,
   "sideBar": true,
   "skip_h1_title": true,
   "title_cell": "Table of Contents",
   "title_sidebar": "Contents",
   "toc_cell": false,
   "toc_position": {},
   "toc_section_display": true,
   "toc_window_display": true
  }
 },
 "nbformat": 4,
 "nbformat_minor": 5
}
