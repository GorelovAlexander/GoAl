  {
   "cell_type": "markdown",
   "id": "48ee0daf",
   "metadata": {},
   "source": [
    "# Итоговый проект: телекоммуникации\n",
    "\n",
    "# Описание проекта\n",
    "\n",
    "Оператор связи «ТелеДом» хочет бороться с оттоком клиентов. Для этого его сотрудники начнут предлагать промокоды и специальные условия всем, кто планирует отказаться от услуг связи. Чтобы заранее находить таких пользователей, «ТелеДому» нужна модель, которая будет предсказывать, разорвёт ли абонент договор. Команда оператора собрала персональные данные о некоторых клиентах, информацию об их тарифах и услугах.\n",
    "\n",
    "Оператор предоставляет два основных типа услуг: \n",
    "\n",
    "- Стационарную телефонную связь. Телефон можно подключить к нескольким линиям одновременно; \n",
    "- Интернет. Подключение может быть двух типов: через телефонную линию (DSL) или оптоволоконный кабель (Fiber optic).\n",
    "\n",
    "Дополнительные услуги:\n",
    "\n",
    "- Интернет-безопасность: антивирус (DeviceProtection) и блокировка небезопасных сайтов (OnlineSecurity);\n",
    "- Выделенная линия технической поддержки (TechSupport);\n",
    "- Облачное хранилище файлов для резервного копирования данных (OnlineBackup);\n",
    "- Стриминговое телевидение (StreamingTV) и каталог фильмов (StreamingMovies).\n",
    "\n",
    "Клиенты могут платить за услуги каждый месяц или заключить договор на 1–2 года. Возможно оплатить счёт разными способами, а также получить электронный чек.\n",
    "\n",
    "**Цель проекта** \n",
    "\n",
    "Обучить модель машинного обучения, прогнозирующую возможный отток клиентов.\n",
    "\n",
    "**Задачи проекта**\n",
    "- загрузить данные\n",
    "- подготовить итоговую таблицу, которая будет включать в себя всех клиентов\n",
    "- провести исследовательский и корреляционный анализы\n",
    "- подготовить и обучить разные модели\n",
    "- выбрать лучшую модель\n",
    "- провести анализ и интерпретацию важности признаков\n",
    "\n",
    "**Целевое ограничение** \n",
    "\n",
    "Значение метрики roc_auc лучшей модели на тестовой выборке должно быть >= 0.85."
   ]
  },
  {
   "cell_type": "markdown",
   "id": "196a14c6",
   "metadata": {},
   "source": [
    "## Подготовка"
   ]
  },
  {
   "cell_type": "markdown",
   "id": "63544aab",
   "metadata": {},
   "source": [
    "Загружаем необходимые библиотеки."
   ]
  },
  {
   "cell_type": "code",
   "execution_count": 1,
   "id": "545615e9",
   "metadata": {},
   "outputs": [
    {
     "name": "stdout",
     "output_type": "stream",
     "text": [
      "Found existing installation: scikit-learn 0.24.1\n",
      "Uninstalling scikit-learn-0.24.1:\n",
      "  Successfully uninstalled scikit-learn-0.24.1\n",
      "Collecting scikit-learn==1.3.2\n",
      "  Downloading scikit_learn-1.3.2-cp39-cp39-manylinux_2_17_x86_64.manylinux2014_x86_64.whl (10.9 MB)\n",
      "\u001b[K     |████████████████████████████████| 10.9 MB 1.8 MB/s eta 0:00:01\n",
      "\u001b[?25hRequirement already satisfied: scipy>=1.5.0 in /opt/conda/lib/python3.9/site-packages (from scikit-learn==1.3.2) (1.9.1)\n",
      "Requirement already satisfied: numpy<2.0,>=1.17.3 in /opt/conda/lib/python3.9/site-packages (from scikit-learn==1.3.2) (1.21.1)\n",
      "Requirement already satisfied: threadpoolctl>=2.0.0 in /opt/conda/lib/python3.9/site-packages (from scikit-learn==1.3.2) (3.1.0)\n",
      "Collecting joblib>=1.1.1\n",
      "  Downloading joblib-1.5.2-py3-none-any.whl (308 kB)\n",
      "\u001b[K     |████████████████████████████████| 308 kB 55.1 MB/s eta 0:00:01\n",
      "\u001b[?25hInstalling collected packages: joblib, scikit-learn\n",
      "  Attempting uninstall: joblib\n",
      "    Found existing installation: joblib 1.1.0\n",
      "    Uninstalling joblib-1.1.0:\n",
      "      Successfully uninstalled joblib-1.1.0\n",
      "Successfully installed joblib-1.5.2 scikit-learn-1.3.2\n"
     ]
    }
   ],
   "source": [
    "!pip install pandas -q\n",
    "!pip install matplotlib -q\n",
    "!pip install phik -q\n",
    "!pip uninstall scikit-learn -y\n",
    "!pip install scikit-learn==1.3.2"
   ]
  },
  {
   "cell_type": "code",
   "execution_count": 60,
   "id": "0024f279",
   "metadata": {},
   "outputs": [],
   "source": [
    "import pandas as pd\n",
    "import warnings\n",
    "warnings.simplefilter(\"ignore\") \n",
    "import matplotlib.pyplot as plt\n",
    "import seaborn as sns\n",
    "import numpy as np\n",
    "from scipy import stats as st\n",
    "import sklearn\n",
    "import phik\n",
    "from datetime import (datetime as dt, \n",
    "                      date, \n",
    "                      time)\n",
    "from functools import reduce\n",
    "from phik.report import plot_correlation_matrix\n",
    "\n",
    "from sklearn.model_selection import (train_test_split, \n",
    "                                     GridSearchCV, \n",
    "                                     RandomizedSearchCV,\n",
    "                                     cross_val_score)\n",
    "from sklearn.preprocessing import (OneHotEncoder, \n",
    "                                   OrdinalEncoder, \n",
    "                                   StandardScaler, \n",
    "                                   MinMaxScaler, \n",
    "                                   PolynomialFeatures, \n",
    "                                   RobustScaler,\n",
    "                                   LabelEncoder)\n",
    "from sklearn.linear_model import LinearRegression, LogisticRegression\n",
    "from sklearn.pipeline import Pipeline\n",
    "from sklearn.compose import ColumnTransformer\n",
    "from sklearn.impute import SimpleImputer\n",
    "from sklearn.tree import DecisionTreeClassifier, DecisionTreeRegressor\n",
    "from sklearn.svm import SVC\n",
    "from sklearn.metrics import (roc_auc_score, \n",
    "                             accuracy_score, \n",
    "                             confusion_matrix, \n",
    "                             mean_squared_error, \n",
    "                             mean_absolute_error, \n",
    "                             r2_score,\n",
    "                             make_scorer,\n",
    "                             RocCurveDisplay)\n",
    "from catboost import CatBoostClassifier"
   ]
  },
  {
   "cell_type": "markdown",
   "id": "31904a18",
   "metadata": {},
   "source": [
    "Вводим константы."
   ]
  },
  {
   "cell_type": "code",
   "execution_count": 3,
   "id": "8a903f15",
   "metadata": {},
   "outputs": [],
   "source": [
    "RANDOM_STATE = 80925\n",
    "TEST_SIZE = 0.25"
   ]
  },
  {
   "cell_type": "markdown",
   "id": "7477ffee",
   "metadata": {},
   "source": [
    "<div class=\"alert alert-success\">\n",
    "<b>👍 Успех:</b> Импортированы нужные библиотеки, определены константы\n",
    "</div>"
   ]
  },
  {
   "cell_type": "markdown",
   "id": "f8cb535a",
   "metadata": {},
   "source": [
    "## Загрузка данных"
   ]
  },
  {
   "cell_type": "markdown",
   "id": "9afdce2d",
   "metadata": {},
   "source": [
    "Создадим датасеты и укажем в них наши данные."
   ]
  },
  {
   "cell_type": "code",
   "execution_count": 4,
   "id": "6d6c540c",
   "metadata": {},
   "outputs": [],
   "source": [
    "contract = pd.read_csv('/datasets/contract_new.csv')\n",
    "personal = pd.read_csv('/datasets/personal_new.csv')\n",
    "internet = pd.read_csv('/datasets/internet_new.csv')\n",
    "phone = pd.read_csv('/datasets/phone_new.csv')"
   ]
  },
  {
   "cell_type": "markdown",
   "id": "f16109c3",
   "metadata": {},
   "source": [
    "Выведем первые строки и информацию, чтобы проверить содержание наших данных."
   ]
  },
  {
   "cell_type": "code",
   "execution_count": 5,
   "id": "12d0057d",
   "metadata": {
    "scrolled": false
   },
   "outputs": [
    {
     "data": {
      "text/html": [
       "<div>\n",
       "<style scoped>\n",
       "    .dataframe tbody tr th:only-of-type {\n",
       "        vertical-align: middle;\n",
       "    }\n",
       "\n",
       "    .dataframe tbody tr th {\n",
       "        vertical-align: top;\n",
       "    }\n",
       "\n",
       "    .dataframe thead th {\n",
       "        text-align: right;\n",
       "    }\n",
       "</style>\n",
       "<table border=\"1\" class=\"dataframe\">\n",
       "  <thead>\n",
       "    <tr style=\"text-align: right;\">\n",
       "      <th></th>\n",
       "      <th>customerID</th>\n",
       "      <th>BeginDate</th>\n",
       "      <th>EndDate</th>\n",
       "      <th>Type</th>\n",
       "      <th>PaperlessBilling</th>\n",
       "      <th>PaymentMethod</th>\n",
       "      <th>MonthlyCharges</th>\n",
       "      <th>TotalCharges</th>\n",
       "    </tr>\n",
       "  </thead>\n",
       "  <tbody>\n",
       "    <tr>\n",
       "      <th>0</th>\n",
       "      <td>7590-VHVEG</td>\n",
       "      <td>2020-01-01</td>\n",
       "      <td>No</td>\n",
       "      <td>Month-to-month</td>\n",
       "      <td>Yes</td>\n",
       "      <td>Electronic check</td>\n",
       "      <td>29.85</td>\n",
       "      <td>31.04</td>\n",
       "    </tr>\n",
       "    <tr>\n",
       "      <th>1</th>\n",
       "      <td>5575-GNVDE</td>\n",
       "      <td>2017-04-01</td>\n",
       "      <td>No</td>\n",
       "      <td>One year</td>\n",
       "      <td>No</td>\n",
       "      <td>Mailed check</td>\n",
       "      <td>56.95</td>\n",
       "      <td>2071.84</td>\n",
       "    </tr>\n",
       "    <tr>\n",
       "      <th>2</th>\n",
       "      <td>3668-QPYBK</td>\n",
       "      <td>2019-10-01</td>\n",
       "      <td>No</td>\n",
       "      <td>Month-to-month</td>\n",
       "      <td>Yes</td>\n",
       "      <td>Mailed check</td>\n",
       "      <td>53.85</td>\n",
       "      <td>226.17</td>\n",
       "    </tr>\n",
       "    <tr>\n",
       "      <th>3</th>\n",
       "      <td>7795-CFOCW</td>\n",
       "      <td>2016-05-01</td>\n",
       "      <td>No</td>\n",
       "      <td>One year</td>\n",
       "      <td>No</td>\n",
       "      <td>Bank transfer (automatic)</td>\n",
       "      <td>42.30</td>\n",
       "      <td>1960.6</td>\n",
       "    </tr>\n",
       "    <tr>\n",
       "      <th>4</th>\n",
       "      <td>9237-HQITU</td>\n",
       "      <td>2019-09-01</td>\n",
       "      <td>No</td>\n",
       "      <td>Month-to-month</td>\n",
       "      <td>Yes</td>\n",
       "      <td>Electronic check</td>\n",
       "      <td>70.70</td>\n",
       "      <td>353.5</td>\n",
       "    </tr>\n",
       "  </tbody>\n",
       "</table>\n",
       "</div>"
      ],
      "text/plain": [
       "   customerID   BeginDate EndDate            Type PaperlessBilling  \\\n",
       "0  7590-VHVEG  2020-01-01      No  Month-to-month              Yes   \n",
       "1  5575-GNVDE  2017-04-01      No        One year               No   \n",
       "2  3668-QPYBK  2019-10-01      No  Month-to-month              Yes   \n",
       "3  7795-CFOCW  2016-05-01      No        One year               No   \n",
       "4  9237-HQITU  2019-09-01      No  Month-to-month              Yes   \n",
       "\n",
       "               PaymentMethod  MonthlyCharges TotalCharges  \n",
       "0           Electronic check           29.85        31.04  \n",
       "1               Mailed check           56.95      2071.84  \n",
       "2               Mailed check           53.85       226.17  \n",
       "3  Bank transfer (automatic)           42.30       1960.6  \n",
       "4           Electronic check           70.70        353.5  "
      ]
     },
     "metadata": {},
     "output_type": "display_data"
    },
    {
     "name": "stdout",
     "output_type": "stream",
     "text": [
      "<class 'pandas.core.frame.DataFrame'>\n",
      "RangeIndex: 7043 entries, 0 to 7042\n",
      "Data columns (total 8 columns):\n",
      " #   Column            Non-Null Count  Dtype  \n",
      "---  ------            --------------  -----  \n",
      " 0   customerID        7043 non-null   object \n",
      " 1   BeginDate         7043 non-null   object \n",
      " 2   EndDate           7043 non-null   object \n",
      " 3   Type              7043 non-null   object \n",
      " 4   PaperlessBilling  7043 non-null   object \n",
      " 5   PaymentMethod     7043 non-null   object \n",
      " 6   MonthlyCharges    7043 non-null   float64\n",
      " 7   TotalCharges      7043 non-null   object \n",
      "dtypes: float64(1), object(7)\n",
      "memory usage: 440.3+ KB\n",
      "None\n",
      "\n"
     ]
    },
    {
     "data": {
      "text/html": [
       "<div>\n",
       "<style scoped>\n",
       "    .dataframe tbody tr th:only-of-type {\n",
       "        vertical-align: middle;\n",
       "    }\n",
       "\n",
       "    .dataframe tbody tr th {\n",
       "        vertical-align: top;\n",
       "    }\n",
       "\n",
       "    .dataframe thead th {\n",
       "        text-align: right;\n",
       "    }\n",
       "</style>\n",
       "<table border=\"1\" class=\"dataframe\">\n",
       "  <thead>\n",
       "    <tr style=\"text-align: right;\">\n",
       "      <th></th>\n",
       "      <th>customerID</th>\n",
       "      <th>gender</th>\n",
       "      <th>SeniorCitizen</th>\n",
       "      <th>Partner</th>\n",
       "      <th>Dependents</th>\n",
       "    </tr>\n",
       "  </thead>\n",
       "  <tbody>\n",
       "    <tr>\n",
       "      <th>0</th>\n",
       "      <td>7590-VHVEG</td>\n",
       "      <td>Female</td>\n",
       "      <td>0</td>\n",
       "      <td>Yes</td>\n",
       "      <td>No</td>\n",
       "    </tr>\n",
       "    <tr>\n",
       "      <th>1</th>\n",
       "      <td>5575-GNVDE</td>\n",
       "      <td>Male</td>\n",
       "      <td>0</td>\n",
       "      <td>No</td>\n",
       "      <td>No</td>\n",
       "    </tr>\n",
       "    <tr>\n",
       "      <th>2</th>\n",
       "      <td>3668-QPYBK</td>\n",
       "      <td>Male</td>\n",
       "      <td>0</td>\n",
       "      <td>No</td>\n",
       "      <td>No</td>\n",
       "    </tr>\n",
       "    <tr>\n",
       "      <th>3</th>\n",
       "      <td>7795-CFOCW</td>\n",
       "      <td>Male</td>\n",
       "      <td>0</td>\n",
       "      <td>No</td>\n",
       "      <td>No</td>\n",
       "    </tr>\n",
       "    <tr>\n",
       "      <th>4</th>\n",
       "      <td>9237-HQITU</td>\n",
       "      <td>Female</td>\n",
       "      <td>0</td>\n",
       "      <td>No</td>\n",
       "      <td>No</td>\n",
       "    </tr>\n",
       "  </tbody>\n",
       "</table>\n",
       "</div>"
      ],
      "text/plain": [
       "   customerID  gender  SeniorCitizen Partner Dependents\n",
       "0  7590-VHVEG  Female              0     Yes         No\n",
       "1  5575-GNVDE    Male              0      No         No\n",
       "2  3668-QPYBK    Male              0      No         No\n",
       "3  7795-CFOCW    Male              0      No         No\n",
       "4  9237-HQITU  Female              0      No         No"
      ]
     },
     "metadata": {},
     "output_type": "display_data"
    },
    {
     "name": "stdout",
     "output_type": "stream",
     "text": [
      "<class 'pandas.core.frame.DataFrame'>\n",
      "RangeIndex: 7043 entries, 0 to 7042\n",
      "Data columns (total 5 columns):\n",
      " #   Column         Non-Null Count  Dtype \n",
      "---  ------         --------------  ----- \n",
      " 0   customerID     7043 non-null   object\n",
      " 1   gender         7043 non-null   object\n",
      " 2   SeniorCitizen  7043 non-null   int64 \n",
      " 3   Partner        7043 non-null   object\n",
      " 4   Dependents     7043 non-null   object\n",
      "dtypes: int64(1), object(4)\n",
      "memory usage: 275.2+ KB\n",
      "None\n",
      "\n"
     ]
    },
    {
     "data": {
      "text/html": [
       "<div>\n",
       "<style scoped>\n",
       "    .dataframe tbody tr th:only-of-type {\n",
       "        vertical-align: middle;\n",
       "    }\n",
       "\n",
       "    .dataframe tbody tr th {\n",
       "        vertical-align: top;\n",
       "    }\n",
       "\n",
       "    .dataframe thead th {\n",
       "        text-align: right;\n",
       "    }\n",
       "</style>\n",
       "<table border=\"1\" class=\"dataframe\">\n",
       "  <thead>\n",
       "    <tr style=\"text-align: right;\">\n",
       "      <th></th>\n",
       "      <th>customerID</th>\n",
       "      <th>InternetService</th>\n",
       "      <th>OnlineSecurity</th>\n",
       "      <th>OnlineBackup</th>\n",
       "      <th>DeviceProtection</th>\n",
       "      <th>TechSupport</th>\n",
       "      <th>StreamingTV</th>\n",
       "      <th>StreamingMovies</th>\n",
       "    </tr>\n",
       "  </thead>\n",
       "  <tbody>\n",
       "    <tr>\n",
       "      <th>0</th>\n",
       "      <td>7590-VHVEG</td>\n",
       "      <td>DSL</td>\n",
       "      <td>No</td>\n",
       "      <td>Yes</td>\n",
       "      <td>No</td>\n",
       "      <td>No</td>\n",
       "      <td>No</td>\n",
       "      <td>No</td>\n",
       "    </tr>\n",
       "    <tr>\n",
       "      <th>1</th>\n",
       "      <td>5575-GNVDE</td>\n",
       "      <td>DSL</td>\n",
       "      <td>Yes</td>\n",
       "      <td>No</td>\n",
       "      <td>Yes</td>\n",
       "      <td>No</td>\n",
       "      <td>No</td>\n",
       "      <td>No</td>\n",
       "    </tr>\n",
       "    <tr>\n",
       "      <th>2</th>\n",
       "      <td>3668-QPYBK</td>\n",
       "      <td>DSL</td>\n",
       "      <td>Yes</td>\n",
       "      <td>Yes</td>\n",
       "      <td>No</td>\n",
       "      <td>No</td>\n",
       "      <td>No</td>\n",
       "      <td>No</td>\n",
       "    </tr>\n",
       "    <tr>\n",
       "      <th>3</th>\n",
       "      <td>7795-CFOCW</td>\n",
       "      <td>DSL</td>\n",
       "      <td>Yes</td>\n",
       "      <td>No</td>\n",
       "      <td>Yes</td>\n",
       "      <td>Yes</td>\n",
       "      <td>No</td>\n",
       "      <td>No</td>\n",
       "    </tr>\n",
       "    <tr>\n",
       "      <th>4</th>\n",
       "      <td>9237-HQITU</td>\n",
       "      <td>Fiber optic</td>\n",
       "      <td>No</td>\n",
       "      <td>No</td>\n",
       "      <td>No</td>\n",
       "      <td>No</td>\n",
       "      <td>No</td>\n",
       "      <td>No</td>\n",
       "    </tr>\n",
       "  </tbody>\n",
       "</table>\n",
       "</div>"
      ],
      "text/plain": [
       "   customerID InternetService OnlineSecurity OnlineBackup DeviceProtection  \\\n",
       "0  7590-VHVEG             DSL             No          Yes               No   \n",
       "1  5575-GNVDE             DSL            Yes           No              Yes   \n",
       "2  3668-QPYBK             DSL            Yes          Yes               No   \n",
       "3  7795-CFOCW             DSL            Yes           No              Yes   \n",
       "4  9237-HQITU     Fiber optic             No           No               No   \n",
       "\n",
       "  TechSupport StreamingTV StreamingMovies  \n",
       "0          No          No              No  \n",
       "1          No          No              No  \n",
       "2          No          No              No  \n",
       "3         Yes          No              No  \n",
       "4          No          No              No  "
      ]
     },
     "metadata": {},
     "output_type": "display_data"
    },
    {
     "name": "stdout",
     "output_type": "stream",
     "text": [
      "<class 'pandas.core.frame.DataFrame'>\n",
      "RangeIndex: 5517 entries, 0 to 5516\n",
      "Data columns (total 8 columns):\n",
      " #   Column            Non-Null Count  Dtype \n",
      "---  ------            --------------  ----- \n",
      " 0   customerID        5517 non-null   object\n",
      " 1   InternetService   5517 non-null   object\n",
      " 2   OnlineSecurity    5517 non-null   object\n",
      " 3   OnlineBackup      5517 non-null   object\n",
      " 4   DeviceProtection  5517 non-null   object\n",
      " 5   TechSupport       5517 non-null   object\n",
      " 6   StreamingTV       5517 non-null   object\n",
      " 7   StreamingMovies   5517 non-null   object\n",
      "dtypes: object(8)\n",
      "memory usage: 344.9+ KB\n",
      "None\n"
     ]
    },
    {
     "data": {
      "text/html": [
       "<div>\n",
       "<style scoped>\n",
       "    .dataframe tbody tr th:only-of-type {\n",
       "        vertical-align: middle;\n",
       "    }\n",
       "\n",
       "    .dataframe tbody tr th {\n",
       "        vertical-align: top;\n",
       "    }\n",
       "\n",
       "    .dataframe thead th {\n",
       "        text-align: right;\n",
       "    }\n",
       "</style>\n",
       "<table border=\"1\" class=\"dataframe\">\n",
       "  <thead>\n",
       "    <tr style=\"text-align: right;\">\n",
       "      <th></th>\n",
       "      <th>customerID</th>\n",
       "      <th>MultipleLines</th>\n",
       "    </tr>\n",
       "  </thead>\n",
       "  <tbody>\n",
       "    <tr>\n",
       "      <th>0</th>\n",
       "      <td>5575-GNVDE</td>\n",
       "      <td>No</td>\n",
       "    </tr>\n",
       "    <tr>\n",
       "      <th>1</th>\n",
       "      <td>3668-QPYBK</td>\n",
       "      <td>No</td>\n",
       "    </tr>\n",
       "    <tr>\n",
       "      <th>2</th>\n",
       "      <td>9237-HQITU</td>\n",
       "      <td>No</td>\n",
       "    </tr>\n",
       "    <tr>\n",
       "      <th>3</th>\n",
       "      <td>9305-CDSKC</td>\n",
       "      <td>Yes</td>\n",
       "    </tr>\n",
       "    <tr>\n",
       "      <th>4</th>\n",
       "      <td>1452-KIOVK</td>\n",
       "      <td>Yes</td>\n",
       "    </tr>\n",
       "  </tbody>\n",
       "</table>\n",
       "</div>"
      ],
      "text/plain": [
       "   customerID MultipleLines\n",
       "0  5575-GNVDE            No\n",
       "1  3668-QPYBK            No\n",
       "2  9237-HQITU            No\n",
       "3  9305-CDSKC           Yes\n",
       "4  1452-KIOVK           Yes"
      ]
     },
     "metadata": {},
     "output_type": "display_data"
    },
    {
     "name": "stdout",
     "output_type": "stream",
     "text": [
      "<class 'pandas.core.frame.DataFrame'>\n",
      "RangeIndex: 6361 entries, 0 to 6360\n",
      "Data columns (total 2 columns):\n",
      " #   Column         Non-Null Count  Dtype \n",
      "---  ------         --------------  ----- \n",
      " 0   customerID     6361 non-null   object\n",
      " 1   MultipleLines  6361 non-null   object\n",
      "dtypes: object(2)\n",
      "memory usage: 99.5+ KB\n",
      "None\n"
     ]
    }
   ],
   "source": [
    "display(contract.head())\n",
    "print(contract.info())\n",
    "print()\n",
    "display(personal.head())\n",
    "print(personal.info())\n",
    "print()\n",
    "display(internet.head())\n",
    "print(internet.info())\n",
    "display(phone.head())\n",
    "print(phone.info())"
   ]
  },
  {
   "cell_type": "markdown",
   "id": "0b22faea",
   "metadata": {},
   "source": [
    "**Выводы по загрузке данных**\n",
    "\n",
    "- Данные были загружены и проверены на соответствие\n",
    "- Некоторые числа и даты записаны типом object (требуется заменить)\n",
    "- Булевые переменные обозначены словами (не требует изменений)\n",
    "- Отсутствуют пропуски в данных\n",
    "- Отсутствует столбец с целевым признаком (требуется создать) "
   ]
  },
  {
   "cell_type": "markdown",
   "id": "136dbfb2",
   "metadata": {},
   "source": [
    "<div class=\"alert alert-success\">\n",
    "<b>👍 Успех:</b> Данные загружены и просмотрены!\n",
    "</div>"
   ]
  },
  {
   "cell_type": "markdown",
   "id": "0fd6b770",
   "metadata": {},
   "source": [
    "## Предобработка данных"
   ]
  },
  {
   "cell_type": "markdown",
   "id": "cf092026",
   "metadata": {},
   "source": [
    "Изменим тип данных там, где это необходимо."
   ]
  },
  {
   "cell_type": "code",
   "execution_count": 6,
   "id": "c6210c71",
   "metadata": {},
   "outputs": [],
   "source": [
    "contract['TotalCharges'] = pd.to_numeric(contract['TotalCharges'], errors='coerce')\n",
    "contract['BeginDate'] = pd.to_datetime(contract['BeginDate'], format='%Y-%m-%d')"
   ]
  },
  {
   "cell_type": "markdown",
   "id": "fd14c939",
   "metadata": {},
   "source": [
    "Создадим столбец с целевым признаком, опираясь на данные из столбца EndDate. Для этого посмотрим на уникальные значения столбца."
   ]
  },
  {
   "cell_type": "code",
   "execution_count": 7,
   "id": "358ca890",
   "metadata": {},
   "outputs": [
    {
     "name": "stdout",
     "output_type": "stream",
     "text": [
      "['No' '2017-05-01' '2016-03-01' '2018-09-01' '2018-11-01' '2018-12-01'\n",
      " '2019-08-01' '2018-07-01' '2017-09-01' '2015-09-01' '2016-07-01'\n",
      " '2016-06-01' '2018-03-01' '2019-02-01' '2018-06-01' '2019-06-01'\n",
      " '2020-01-01' '2019-11-01' '2016-09-01' '2015-06-01' '2016-12-01'\n",
      " '2019-05-01' '2019-04-01' '2017-06-01' '2017-08-01' '2018-04-01'\n",
      " '2018-08-01' '2018-02-01' '2019-07-01' '2015-12-01' '2014-06-01'\n",
      " '2018-10-01' '2019-01-01' '2017-07-01' '2017-12-01' '2018-05-01'\n",
      " '2015-11-01' '2019-10-01' '2019-03-01' '2016-02-01' '2016-10-01'\n",
      " '2018-01-01' '2017-11-01' '2015-10-01' '2019-12-01' '2015-07-01'\n",
      " '2017-04-01' '2015-02-01' '2017-03-01' '2016-05-01' '2016-11-01'\n",
      " '2015-08-01' '2019-09-01' '2017-10-01' '2017-02-01' '2016-08-01'\n",
      " '2016-04-01' '2015-05-01' '2014-09-01' '2014-10-01' '2017-01-01'\n",
      " '2015-03-01' '2015-01-01' '2016-01-01' '2015-04-01' '2014-12-01'\n",
      " '2014-11-01']\n"
     ]
    }
   ],
   "source": [
    "print(contract['EndDate'].unique())"
   ]
  },
  {
   "cell_type": "markdown",
   "id": "f89db517",
   "metadata": {},
   "source": [
    "Можно выделить два вида данных: дата завершения договора и **No**, если договор не был завершен. ИСходя из этого мы можем создать столбец с целевым признаком **target**, где 1 означает незавершенный контракт (No), а 0 - завершенный контракт."
   ]
  },
  {
   "cell_type": "code",
   "execution_count": 8,
   "id": "6ea27da1",
   "metadata": {},
   "outputs": [],
   "source": [
    "contract['target'] = [1 if i != 'No' else 0 for i in contract['EndDate']]"
   ]
  },
  {
   "cell_type": "markdown",
   "id": "50c6edd2",
   "metadata": {},
   "source": [
    "Проверим столбец с целевым признаком."
   ]
  },
  {
   "cell_type": "code",
   "execution_count": 9,
   "id": "1db9eb9b",
   "metadata": {},
   "outputs": [
    {
     "data": {
      "text/html": [
       "<div>\n",
       "<style scoped>\n",
       "    .dataframe tbody tr th:only-of-type {\n",
       "        vertical-align: middle;\n",
       "    }\n",
       "\n",
       "    .dataframe tbody tr th {\n",
       "        vertical-align: top;\n",
       "    }\n",
       "\n",
       "    .dataframe thead th {\n",
       "        text-align: right;\n",
       "    }\n",
       "</style>\n",
       "<table border=\"1\" class=\"dataframe\">\n",
       "  <thead>\n",
       "    <tr style=\"text-align: right;\">\n",
       "      <th></th>\n",
       "      <th>customerID</th>\n",
       "      <th>BeginDate</th>\n",
       "      <th>EndDate</th>\n",
       "      <th>Type</th>\n",
       "      <th>PaperlessBilling</th>\n",
       "      <th>PaymentMethod</th>\n",
       "      <th>MonthlyCharges</th>\n",
       "      <th>TotalCharges</th>\n",
       "      <th>target</th>\n",
       "    </tr>\n",
       "  </thead>\n",
       "  <tbody>\n",
       "    <tr>\n",
       "      <th>0</th>\n",
       "      <td>7590-VHVEG</td>\n",
       "      <td>2020-01-01</td>\n",
       "      <td>No</td>\n",
       "      <td>Month-to-month</td>\n",
       "      <td>Yes</td>\n",
       "      <td>Electronic check</td>\n",
       "      <td>29.85</td>\n",
       "      <td>31.04</td>\n",
       "      <td>0</td>\n",
       "    </tr>\n",
       "    <tr>\n",
       "      <th>1</th>\n",
       "      <td>5575-GNVDE</td>\n",
       "      <td>2017-04-01</td>\n",
       "      <td>No</td>\n",
       "      <td>One year</td>\n",
       "      <td>No</td>\n",
       "      <td>Mailed check</td>\n",
       "      <td>56.95</td>\n",
       "      <td>2071.84</td>\n",
       "      <td>0</td>\n",
       "    </tr>\n",
       "    <tr>\n",
       "      <th>2</th>\n",
       "      <td>3668-QPYBK</td>\n",
       "      <td>2019-10-01</td>\n",
       "      <td>No</td>\n",
       "      <td>Month-to-month</td>\n",
       "      <td>Yes</td>\n",
       "      <td>Mailed check</td>\n",
       "      <td>53.85</td>\n",
       "      <td>226.17</td>\n",
       "      <td>0</td>\n",
       "    </tr>\n",
       "    <tr>\n",
       "      <th>3</th>\n",
       "      <td>7795-CFOCW</td>\n",
       "      <td>2016-05-01</td>\n",
       "      <td>No</td>\n",
       "      <td>One year</td>\n",
       "      <td>No</td>\n",
       "      <td>Bank transfer (automatic)</td>\n",
       "      <td>42.30</td>\n",
       "      <td>1960.60</td>\n",
       "      <td>0</td>\n",
       "    </tr>\n",
       "    <tr>\n",
       "      <th>4</th>\n",
       "      <td>9237-HQITU</td>\n",
       "      <td>2019-09-01</td>\n",
       "      <td>No</td>\n",
       "      <td>Month-to-month</td>\n",
       "      <td>Yes</td>\n",
       "      <td>Electronic check</td>\n",
       "      <td>70.70</td>\n",
       "      <td>353.50</td>\n",
       "      <td>0</td>\n",
       "    </tr>\n",
       "    <tr>\n",
       "      <th>5</th>\n",
       "      <td>9305-CDSKC</td>\n",
       "      <td>2019-03-01</td>\n",
       "      <td>No</td>\n",
       "      <td>Month-to-month</td>\n",
       "      <td>Yes</td>\n",
       "      <td>Electronic check</td>\n",
       "      <td>99.65</td>\n",
       "      <td>1150.96</td>\n",
       "      <td>0</td>\n",
       "    </tr>\n",
       "    <tr>\n",
       "      <th>6</th>\n",
       "      <td>1452-KIOVK</td>\n",
       "      <td>2018-04-01</td>\n",
       "      <td>No</td>\n",
       "      <td>Month-to-month</td>\n",
       "      <td>Yes</td>\n",
       "      <td>Credit card (automatic)</td>\n",
       "      <td>89.10</td>\n",
       "      <td>2058.21</td>\n",
       "      <td>0</td>\n",
       "    </tr>\n",
       "    <tr>\n",
       "      <th>7</th>\n",
       "      <td>6713-OKOMC</td>\n",
       "      <td>2019-04-01</td>\n",
       "      <td>No</td>\n",
       "      <td>Month-to-month</td>\n",
       "      <td>No</td>\n",
       "      <td>Mailed check</td>\n",
       "      <td>29.75</td>\n",
       "      <td>300.48</td>\n",
       "      <td>0</td>\n",
       "    </tr>\n",
       "    <tr>\n",
       "      <th>8</th>\n",
       "      <td>7892-POOKP</td>\n",
       "      <td>2017-07-01</td>\n",
       "      <td>No</td>\n",
       "      <td>Month-to-month</td>\n",
       "      <td>Yes</td>\n",
       "      <td>Electronic check</td>\n",
       "      <td>104.80</td>\n",
       "      <td>3573.68</td>\n",
       "      <td>0</td>\n",
       "    </tr>\n",
       "    <tr>\n",
       "      <th>9</th>\n",
       "      <td>6388-TABGU</td>\n",
       "      <td>2014-12-01</td>\n",
       "      <td>2017-05-01</td>\n",
       "      <td>One year</td>\n",
       "      <td>No</td>\n",
       "      <td>Bank transfer (automatic)</td>\n",
       "      <td>56.15</td>\n",
       "      <td>1628.35</td>\n",
       "      <td>1</td>\n",
       "    </tr>\n",
       "  </tbody>\n",
       "</table>\n",
       "</div>"
      ],
      "text/plain": [
       "   customerID  BeginDate     EndDate            Type PaperlessBilling  \\\n",
       "0  7590-VHVEG 2020-01-01          No  Month-to-month              Yes   \n",
       "1  5575-GNVDE 2017-04-01          No        One year               No   \n",
       "2  3668-QPYBK 2019-10-01          No  Month-to-month              Yes   \n",
       "3  7795-CFOCW 2016-05-01          No        One year               No   \n",
       "4  9237-HQITU 2019-09-01          No  Month-to-month              Yes   \n",
       "5  9305-CDSKC 2019-03-01          No  Month-to-month              Yes   \n",
       "6  1452-KIOVK 2018-04-01          No  Month-to-month              Yes   \n",
       "7  6713-OKOMC 2019-04-01          No  Month-to-month               No   \n",
       "8  7892-POOKP 2017-07-01          No  Month-to-month              Yes   \n",
       "9  6388-TABGU 2014-12-01  2017-05-01        One year               No   \n",
       "\n",
       "               PaymentMethod  MonthlyCharges  TotalCharges  target  \n",
       "0           Electronic check           29.85         31.04       0  \n",
       "1               Mailed check           56.95       2071.84       0  \n",
       "2               Mailed check           53.85        226.17       0  \n",
       "3  Bank transfer (automatic)           42.30       1960.60       0  \n",
       "4           Electronic check           70.70        353.50       0  \n",
       "5           Electronic check           99.65       1150.96       0  \n",
       "6    Credit card (automatic)           89.10       2058.21       0  \n",
       "7               Mailed check           29.75        300.48       0  \n",
       "8           Electronic check          104.80       3573.68       0  \n",
       "9  Bank transfer (automatic)           56.15       1628.35       1  "
      ]
     },
     "execution_count": 9,
     "metadata": {},
     "output_type": "execute_result"
    }
   ],
   "source": [
    "contract.head(10)"
   ]
  },
  {
   "cell_type": "markdown",
   "id": "671141ac",
   "metadata": {},
   "source": [
    "Чтобы изменить привести тип данных к datetime в столбце EndDate изменим значение No на дату, когда были представлены данные - 1 февраля 2020 года."
   ]
  },
  {
   "cell_type": "code",
   "execution_count": 10,
   "id": "4ae3b550",
   "metadata": {},
   "outputs": [],
   "source": [
    "contract.loc[(contract['EndDate'] == 'No'),'EndDate'] = '2020-02-01'"
   ]
  },
  {
   "cell_type": "markdown",
   "id": "b79d698e",
   "metadata": {},
   "source": [
    "<div class=\"alert alert-success\">\n",
    "<b>👍 Успех:</b> Все верно!\n",
    "</div>"
   ]
  },
  {
   "cell_type": "markdown",
   "id": "2df4540a",
   "metadata": {},
   "source": [
    "Изменим тип данных в столбце EndDate на datetime."
   ]
  },
  {
   "cell_type": "code",
   "execution_count": 11,
   "id": "65b7d8e1",
   "metadata": {},
   "outputs": [],
   "source": [
    "contract['EndDate'] = pd.to_datetime(contract['EndDate'],format= \"%Y/%m/%d\")"
   ]
  },
  {
   "cell_type": "markdown",
   "id": "89e35e46",
   "metadata": {},
   "source": [
    "Теперь, когда данные преведены к подходящим типам, проверим датасеты на наличие дубликатов."
   ]
  },
  {
   "cell_type": "code",
   "execution_count": 12,
   "id": "11750908",
   "metadata": {},
   "outputs": [
    {
     "name": "stdout",
     "output_type": "stream",
     "text": [
      "0\n",
      "0\n",
      "0\n"
     ]
    },
    {
     "data": {
      "text/plain": [
       "0"
      ]
     },
     "execution_count": 12,
     "metadata": {},
     "output_type": "execute_result"
    }
   ],
   "source": [
    "print(contract.duplicated().sum())\n",
    "print(personal.duplicated().sum())\n",
    "print(internet.duplicated().sum())\n",
    "phone.duplicated().sum()"
   ]
  },
  {
   "cell_type": "markdown",
   "id": "ba43f2ab",
   "metadata": {},
   "source": [
    "Выведем информацию по уникальным наименованиям текстовых столбцов во всех датафреймах чтобы проверить названия на опечатки."
   ]
  },
  {
   "cell_type": "code",
   "execution_count": 13,
   "id": "f27d090c",
   "metadata": {},
   "outputs": [
    {
     "name": "stdout",
     "output_type": "stream",
     "text": [
      "['Month-to-month' 'One year' 'Two year']\n",
      "['Electronic check' 'Mailed check' 'Bank transfer (automatic)'\n",
      " 'Credit card (automatic)']\n",
      "['Female' 'Male']\n",
      "['DSL' 'Fiber optic']\n"
     ]
    }
   ],
   "source": [
    "unique_values = contract['Type'].unique()\n",
    "print(unique_values)\n",
    "unique_values = contract['PaymentMethod'].unique()\n",
    "print(unique_values)\n",
    "unique_values = personal['gender'].unique()\n",
    "print(unique_values)\n",
    "unique_values = internet['InternetService'].unique()\n",
    "print(unique_values)"
   ]
  },
  {
   "cell_type": "markdown",
   "id": "8d03ad6b",
   "metadata": {},
   "source": [
    "Опечаток не обнаружено. Вывдеме всю информацию о датасетах ещё раз, чтобы проверить изменения."
   ]
  },
  {
   "cell_type": "code",
   "execution_count": 14,
   "id": "50734492",
   "metadata": {},
   "outputs": [
    {
     "data": {
      "text/html": [
       "<div>\n",
       "<style scoped>\n",
       "    .dataframe tbody tr th:only-of-type {\n",
       "        vertical-align: middle;\n",
       "    }\n",
       "\n",
       "    .dataframe tbody tr th {\n",
       "        vertical-align: top;\n",
       "    }\n",
       "\n",
       "    .dataframe thead th {\n",
       "        text-align: right;\n",
       "    }\n",
       "</style>\n",
       "<table border=\"1\" class=\"dataframe\">\n",
       "  <thead>\n",
       "    <tr style=\"text-align: right;\">\n",
       "      <th></th>\n",
       "      <th>customerID</th>\n",
       "      <th>BeginDate</th>\n",
       "      <th>EndDate</th>\n",
       "      <th>Type</th>\n",
       "      <th>PaperlessBilling</th>\n",
       "      <th>PaymentMethod</th>\n",
       "      <th>MonthlyCharges</th>\n",
       "      <th>TotalCharges</th>\n",
       "      <th>target</th>\n",
       "    </tr>\n",
       "  </thead>\n",
       "  <tbody>\n",
       "    <tr>\n",
       "      <th>0</th>\n",
       "      <td>7590-VHVEG</td>\n",
       "      <td>2020-01-01</td>\n",
       "      <td>2020-02-01</td>\n",
       "      <td>Month-to-month</td>\n",
       "      <td>Yes</td>\n",
       "      <td>Electronic check</td>\n",
       "      <td>29.85</td>\n",
       "      <td>31.04</td>\n",
       "      <td>0</td>\n",
       "    </tr>\n",
       "    <tr>\n",
       "      <th>1</th>\n",
       "      <td>5575-GNVDE</td>\n",
       "      <td>2017-04-01</td>\n",
       "      <td>2020-02-01</td>\n",
       "      <td>One year</td>\n",
       "      <td>No</td>\n",
       "      <td>Mailed check</td>\n",
       "      <td>56.95</td>\n",
       "      <td>2071.84</td>\n",
       "      <td>0</td>\n",
       "    </tr>\n",
       "    <tr>\n",
       "      <th>2</th>\n",
       "      <td>3668-QPYBK</td>\n",
       "      <td>2019-10-01</td>\n",
       "      <td>2020-02-01</td>\n",
       "      <td>Month-to-month</td>\n",
       "      <td>Yes</td>\n",
       "      <td>Mailed check</td>\n",
       "      <td>53.85</td>\n",
       "      <td>226.17</td>\n",
       "      <td>0</td>\n",
       "    </tr>\n",
       "    <tr>\n",
       "      <th>3</th>\n",
       "      <td>7795-CFOCW</td>\n",
       "      <td>2016-05-01</td>\n",
       "      <td>2020-02-01</td>\n",
       "      <td>One year</td>\n",
       "      <td>No</td>\n",
       "      <td>Bank transfer (automatic)</td>\n",
       "      <td>42.30</td>\n",
       "      <td>1960.60</td>\n",
       "      <td>0</td>\n",
       "    </tr>\n",
       "    <tr>\n",
       "      <th>4</th>\n",
       "      <td>9237-HQITU</td>\n",
       "      <td>2019-09-01</td>\n",
       "      <td>2020-02-01</td>\n",
       "      <td>Month-to-month</td>\n",
       "      <td>Yes</td>\n",
       "      <td>Electronic check</td>\n",
       "      <td>70.70</td>\n",
       "      <td>353.50</td>\n",
       "      <td>0</td>\n",
       "    </tr>\n",
       "  </tbody>\n",
       "</table>\n",
       "</div>"
      ],
      "text/plain": [
       "   customerID  BeginDate    EndDate            Type PaperlessBilling  \\\n",
       "0  7590-VHVEG 2020-01-01 2020-02-01  Month-to-month              Yes   \n",
       "1  5575-GNVDE 2017-04-01 2020-02-01        One year               No   \n",
       "2  3668-QPYBK 2019-10-01 2020-02-01  Month-to-month              Yes   \n",
       "3  7795-CFOCW 2016-05-01 2020-02-01        One year               No   \n",
       "4  9237-HQITU 2019-09-01 2020-02-01  Month-to-month              Yes   \n",
       "\n",
       "               PaymentMethod  MonthlyCharges  TotalCharges  target  \n",
       "0           Electronic check           29.85         31.04       0  \n",
       "1               Mailed check           56.95       2071.84       0  \n",
       "2               Mailed check           53.85        226.17       0  \n",
       "3  Bank transfer (automatic)           42.30       1960.60       0  \n",
       "4           Electronic check           70.70        353.50       0  "
      ]
     },
     "metadata": {},
     "output_type": "display_data"
    },
    {
     "name": "stdout",
     "output_type": "stream",
     "text": [
      "<class 'pandas.core.frame.DataFrame'>\n",
      "RangeIndex: 7043 entries, 0 to 7042\n",
      "Data columns (total 9 columns):\n",
      " #   Column            Non-Null Count  Dtype         \n",
      "---  ------            --------------  -----         \n",
      " 0   customerID        7043 non-null   object        \n",
      " 1   BeginDate         7043 non-null   datetime64[ns]\n",
      " 2   EndDate           7043 non-null   datetime64[ns]\n",
      " 3   Type              7043 non-null   object        \n",
      " 4   PaperlessBilling  7043 non-null   object        \n",
      " 5   PaymentMethod     7043 non-null   object        \n",
      " 6   MonthlyCharges    7043 non-null   float64       \n",
      " 7   TotalCharges      7032 non-null   float64       \n",
      " 8   target            7043 non-null   int64         \n",
      "dtypes: datetime64[ns](2), float64(2), int64(1), object(4)\n",
      "memory usage: 495.3+ KB\n",
      "None\n",
      "\n"
     ]
    },
    {
     "data": {
      "text/html": [
       "<div>\n",
       "<style scoped>\n",
       "    .dataframe tbody tr th:only-of-type {\n",
       "        vertical-align: middle;\n",
       "    }\n",
       "\n",
       "    .dataframe tbody tr th {\n",
       "        vertical-align: top;\n",
       "    }\n",
       "\n",
       "    .dataframe thead th {\n",
       "        text-align: right;\n",
       "    }\n",
       "</style>\n",
       "<table border=\"1\" class=\"dataframe\">\n",
       "  <thead>\n",
       "    <tr style=\"text-align: right;\">\n",
       "      <th></th>\n",
       "      <th>customerID</th>\n",
       "      <th>gender</th>\n",
       "      <th>SeniorCitizen</th>\n",
       "      <th>Partner</th>\n",
       "      <th>Dependents</th>\n",
       "    </tr>\n",
       "  </thead>\n",
       "  <tbody>\n",
       "    <tr>\n",
       "      <th>0</th>\n",
       "      <td>7590-VHVEG</td>\n",
       "      <td>Female</td>\n",
       "      <td>0</td>\n",
       "      <td>Yes</td>\n",
       "      <td>No</td>\n",
       "    </tr>\n",
       "    <tr>\n",
       "      <th>1</th>\n",
       "      <td>5575-GNVDE</td>\n",
       "      <td>Male</td>\n",
       "      <td>0</td>\n",
       "      <td>No</td>\n",
       "      <td>No</td>\n",
       "    </tr>\n",
       "    <tr>\n",
       "      <th>2</th>\n",
       "      <td>3668-QPYBK</td>\n",
       "      <td>Male</td>\n",
       "      <td>0</td>\n",
       "      <td>No</td>\n",
       "      <td>No</td>\n",
       "    </tr>\n",
       "    <tr>\n",
       "      <th>3</th>\n",
       "      <td>7795-CFOCW</td>\n",
       "      <td>Male</td>\n",
       "      <td>0</td>\n",
       "      <td>No</td>\n",
       "      <td>No</td>\n",
       "    </tr>\n",
       "    <tr>\n",
       "      <th>4</th>\n",
       "      <td>9237-HQITU</td>\n",
       "      <td>Female</td>\n",
       "      <td>0</td>\n",
       "      <td>No</td>\n",
       "      <td>No</td>\n",
       "    </tr>\n",
       "  </tbody>\n",
       "</table>\n",
       "</div>"
      ],
      "text/plain": [
       "   customerID  gender  SeniorCitizen Partner Dependents\n",
       "0  7590-VHVEG  Female              0     Yes         No\n",
       "1  5575-GNVDE    Male              0      No         No\n",
       "2  3668-QPYBK    Male              0      No         No\n",
       "3  7795-CFOCW    Male              0      No         No\n",
       "4  9237-HQITU  Female              0      No         No"
      ]
     },
     "metadata": {},
     "output_type": "display_data"
    },
    {
     "name": "stdout",
     "output_type": "stream",
     "text": [
      "<class 'pandas.core.frame.DataFrame'>\n",
      "RangeIndex: 7043 entries, 0 to 7042\n",
      "Data columns (total 5 columns):\n",
      " #   Column         Non-Null Count  Dtype \n",
      "---  ------         --------------  ----- \n",
      " 0   customerID     7043 non-null   object\n",
      " 1   gender         7043 non-null   object\n",
      " 2   SeniorCitizen  7043 non-null   int64 \n",
      " 3   Partner        7043 non-null   object\n",
      " 4   Dependents     7043 non-null   object\n",
      "dtypes: int64(1), object(4)\n",
      "memory usage: 275.2+ KB\n",
      "None\n",
      "\n"
     ]
    },
    {
     "data": {
      "text/html": [
       "<div>\n",
       "<style scoped>\n",
       "    .dataframe tbody tr th:only-of-type {\n",
       "        vertical-align: middle;\n",
       "    }\n",
       "\n",
       "    .dataframe tbody tr th {\n",
       "        vertical-align: top;\n",
       "    }\n",
       "\n",
       "    .dataframe thead th {\n",
       "        text-align: right;\n",
       "    }\n",
       "</style>\n",
       "<table border=\"1\" class=\"dataframe\">\n",
       "  <thead>\n",
       "    <tr style=\"text-align: right;\">\n",
       "      <th></th>\n",
       "      <th>customerID</th>\n",
       "      <th>InternetService</th>\n",
       "      <th>OnlineSecurity</th>\n",
       "      <th>OnlineBackup</th>\n",
       "      <th>DeviceProtection</th>\n",
       "      <th>TechSupport</th>\n",
       "      <th>StreamingTV</th>\n",
       "      <th>StreamingMovies</th>\n",
       "    </tr>\n",
       "  </thead>\n",
       "  <tbody>\n",
       "    <tr>\n",
       "      <th>0</th>\n",
       "      <td>7590-VHVEG</td>\n",
       "      <td>DSL</td>\n",
       "      <td>No</td>\n",
       "      <td>Yes</td>\n",
       "      <td>No</td>\n",
       "      <td>No</td>\n",
       "      <td>No</td>\n",
       "      <td>No</td>\n",
       "    </tr>\n",
       "    <tr>\n",
       "      <th>1</th>\n",
       "      <td>5575-GNVDE</td>\n",
       "      <td>DSL</td>\n",
       "      <td>Yes</td>\n",
       "      <td>No</td>\n",
       "      <td>Yes</td>\n",
       "      <td>No</td>\n",
       "      <td>No</td>\n",
       "      <td>No</td>\n",
       "    </tr>\n",
       "    <tr>\n",
       "      <th>2</th>\n",
       "      <td>3668-QPYBK</td>\n",
       "      <td>DSL</td>\n",
       "      <td>Yes</td>\n",
       "      <td>Yes</td>\n",
       "      <td>No</td>\n",
       "      <td>No</td>\n",
       "      <td>No</td>\n",
       "      <td>No</td>\n",
       "    </tr>\n",
       "    <tr>\n",
       "      <th>3</th>\n",
       "      <td>7795-CFOCW</td>\n",
       "      <td>DSL</td>\n",
       "      <td>Yes</td>\n",
       "      <td>No</td>\n",
       "      <td>Yes</td>\n",
       "      <td>Yes</td>\n",
       "      <td>No</td>\n",
       "      <td>No</td>\n",
       "    </tr>\n",
       "    <tr>\n",
       "      <th>4</th>\n",
       "      <td>9237-HQITU</td>\n",
       "      <td>Fiber optic</td>\n",
       "      <td>No</td>\n",
       "      <td>No</td>\n",
       "      <td>No</td>\n",
       "      <td>No</td>\n",
       "      <td>No</td>\n",
       "      <td>No</td>\n",
       "    </tr>\n",
       "  </tbody>\n",
       "</table>\n",
       "</div>"
      ],
      "text/plain": [
       "   customerID InternetService OnlineSecurity OnlineBackup DeviceProtection  \\\n",
       "0  7590-VHVEG             DSL             No          Yes               No   \n",
       "1  5575-GNVDE             DSL            Yes           No              Yes   \n",
       "2  3668-QPYBK             DSL            Yes          Yes               No   \n",
       "3  7795-CFOCW             DSL            Yes           No              Yes   \n",
       "4  9237-HQITU     Fiber optic             No           No               No   \n",
       "\n",
       "  TechSupport StreamingTV StreamingMovies  \n",
       "0          No          No              No  \n",
       "1          No          No              No  \n",
       "2          No          No              No  \n",
       "3         Yes          No              No  \n",
       "4          No          No              No  "
      ]
     },
     "metadata": {},
     "output_type": "display_data"
    },
    {
     "name": "stdout",
     "output_type": "stream",
     "text": [
      "<class 'pandas.core.frame.DataFrame'>\n",
      "RangeIndex: 5517 entries, 0 to 5516\n",
      "Data columns (total 8 columns):\n",
      " #   Column            Non-Null Count  Dtype \n",
      "---  ------            --------------  ----- \n",
      " 0   customerID        5517 non-null   object\n",
      " 1   InternetService   5517 non-null   object\n",
      " 2   OnlineSecurity    5517 non-null   object\n",
      " 3   OnlineBackup      5517 non-null   object\n",
      " 4   DeviceProtection  5517 non-null   object\n",
      " 5   TechSupport       5517 non-null   object\n",
      " 6   StreamingTV       5517 non-null   object\n",
      " 7   StreamingMovies   5517 non-null   object\n",
      "dtypes: object(8)\n",
      "memory usage: 344.9+ KB\n",
      "None\n"
     ]
    },
    {
     "data": {
      "text/html": [
       "<div>\n",
       "<style scoped>\n",
       "    .dataframe tbody tr th:only-of-type {\n",
       "        vertical-align: middle;\n",
       "    }\n",
       "\n",
       "    .dataframe tbody tr th {\n",
       "        vertical-align: top;\n",
       "    }\n",
       "\n",
       "    .dataframe thead th {\n",
       "        text-align: right;\n",
       "    }\n",
       "</style>\n",
       "<table border=\"1\" class=\"dataframe\">\n",
       "  <thead>\n",
       "    <tr style=\"text-align: right;\">\n",
       "      <th></th>\n",
       "      <th>customerID</th>\n",
       "      <th>MultipleLines</th>\n",
       "    </tr>\n",
       "  </thead>\n",
       "  <tbody>\n",
       "    <tr>\n",
       "      <th>0</th>\n",
       "      <td>5575-GNVDE</td>\n",
       "      <td>No</td>\n",
       "    </tr>\n",
       "    <tr>\n",
       "      <th>1</th>\n",
       "      <td>3668-QPYBK</td>\n",
       "      <td>No</td>\n",
       "    </tr>\n",
       "    <tr>\n",
       "      <th>2</th>\n",
       "      <td>9237-HQITU</td>\n",
       "      <td>No</td>\n",
       "    </tr>\n",
       "    <tr>\n",
       "      <th>3</th>\n",
       "      <td>9305-CDSKC</td>\n",
       "      <td>Yes</td>\n",
       "    </tr>\n",
       "    <tr>\n",
       "      <th>4</th>\n",
       "      <td>1452-KIOVK</td>\n",
       "      <td>Yes</td>\n",
       "    </tr>\n",
       "  </tbody>\n",
       "</table>\n",
       "</div>"
      ],
      "text/plain": [
       "   customerID MultipleLines\n",
       "0  5575-GNVDE            No\n",
       "1  3668-QPYBK            No\n",
       "2  9237-HQITU            No\n",
       "3  9305-CDSKC           Yes\n",
       "4  1452-KIOVK           Yes"
      ]
     },
     "metadata": {},
     "output_type": "display_data"
    },
    {
     "name": "stdout",
     "output_type": "stream",
     "text": [
      "<class 'pandas.core.frame.DataFrame'>\n",
      "RangeIndex: 6361 entries, 0 to 6360\n",
      "Data columns (total 2 columns):\n",
      " #   Column         Non-Null Count  Dtype \n",
      "---  ------         --------------  ----- \n",
      " 0   customerID     6361 non-null   object\n",
      " 1   MultipleLines  6361 non-null   object\n",
      "dtypes: object(2)\n",
      "memory usage: 99.5+ KB\n",
      "None\n"
     ]
    }
   ],
   "source": [
    "display(contract.head())\n",
    "print(contract.info())\n",
    "print()\n",
    "display(personal.head())\n",
    "print(personal.info())\n",
    "print()\n",
    "display(internet.head())\n",
    "print(internet.info())\n",
    "display(phone.head())\n",
    "print(phone.info())"
   ]
  },
  {
   "cell_type": "markdown",
   "id": "0591b05b",
   "metadata": {},
   "source": [
    "**Выводы по предобработке данных**\n",
    "\n",
    "- Числа и даты были переведены в нужный тип данных\n",
    "- Создан столбец с целевым признаком\n",
    "- Дубликаты не обнаружены\n",
    "- Опечатки не обнаружены"
   ]
  },
  {
   "cell_type": "markdown",
   "id": "2cbbc135",
   "metadata": {},
   "source": [
    "## Исследовательский анализ данных"
   ]
  },
  {
   "cell_type": "markdown",
   "id": "85dde895",
   "metadata": {},
   "source": [
    "Для исследовательского анализа данных обьединим все датафреймы по столбцу **customerID** для более удобной дальнейшней работы."
   ]
  },
  {
   "cell_type": "code",
   "execution_count": 15,
   "id": "8eba8ece",
   "metadata": {},
   "outputs": [],
   "source": [
    "names = [contract, internet, personal, phone]\n",
    "data = reduce(lambda left,right: pd.merge(left, right, on=['customerID']), names)"
   ]
  },
  {
   "cell_type": "markdown",
   "id": "b13e0f94",
   "metadata": {},
   "source": [
    "<div class=\"alert alert-danger\">\n",
    "<s><b>😔 Необходимо исправить:</b> Использование 'outer' здесь излишне, в нашем случае итог не поменяется, но с другими данными можно получить искуственно созданные пропуски и придется дополнительно обрабатывать данные</s>\n",
    "</div>"
   ]
  },
  {
   "cell_type": "markdown",
   "id": "c36e9eba",
   "metadata": {},
   "source": [
    "  <div class=\"alert alert-info\"> <b>🎓 Комментарий студента:</b> Принял! Убрал outer.</div>"
   ]
  },
  {
   "cell_type": "markdown",
   "id": "54a4d530",
   "metadata": {},
   "source": [
    "<div class=\"alert alert-success\">\n",
    "<b>👍 Успех:</b> Все верно!\n",
    "</div>"
   ]
  },
  {
   "cell_type": "code",
   "execution_count": 16,
   "id": "5820b9ca",
   "metadata": {},
   "outputs": [
    {
     "data": {
      "text/html": [
       "<div>\n",
       "<style scoped>\n",
       "    .dataframe tbody tr th:only-of-type {\n",
       "        vertical-align: middle;\n",
       "    }\n",
       "\n",
       "    .dataframe tbody tr th {\n",
       "        vertical-align: top;\n",
       "    }\n",
       "\n",
       "    .dataframe thead th {\n",
       "        text-align: right;\n",
       "    }\n",
       "</style>\n",
       "<table border=\"1\" class=\"dataframe\">\n",
       "  <thead>\n",
       "    <tr style=\"text-align: right;\">\n",
       "      <th></th>\n",
       "      <th>customerID</th>\n",
       "      <th>BeginDate</th>\n",
       "      <th>EndDate</th>\n",
       "      <th>Type</th>\n",
       "      <th>PaperlessBilling</th>\n",
       "      <th>PaymentMethod</th>\n",
       "      <th>MonthlyCharges</th>\n",
       "      <th>TotalCharges</th>\n",
       "      <th>target</th>\n",
       "      <th>InternetService</th>\n",
       "      <th>...</th>\n",
       "      <th>OnlineBackup</th>\n",
       "      <th>DeviceProtection</th>\n",
       "      <th>TechSupport</th>\n",
       "      <th>StreamingTV</th>\n",
       "      <th>StreamingMovies</th>\n",
       "      <th>gender</th>\n",
       "      <th>SeniorCitizen</th>\n",
       "      <th>Partner</th>\n",
       "      <th>Dependents</th>\n",
       "      <th>MultipleLines</th>\n",
       "    </tr>\n",
       "  </thead>\n",
       "  <tbody>\n",
       "    <tr>\n",
       "      <th>0</th>\n",
       "      <td>5575-GNVDE</td>\n",
       "      <td>2017-04-01</td>\n",
       "      <td>2020-02-01</td>\n",
       "      <td>One year</td>\n",
       "      <td>No</td>\n",
       "      <td>Mailed check</td>\n",
       "      <td>56.95</td>\n",
       "      <td>2071.84</td>\n",
       "      <td>0</td>\n",
       "      <td>DSL</td>\n",
       "      <td>...</td>\n",
       "      <td>No</td>\n",
       "      <td>Yes</td>\n",
       "      <td>No</td>\n",
       "      <td>No</td>\n",
       "      <td>No</td>\n",
       "      <td>Male</td>\n",
       "      <td>0</td>\n",
       "      <td>No</td>\n",
       "      <td>No</td>\n",
       "      <td>No</td>\n",
       "    </tr>\n",
       "    <tr>\n",
       "      <th>1</th>\n",
       "      <td>3668-QPYBK</td>\n",
       "      <td>2019-10-01</td>\n",
       "      <td>2020-02-01</td>\n",
       "      <td>Month-to-month</td>\n",
       "      <td>Yes</td>\n",
       "      <td>Mailed check</td>\n",
       "      <td>53.85</td>\n",
       "      <td>226.17</td>\n",
       "      <td>0</td>\n",
       "      <td>DSL</td>\n",
       "      <td>...</td>\n",
       "      <td>Yes</td>\n",
       "      <td>No</td>\n",
       "      <td>No</td>\n",
       "      <td>No</td>\n",
       "      <td>No</td>\n",
       "      <td>Male</td>\n",
       "      <td>0</td>\n",
       "      <td>No</td>\n",
       "      <td>No</td>\n",
       "      <td>No</td>\n",
       "    </tr>\n",
       "    <tr>\n",
       "      <th>2</th>\n",
       "      <td>9237-HQITU</td>\n",
       "      <td>2019-09-01</td>\n",
       "      <td>2020-02-01</td>\n",
       "      <td>Month-to-month</td>\n",
       "      <td>Yes</td>\n",
       "      <td>Electronic check</td>\n",
       "      <td>70.70</td>\n",
       "      <td>353.50</td>\n",
       "      <td>0</td>\n",
       "      <td>Fiber optic</td>\n",
       "      <td>...</td>\n",
       "      <td>No</td>\n",
       "      <td>No</td>\n",
       "      <td>No</td>\n",
       "      <td>No</td>\n",
       "      <td>No</td>\n",
       "      <td>Female</td>\n",
       "      <td>0</td>\n",
       "      <td>No</td>\n",
       "      <td>No</td>\n",
       "      <td>No</td>\n",
       "    </tr>\n",
       "    <tr>\n",
       "      <th>3</th>\n",
       "      <td>9305-CDSKC</td>\n",
       "      <td>2019-03-01</td>\n",
       "      <td>2020-02-01</td>\n",
       "      <td>Month-to-month</td>\n",
       "      <td>Yes</td>\n",
       "      <td>Electronic check</td>\n",
       "      <td>99.65</td>\n",
       "      <td>1150.96</td>\n",
       "      <td>0</td>\n",
       "      <td>Fiber optic</td>\n",
       "      <td>...</td>\n",
       "      <td>No</td>\n",
       "      <td>Yes</td>\n",
       "      <td>No</td>\n",
       "      <td>Yes</td>\n",
       "      <td>Yes</td>\n",
       "      <td>Female</td>\n",
       "      <td>0</td>\n",
       "      <td>No</td>\n",
       "      <td>No</td>\n",
       "      <td>Yes</td>\n",
       "    </tr>\n",
       "    <tr>\n",
       "      <th>4</th>\n",
       "      <td>1452-KIOVK</td>\n",
       "      <td>2018-04-01</td>\n",
       "      <td>2020-02-01</td>\n",
       "      <td>Month-to-month</td>\n",
       "      <td>Yes</td>\n",
       "      <td>Credit card (automatic)</td>\n",
       "      <td>89.10</td>\n",
       "      <td>2058.21</td>\n",
       "      <td>0</td>\n",
       "      <td>Fiber optic</td>\n",
       "      <td>...</td>\n",
       "      <td>Yes</td>\n",
       "      <td>No</td>\n",
       "      <td>No</td>\n",
       "      <td>Yes</td>\n",
       "      <td>No</td>\n",
       "      <td>Male</td>\n",
       "      <td>0</td>\n",
       "      <td>No</td>\n",
       "      <td>Yes</td>\n",
       "      <td>Yes</td>\n",
       "    </tr>\n",
       "  </tbody>\n",
       "</table>\n",
       "<p>5 rows × 21 columns</p>\n",
       "</div>"
      ],
      "text/plain": [
       "   customerID  BeginDate    EndDate            Type PaperlessBilling  \\\n",
       "0  5575-GNVDE 2017-04-01 2020-02-01        One year               No   \n",
       "1  3668-QPYBK 2019-10-01 2020-02-01  Month-to-month              Yes   \n",
       "2  9237-HQITU 2019-09-01 2020-02-01  Month-to-month              Yes   \n",
       "3  9305-CDSKC 2019-03-01 2020-02-01  Month-to-month              Yes   \n",
       "4  1452-KIOVK 2018-04-01 2020-02-01  Month-to-month              Yes   \n",
       "\n",
       "             PaymentMethod  MonthlyCharges  TotalCharges  target  \\\n",
       "0             Mailed check           56.95       2071.84       0   \n",
       "1             Mailed check           53.85        226.17       0   \n",
       "2         Electronic check           70.70        353.50       0   \n",
       "3         Electronic check           99.65       1150.96       0   \n",
       "4  Credit card (automatic)           89.10       2058.21       0   \n",
       "\n",
       "  InternetService  ... OnlineBackup DeviceProtection TechSupport StreamingTV  \\\n",
       "0             DSL  ...           No              Yes          No          No   \n",
       "1             DSL  ...          Yes               No          No          No   \n",
       "2     Fiber optic  ...           No               No          No          No   \n",
       "3     Fiber optic  ...           No              Yes          No         Yes   \n",
       "4     Fiber optic  ...          Yes               No          No         Yes   \n",
       "\n",
       "  StreamingMovies  gender SeniorCitizen  Partner Dependents MultipleLines  \n",
       "0              No    Male             0       No         No            No  \n",
       "1              No    Male             0       No         No            No  \n",
       "2              No  Female             0       No         No            No  \n",
       "3             Yes  Female             0       No         No           Yes  \n",
       "4              No    Male             0       No        Yes           Yes  \n",
       "\n",
       "[5 rows x 21 columns]"
      ]
     },
     "metadata": {},
     "output_type": "display_data"
    },
    {
     "name": "stdout",
     "output_type": "stream",
     "text": [
      "\n",
      "<class 'pandas.core.frame.DataFrame'>\n",
      "Int64Index: 4835 entries, 0 to 4834\n",
      "Data columns (total 21 columns):\n",
      " #   Column            Non-Null Count  Dtype         \n",
      "---  ------            --------------  -----         \n",
      " 0   customerID        4835 non-null   object        \n",
      " 1   BeginDate         4835 non-null   datetime64[ns]\n",
      " 2   EndDate           4835 non-null   datetime64[ns]\n",
      " 3   Type              4835 non-null   object        \n",
      " 4   PaperlessBilling  4835 non-null   object        \n",
      " 5   PaymentMethod     4835 non-null   object        \n",
      " 6   MonthlyCharges    4835 non-null   float64       \n",
      " 7   TotalCharges      4832 non-null   float64       \n",
      " 8   target            4835 non-null   int64         \n",
      " 9   InternetService   4835 non-null   object        \n",
      " 10  OnlineSecurity    4835 non-null   object        \n",
      " 11  OnlineBackup      4835 non-null   object        \n",
      " 12  DeviceProtection  4835 non-null   object        \n",
      " 13  TechSupport       4835 non-null   object        \n",
      " 14  StreamingTV       4835 non-null   object        \n",
      " 15  StreamingMovies   4835 non-null   object        \n",
      " 16  gender            4835 non-null   object        \n",
      " 17  SeniorCitizen     4835 non-null   int64         \n",
      " 18  Partner           4835 non-null   object        \n",
      " 19  Dependents        4835 non-null   object        \n",
      " 20  MultipleLines     4835 non-null   object        \n",
      "dtypes: datetime64[ns](2), float64(2), int64(2), object(15)\n",
      "memory usage: 831.0+ KB\n"
     ]
    }
   ],
   "source": [
    "display(data.head())\n",
    "print()\n",
    "data.info()"
   ]
  },
  {
   "cell_type": "markdown",
   "id": "14a2a7e7",
   "metadata": {},
   "source": [
    "После объединения появились пропуски в данных."
   ]
  },
  {
   "cell_type": "code",
   "execution_count": 17,
   "id": "5829dc7f",
   "metadata": {},
   "outputs": [
    {
     "data": {
      "text/plain": [
       "customerID          0\n",
       "BeginDate           0\n",
       "EndDate             0\n",
       "Type                0\n",
       "PaperlessBilling    0\n",
       "PaymentMethod       0\n",
       "MonthlyCharges      0\n",
       "TotalCharges        3\n",
       "target              0\n",
       "InternetService     0\n",
       "OnlineSecurity      0\n",
       "OnlineBackup        0\n",
       "DeviceProtection    0\n",
       "TechSupport         0\n",
       "StreamingTV         0\n",
       "StreamingMovies     0\n",
       "gender              0\n",
       "SeniorCitizen       0\n",
       "Partner             0\n",
       "Dependents          0\n",
       "MultipleLines       0\n",
       "dtype: int64"
      ]
     },
     "execution_count": 17,
     "metadata": {},
     "output_type": "execute_result"
    }
   ],
   "source": [
    "data.isna().sum()"
   ]
  },
  {
   "cell_type": "markdown",
   "id": "ae130abd",
   "metadata": {},
   "source": [
    "Мы видим несколько столбцов с одинаковым количеством пропусков. Разберемся с ними поотдельности. \n",
    "\n",
    "Столбцы со значением пропусков 1526 - это пользователи, о которых не было никакой информации в датафрейме **Internet**. Скорее всего они просто не подключили данную услугу. \n",
    "\n",
    "Пропуски в столбце **MyltiplieLines** говорят что пользователь не пользовался услугами телефона. \n",
    "\n",
    "Заменим эти пропуски на фразы **no_internet** и **no_phone**."
   ]
  },
  {
   "cell_type": "code",
   "execution_count": 18,
   "id": "f3a42179",
   "metadata": {},
   "outputs": [],
   "source": [
    "data['MultipleLines'].fillna('no_phone', inplace = True)\n",
    "\n",
    "internet_columns = ['InternetService', 'OnlineSecurity', 'OnlineBackup', \n",
    "                   'DeviceProtection', 'TechSupport', 'StreamingTV', 'StreamingMovies']\n",
    "\n",
    "for column in internet_columns:\n",
    "    data[column].fillna('no_internet', inplace=True)"
   ]
  },
  {
   "cell_type": "markdown",
   "id": "8e2cd3f1",
   "metadata": {},
   "source": [
    "<div class=\"alert alert-success\">\n",
    "<b>👍 Успех:</b> Все верно!\n",
    "</div>"
   ]
  },
  {
   "cell_type": "code",
   "execution_count": 19,
   "id": "a087be9f",
   "metadata": {},
   "outputs": [
    {
     "data": {
      "text/plain": [
       "customerID          0\n",
       "BeginDate           0\n",
       "EndDate             0\n",
       "Type                0\n",
       "PaperlessBilling    0\n",
       "PaymentMethod       0\n",
       "MonthlyCharges      0\n",
       "TotalCharges        3\n",
       "target              0\n",
       "InternetService     0\n",
       "OnlineSecurity      0\n",
       "OnlineBackup        0\n",
       "DeviceProtection    0\n",
       "TechSupport         0\n",
       "StreamingTV         0\n",
       "StreamingMovies     0\n",
       "gender              0\n",
       "SeniorCitizen       0\n",
       "Partner             0\n",
       "Dependents          0\n",
       "MultipleLines       0\n",
       "dtype: int64"
      ]
     },
     "execution_count": 19,
     "metadata": {},
     "output_type": "execute_result"
    }
   ],
   "source": [
    "data.isna().sum()"
   ]
  },
  {
   "cell_type": "markdown",
   "id": "6f2efc8d",
   "metadata": {},
   "source": [
    "Отдельно рассмотрим пропуски в столбце **TotalCharges**."
   ]
  },
  {
   "cell_type": "code",
   "execution_count": 20,
   "id": "2fad2a45",
   "metadata": {},
   "outputs": [
    {
     "data": {
      "text/html": [
       "<div>\n",
       "<style scoped>\n",
       "    .dataframe tbody tr th:only-of-type {\n",
       "        vertical-align: middle;\n",
       "    }\n",
       "\n",
       "    .dataframe tbody tr th {\n",
       "        vertical-align: top;\n",
       "    }\n",
       "\n",
       "    .dataframe thead th {\n",
       "        text-align: right;\n",
       "    }\n",
       "</style>\n",
       "<table border=\"1\" class=\"dataframe\">\n",
       "  <thead>\n",
       "    <tr style=\"text-align: right;\">\n",
       "      <th></th>\n",
       "      <th>customerID</th>\n",
       "      <th>BeginDate</th>\n",
       "      <th>EndDate</th>\n",
       "      <th>Type</th>\n",
       "      <th>PaperlessBilling</th>\n",
       "      <th>PaymentMethod</th>\n",
       "      <th>MonthlyCharges</th>\n",
       "      <th>TotalCharges</th>\n",
       "      <th>target</th>\n",
       "      <th>InternetService</th>\n",
       "      <th>...</th>\n",
       "      <th>OnlineBackup</th>\n",
       "      <th>DeviceProtection</th>\n",
       "      <th>TechSupport</th>\n",
       "      <th>StreamingTV</th>\n",
       "      <th>StreamingMovies</th>\n",
       "      <th>gender</th>\n",
       "      <th>SeniorCitizen</th>\n",
       "      <th>Partner</th>\n",
       "      <th>Dependents</th>\n",
       "      <th>MultipleLines</th>\n",
       "    </tr>\n",
       "  </thead>\n",
       "  <tbody>\n",
       "    <tr>\n",
       "      <th>663</th>\n",
       "      <td>5709-LVOEQ</td>\n",
       "      <td>2020-02-01</td>\n",
       "      <td>2020-02-01</td>\n",
       "      <td>Two year</td>\n",
       "      <td>No</td>\n",
       "      <td>Mailed check</td>\n",
       "      <td>80.85</td>\n",
       "      <td>NaN</td>\n",
       "      <td>0</td>\n",
       "      <td>DSL</td>\n",
       "      <td>...</td>\n",
       "      <td>Yes</td>\n",
       "      <td>Yes</td>\n",
       "      <td>No</td>\n",
       "      <td>Yes</td>\n",
       "      <td>Yes</td>\n",
       "      <td>Female</td>\n",
       "      <td>0</td>\n",
       "      <td>Yes</td>\n",
       "      <td>Yes</td>\n",
       "      <td>No</td>\n",
       "    </tr>\n",
       "    <tr>\n",
       "      <th>4573</th>\n",
       "      <td>4075-WKNIU</td>\n",
       "      <td>2020-02-01</td>\n",
       "      <td>2020-02-01</td>\n",
       "      <td>Two year</td>\n",
       "      <td>No</td>\n",
       "      <td>Mailed check</td>\n",
       "      <td>73.35</td>\n",
       "      <td>NaN</td>\n",
       "      <td>0</td>\n",
       "      <td>DSL</td>\n",
       "      <td>...</td>\n",
       "      <td>Yes</td>\n",
       "      <td>Yes</td>\n",
       "      <td>Yes</td>\n",
       "      <td>Yes</td>\n",
       "      <td>No</td>\n",
       "      <td>Female</td>\n",
       "      <td>0</td>\n",
       "      <td>Yes</td>\n",
       "      <td>Yes</td>\n",
       "      <td>Yes</td>\n",
       "    </tr>\n",
       "    <tr>\n",
       "      <th>4630</th>\n",
       "      <td>2775-SEFEE</td>\n",
       "      <td>2020-02-01</td>\n",
       "      <td>2020-02-01</td>\n",
       "      <td>Two year</td>\n",
       "      <td>Yes</td>\n",
       "      <td>Bank transfer (automatic)</td>\n",
       "      <td>61.90</td>\n",
       "      <td>NaN</td>\n",
       "      <td>0</td>\n",
       "      <td>DSL</td>\n",
       "      <td>...</td>\n",
       "      <td>Yes</td>\n",
       "      <td>No</td>\n",
       "      <td>Yes</td>\n",
       "      <td>No</td>\n",
       "      <td>No</td>\n",
       "      <td>Male</td>\n",
       "      <td>0</td>\n",
       "      <td>No</td>\n",
       "      <td>Yes</td>\n",
       "      <td>Yes</td>\n",
       "    </tr>\n",
       "  </tbody>\n",
       "</table>\n",
       "<p>3 rows × 21 columns</p>\n",
       "</div>"
      ],
      "text/plain": [
       "      customerID  BeginDate    EndDate      Type PaperlessBilling  \\\n",
       "663   5709-LVOEQ 2020-02-01 2020-02-01  Two year               No   \n",
       "4573  4075-WKNIU 2020-02-01 2020-02-01  Two year               No   \n",
       "4630  2775-SEFEE 2020-02-01 2020-02-01  Two year              Yes   \n",
       "\n",
       "                  PaymentMethod  MonthlyCharges  TotalCharges  target  \\\n",
       "663                Mailed check           80.85           NaN       0   \n",
       "4573               Mailed check           73.35           NaN       0   \n",
       "4630  Bank transfer (automatic)           61.90           NaN       0   \n",
       "\n",
       "     InternetService  ... OnlineBackup DeviceProtection TechSupport  \\\n",
       "663              DSL  ...          Yes              Yes          No   \n",
       "4573             DSL  ...          Yes              Yes         Yes   \n",
       "4630             DSL  ...          Yes               No         Yes   \n",
       "\n",
       "     StreamingTV StreamingMovies  gender SeniorCitizen  Partner Dependents  \\\n",
       "663          Yes             Yes  Female             0      Yes        Yes   \n",
       "4573         Yes              No  Female             0      Yes        Yes   \n",
       "4630          No              No    Male             0       No        Yes   \n",
       "\n",
       "     MultipleLines  \n",
       "663             No  \n",
       "4573           Yes  \n",
       "4630           Yes  \n",
       "\n",
       "[3 rows x 21 columns]"
      ]
     },
     "execution_count": 20,
     "metadata": {},
     "output_type": "execute_result"
    }
   ],
   "source": [
    "data[data['TotalCharges'].isna()]"
   ]
  },
  {
   "cell_type": "markdown",
   "id": "9e1b4aa2",
   "metadata": {},
   "source": [
    "Даты в столбцах **BeginDate** и **EndDate** совпадают. Из этого можно сделать вывод, что данные абоненты еще не успели оплатить услуги, так как заключили договор в день сбора данных. Заполним пропуски ежемесячным платежом **MonthlyCharges**."
   ]
  },
  {
   "cell_type": "markdown",
   "id": "1bb5c2ed",
   "metadata": {},
   "source": [
    "<div class=\"alert alert-success\">\n",
    "<b>👍 Успех:</b> Все верно! Это новые абоненты!\n",
    "</div>"
   ]
  },
  {
   "cell_type": "code",
   "execution_count": 21,
   "id": "3e6f1086",
   "metadata": {},
   "outputs": [],
   "source": [
    "data['TotalCharges'].fillna(data[data['TotalCharges'].isnull()]['MonthlyCharges'], inplace = True)"
   ]
  },
  {
   "cell_type": "markdown",
   "id": "ec2be4d9",
   "metadata": {},
   "source": [
    "Создадим новый столбец **period** с количеством дней, которые пользователи пользуются подпиской."
   ]
  },
  {
   "cell_type": "code",
   "execution_count": 22,
   "id": "4f417d1d",
   "metadata": {},
   "outputs": [],
   "source": [
    "data['period']=(data['EndDate']-data['BeginDate'])/np.timedelta64(1,'D')"
   ]
  },
  {
   "cell_type": "markdown",
   "id": "51079588",
   "metadata": {},
   "source": [
    "Проверим все изменения."
   ]
  },
  {
   "cell_type": "code",
   "execution_count": 23,
   "id": "b67d6655",
   "metadata": {},
   "outputs": [
    {
     "name": "stdout",
     "output_type": "stream",
     "text": [
      "<class 'pandas.core.frame.DataFrame'>\n",
      "Int64Index: 4835 entries, 0 to 4834\n",
      "Data columns (total 22 columns):\n",
      " #   Column            Non-Null Count  Dtype         \n",
      "---  ------            --------------  -----         \n",
      " 0   customerID        4835 non-null   object        \n",
      " 1   BeginDate         4835 non-null   datetime64[ns]\n",
      " 2   EndDate           4835 non-null   datetime64[ns]\n",
      " 3   Type              4835 non-null   object        \n",
      " 4   PaperlessBilling  4835 non-null   object        \n",
      " 5   PaymentMethod     4835 non-null   object        \n",
      " 6   MonthlyCharges    4835 non-null   float64       \n",
      " 7   TotalCharges      4835 non-null   float64       \n",
      " 8   target            4835 non-null   int64         \n",
      " 9   InternetService   4835 non-null   object        \n",
      " 10  OnlineSecurity    4835 non-null   object        \n",
      " 11  OnlineBackup      4835 non-null   object        \n",
      " 12  DeviceProtection  4835 non-null   object        \n",
      " 13  TechSupport       4835 non-null   object        \n",
      " 14  StreamingTV       4835 non-null   object        \n",
      " 15  StreamingMovies   4835 non-null   object        \n",
      " 16  gender            4835 non-null   object        \n",
      " 17  SeniorCitizen     4835 non-null   int64         \n",
      " 18  Partner           4835 non-null   object        \n",
      " 19  Dependents        4835 non-null   object        \n",
      " 20  MultipleLines     4835 non-null   object        \n",
      " 21  period            4835 non-null   float64       \n",
      "dtypes: datetime64[ns](2), float64(3), int64(2), object(15)\n",
      "memory usage: 868.8+ KB\n"
     ]
    }
   ],
   "source": [
    "data.info()"
   ]
  },
  {
   "cell_type": "markdown",
   "id": "1feee19f",
   "metadata": {},
   "source": [
    "<div class=\"alert alert-success\">\n",
    "<b>👍 Успех:</b> Отлично, с пропусками разобрались!\n",
    "</div>"
   ]
  },
  {
   "cell_type": "markdown",
   "id": "a3b7019b",
   "metadata": {},
   "source": [
    "После того, как все пропуски были заполнены, можно приступить к визуализации данных.\n",
    "\n",
    "Создадим гистограммы для численных данных и круговые диаграммы для категориальных."
   ]
  },
  {
   "cell_type": "code",
   "execution_count": 24,
   "id": "4ccca6a6",
   "metadata": {
    "scrolled": true
   },
   "outputs": [
    {
     "name": "stdout",
     "output_type": "stream",
     "text": [
      "Гистаграммы для всех числовых переменных:\n",
      "\n"
     ]
    },
    {
     "data": {
      "image/png": "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\n",
      "text/plain": [
       "<Figure size 864x576 with 3 Axes>"
      ]
     },
     "metadata": {
      "needs_background": "light"
     },
     "output_type": "display_data"
    }
   ],
   "source": [
    "print('Гистаграммы для всех числовых переменных:\\n')\n",
    "\n",
    "# Найдем числовые столбцы в датафрейме\n",
    "numerical_columns = ['MonthlyCharges', 'TotalCharges','period']\n",
    "\n",
    "# Зададим размер фигуры для удобства визуализации\n",
    "plt.figure(figsize=(12, 8))\n",
    "\n",
    "# Цикл для итерации по каждому числовому столбцу\n",
    "for i, column in enumerate(numerical_columns):\n",
    "    # Создаем subplot для текущего столбца\n",
    "    plt.subplot(2, 3, i + 1)  # 2 строки, 3 столбца, текущий график\n",
    "    \n",
    "    # Строим гистограмму для текущего столбца\n",
    "    data[column].hist(bins=50)\n",
    "    \n",
    "    # Добавляем заголовок с названием столбца\n",
    "    plt.title(column)\n",
    "    \n",
    "    # Добавляем метки для осей\n",
    "    plt.xlabel(column)\n",
    "    plt.ylabel('Частота')\n",
    "\n",
    "# Отображаем все гистограммы\n",
    "plt.tight_layout()\n",
    "plt.show()"
   ]
  },
  {
   "cell_type": "code",
   "execution_count": 25,
   "id": "24a37fa8",
   "metadata": {},
   "outputs": [
    {
     "name": "stdout",
     "output_type": "stream",
     "text": [
      "Круговые диаграммы для всех категориальных переменных:\n",
      "\n"
     ]
    },
    {
     "data": {
      "image/png": "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\n",
      "text/plain": [
       "<Figure size 720x720 with 16 Axes>"
      ]
     },
     "metadata": {},
     "output_type": "display_data"
    }
   ],
   "source": [
    "print('Круговые диаграммы для всех категориальных переменных:\\n')\n",
    "\n",
    "# Список столбцов, для которых нужно вывести круговые диаграммы\n",
    "categorical_columns = [col for col in data.columns if col not in numerical_columns and col != 'BeginDate' and col != 'customerID' and col != 'EndDate']\n",
    "\n",
    "# Зададим размер фигуры для удобства визуализации\n",
    "plt.figure(figsize=(10, 10))\n",
    "\n",
    "# Цикл для итерации по каждому столбцу\n",
    "for i, column in enumerate(categorical_columns):\n",
    "    # Создаем subplot для текущего столбца\n",
    "    plt.subplot(6, 3, i + 1)  # 3 строки, 2 столбца, текущий график\n",
    "    \n",
    "    # Подсчитываем количество каждого уникального значения в текущем столбце\n",
    "    column_data = data[column].value_counts()\n",
    "    \n",
    "    # Строим круговую диаграмму для текущего столбца\n",
    "    plt.pie(column_data, labels=column_data.index, autopct='%1.1f%%')\n",
    "    \n",
    "    # Добавляем заголовок с названием столбца\n",
    "    plt.title(column)\n",
    "\n",
    "# Отображаем все круговые диаграммы\n",
    "plt.tight_layout()\n",
    "plt.show()"
   ]
  },
  {
   "cell_type": "markdown",
   "id": "29d4320d",
   "metadata": {},
   "source": [
    "**Выводы по исследовательскому анализу данных**\n",
    "\n",
    "- В данных выбросов не обнаружено.\n",
    "- Месячные оплаты распределены таким образом, что основная часть пользователей платят 20 долларов, видимо, это цена минимальной подписки.\n",
    "- Дальше помесячная оплата распределена более равномерно с пиками сумм 50, 60, 70, 80, 90, 100 и 110 долларов.\n",
    "- В гистограмме **period** мы видим, что новых пользователей, которые пользуются подпиской первый год, больше. Однако есть и достаточно большое количесво пользователей, которые пользуются подпиской более 5 с половиной лет.\n",
    "- Чуть больше половины пользователей предпочитаю **помесячную оплату** подписки.\n",
    "- У 21% пользователей не подключена дополнительная услуга интернета.\n",
    "- Количество пользователей мужчин и женщин практически одинаковое. \n",
    "- 16% пользователей - это жители пенсионного возраста.\n",
    "- **15% процентов пользователей не продлили подписку**."
   ]
  },
  {
   "cell_type": "markdown",
   "id": "c5dcaad9",
   "metadata": {},
   "source": [
    "<div class=\"alert alert-success\">\n",
    "<b>👍 Успех:</b> Все верно!\n",
    "</div>"
   ]
  },
  {
   "cell_type": "markdown",
   "id": "7e9b7be4",
   "metadata": {},
   "source": [
    "## Корреляционный анализ данных"
   ]
  },
  {
   "cell_type": "markdown",
   "id": "9c793c8d",
   "metadata": {},
   "source": [
    "Проведем корреляционный анализ всех признаков в датасете и отберем те, которые влияют на целевую переменную.\n",
    "\n",
    "Сначала сделаем копию данных и уберем столбец **customerID**, **EndDate** (так как на основе этого столбца формировали target) и **BeginDate** (так как на основе этого столбца формировали period)."
   ]
  },
  {
   "cell_type": "code",
   "execution_count": 26,
   "id": "4a766950",
   "metadata": {},
   "outputs": [],
   "source": [
    "data_corr = data.copy()\n",
    "data_corr = data_corr.drop(columns=['customerID', 'EndDate', 'BeginDate'])"
   ]
  },
  {
   "cell_type": "markdown",
   "id": "1b12d8cb",
   "metadata": {},
   "source": [
    "Построим матрицу корреляции phik."
   ]
  },
  {
   "cell_type": "code",
   "execution_count": 27,
   "id": "9b81d09f",
   "metadata": {},
   "outputs": [
    {
     "name": "stdout",
     "output_type": "stream",
     "text": [
      "interval columns not set, guessing: ['MonthlyCharges', 'TotalCharges', 'target', 'SeniorCitizen', 'period']\n"
     ]
    },
    {
     "data": {
      "text/html": [
       "<div>\n",
       "<style scoped>\n",
       "    .dataframe tbody tr th:only-of-type {\n",
       "        vertical-align: middle;\n",
       "    }\n",
       "\n",
       "    .dataframe tbody tr th {\n",
       "        vertical-align: top;\n",
       "    }\n",
       "\n",
       "    .dataframe thead th {\n",
       "        text-align: right;\n",
       "    }\n",
       "</style>\n",
       "<table border=\"1\" class=\"dataframe\">\n",
       "  <thead>\n",
       "    <tr style=\"text-align: right;\">\n",
       "      <th></th>\n",
       "      <th>Type</th>\n",
       "      <th>PaperlessBilling</th>\n",
       "      <th>PaymentMethod</th>\n",
       "      <th>MonthlyCharges</th>\n",
       "      <th>TotalCharges</th>\n",
       "      <th>target</th>\n",
       "      <th>InternetService</th>\n",
       "      <th>OnlineSecurity</th>\n",
       "      <th>OnlineBackup</th>\n",
       "      <th>DeviceProtection</th>\n",
       "      <th>TechSupport</th>\n",
       "      <th>StreamingTV</th>\n",
       "      <th>StreamingMovies</th>\n",
       "      <th>gender</th>\n",
       "      <th>SeniorCitizen</th>\n",
       "      <th>Partner</th>\n",
       "      <th>Dependents</th>\n",
       "      <th>MultipleLines</th>\n",
       "      <th>period</th>\n",
       "    </tr>\n",
       "  </thead>\n",
       "  <tbody>\n",
       "    <tr>\n",
       "      <th>Type</th>\n",
       "      <td>1.00</td>\n",
       "      <td>0.07</td>\n",
       "      <td>0.27</td>\n",
       "      <td>0.41</td>\n",
       "      <td>0.63</td>\n",
       "      <td>0.10</td>\n",
       "      <td>0.12</td>\n",
       "      <td>0.25</td>\n",
       "      <td>0.20</td>\n",
       "      <td>0.25</td>\n",
       "      <td>0.29</td>\n",
       "      <td>0.17</td>\n",
       "      <td>0.17</td>\n",
       "      <td>0.00</td>\n",
       "      <td>0.07</td>\n",
       "      <td>0.18</td>\n",
       "      <td>0.13</td>\n",
       "      <td>0.11</td>\n",
       "      <td>0.67</td>\n",
       "    </tr>\n",
       "    <tr>\n",
       "      <th>PaperlessBilling</th>\n",
       "      <td>0.07</td>\n",
       "      <td>1.00</td>\n",
       "      <td>0.22</td>\n",
       "      <td>0.26</td>\n",
       "      <td>0.04</td>\n",
       "      <td>0.04</td>\n",
       "      <td>0.37</td>\n",
       "      <td>0.20</td>\n",
       "      <td>0.00</td>\n",
       "      <td>0.03</td>\n",
       "      <td>0.11</td>\n",
       "      <td>0.17</td>\n",
       "      <td>0.13</td>\n",
       "      <td>0.01</td>\n",
       "      <td>0.17</td>\n",
       "      <td>0.00</td>\n",
       "      <td>0.12</td>\n",
       "      <td>0.14</td>\n",
       "      <td>0.04</td>\n",
       "    </tr>\n",
       "    <tr>\n",
       "      <th>PaymentMethod</th>\n",
       "      <td>0.27</td>\n",
       "      <td>0.22</td>\n",
       "      <td>1.00</td>\n",
       "      <td>0.30</td>\n",
       "      <td>0.33</td>\n",
       "      <td>0.19</td>\n",
       "      <td>0.46</td>\n",
       "      <td>0.36</td>\n",
       "      <td>0.28</td>\n",
       "      <td>0.30</td>\n",
       "      <td>0.37</td>\n",
       "      <td>0.22</td>\n",
       "      <td>0.23</td>\n",
       "      <td>0.00</td>\n",
       "      <td>0.22</td>\n",
       "      <td>0.25</td>\n",
       "      <td>0.20</td>\n",
       "      <td>0.28</td>\n",
       "      <td>0.35</td>\n",
       "    </tr>\n",
       "    <tr>\n",
       "      <th>MonthlyCharges</th>\n",
       "      <td>0.41</td>\n",
       "      <td>0.26</td>\n",
       "      <td>0.30</td>\n",
       "      <td>1.00</td>\n",
       "      <td>0.70</td>\n",
       "      <td>0.26</td>\n",
       "      <td>0.91</td>\n",
       "      <td>0.36</td>\n",
       "      <td>0.47</td>\n",
       "      <td>0.55</td>\n",
       "      <td>0.42</td>\n",
       "      <td>0.80</td>\n",
       "      <td>0.79</td>\n",
       "      <td>0.00</td>\n",
       "      <td>0.21</td>\n",
       "      <td>0.26</td>\n",
       "      <td>0.08</td>\n",
       "      <td>0.60</td>\n",
       "      <td>0.49</td>\n",
       "    </tr>\n",
       "    <tr>\n",
       "      <th>TotalCharges</th>\n",
       "      <td>0.63</td>\n",
       "      <td>0.04</td>\n",
       "      <td>0.33</td>\n",
       "      <td>0.70</td>\n",
       "      <td>1.00</td>\n",
       "      <td>0.36</td>\n",
       "      <td>0.24</td>\n",
       "      <td>0.43</td>\n",
       "      <td>0.54</td>\n",
       "      <td>0.55</td>\n",
       "      <td>0.47</td>\n",
       "      <td>0.52</td>\n",
       "      <td>0.53</td>\n",
       "      <td>0.00</td>\n",
       "      <td>0.04</td>\n",
       "      <td>0.45</td>\n",
       "      <td>0.17</td>\n",
       "      <td>0.51</td>\n",
       "      <td>0.92</td>\n",
       "    </tr>\n",
       "    <tr>\n",
       "      <th>target</th>\n",
       "      <td>0.10</td>\n",
       "      <td>0.04</td>\n",
       "      <td>0.19</td>\n",
       "      <td>0.26</td>\n",
       "      <td>0.36</td>\n",
       "      <td>1.00</td>\n",
       "      <td>0.10</td>\n",
       "      <td>0.12</td>\n",
       "      <td>0.22</td>\n",
       "      <td>0.20</td>\n",
       "      <td>0.08</td>\n",
       "      <td>0.19</td>\n",
       "      <td>0.21</td>\n",
       "      <td>0.02</td>\n",
       "      <td>0.06</td>\n",
       "      <td>0.22</td>\n",
       "      <td>0.06</td>\n",
       "      <td>0.26</td>\n",
       "      <td>0.39</td>\n",
       "    </tr>\n",
       "    <tr>\n",
       "      <th>InternetService</th>\n",
       "      <td>0.12</td>\n",
       "      <td>0.37</td>\n",
       "      <td>0.46</td>\n",
       "      <td>0.91</td>\n",
       "      <td>0.24</td>\n",
       "      <td>0.10</td>\n",
       "      <td>1.00</td>\n",
       "      <td>0.37</td>\n",
       "      <td>0.03</td>\n",
       "      <td>0.00</td>\n",
       "      <td>0.35</td>\n",
       "      <td>0.26</td>\n",
       "      <td>0.26</td>\n",
       "      <td>0.00</td>\n",
       "      <td>0.33</td>\n",
       "      <td>0.00</td>\n",
       "      <td>0.22</td>\n",
       "      <td>0.34</td>\n",
       "      <td>0.06</td>\n",
       "    </tr>\n",
       "    <tr>\n",
       "      <th>OnlineSecurity</th>\n",
       "      <td>0.25</td>\n",
       "      <td>0.20</td>\n",
       "      <td>0.36</td>\n",
       "      <td>0.36</td>\n",
       "      <td>0.43</td>\n",
       "      <td>0.12</td>\n",
       "      <td>0.37</td>\n",
       "      <td>1.00</td>\n",
       "      <td>0.30</td>\n",
       "      <td>0.26</td>\n",
       "      <td>0.41</td>\n",
       "      <td>0.07</td>\n",
       "      <td>0.10</td>\n",
       "      <td>0.02</td>\n",
       "      <td>0.16</td>\n",
       "      <td>0.27</td>\n",
       "      <td>0.23</td>\n",
       "      <td>0.08</td>\n",
       "      <td>0.46</td>\n",
       "    </tr>\n",
       "    <tr>\n",
       "      <th>OnlineBackup</th>\n",
       "      <td>0.20</td>\n",
       "      <td>0.00</td>\n",
       "      <td>0.28</td>\n",
       "      <td>0.47</td>\n",
       "      <td>0.54</td>\n",
       "      <td>0.22</td>\n",
       "      <td>0.03</td>\n",
       "      <td>0.30</td>\n",
       "      <td>1.00</td>\n",
       "      <td>0.30</td>\n",
       "      <td>0.32</td>\n",
       "      <td>0.24</td>\n",
       "      <td>0.22</td>\n",
       "      <td>0.00</td>\n",
       "      <td>0.00</td>\n",
       "      <td>0.28</td>\n",
       "      <td>0.15</td>\n",
       "      <td>0.25</td>\n",
       "      <td>0.51</td>\n",
       "    </tr>\n",
       "    <tr>\n",
       "      <th>DeviceProtection</th>\n",
       "      <td>0.25</td>\n",
       "      <td>0.03</td>\n",
       "      <td>0.30</td>\n",
       "      <td>0.55</td>\n",
       "      <td>0.55</td>\n",
       "      <td>0.20</td>\n",
       "      <td>0.00</td>\n",
       "      <td>0.26</td>\n",
       "      <td>0.30</td>\n",
       "      <td>1.00</td>\n",
       "      <td>0.36</td>\n",
       "      <td>0.42</td>\n",
       "      <td>0.43</td>\n",
       "      <td>0.00</td>\n",
       "      <td>0.00</td>\n",
       "      <td>0.30</td>\n",
       "      <td>0.14</td>\n",
       "      <td>0.26</td>\n",
       "      <td>0.50</td>\n",
       "    </tr>\n",
       "    <tr>\n",
       "      <th>TechSupport</th>\n",
       "      <td>0.29</td>\n",
       "      <td>0.11</td>\n",
       "      <td>0.37</td>\n",
       "      <td>0.42</td>\n",
       "      <td>0.47</td>\n",
       "      <td>0.08</td>\n",
       "      <td>0.35</td>\n",
       "      <td>0.41</td>\n",
       "      <td>0.32</td>\n",
       "      <td>0.36</td>\n",
       "      <td>1.00</td>\n",
       "      <td>0.27</td>\n",
       "      <td>0.28</td>\n",
       "      <td>0.00</td>\n",
       "      <td>0.19</td>\n",
       "      <td>0.24</td>\n",
       "      <td>0.20</td>\n",
       "      <td>0.09</td>\n",
       "      <td>0.48</td>\n",
       "    </tr>\n",
       "    <tr>\n",
       "      <th>StreamingTV</th>\n",
       "      <td>0.17</td>\n",
       "      <td>0.17</td>\n",
       "      <td>0.22</td>\n",
       "      <td>0.80</td>\n",
       "      <td>0.52</td>\n",
       "      <td>0.19</td>\n",
       "      <td>0.26</td>\n",
       "      <td>0.07</td>\n",
       "      <td>0.24</td>\n",
       "      <td>0.42</td>\n",
       "      <td>0.27</td>\n",
       "      <td>1.00</td>\n",
       "      <td>0.63</td>\n",
       "      <td>0.00</td>\n",
       "      <td>0.04</td>\n",
       "      <td>0.24</td>\n",
       "      <td>0.09</td>\n",
       "      <td>0.33</td>\n",
       "      <td>0.40</td>\n",
       "    </tr>\n",
       "    <tr>\n",
       "      <th>StreamingMovies</th>\n",
       "      <td>0.17</td>\n",
       "      <td>0.13</td>\n",
       "      <td>0.23</td>\n",
       "      <td>0.79</td>\n",
       "      <td>0.53</td>\n",
       "      <td>0.21</td>\n",
       "      <td>0.26</td>\n",
       "      <td>0.10</td>\n",
       "      <td>0.22</td>\n",
       "      <td>0.43</td>\n",
       "      <td>0.28</td>\n",
       "      <td>0.63</td>\n",
       "      <td>1.00</td>\n",
       "      <td>0.00</td>\n",
       "      <td>0.07</td>\n",
       "      <td>0.23</td>\n",
       "      <td>0.04</td>\n",
       "      <td>0.34</td>\n",
       "      <td>0.41</td>\n",
       "    </tr>\n",
       "    <tr>\n",
       "      <th>gender</th>\n",
       "      <td>0.00</td>\n",
       "      <td>0.01</td>\n",
       "      <td>0.00</td>\n",
       "      <td>0.00</td>\n",
       "      <td>0.00</td>\n",
       "      <td>0.02</td>\n",
       "      <td>0.00</td>\n",
       "      <td>0.02</td>\n",
       "      <td>0.00</td>\n",
       "      <td>0.00</td>\n",
       "      <td>0.00</td>\n",
       "      <td>0.00</td>\n",
       "      <td>0.00</td>\n",
       "      <td>1.00</td>\n",
       "      <td>0.00</td>\n",
       "      <td>0.04</td>\n",
       "      <td>0.02</td>\n",
       "      <td>0.00</td>\n",
       "      <td>0.00</td>\n",
       "    </tr>\n",
       "    <tr>\n",
       "      <th>SeniorCitizen</th>\n",
       "      <td>0.07</td>\n",
       "      <td>0.17</td>\n",
       "      <td>0.22</td>\n",
       "      <td>0.21</td>\n",
       "      <td>0.04</td>\n",
       "      <td>0.06</td>\n",
       "      <td>0.33</td>\n",
       "      <td>0.16</td>\n",
       "      <td>0.00</td>\n",
       "      <td>0.00</td>\n",
       "      <td>0.19</td>\n",
       "      <td>0.04</td>\n",
       "      <td>0.07</td>\n",
       "      <td>0.00</td>\n",
       "      <td>1.00</td>\n",
       "      <td>0.01</td>\n",
       "      <td>0.32</td>\n",
       "      <td>0.17</td>\n",
       "      <td>0.07</td>\n",
       "    </tr>\n",
       "    <tr>\n",
       "      <th>Partner</th>\n",
       "      <td>0.18</td>\n",
       "      <td>0.00</td>\n",
       "      <td>0.25</td>\n",
       "      <td>0.26</td>\n",
       "      <td>0.45</td>\n",
       "      <td>0.22</td>\n",
       "      <td>0.00</td>\n",
       "      <td>0.27</td>\n",
       "      <td>0.28</td>\n",
       "      <td>0.30</td>\n",
       "      <td>0.24</td>\n",
       "      <td>0.24</td>\n",
       "      <td>0.23</td>\n",
       "      <td>0.04</td>\n",
       "      <td>0.01</td>\n",
       "      <td>1.00</td>\n",
       "      <td>0.61</td>\n",
       "      <td>0.23</td>\n",
       "      <td>0.47</td>\n",
       "    </tr>\n",
       "    <tr>\n",
       "      <th>Dependents</th>\n",
       "      <td>0.13</td>\n",
       "      <td>0.12</td>\n",
       "      <td>0.20</td>\n",
       "      <td>0.08</td>\n",
       "      <td>0.17</td>\n",
       "      <td>0.06</td>\n",
       "      <td>0.22</td>\n",
       "      <td>0.23</td>\n",
       "      <td>0.15</td>\n",
       "      <td>0.14</td>\n",
       "      <td>0.20</td>\n",
       "      <td>0.09</td>\n",
       "      <td>0.04</td>\n",
       "      <td>0.02</td>\n",
       "      <td>0.32</td>\n",
       "      <td>0.61</td>\n",
       "      <td>1.00</td>\n",
       "      <td>0.00</td>\n",
       "      <td>0.21</td>\n",
       "    </tr>\n",
       "    <tr>\n",
       "      <th>MultipleLines</th>\n",
       "      <td>0.11</td>\n",
       "      <td>0.14</td>\n",
       "      <td>0.28</td>\n",
       "      <td>0.60</td>\n",
       "      <td>0.51</td>\n",
       "      <td>0.26</td>\n",
       "      <td>0.34</td>\n",
       "      <td>0.08</td>\n",
       "      <td>0.25</td>\n",
       "      <td>0.26</td>\n",
       "      <td>0.09</td>\n",
       "      <td>0.33</td>\n",
       "      <td>0.34</td>\n",
       "      <td>0.00</td>\n",
       "      <td>0.17</td>\n",
       "      <td>0.23</td>\n",
       "      <td>0.00</td>\n",
       "      <td>1.00</td>\n",
       "      <td>0.44</td>\n",
       "    </tr>\n",
       "    <tr>\n",
       "      <th>period</th>\n",
       "      <td>0.67</td>\n",
       "      <td>0.04</td>\n",
       "      <td>0.35</td>\n",
       "      <td>0.49</td>\n",
       "      <td>0.92</td>\n",
       "      <td>0.39</td>\n",
       "      <td>0.06</td>\n",
       "      <td>0.46</td>\n",
       "      <td>0.51</td>\n",
       "      <td>0.50</td>\n",
       "      <td>0.48</td>\n",
       "      <td>0.40</td>\n",
       "      <td>0.41</td>\n",
       "      <td>0.00</td>\n",
       "      <td>0.07</td>\n",
       "      <td>0.47</td>\n",
       "      <td>0.21</td>\n",
       "      <td>0.44</td>\n",
       "      <td>1.00</td>\n",
       "    </tr>\n",
       "  </tbody>\n",
       "</table>\n",
       "</div>"
      ],
      "text/plain": [
       "                  Type  PaperlessBilling  PaymentMethod  MonthlyCharges  \\\n",
       "Type              1.00              0.07           0.27            0.41   \n",
       "PaperlessBilling  0.07              1.00           0.22            0.26   \n",
       "PaymentMethod     0.27              0.22           1.00            0.30   \n",
       "MonthlyCharges    0.41              0.26           0.30            1.00   \n",
       "TotalCharges      0.63              0.04           0.33            0.70   \n",
       "target            0.10              0.04           0.19            0.26   \n",
       "InternetService   0.12              0.37           0.46            0.91   \n",
       "OnlineSecurity    0.25              0.20           0.36            0.36   \n",
       "OnlineBackup      0.20              0.00           0.28            0.47   \n",
       "DeviceProtection  0.25              0.03           0.30            0.55   \n",
       "TechSupport       0.29              0.11           0.37            0.42   \n",
       "StreamingTV       0.17              0.17           0.22            0.80   \n",
       "StreamingMovies   0.17              0.13           0.23            0.79   \n",
       "gender            0.00              0.01           0.00            0.00   \n",
       "SeniorCitizen     0.07              0.17           0.22            0.21   \n",
       "Partner           0.18              0.00           0.25            0.26   \n",
       "Dependents        0.13              0.12           0.20            0.08   \n",
       "MultipleLines     0.11              0.14           0.28            0.60   \n",
       "period            0.67              0.04           0.35            0.49   \n",
       "\n",
       "                  TotalCharges  target  InternetService  OnlineSecurity  \\\n",
       "Type                      0.63    0.10             0.12            0.25   \n",
       "PaperlessBilling          0.04    0.04             0.37            0.20   \n",
       "PaymentMethod             0.33    0.19             0.46            0.36   \n",
       "MonthlyCharges            0.70    0.26             0.91            0.36   \n",
       "TotalCharges              1.00    0.36             0.24            0.43   \n",
       "target                    0.36    1.00             0.10            0.12   \n",
       "InternetService           0.24    0.10             1.00            0.37   \n",
       "OnlineSecurity            0.43    0.12             0.37            1.00   \n",
       "OnlineBackup              0.54    0.22             0.03            0.30   \n",
       "DeviceProtection          0.55    0.20             0.00            0.26   \n",
       "TechSupport               0.47    0.08             0.35            0.41   \n",
       "StreamingTV               0.52    0.19             0.26            0.07   \n",
       "StreamingMovies           0.53    0.21             0.26            0.10   \n",
       "gender                    0.00    0.02             0.00            0.02   \n",
       "SeniorCitizen             0.04    0.06             0.33            0.16   \n",
       "Partner                   0.45    0.22             0.00            0.27   \n",
       "Dependents                0.17    0.06             0.22            0.23   \n",
       "MultipleLines             0.51    0.26             0.34            0.08   \n",
       "period                    0.92    0.39             0.06            0.46   \n",
       "\n",
       "                  OnlineBackup  DeviceProtection  TechSupport  StreamingTV  \\\n",
       "Type                      0.20              0.25         0.29         0.17   \n",
       "PaperlessBilling          0.00              0.03         0.11         0.17   \n",
       "PaymentMethod             0.28              0.30         0.37         0.22   \n",
       "MonthlyCharges            0.47              0.55         0.42         0.80   \n",
       "TotalCharges              0.54              0.55         0.47         0.52   \n",
       "target                    0.22              0.20         0.08         0.19   \n",
       "InternetService           0.03              0.00         0.35         0.26   \n",
       "OnlineSecurity            0.30              0.26         0.41         0.07   \n",
       "OnlineBackup              1.00              0.30         0.32         0.24   \n",
       "DeviceProtection          0.30              1.00         0.36         0.42   \n",
       "TechSupport               0.32              0.36         1.00         0.27   \n",
       "StreamingTV               0.24              0.42         0.27         1.00   \n",
       "StreamingMovies           0.22              0.43         0.28         0.63   \n",
       "gender                    0.00              0.00         0.00         0.00   \n",
       "SeniorCitizen             0.00              0.00         0.19         0.04   \n",
       "Partner                   0.28              0.30         0.24         0.24   \n",
       "Dependents                0.15              0.14         0.20         0.09   \n",
       "MultipleLines             0.25              0.26         0.09         0.33   \n",
       "period                    0.51              0.50         0.48         0.40   \n",
       "\n",
       "                  StreamingMovies  gender  SeniorCitizen  Partner  Dependents  \\\n",
       "Type                         0.17    0.00           0.07     0.18        0.13   \n",
       "PaperlessBilling             0.13    0.01           0.17     0.00        0.12   \n",
       "PaymentMethod                0.23    0.00           0.22     0.25        0.20   \n",
       "MonthlyCharges               0.79    0.00           0.21     0.26        0.08   \n",
       "TotalCharges                 0.53    0.00           0.04     0.45        0.17   \n",
       "target                       0.21    0.02           0.06     0.22        0.06   \n",
       "InternetService              0.26    0.00           0.33     0.00        0.22   \n",
       "OnlineSecurity               0.10    0.02           0.16     0.27        0.23   \n",
       "OnlineBackup                 0.22    0.00           0.00     0.28        0.15   \n",
       "DeviceProtection             0.43    0.00           0.00     0.30        0.14   \n",
       "TechSupport                  0.28    0.00           0.19     0.24        0.20   \n",
       "StreamingTV                  0.63    0.00           0.04     0.24        0.09   \n",
       "StreamingMovies              1.00    0.00           0.07     0.23        0.04   \n",
       "gender                       0.00    1.00           0.00     0.04        0.02   \n",
       "SeniorCitizen                0.07    0.00           1.00     0.01        0.32   \n",
       "Partner                      0.23    0.04           0.01     1.00        0.61   \n",
       "Dependents                   0.04    0.02           0.32     0.61        1.00   \n",
       "MultipleLines                0.34    0.00           0.17     0.23        0.00   \n",
       "period                       0.41    0.00           0.07     0.47        0.21   \n",
       "\n",
       "                  MultipleLines  period  \n",
       "Type                       0.11    0.67  \n",
       "PaperlessBilling           0.14    0.04  \n",
       "PaymentMethod              0.28    0.35  \n",
       "MonthlyCharges             0.60    0.49  \n",
       "TotalCharges               0.51    0.92  \n",
       "target                     0.26    0.39  \n",
       "InternetService            0.34    0.06  \n",
       "OnlineSecurity             0.08    0.46  \n",
       "OnlineBackup               0.25    0.51  \n",
       "DeviceProtection           0.26    0.50  \n",
       "TechSupport                0.09    0.48  \n",
       "StreamingTV                0.33    0.40  \n",
       "StreamingMovies            0.34    0.41  \n",
       "gender                     0.00    0.00  \n",
       "SeniorCitizen              0.17    0.07  \n",
       "Partner                    0.23    0.47  \n",
       "Dependents                 0.00    0.21  \n",
       "MultipleLines              1.00    0.44  \n",
       "period                     0.44    1.00  "
      ]
     },
     "execution_count": 27,
     "metadata": {},
     "output_type": "execute_result"
    }
   ],
   "source": [
    "phik_overview = data_corr.phik_matrix()\n",
    "phik_overview.round(2)"
   ]
  },
  {
   "cell_type": "code",
   "execution_count": 28,
   "id": "369721e8",
   "metadata": {},
   "outputs": [],
   "source": [
    "interval_cols = ['MonthlyCharges', 'TotalCharges', 'period']\n",
    "\n",
    "phik_overview = data_corr.phik_matrix(interval_cols = interval_cols)"
   ]
  },
  {
   "cell_type": "code",
   "execution_count": 29,
   "id": "55933291",
   "metadata": {},
   "outputs": [
    {
     "data": {
      "image/png": "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\n",
      "text/plain": [
       "<Figure size 1440x864 with 2 Axes>"
      ]
     },
     "metadata": {
      "needs_background": "light"
     },
     "output_type": "display_data"
    }
   ],
   "source": [
    "plot_correlation_matrix(phik_overview.values, \n",
    "                       x_labels = phik_overview.columns,\n",
    "                       y_labels = phik_overview.index,\n",
    "                       vmin = 0,\n",
    "                       vmax = 1,\n",
    "                       title = r'Корреляция по $\\phi_k$',\n",
    "                       color_map= \"Greens\",\n",
    "                       fontsize_factor = 1.5,\n",
    "                       figsize = (20, 12))\n",
    "plt.show();"
   ]
  },
  {
   "cell_type": "markdown",
   "id": "c5dae8b1",
   "metadata": {},
   "source": [
    "Мы более отчетливо видим, какие признаки влияют на целевую переменную. Однако очень много признаков, которые имеют слабую корреляцию с **target**.\n",
    "\n",
    "В датафрейм для обучения модели отберем только те, в которых корреляция больше 0.1."
   ]
  },
  {
   "cell_type": "code",
   "execution_count": 30,
   "id": "be92153e",
   "metadata": {},
   "outputs": [],
   "source": [
    "data1 = data_corr.drop(columns=['Dependents','SeniorCitizen','gender', 'StreamingMovies', 'StreamingTV','TechSupport', 'DeviceProtection', 'OnlineBackup', 'OnlineSecurity', 'InternetService', 'PaperlessBilling', 'Type'])"
   ]
  },
  {
   "cell_type": "code",
   "execution_count": 31,
   "id": "7e58ac08",
   "metadata": {},
   "outputs": [
    {
     "data": {
      "text/html": [
       "<div>\n",
       "<style scoped>\n",
       "    .dataframe tbody tr th:only-of-type {\n",
       "        vertical-align: middle;\n",
       "    }\n",
       "\n",
       "    .dataframe tbody tr th {\n",
       "        vertical-align: top;\n",
       "    }\n",
       "\n",
       "    .dataframe thead th {\n",
       "        text-align: right;\n",
       "    }\n",
       "</style>\n",
       "<table border=\"1\" class=\"dataframe\">\n",
       "  <thead>\n",
       "    <tr style=\"text-align: right;\">\n",
       "      <th></th>\n",
       "      <th>PaymentMethod</th>\n",
       "      <th>MonthlyCharges</th>\n",
       "      <th>TotalCharges</th>\n",
       "      <th>target</th>\n",
       "      <th>Partner</th>\n",
       "      <th>MultipleLines</th>\n",
       "      <th>period</th>\n",
       "    </tr>\n",
       "  </thead>\n",
       "  <tbody>\n",
       "    <tr>\n",
       "      <th>0</th>\n",
       "      <td>Mailed check</td>\n",
       "      <td>56.95</td>\n",
       "      <td>2071.84</td>\n",
       "      <td>0</td>\n",
       "      <td>No</td>\n",
       "      <td>No</td>\n",
       "      <td>1036.0</td>\n",
       "    </tr>\n",
       "    <tr>\n",
       "      <th>1</th>\n",
       "      <td>Mailed check</td>\n",
       "      <td>53.85</td>\n",
       "      <td>226.17</td>\n",
       "      <td>0</td>\n",
       "      <td>No</td>\n",
       "      <td>No</td>\n",
       "      <td>123.0</td>\n",
       "    </tr>\n",
       "    <tr>\n",
       "      <th>2</th>\n",
       "      <td>Electronic check</td>\n",
       "      <td>70.70</td>\n",
       "      <td>353.50</td>\n",
       "      <td>0</td>\n",
       "      <td>No</td>\n",
       "      <td>No</td>\n",
       "      <td>153.0</td>\n",
       "    </tr>\n",
       "    <tr>\n",
       "      <th>3</th>\n",
       "      <td>Electronic check</td>\n",
       "      <td>99.65</td>\n",
       "      <td>1150.96</td>\n",
       "      <td>0</td>\n",
       "      <td>No</td>\n",
       "      <td>Yes</td>\n",
       "      <td>337.0</td>\n",
       "    </tr>\n",
       "    <tr>\n",
       "      <th>4</th>\n",
       "      <td>Credit card (automatic)</td>\n",
       "      <td>89.10</td>\n",
       "      <td>2058.21</td>\n",
       "      <td>0</td>\n",
       "      <td>No</td>\n",
       "      <td>Yes</td>\n",
       "      <td>671.0</td>\n",
       "    </tr>\n",
       "  </tbody>\n",
       "</table>\n",
       "</div>"
      ],
      "text/plain": [
       "             PaymentMethod  MonthlyCharges  TotalCharges  target Partner  \\\n",
       "0             Mailed check           56.95       2071.84       0      No   \n",
       "1             Mailed check           53.85        226.17       0      No   \n",
       "2         Electronic check           70.70        353.50       0      No   \n",
       "3         Electronic check           99.65       1150.96       0      No   \n",
       "4  Credit card (automatic)           89.10       2058.21       0      No   \n",
       "\n",
       "  MultipleLines  period  \n",
       "0            No  1036.0  \n",
       "1            No   123.0  \n",
       "2            No   153.0  \n",
       "3           Yes   337.0  \n",
       "4           Yes   671.0  "
      ]
     },
     "execution_count": 31,
     "metadata": {},
     "output_type": "execute_result"
    }
   ],
   "source": [
    "data1.head()"
   ]
  },
  {
   "cell_type": "code",
   "execution_count": 32,
   "id": "32a06f8b",
   "metadata": {},
   "outputs": [
    {
     "data": {
      "image/png": "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\n",
      "text/plain": [
       "<Figure size 1440x864 with 2 Axes>"
      ]
     },
     "metadata": {
      "needs_background": "light"
     },
     "output_type": "display_data"
    }
   ],
   "source": [
    "phik_overview = data1.phik_matrix(interval_cols = interval_cols)\n",
    "plot_correlation_matrix(phik_overview.values, \n",
    "                       x_labels = phik_overview.columns,\n",
    "                       y_labels = phik_overview.index,\n",
    "                       vmin = 0,\n",
    "                       vmax = 1,\n",
    "                       title = r'Корреляция по $\\phi_k$',\n",
    "                       color_map= \"Greens\",\n",
    "                       fontsize_factor = 1.5,\n",
    "                       figsize = (20, 12))\n",
    "plt.show();"
   ]
  },
  {
   "cell_type": "markdown",
   "id": "cfea1b95",
   "metadata": {},
   "source": [
    "Мы удалили те признаки, которые оказывали меньше всего влияния и оставили более значимые, учитывая корреляцию с целевым признаком. Наибольшие значения показывают:\n",
    "- сроки использования подписки - **period**.\n",
    "- сколько клиент потратил на подписку - **TotalCharges**.\n",
    "\n",
    "Чем дольше клиент пользуется подпиской и чем больше он заплатил за всё время, тем меньше вероятность, что клиент откажется от продления подписки."
   ]
  },
  {
   "cell_type": "markdown",
   "id": "d1c72987",
   "metadata": {},
   "source": [
    "<div class=\"alert alert-success\">\n",
    "<b>👍 Успех:</b> Признаки отобраны!\n",
    "</div>"
   ]
  },
  {
   "cell_type": "markdown",
   "id": "3db9bd63",
   "metadata": {},
   "source": [
    "## Подготовка и обучение модели"
   ]
  },
  {
   "cell_type": "markdown",
   "id": "770842a8",
   "metadata": {},
   "source": [
    "Выделим из датасета data1 целевой признак."
   ]
  },
  {
   "cell_type": "code",
   "execution_count": 33,
   "id": "6f206268",
   "metadata": {},
   "outputs": [],
   "source": [
    "X = data1.drop('target', axis = 1)\n",
    "y = data1['target']"
   ]
  },
  {
   "cell_type": "markdown",
   "id": "da191456",
   "metadata": {},
   "source": [
    "Выведем размеры датасетов."
   ]
  },
  {
   "cell_type": "code",
   "execution_count": 34,
   "id": "b4e8e369",
   "metadata": {},
   "outputs": [
    {
     "data": {
      "text/plain": [
       "((4835, 6), (4835,))"
      ]
     },
     "execution_count": 34,
     "metadata": {},
     "output_type": "execute_result"
    }
   ],
   "source": [
    "X.shape, y.shape"
   ]
  },
  {
   "cell_type": "markdown",
   "id": "4accc86c",
   "metadata": {},
   "source": [
    "Сформируем обучающую и тестовые выборки."
   ]
  },
  {
   "cell_type": "code",
   "execution_count": 35,
   "id": "1850b44f",
   "metadata": {},
   "outputs": [],
   "source": [
    "X_train, X_test, \\\n",
    "y_train, y_test = train_test_split(\n",
    "    X, y,\n",
    "    test_size = TEST_SIZE,\n",
    "    random_state = RANDOM_STATE,\n",
    "    stratify = y)"
   ]
  },
  {
   "cell_type": "markdown",
   "id": "04ee5307",
   "metadata": {},
   "source": [
    "Проверим распределение классов."
   ]
  },
  {
   "cell_type": "code",
   "execution_count": 36,
   "id": "224e903b",
   "metadata": {},
   "outputs": [
    {
     "name": "stdout",
     "output_type": "stream",
     "text": [
      "Расспределение в тренировочной выборке: 0    0.826806\n",
      "1    0.173194\n",
      "Name: target, dtype: float64\n",
      "\n",
      "Расспределение в тестовой выборке: 0    0.826303\n",
      "1    0.173697\n",
      "Name: target, dtype: float64\n"
     ]
    }
   ],
   "source": [
    "print('Расспределение в тренировочной выборке:', y_train.value_counts(normalize = True))\n",
    "print()\n",
    "print('Расспределение в тестовой выборке:', y_test.value_counts(normalize = True))"
   ]
  },
  {
   "cell_type": "markdown",
   "id": "c69072f9",
   "metadata": {},
   "source": [
    "Создадим списки для кодирования."
   ]
  },
  {
   "cell_type": "code",
   "execution_count": 37,
   "id": "3c7c925e",
   "metadata": {},
   "outputs": [
    {
     "data": {
      "text/plain": [
       "['MonthlyCharges', 'TotalCharges', 'period']"
      ]
     },
     "execution_count": 37,
     "metadata": {},
     "output_type": "execute_result"
    }
   ],
   "source": [
    "num_columns = X_train.select_dtypes(include=['float64','int64']).columns.tolist()\n",
    "num_columns"
   ]
  },
  {
   "cell_type": "code",
   "execution_count": 38,
   "id": "7f0d1db1",
   "metadata": {},
   "outputs": [
    {
     "name": "stdout",
     "output_type": "stream",
     "text": [
      "Уникальные значения для столбца 'PaymentMethod': ['Electronic check' 'Bank transfer (automatic)' 'Credit card (automatic)'\n",
      " 'Mailed check']\n",
      "Уникальные значения для столбца 'Partner': ['No' 'Yes']\n",
      "Уникальные значения для столбца 'MultipleLines': ['Yes' 'No']\n"
     ]
    }
   ],
   "source": [
    "cat_columns = X_train.select_dtypes(include=['object']).columns.tolist()\n",
    "for column in cat_columns:\n",
    "        unique_values = X_train[column].unique()\n",
    "        print(f\"Уникальные значения для столбца '{column}': {unique_values}\")"
   ]
  },
  {
   "cell_type": "code",
   "execution_count": 39,
   "id": "256d6c92",
   "metadata": {},
   "outputs": [],
   "source": [
    "# признаки для OneHotEncoder\n",
    "ohe_columns = ['PaymentMethod', 'Partner', 'MultipleLines']\n",
    "\n",
    "# численные признаки\n",
    "num_columns = ['MonthlyCharges', 'TotalCharges', 'period']"
   ]
  },
  {
   "cell_type": "markdown",
   "id": "08e0103d",
   "metadata": {},
   "source": [
    "Создадим пайплайн для подготовки признаков из списка ohe_columns."
   ]
  },
  {
   "cell_type": "code",
   "execution_count": 40,
   "id": "dd63498c",
   "metadata": {},
   "outputs": [],
   "source": [
    "ohe_pipe = Pipeline([\n",
    "        (\n",
    "            'simpleImputer_ohe', \n",
    "            SimpleImputer(missing_values=np.nan, strategy='most_frequent')\n",
    "        ),\n",
    "        (    'ohe', \n",
    "            OneHotEncoder(sparse_output=False, handle_unknown='error',drop='first')\n",
    "        )\n",
    "])"
   ]
  },
  {
   "cell_type": "markdown",
   "id": "ba8cbbcb",
   "metadata": {},
   "source": [
    "Создадим общий пайплайн для подготовки данных."
   ]
  },
  {
   "cell_type": "code",
   "execution_count": 41,
   "id": "6024fe4e",
   "metadata": {
    "scrolled": true
   },
   "outputs": [
    {
     "name": "stdout",
     "output_type": "stream",
     "text": [
      "ColumnTransformer(remainder='passthrough',\n",
      "                  transformers=[('ohe',\n",
      "                                 Pipeline(steps=[('simpleImputer_ohe',\n",
      "                                                  SimpleImputer(strategy='most_frequent')),\n",
      "                                                 ('ohe',\n",
      "                                                  OneHotEncoder(drop='first',\n",
      "                                                                sparse_output=False))]),\n",
      "                                 ['PaymentMethod', 'Partner', 'MultipleLines']),\n",
      "                                ('num', MinMaxScaler(),\n",
      "                                 ['MonthlyCharges', 'TotalCharges', 'period'])])\n"
     ]
    }
   ],
   "source": [
    "data_preprocessor = ColumnTransformer(\n",
    "    [\n",
    "        ('ohe', ohe_pipe, ohe_columns),\n",
    "        ('num', MinMaxScaler(), num_columns)   \n",
    "    ], \n",
    "    remainder =  'passthrough'\n",
    ")\n",
    "print(data_preprocessor)"
   ]
  },
  {
   "cell_type": "markdown",
   "id": "9688cdc0",
   "metadata": {},
   "source": [
    "Создадим итоговый пайплайн."
   ]
  },
  {
   "cell_type": "code",
   "execution_count": 42,
   "id": "55327849",
   "metadata": {},
   "outputs": [],
   "source": [
    "pipe_final= Pipeline(\n",
    "    [\n",
    "        ('preprocessor', data_preprocessor),\n",
    "        ('models', DecisionTreeRegressor(random_state=RANDOM_STATE))\n",
    "    ]\n",
    ")"
   ]
  },
  {
   "cell_type": "markdown",
   "id": "91cad960",
   "metadata": {},
   "source": [
    "Визуализируем его."
   ]
  },
  {
   "cell_type": "code",
   "execution_count": 43,
   "id": "bd3fed63",
   "metadata": {},
   "outputs": [
    {
     "data": {
      "text/html": [
       "<style>#sk-container-id-1 {color: black;}#sk-container-id-1 pre{padding: 0;}#sk-container-id-1 div.sk-toggleable {background-color: white;}#sk-container-id-1 label.sk-toggleable__label {cursor: pointer;display: block;width: 100%;margin-bottom: 0;padding: 0.3em;box-sizing: border-box;text-align: center;}#sk-container-id-1 label.sk-toggleable__label-arrow:before {content: \"▸\";float: left;margin-right: 0.25em;color: #696969;}#sk-container-id-1 label.sk-toggleable__label-arrow:hover:before {color: black;}#sk-container-id-1 div.sk-estimator:hover label.sk-toggleable__label-arrow:before {color: black;}#sk-container-id-1 div.sk-toggleable__content {max-height: 0;max-width: 0;overflow: hidden;text-align: left;background-color: #f0f8ff;}#sk-container-id-1 div.sk-toggleable__content pre {margin: 0.2em;color: black;border-radius: 0.25em;background-color: #f0f8ff;}#sk-container-id-1 input.sk-toggleable__control:checked~div.sk-toggleable__content {max-height: 200px;max-width: 100%;overflow: auto;}#sk-container-id-1 input.sk-toggleable__control:checked~label.sk-toggleable__label-arrow:before {content: \"▾\";}#sk-container-id-1 div.sk-estimator input.sk-toggleable__control:checked~label.sk-toggleable__label {background-color: #d4ebff;}#sk-container-id-1 div.sk-label input.sk-toggleable__control:checked~label.sk-toggleable__label {background-color: #d4ebff;}#sk-container-id-1 input.sk-hidden--visually {border: 0;clip: rect(1px 1px 1px 1px);clip: rect(1px, 1px, 1px, 1px);height: 1px;margin: -1px;overflow: hidden;padding: 0;position: absolute;width: 1px;}#sk-container-id-1 div.sk-estimator {font-family: monospace;background-color: #f0f8ff;border: 1px dotted black;border-radius: 0.25em;box-sizing: border-box;margin-bottom: 0.5em;}#sk-container-id-1 div.sk-estimator:hover {background-color: #d4ebff;}#sk-container-id-1 div.sk-parallel-item::after {content: \"\";width: 100%;border-bottom: 1px solid gray;flex-grow: 1;}#sk-container-id-1 div.sk-label:hover label.sk-toggleable__label {background-color: #d4ebff;}#sk-container-id-1 div.sk-serial::before {content: \"\";position: absolute;border-left: 1px solid gray;box-sizing: border-box;top: 0;bottom: 0;left: 50%;z-index: 0;}#sk-container-id-1 div.sk-serial {display: flex;flex-direction: column;align-items: center;background-color: white;padding-right: 0.2em;padding-left: 0.2em;position: relative;}#sk-container-id-1 div.sk-item {position: relative;z-index: 1;}#sk-container-id-1 div.sk-parallel {display: flex;align-items: stretch;justify-content: center;background-color: white;position: relative;}#sk-container-id-1 div.sk-item::before, #sk-container-id-1 div.sk-parallel-item::before {content: \"\";position: absolute;border-left: 1px solid gray;box-sizing: border-box;top: 0;bottom: 0;left: 50%;z-index: -1;}#sk-container-id-1 div.sk-parallel-item {display: flex;flex-direction: column;z-index: 1;position: relative;background-color: white;}#sk-container-id-1 div.sk-parallel-item:first-child::after {align-self: flex-end;width: 50%;}#sk-container-id-1 div.sk-parallel-item:last-child::after {align-self: flex-start;width: 50%;}#sk-container-id-1 div.sk-parallel-item:only-child::after {width: 0;}#sk-container-id-1 div.sk-dashed-wrapped {border: 1px dashed gray;margin: 0 0.4em 0.5em 0.4em;box-sizing: border-box;padding-bottom: 0.4em;background-color: white;}#sk-container-id-1 div.sk-label label {font-family: monospace;font-weight: bold;display: inline-block;line-height: 1.2em;}#sk-container-id-1 div.sk-label-container {text-align: center;}#sk-container-id-1 div.sk-container {/* jupyter's `normalize.less` sets `[hidden] { display: none; }` but bootstrap.min.css set `[hidden] { display: none !important; }` so we also need the `!important` here to be able to override the default hidden behavior on the sphinx rendered scikit-learn.org. See: https://github.com/scikit-learn/scikit-learn/issues/21755 */display: inline-block !important;position: relative;}#sk-container-id-1 div.sk-text-repr-fallback {display: none;}</style><div id=\"sk-container-id-1\" class=\"sk-top-container\"><div class=\"sk-text-repr-fallback\"><pre>Pipeline(steps=[(&#x27;preprocessor&#x27;,\n",
       "                 ColumnTransformer(remainder=&#x27;passthrough&#x27;,\n",
       "                                   transformers=[(&#x27;ohe&#x27;,\n",
       "                                                  Pipeline(steps=[(&#x27;simpleImputer_ohe&#x27;,\n",
       "                                                                   SimpleImputer(strategy=&#x27;most_frequent&#x27;)),\n",
       "                                                                  (&#x27;ohe&#x27;,\n",
       "                                                                   OneHotEncoder(drop=&#x27;first&#x27;,\n",
       "                                                                                 sparse_output=False))]),\n",
       "                                                  [&#x27;PaymentMethod&#x27;, &#x27;Partner&#x27;,\n",
       "                                                   &#x27;MultipleLines&#x27;]),\n",
       "                                                 (&#x27;num&#x27;, MinMaxScaler(),\n",
       "                                                  [&#x27;MonthlyCharges&#x27;,\n",
       "                                                   &#x27;TotalCharges&#x27;,\n",
       "                                                   &#x27;period&#x27;])])),\n",
       "                (&#x27;models&#x27;, DecisionTreeRegressor(random_state=80925))])</pre><b>In a Jupyter environment, please rerun this cell to show the HTML representation or trust the notebook. <br />On GitHub, the HTML representation is unable to render, please try loading this page with nbviewer.org.</b></div><div class=\"sk-container\" hidden><div class=\"sk-item sk-dashed-wrapped\"><div class=\"sk-label-container\"><div class=\"sk-label sk-toggleable\"><input class=\"sk-toggleable__control sk-hidden--visually\" id=\"sk-estimator-id-1\" type=\"checkbox\" ><label for=\"sk-estimator-id-1\" class=\"sk-toggleable__label sk-toggleable__label-arrow\">Pipeline</label><div class=\"sk-toggleable__content\"><pre>Pipeline(steps=[(&#x27;preprocessor&#x27;,\n",
       "                 ColumnTransformer(remainder=&#x27;passthrough&#x27;,\n",
       "                                   transformers=[(&#x27;ohe&#x27;,\n",
       "                                                  Pipeline(steps=[(&#x27;simpleImputer_ohe&#x27;,\n",
       "                                                                   SimpleImputer(strategy=&#x27;most_frequent&#x27;)),\n",
       "                                                                  (&#x27;ohe&#x27;,\n",
       "                                                                   OneHotEncoder(drop=&#x27;first&#x27;,\n",
       "                                                                                 sparse_output=False))]),\n",
       "                                                  [&#x27;PaymentMethod&#x27;, &#x27;Partner&#x27;,\n",
       "                                                   &#x27;MultipleLines&#x27;]),\n",
       "                                                 (&#x27;num&#x27;, MinMaxScaler(),\n",
       "                                                  [&#x27;MonthlyCharges&#x27;,\n",
       "                                                   &#x27;TotalCharges&#x27;,\n",
       "                                                   &#x27;period&#x27;])])),\n",
       "                (&#x27;models&#x27;, DecisionTreeRegressor(random_state=80925))])</pre></div></div></div><div class=\"sk-serial\"><div class=\"sk-item sk-dashed-wrapped\"><div class=\"sk-label-container\"><div class=\"sk-label sk-toggleable\"><input class=\"sk-toggleable__control sk-hidden--visually\" id=\"sk-estimator-id-2\" type=\"checkbox\" ><label for=\"sk-estimator-id-2\" class=\"sk-toggleable__label sk-toggleable__label-arrow\">preprocessor: ColumnTransformer</label><div class=\"sk-toggleable__content\"><pre>ColumnTransformer(remainder=&#x27;passthrough&#x27;,\n",
       "                  transformers=[(&#x27;ohe&#x27;,\n",
       "                                 Pipeline(steps=[(&#x27;simpleImputer_ohe&#x27;,\n",
       "                                                  SimpleImputer(strategy=&#x27;most_frequent&#x27;)),\n",
       "                                                 (&#x27;ohe&#x27;,\n",
       "                                                  OneHotEncoder(drop=&#x27;first&#x27;,\n",
       "                                                                sparse_output=False))]),\n",
       "                                 [&#x27;PaymentMethod&#x27;, &#x27;Partner&#x27;, &#x27;MultipleLines&#x27;]),\n",
       "                                (&#x27;num&#x27;, MinMaxScaler(),\n",
       "                                 [&#x27;MonthlyCharges&#x27;, &#x27;TotalCharges&#x27;, &#x27;period&#x27;])])</pre></div></div></div><div class=\"sk-parallel\"><div class=\"sk-parallel-item\"><div class=\"sk-item\"><div class=\"sk-label-container\"><div class=\"sk-label sk-toggleable\"><input class=\"sk-toggleable__control sk-hidden--visually\" id=\"sk-estimator-id-3\" type=\"checkbox\" ><label for=\"sk-estimator-id-3\" class=\"sk-toggleable__label sk-toggleable__label-arrow\">ohe</label><div class=\"sk-toggleable__content\"><pre>[&#x27;PaymentMethod&#x27;, &#x27;Partner&#x27;, &#x27;MultipleLines&#x27;]</pre></div></div></div><div class=\"sk-serial\"><div class=\"sk-item\"><div class=\"sk-serial\"><div class=\"sk-item\"><div class=\"sk-estimator sk-toggleable\"><input class=\"sk-toggleable__control sk-hidden--visually\" id=\"sk-estimator-id-4\" type=\"checkbox\" ><label for=\"sk-estimator-id-4\" class=\"sk-toggleable__label sk-toggleable__label-arrow\">SimpleImputer</label><div class=\"sk-toggleable__content\"><pre>SimpleImputer(strategy=&#x27;most_frequent&#x27;)</pre></div></div></div><div class=\"sk-item\"><div class=\"sk-estimator sk-toggleable\"><input class=\"sk-toggleable__control sk-hidden--visually\" id=\"sk-estimator-id-5\" type=\"checkbox\" ><label for=\"sk-estimator-id-5\" class=\"sk-toggleable__label sk-toggleable__label-arrow\">OneHotEncoder</label><div class=\"sk-toggleable__content\"><pre>OneHotEncoder(drop=&#x27;first&#x27;, sparse_output=False)</pre></div></div></div></div></div></div></div></div><div class=\"sk-parallel-item\"><div class=\"sk-item\"><div class=\"sk-label-container\"><div class=\"sk-label sk-toggleable\"><input class=\"sk-toggleable__control sk-hidden--visually\" id=\"sk-estimator-id-6\" type=\"checkbox\" ><label for=\"sk-estimator-id-6\" class=\"sk-toggleable__label sk-toggleable__label-arrow\">num</label><div class=\"sk-toggleable__content\"><pre>[&#x27;MonthlyCharges&#x27;, &#x27;TotalCharges&#x27;, &#x27;period&#x27;]</pre></div></div></div><div class=\"sk-serial\"><div class=\"sk-item\"><div class=\"sk-estimator sk-toggleable\"><input class=\"sk-toggleable__control sk-hidden--visually\" id=\"sk-estimator-id-7\" type=\"checkbox\" ><label for=\"sk-estimator-id-7\" class=\"sk-toggleable__label sk-toggleable__label-arrow\">MinMaxScaler</label><div class=\"sk-toggleable__content\"><pre>MinMaxScaler()</pre></div></div></div></div></div></div><div class=\"sk-parallel-item\"><div class=\"sk-item\"><div class=\"sk-label-container\"><div class=\"sk-label sk-toggleable\"><input class=\"sk-toggleable__control sk-hidden--visually\" id=\"sk-estimator-id-8\" type=\"checkbox\" ><label for=\"sk-estimator-id-8\" class=\"sk-toggleable__label sk-toggleable__label-arrow\">remainder</label><div class=\"sk-toggleable__content\"><pre></pre></div></div></div><div class=\"sk-serial\"><div class=\"sk-item\"><div class=\"sk-estimator sk-toggleable\"><input class=\"sk-toggleable__control sk-hidden--visually\" id=\"sk-estimator-id-9\" type=\"checkbox\" ><label for=\"sk-estimator-id-9\" class=\"sk-toggleable__label sk-toggleable__label-arrow\">passthrough</label><div class=\"sk-toggleable__content\"><pre>passthrough</pre></div></div></div></div></div></div></div></div><div class=\"sk-item\"><div class=\"sk-estimator sk-toggleable\"><input class=\"sk-toggleable__control sk-hidden--visually\" id=\"sk-estimator-id-10\" type=\"checkbox\" ><label for=\"sk-estimator-id-10\" class=\"sk-toggleable__label sk-toggleable__label-arrow\">DecisionTreeRegressor</label><div class=\"sk-toggleable__content\"><pre>DecisionTreeRegressor(random_state=80925)</pre></div></div></div></div></div></div></div>"
      ],
      "text/plain": [
       "Pipeline(steps=[('preprocessor',\n",
       "                 ColumnTransformer(remainder='passthrough',\n",
       "                                   transformers=[('ohe',\n",
       "                                                  Pipeline(steps=[('simpleImputer_ohe',\n",
       "                                                                   SimpleImputer(strategy='most_frequent')),\n",
       "                                                                  ('ohe',\n",
       "                                                                   OneHotEncoder(drop='first',\n",
       "                                                                                 sparse_output=False))]),\n",
       "                                                  ['PaymentMethod', 'Partner',\n",
       "                                                   'MultipleLines']),\n",
       "                                                 ('num', MinMaxScaler(),\n",
       "                                                  ['MonthlyCharges',\n",
       "                                                   'TotalCharges',\n",
       "                                                   'period'])])),\n",
       "                ('models', DecisionTreeRegressor(random_state=80925))])"
      ]
     },
     "execution_count": 43,
     "metadata": {},
     "output_type": "execute_result"
    }
   ],
   "source": [
    "pipe_final"
   ]
  },
  {
   "cell_type": "markdown",
   "id": "c89071bf",
   "metadata": {},
   "source": [
    "Создадим словари для разных моделей: DecisionTreeClassifier, SVC, LogisticRegression."
   ]
  },
  {
   "cell_type": "code",
   "execution_count": 44,
   "id": "c87d7d21",
   "metadata": {},
   "outputs": [],
   "source": [
    "param_distributions = [\n",
    "    # словарь для модели DecisionTreeClassifier()\n",
    "    {\n",
    "        'models': [DecisionTreeClassifier(random_state=RANDOM_STATE)],\n",
    "        'models__max_depth': range(2, 7),\n",
    "        'models__max_features': range(2, 20),\n",
    "        'preprocessor__num': [StandardScaler(), MinMaxScaler(), 'passthrough'],\n",
    "        'models__min_samples_split': range(2,20) ,\n",
    "        'models__min_samples_leaf': range(2,20) ,\n",
    "    },\n",
    "    # словарь для модели SVC()\n",
    "    {\n",
    "        'models': [SVC(random_state=RANDOM_STATE, probability = True)],\n",
    "        'models__kernel':('rbf','linear','poly'),\n",
    "        'models__C': range(1,100),\n",
    "        'models__degree': range(1,10),\n",
    "        'preprocessor__num': [StandardScaler(), MinMaxScaler(), 'passthrough']  \n",
    "\n",
    "    },\n",
    "    # словарь для модели LogisticRegression()\n",
    "    {\n",
    "        'models': [LogisticRegression(random_state=RANDOM_STATE)],\n",
    "        'models__solver': ('liblinear', 'saga', 'lbfgs'),\n",
    "        'models__penalty': ('l1', 'l2', 'elasticnet', 'none'),\n",
    "        'models__C': range(1,100),\n",
    "        \n",
    "        'preprocessor__num': [StandardScaler(), MinMaxScaler(), 'passthrough']  \n",
    "    }\n",
    "\n",
    "] "
   ]
  },
  {
   "cell_type": "code",
   "execution_count": 45,
   "id": "fd50fada",
   "metadata": {},
   "outputs": [],
   "source": [
    "randomized_search = RandomizedSearchCV(\n",
    "    pipe_final, \n",
    "    param_distributions, \n",
    "    cv=5,\n",
    "    scoring='roc_auc',\n",
    "    random_state=RANDOM_STATE,\n",
    "    n_jobs=-1\n",
    "    \n",
    ")"
   ]
  },
  {
   "cell_type": "code",
   "execution_count": 46,
   "id": "f189a255",
   "metadata": {},
   "outputs": [
    {
     "data": {
      "text/plain": [
       "array([0, 1, 0, ..., 1, 0, 0])"
      ]
     },
     "execution_count": 46,
     "metadata": {},
     "output_type": "execute_result"
    }
   ],
   "source": [
    "le = LabelEncoder()\n",
    "y_train = le.fit_transform(y_train)\n",
    "y_train"
   ]
  },
  {
   "cell_type": "markdown",
   "id": "b0d705da",
   "metadata": {},
   "source": [
    "Обучим модель на тренировочной выборке."
   ]
  },
  {
   "cell_type": "code",
   "execution_count": 47,
   "id": "b65221c7",
   "metadata": {},
   "outputs": [
    {
     "data": {
      "text/html": [
       "<style>#sk-container-id-2 {color: black;}#sk-container-id-2 pre{padding: 0;}#sk-container-id-2 div.sk-toggleable {background-color: white;}#sk-container-id-2 label.sk-toggleable__label {cursor: pointer;display: block;width: 100%;margin-bottom: 0;padding: 0.3em;box-sizing: border-box;text-align: center;}#sk-container-id-2 label.sk-toggleable__label-arrow:before {content: \"▸\";float: left;margin-right: 0.25em;color: #696969;}#sk-container-id-2 label.sk-toggleable__label-arrow:hover:before {color: black;}#sk-container-id-2 div.sk-estimator:hover label.sk-toggleable__label-arrow:before {color: black;}#sk-container-id-2 div.sk-toggleable__content {max-height: 0;max-width: 0;overflow: hidden;text-align: left;background-color: #f0f8ff;}#sk-container-id-2 div.sk-toggleable__content pre {margin: 0.2em;color: black;border-radius: 0.25em;background-color: #f0f8ff;}#sk-container-id-2 input.sk-toggleable__control:checked~div.sk-toggleable__content {max-height: 200px;max-width: 100%;overflow: auto;}#sk-container-id-2 input.sk-toggleable__control:checked~label.sk-toggleable__label-arrow:before {content: \"▾\";}#sk-container-id-2 div.sk-estimator input.sk-toggleable__control:checked~label.sk-toggleable__label {background-color: #d4ebff;}#sk-container-id-2 div.sk-label input.sk-toggleable__control:checked~label.sk-toggleable__label {background-color: #d4ebff;}#sk-container-id-2 input.sk-hidden--visually {border: 0;clip: rect(1px 1px 1px 1px);clip: rect(1px, 1px, 1px, 1px);height: 1px;margin: -1px;overflow: hidden;padding: 0;position: absolute;width: 1px;}#sk-container-id-2 div.sk-estimator {font-family: monospace;background-color: #f0f8ff;border: 1px dotted black;border-radius: 0.25em;box-sizing: border-box;margin-bottom: 0.5em;}#sk-container-id-2 div.sk-estimator:hover {background-color: #d4ebff;}#sk-container-id-2 div.sk-parallel-item::after {content: \"\";width: 100%;border-bottom: 1px solid gray;flex-grow: 1;}#sk-container-id-2 div.sk-label:hover label.sk-toggleable__label {background-color: #d4ebff;}#sk-container-id-2 div.sk-serial::before {content: \"\";position: absolute;border-left: 1px solid gray;box-sizing: border-box;top: 0;bottom: 0;left: 50%;z-index: 0;}#sk-container-id-2 div.sk-serial {display: flex;flex-direction: column;align-items: center;background-color: white;padding-right: 0.2em;padding-left: 0.2em;position: relative;}#sk-container-id-2 div.sk-item {position: relative;z-index: 1;}#sk-container-id-2 div.sk-parallel {display: flex;align-items: stretch;justify-content: center;background-color: white;position: relative;}#sk-container-id-2 div.sk-item::before, #sk-container-id-2 div.sk-parallel-item::before {content: \"\";position: absolute;border-left: 1px solid gray;box-sizing: border-box;top: 0;bottom: 0;left: 50%;z-index: -1;}#sk-container-id-2 div.sk-parallel-item {display: flex;flex-direction: column;z-index: 1;position: relative;background-color: white;}#sk-container-id-2 div.sk-parallel-item:first-child::after {align-self: flex-end;width: 50%;}#sk-container-id-2 div.sk-parallel-item:last-child::after {align-self: flex-start;width: 50%;}#sk-container-id-2 div.sk-parallel-item:only-child::after {width: 0;}#sk-container-id-2 div.sk-dashed-wrapped {border: 1px dashed gray;margin: 0 0.4em 0.5em 0.4em;box-sizing: border-box;padding-bottom: 0.4em;background-color: white;}#sk-container-id-2 div.sk-label label {font-family: monospace;font-weight: bold;display: inline-block;line-height: 1.2em;}#sk-container-id-2 div.sk-label-container {text-align: center;}#sk-container-id-2 div.sk-container {/* jupyter's `normalize.less` sets `[hidden] { display: none; }` but bootstrap.min.css set `[hidden] { display: none !important; }` so we also need the `!important` here to be able to override the default hidden behavior on the sphinx rendered scikit-learn.org. See: https://github.com/scikit-learn/scikit-learn/issues/21755 */display: inline-block !important;position: relative;}#sk-container-id-2 div.sk-text-repr-fallback {display: none;}</style><div id=\"sk-container-id-2\" class=\"sk-top-container\"><div class=\"sk-text-repr-fallback\"><pre>RandomizedSearchCV(cv=5,\n",
       "                   estimator=Pipeline(steps=[(&#x27;preprocessor&#x27;,\n",
       "                                              ColumnTransformer(remainder=&#x27;passthrough&#x27;,\n",
       "                                                                transformers=[(&#x27;ohe&#x27;,\n",
       "                                                                               Pipeline(steps=[(&#x27;simpleImputer_ohe&#x27;,\n",
       "                                                                                                SimpleImputer(strategy=&#x27;most_frequent&#x27;)),\n",
       "                                                                                               (&#x27;ohe&#x27;,\n",
       "                                                                                                OneHotEncoder(drop=&#x27;first&#x27;,\n",
       "                                                                                                              sparse_output=False))]),\n",
       "                                                                               [&#x27;PaymentMethod&#x27;,\n",
       "                                                                                &#x27;Partner&#x27;,\n",
       "                                                                                &#x27;MultipleLines&#x27;]),\n",
       "                                                                              (&#x27;num&#x27;,\n",
       "                                                                               MinMaxScaler(),\n",
       "                                                                               [&#x27;MonthlyCharges&#x27;,...\n",
       "                                                            &#x27;poly&#x27;),\n",
       "                                         &#x27;preprocessor__num&#x27;: [StandardScaler(),\n",
       "                                                               MinMaxScaler(),\n",
       "                                                               &#x27;passthrough&#x27;]},\n",
       "                                        {&#x27;models&#x27;: [LogisticRegression(random_state=80925)],\n",
       "                                         &#x27;models__C&#x27;: range(1, 100),\n",
       "                                         &#x27;models__penalty&#x27;: (&#x27;l1&#x27;, &#x27;l2&#x27;,\n",
       "                                                             &#x27;elasticnet&#x27;,\n",
       "                                                             &#x27;none&#x27;),\n",
       "                                         &#x27;models__solver&#x27;: (&#x27;liblinear&#x27;, &#x27;saga&#x27;,\n",
       "                                                            &#x27;lbfgs&#x27;),\n",
       "                                         &#x27;preprocessor__num&#x27;: [StandardScaler(),\n",
       "                                                               MinMaxScaler(),\n",
       "                                                               &#x27;passthrough&#x27;]}],\n",
       "                   random_state=80925, scoring=&#x27;roc_auc&#x27;)</pre><b>In a Jupyter environment, please rerun this cell to show the HTML representation or trust the notebook. <br />On GitHub, the HTML representation is unable to render, please try loading this page with nbviewer.org.</b></div><div class=\"sk-container\" hidden><div class=\"sk-item sk-dashed-wrapped\"><div class=\"sk-label-container\"><div class=\"sk-label sk-toggleable\"><input class=\"sk-toggleable__control sk-hidden--visually\" id=\"sk-estimator-id-11\" type=\"checkbox\" ><label for=\"sk-estimator-id-11\" class=\"sk-toggleable__label sk-toggleable__label-arrow\">RandomizedSearchCV</label><div class=\"sk-toggleable__content\"><pre>RandomizedSearchCV(cv=5,\n",
       "                   estimator=Pipeline(steps=[(&#x27;preprocessor&#x27;,\n",
       "                                              ColumnTransformer(remainder=&#x27;passthrough&#x27;,\n",
       "                                                                transformers=[(&#x27;ohe&#x27;,\n",
       "                                                                               Pipeline(steps=[(&#x27;simpleImputer_ohe&#x27;,\n",
       "                                                                                                SimpleImputer(strategy=&#x27;most_frequent&#x27;)),\n",
       "                                                                                               (&#x27;ohe&#x27;,\n",
       "                                                                                                OneHotEncoder(drop=&#x27;first&#x27;,\n",
       "                                                                                                              sparse_output=False))]),\n",
       "                                                                               [&#x27;PaymentMethod&#x27;,\n",
       "                                                                                &#x27;Partner&#x27;,\n",
       "                                                                                &#x27;MultipleLines&#x27;]),\n",
       "                                                                              (&#x27;num&#x27;,\n",
       "                                                                               MinMaxScaler(),\n",
       "                                                                               [&#x27;MonthlyCharges&#x27;,...\n",
       "                                                            &#x27;poly&#x27;),\n",
       "                                         &#x27;preprocessor__num&#x27;: [StandardScaler(),\n",
       "                                                               MinMaxScaler(),\n",
       "                                                               &#x27;passthrough&#x27;]},\n",
       "                                        {&#x27;models&#x27;: [LogisticRegression(random_state=80925)],\n",
       "                                         &#x27;models__C&#x27;: range(1, 100),\n",
       "                                         &#x27;models__penalty&#x27;: (&#x27;l1&#x27;, &#x27;l2&#x27;,\n",
       "                                                             &#x27;elasticnet&#x27;,\n",
       "                                                             &#x27;none&#x27;),\n",
       "                                         &#x27;models__solver&#x27;: (&#x27;liblinear&#x27;, &#x27;saga&#x27;,\n",
       "                                                            &#x27;lbfgs&#x27;),\n",
       "                                         &#x27;preprocessor__num&#x27;: [StandardScaler(),\n",
       "                                                               MinMaxScaler(),\n",
       "                                                               &#x27;passthrough&#x27;]}],\n",
       "                   random_state=80925, scoring=&#x27;roc_auc&#x27;)</pre></div></div></div><div class=\"sk-parallel\"><div class=\"sk-parallel-item\"><div class=\"sk-item\"><div class=\"sk-label-container\"><div class=\"sk-label sk-toggleable\"><input class=\"sk-toggleable__control sk-hidden--visually\" id=\"sk-estimator-id-12\" type=\"checkbox\" ><label for=\"sk-estimator-id-12\" class=\"sk-toggleable__label sk-toggleable__label-arrow\">estimator: Pipeline</label><div class=\"sk-toggleable__content\"><pre>Pipeline(steps=[(&#x27;preprocessor&#x27;,\n",
       "                 ColumnTransformer(remainder=&#x27;passthrough&#x27;,\n",
       "                                   transformers=[(&#x27;ohe&#x27;,\n",
       "                                                  Pipeline(steps=[(&#x27;simpleImputer_ohe&#x27;,\n",
       "                                                                   SimpleImputer(strategy=&#x27;most_frequent&#x27;)),\n",
       "                                                                  (&#x27;ohe&#x27;,\n",
       "                                                                   OneHotEncoder(drop=&#x27;first&#x27;,\n",
       "                                                                                 sparse_output=False))]),\n",
       "                                                  [&#x27;PaymentMethod&#x27;, &#x27;Partner&#x27;,\n",
       "                                                   &#x27;MultipleLines&#x27;]),\n",
       "                                                 (&#x27;num&#x27;, MinMaxScaler(),\n",
       "                                                  [&#x27;MonthlyCharges&#x27;,\n",
       "                                                   &#x27;TotalCharges&#x27;,\n",
       "                                                   &#x27;period&#x27;])])),\n",
       "                (&#x27;models&#x27;, DecisionTreeRegressor(random_state=80925))])</pre></div></div></div><div class=\"sk-serial\"><div class=\"sk-item\"><div class=\"sk-serial\"><div class=\"sk-item sk-dashed-wrapped\"><div class=\"sk-label-container\"><div class=\"sk-label sk-toggleable\"><input class=\"sk-toggleable__control sk-hidden--visually\" id=\"sk-estimator-id-13\" type=\"checkbox\" ><label for=\"sk-estimator-id-13\" class=\"sk-toggleable__label sk-toggleable__label-arrow\">preprocessor: ColumnTransformer</label><div class=\"sk-toggleable__content\"><pre>ColumnTransformer(remainder=&#x27;passthrough&#x27;,\n",
       "                  transformers=[(&#x27;ohe&#x27;,\n",
       "                                 Pipeline(steps=[(&#x27;simpleImputer_ohe&#x27;,\n",
       "                                                  SimpleImputer(strategy=&#x27;most_frequent&#x27;)),\n",
       "                                                 (&#x27;ohe&#x27;,\n",
       "                                                  OneHotEncoder(drop=&#x27;first&#x27;,\n",
       "                                                                sparse_output=False))]),\n",
       "                                 [&#x27;PaymentMethod&#x27;, &#x27;Partner&#x27;, &#x27;MultipleLines&#x27;]),\n",
       "                                (&#x27;num&#x27;, MinMaxScaler(),\n",
       "                                 [&#x27;MonthlyCharges&#x27;, &#x27;TotalCharges&#x27;, &#x27;period&#x27;])])</pre></div></div></div><div class=\"sk-parallel\"><div class=\"sk-parallel-item\"><div class=\"sk-item\"><div class=\"sk-label-container\"><div class=\"sk-label sk-toggleable\"><input class=\"sk-toggleable__control sk-hidden--visually\" id=\"sk-estimator-id-14\" type=\"checkbox\" ><label for=\"sk-estimator-id-14\" class=\"sk-toggleable__label sk-toggleable__label-arrow\">ohe</label><div class=\"sk-toggleable__content\"><pre>[&#x27;PaymentMethod&#x27;, &#x27;Partner&#x27;, &#x27;MultipleLines&#x27;]</pre></div></div></div><div class=\"sk-serial\"><div class=\"sk-item\"><div class=\"sk-serial\"><div class=\"sk-item\"><div class=\"sk-estimator sk-toggleable\"><input class=\"sk-toggleable__control sk-hidden--visually\" id=\"sk-estimator-id-15\" type=\"checkbox\" ><label for=\"sk-estimator-id-15\" class=\"sk-toggleable__label sk-toggleable__label-arrow\">SimpleImputer</label><div class=\"sk-toggleable__content\"><pre>SimpleImputer(strategy=&#x27;most_frequent&#x27;)</pre></div></div></div><div class=\"sk-item\"><div class=\"sk-estimator sk-toggleable\"><input class=\"sk-toggleable__control sk-hidden--visually\" id=\"sk-estimator-id-16\" type=\"checkbox\" ><label for=\"sk-estimator-id-16\" class=\"sk-toggleable__label sk-toggleable__label-arrow\">OneHotEncoder</label><div class=\"sk-toggleable__content\"><pre>OneHotEncoder(drop=&#x27;first&#x27;, sparse_output=False)</pre></div></div></div></div></div></div></div></div><div class=\"sk-parallel-item\"><div class=\"sk-item\"><div class=\"sk-label-container\"><div class=\"sk-label sk-toggleable\"><input class=\"sk-toggleable__control sk-hidden--visually\" id=\"sk-estimator-id-17\" type=\"checkbox\" ><label for=\"sk-estimator-id-17\" class=\"sk-toggleable__label sk-toggleable__label-arrow\">num</label><div class=\"sk-toggleable__content\"><pre>[&#x27;MonthlyCharges&#x27;, &#x27;TotalCharges&#x27;, &#x27;period&#x27;]</pre></div></div></div><div class=\"sk-serial\"><div class=\"sk-item\"><div class=\"sk-estimator sk-toggleable\"><input class=\"sk-toggleable__control sk-hidden--visually\" id=\"sk-estimator-id-18\" type=\"checkbox\" ><label for=\"sk-estimator-id-18\" class=\"sk-toggleable__label sk-toggleable__label-arrow\">MinMaxScaler</label><div class=\"sk-toggleable__content\"><pre>MinMaxScaler()</pre></div></div></div></div></div></div><div class=\"sk-parallel-item\"><div class=\"sk-item\"><div class=\"sk-label-container\"><div class=\"sk-label sk-toggleable\"><input class=\"sk-toggleable__control sk-hidden--visually\" id=\"sk-estimator-id-19\" type=\"checkbox\" ><label for=\"sk-estimator-id-19\" class=\"sk-toggleable__label sk-toggleable__label-arrow\">remainder</label><div class=\"sk-toggleable__content\"><pre></pre></div></div></div><div class=\"sk-serial\"><div class=\"sk-item\"><div class=\"sk-estimator sk-toggleable\"><input class=\"sk-toggleable__control sk-hidden--visually\" id=\"sk-estimator-id-20\" type=\"checkbox\" ><label for=\"sk-estimator-id-20\" class=\"sk-toggleable__label sk-toggleable__label-arrow\">passthrough</label><div class=\"sk-toggleable__content\"><pre>passthrough</pre></div></div></div></div></div></div></div></div><div class=\"sk-item\"><div class=\"sk-estimator sk-toggleable\"><input class=\"sk-toggleable__control sk-hidden--visually\" id=\"sk-estimator-id-21\" type=\"checkbox\" ><label for=\"sk-estimator-id-21\" class=\"sk-toggleable__label sk-toggleable__label-arrow\">DecisionTreeRegressor</label><div class=\"sk-toggleable__content\"><pre>DecisionTreeRegressor(random_state=80925)</pre></div></div></div></div></div></div></div></div></div></div></div></div>"
      ],
      "text/plain": [
       "RandomizedSearchCV(cv=5,\n",
       "                   estimator=Pipeline(steps=[('preprocessor',\n",
       "                                              ColumnTransformer(remainder='passthrough',\n",
       "                                                                transformers=[('ohe',\n",
       "                                                                               Pipeline(steps=[('simpleImputer_ohe',\n",
       "                                                                                                SimpleImputer(strategy='most_frequent')),\n",
       "                                                                                               ('ohe',\n",
       "                                                                                                OneHotEncoder(drop='first',\n",
       "                                                                                                              sparse_output=False))]),\n",
       "                                                                               ['PaymentMethod',\n",
       "                                                                                'Partner',\n",
       "                                                                                'MultipleLines']),\n",
       "                                                                              ('num',\n",
       "                                                                               MinMaxScaler(),\n",
       "                                                                               ['MonthlyCharges',...\n",
       "                                                            'poly'),\n",
       "                                         'preprocessor__num': [StandardScaler(),\n",
       "                                                               MinMaxScaler(),\n",
       "                                                               'passthrough']},\n",
       "                                        {'models': [LogisticRegression(random_state=80925)],\n",
       "                                         'models__C': range(1, 100),\n",
       "                                         'models__penalty': ('l1', 'l2',\n",
       "                                                             'elasticnet',\n",
       "                                                             'none'),\n",
       "                                         'models__solver': ('liblinear', 'saga',\n",
       "                                                            'lbfgs'),\n",
       "                                         'preprocessor__num': [StandardScaler(),\n",
       "                                                               MinMaxScaler(),\n",
       "                                                               'passthrough']}],\n",
       "                   random_state=80925, scoring='roc_auc')"
      ]
     },
     "execution_count": 47,
     "metadata": {},
     "output_type": "execute_result"
    }
   ],
   "source": [
    "randomized_search.fit(X_train, y_train)"
   ]
  },
  {
   "cell_type": "code",
   "execution_count": 48,
   "id": "8ba52693",
   "metadata": {},
   "outputs": [
    {
     "name": "stdout",
     "output_type": "stream",
     "text": [
      "Лучшая модель и её параметры:\n",
      "\n",
      " Pipeline(steps=[('preprocessor',\n",
      "                 ColumnTransformer(remainder='passthrough',\n",
      "                                   transformers=[('ohe',\n",
      "                                                  Pipeline(steps=[('simpleImputer_ohe',\n",
      "                                                                   SimpleImputer(strategy='most_frequent')),\n",
      "                                                                  ('ohe',\n",
      "                                                                   OneHotEncoder(drop='first',\n",
      "                                                                                 sparse_output=False))]),\n",
      "                                                  ['PaymentMethod', 'Partner',\n",
      "                                                   'MultipleLines']),\n",
      "                                                 ('num', MinMaxScaler(),\n",
      "                                                  ['MonthlyCharges',\n",
      "                                                   'TotalCharges',\n",
      "                                                   'period'])])),\n",
      "                ('models',\n",
      "                 DecisionTreeClassifier(max_depth=5, max_features=4,\n",
      "                                        min_samples_leaf=9,\n",
      "                                        min_samples_split=17,\n",
      "                                        random_state=80925))])\n",
      "Метрика ROC_AUC лучшей модели на тренировочной выборке: 0.7687784278240374\n"
     ]
    }
   ],
   "source": [
    "print('Лучшая модель и её параметры:\\n\\n', randomized_search.best_estimator_)\n",
    "print ('Метрика ROC_AUC лучшей модели на тренировочной выборке:', randomized_search.best_score_)"
   ]
  },
  {
   "cell_type": "markdown",
   "id": "43929973",
   "metadata": {},
   "source": [
    "Мы получили результат. Лучшая модель - **DecisionTreeClassifier** с гиперпараметрами **(max_depth=4, max_features=16, min_samples_leaf=4, min_samples_split=8, random_state=80925)**. Её показатели метрики **roc_auc - 0.75**, что достаточно мало и не удовлетворяет поставленной цели.\n",
    "\n",
    "Напишем еще один пайплайн по подбору гиперпараметров для модели CatBoostClassifier."
   ]
  },
  {
   "cell_type": "code",
   "execution_count": 51,
   "id": "3e385c56",
   "metadata": {},
   "outputs": [
    {
     "name": "stdout",
     "output_type": "stream",
     "text": [
      "Fitting 5 folds for each of 12 candidates, totalling 60 fits\n"
     ]
    },
    {
     "data": {
      "text/html": [
       "<style>#sk-container-id-3 {color: black;}#sk-container-id-3 pre{padding: 0;}#sk-container-id-3 div.sk-toggleable {background-color: white;}#sk-container-id-3 label.sk-toggleable__label {cursor: pointer;display: block;width: 100%;margin-bottom: 0;padding: 0.3em;box-sizing: border-box;text-align: center;}#sk-container-id-3 label.sk-toggleable__label-arrow:before {content: \"▸\";float: left;margin-right: 0.25em;color: #696969;}#sk-container-id-3 label.sk-toggleable__label-arrow:hover:before {color: black;}#sk-container-id-3 div.sk-estimator:hover label.sk-toggleable__label-arrow:before {color: black;}#sk-container-id-3 div.sk-toggleable__content {max-height: 0;max-width: 0;overflow: hidden;text-align: left;background-color: #f0f8ff;}#sk-container-id-3 div.sk-toggleable__content pre {margin: 0.2em;color: black;border-radius: 0.25em;background-color: #f0f8ff;}#sk-container-id-3 input.sk-toggleable__control:checked~div.sk-toggleable__content {max-height: 200px;max-width: 100%;overflow: auto;}#sk-container-id-3 input.sk-toggleable__control:checked~label.sk-toggleable__label-arrow:before {content: \"▾\";}#sk-container-id-3 div.sk-estimator input.sk-toggleable__control:checked~label.sk-toggleable__label {background-color: #d4ebff;}#sk-container-id-3 div.sk-label input.sk-toggleable__control:checked~label.sk-toggleable__label {background-color: #d4ebff;}#sk-container-id-3 input.sk-hidden--visually {border: 0;clip: rect(1px 1px 1px 1px);clip: rect(1px, 1px, 1px, 1px);height: 1px;margin: -1px;overflow: hidden;padding: 0;position: absolute;width: 1px;}#sk-container-id-3 div.sk-estimator {font-family: monospace;background-color: #f0f8ff;border: 1px dotted black;border-radius: 0.25em;box-sizing: border-box;margin-bottom: 0.5em;}#sk-container-id-3 div.sk-estimator:hover {background-color: #d4ebff;}#sk-container-id-3 div.sk-parallel-item::after {content: \"\";width: 100%;border-bottom: 1px solid gray;flex-grow: 1;}#sk-container-id-3 div.sk-label:hover label.sk-toggleable__label {background-color: #d4ebff;}#sk-container-id-3 div.sk-serial::before {content: \"\";position: absolute;border-left: 1px solid gray;box-sizing: border-box;top: 0;bottom: 0;left: 50%;z-index: 0;}#sk-container-id-3 div.sk-serial {display: flex;flex-direction: column;align-items: center;background-color: white;padding-right: 0.2em;padding-left: 0.2em;position: relative;}#sk-container-id-3 div.sk-item {position: relative;z-index: 1;}#sk-container-id-3 div.sk-parallel {display: flex;align-items: stretch;justify-content: center;background-color: white;position: relative;}#sk-container-id-3 div.sk-item::before, #sk-container-id-3 div.sk-parallel-item::before {content: \"\";position: absolute;border-left: 1px solid gray;box-sizing: border-box;top: 0;bottom: 0;left: 50%;z-index: -1;}#sk-container-id-3 div.sk-parallel-item {display: flex;flex-direction: column;z-index: 1;position: relative;background-color: white;}#sk-container-id-3 div.sk-parallel-item:first-child::after {align-self: flex-end;width: 50%;}#sk-container-id-3 div.sk-parallel-item:last-child::after {align-self: flex-start;width: 50%;}#sk-container-id-3 div.sk-parallel-item:only-child::after {width: 0;}#sk-container-id-3 div.sk-dashed-wrapped {border: 1px dashed gray;margin: 0 0.4em 0.5em 0.4em;box-sizing: border-box;padding-bottom: 0.4em;background-color: white;}#sk-container-id-3 div.sk-label label {font-family: monospace;font-weight: bold;display: inline-block;line-height: 1.2em;}#sk-container-id-3 div.sk-label-container {text-align: center;}#sk-container-id-3 div.sk-container {/* jupyter's `normalize.less` sets `[hidden] { display: none; }` but bootstrap.min.css set `[hidden] { display: none !important; }` so we also need the `!important` here to be able to override the default hidden behavior on the sphinx rendered scikit-learn.org. See: https://github.com/scikit-learn/scikit-learn/issues/21755 */display: inline-block !important;position: relative;}#sk-container-id-3 div.sk-text-repr-fallback {display: none;}</style><div id=\"sk-container-id-3\" class=\"sk-top-container\"><div class=\"sk-text-repr-fallback\"><pre>GridSearchCV(cv=5,\n",
       "             estimator=Pipeline(steps=[(&#x27;scaler&#x27;,\n",
       "                                        ColumnTransformer(remainder=&#x27;passthrough&#x27;,\n",
       "                                                          transformers=[(&#x27;ohe&#x27;,\n",
       "                                                                         Pipeline(steps=[(&#x27;simpleImputer_ohe&#x27;,\n",
       "                                                                                          SimpleImputer(strategy=&#x27;most_frequent&#x27;)),\n",
       "                                                                                         (&#x27;ohe&#x27;,\n",
       "                                                                                          OneHotEncoder(drop=&#x27;first&#x27;,\n",
       "                                                                                                        sparse_output=False))]),\n",
       "                                                                         [&#x27;PaymentMethod&#x27;,\n",
       "                                                                          &#x27;Partner&#x27;,\n",
       "                                                                          &#x27;MultipleLines&#x27;]),\n",
       "                                                                        (&#x27;num&#x27;,\n",
       "                                                                         MinMaxScaler(),\n",
       "                                                                         [&#x27;MonthlyCharges&#x27;,\n",
       "                                                                          &#x27;TotalCharges&#x27;,\n",
       "                                                                          &#x27;period&#x27;])])),\n",
       "                                       (&#x27;model&#x27;,\n",
       "                                        &lt;catboost.core.CatBoostClassifier object at 0x7f30103d1940&gt;)]),\n",
       "             n_jobs=-1,\n",
       "             param_grid=[{&#x27;model&#x27;: [&lt;catboost.core.CatBoostClassifier object at 0x7f30062839d0&gt;],\n",
       "                          &#x27;model__depth&#x27;: range(2, 8),\n",
       "                          &#x27;model__learning_rate&#x27;: [0.01, 0.03]}],\n",
       "             scoring=&#x27;roc_auc&#x27;, verbose=1)</pre><b>In a Jupyter environment, please rerun this cell to show the HTML representation or trust the notebook. <br />On GitHub, the HTML representation is unable to render, please try loading this page with nbviewer.org.</b></div><div class=\"sk-container\" hidden><div class=\"sk-item sk-dashed-wrapped\"><div class=\"sk-label-container\"><div class=\"sk-label sk-toggleable\"><input class=\"sk-toggleable__control sk-hidden--visually\" id=\"sk-estimator-id-22\" type=\"checkbox\" ><label for=\"sk-estimator-id-22\" class=\"sk-toggleable__label sk-toggleable__label-arrow\">GridSearchCV</label><div class=\"sk-toggleable__content\"><pre>GridSearchCV(cv=5,\n",
       "             estimator=Pipeline(steps=[(&#x27;scaler&#x27;,\n",
       "                                        ColumnTransformer(remainder=&#x27;passthrough&#x27;,\n",
       "                                                          transformers=[(&#x27;ohe&#x27;,\n",
       "                                                                         Pipeline(steps=[(&#x27;simpleImputer_ohe&#x27;,\n",
       "                                                                                          SimpleImputer(strategy=&#x27;most_frequent&#x27;)),\n",
       "                                                                                         (&#x27;ohe&#x27;,\n",
       "                                                                                          OneHotEncoder(drop=&#x27;first&#x27;,\n",
       "                                                                                                        sparse_output=False))]),\n",
       "                                                                         [&#x27;PaymentMethod&#x27;,\n",
       "                                                                          &#x27;Partner&#x27;,\n",
       "                                                                          &#x27;MultipleLines&#x27;]),\n",
       "                                                                        (&#x27;num&#x27;,\n",
       "                                                                         MinMaxScaler(),\n",
       "                                                                         [&#x27;MonthlyCharges&#x27;,\n",
       "                                                                          &#x27;TotalCharges&#x27;,\n",
       "                                                                          &#x27;period&#x27;])])),\n",
       "                                       (&#x27;model&#x27;,\n",
       "                                        &lt;catboost.core.CatBoostClassifier object at 0x7f30103d1940&gt;)]),\n",
       "             n_jobs=-1,\n",
       "             param_grid=[{&#x27;model&#x27;: [&lt;catboost.core.CatBoostClassifier object at 0x7f30062839d0&gt;],\n",
       "                          &#x27;model__depth&#x27;: range(2, 8),\n",
       "                          &#x27;model__learning_rate&#x27;: [0.01, 0.03]}],\n",
       "             scoring=&#x27;roc_auc&#x27;, verbose=1)</pre></div></div></div><div class=\"sk-parallel\"><div class=\"sk-parallel-item\"><div class=\"sk-item\"><div class=\"sk-label-container\"><div class=\"sk-label sk-toggleable\"><input class=\"sk-toggleable__control sk-hidden--visually\" id=\"sk-estimator-id-23\" type=\"checkbox\" ><label for=\"sk-estimator-id-23\" class=\"sk-toggleable__label sk-toggleable__label-arrow\">estimator: Pipeline</label><div class=\"sk-toggleable__content\"><pre>Pipeline(steps=[(&#x27;scaler&#x27;,\n",
       "                 ColumnTransformer(remainder=&#x27;passthrough&#x27;,\n",
       "                                   transformers=[(&#x27;ohe&#x27;,\n",
       "                                                  Pipeline(steps=[(&#x27;simpleImputer_ohe&#x27;,\n",
       "                                                                   SimpleImputer(strategy=&#x27;most_frequent&#x27;)),\n",
       "                                                                  (&#x27;ohe&#x27;,\n",
       "                                                                   OneHotEncoder(drop=&#x27;first&#x27;,\n",
       "                                                                                 sparse_output=False))]),\n",
       "                                                  [&#x27;PaymentMethod&#x27;, &#x27;Partner&#x27;,\n",
       "                                                   &#x27;MultipleLines&#x27;]),\n",
       "                                                 (&#x27;num&#x27;, MinMaxScaler(),\n",
       "                                                  [&#x27;MonthlyCharges&#x27;,\n",
       "                                                   &#x27;TotalCharges&#x27;,\n",
       "                                                   &#x27;period&#x27;])])),\n",
       "                (&#x27;model&#x27;,\n",
       "                 &lt;catboost.core.CatBoostClassifier object at 0x7f30103d1940&gt;)])</pre></div></div></div><div class=\"sk-serial\"><div class=\"sk-item\"><div class=\"sk-serial\"><div class=\"sk-item sk-dashed-wrapped\"><div class=\"sk-label-container\"><div class=\"sk-label sk-toggleable\"><input class=\"sk-toggleable__control sk-hidden--visually\" id=\"sk-estimator-id-24\" type=\"checkbox\" ><label for=\"sk-estimator-id-24\" class=\"sk-toggleable__label sk-toggleable__label-arrow\">scaler: ColumnTransformer</label><div class=\"sk-toggleable__content\"><pre>ColumnTransformer(remainder=&#x27;passthrough&#x27;,\n",
       "                  transformers=[(&#x27;ohe&#x27;,\n",
       "                                 Pipeline(steps=[(&#x27;simpleImputer_ohe&#x27;,\n",
       "                                                  SimpleImputer(strategy=&#x27;most_frequent&#x27;)),\n",
       "                                                 (&#x27;ohe&#x27;,\n",
       "                                                  OneHotEncoder(drop=&#x27;first&#x27;,\n",
       "                                                                sparse_output=False))]),\n",
       "                                 [&#x27;PaymentMethod&#x27;, &#x27;Partner&#x27;, &#x27;MultipleLines&#x27;]),\n",
       "                                (&#x27;num&#x27;, MinMaxScaler(),\n",
       "                                 [&#x27;MonthlyCharges&#x27;, &#x27;TotalCharges&#x27;, &#x27;period&#x27;])])</pre></div></div></div><div class=\"sk-parallel\"><div class=\"sk-parallel-item\"><div class=\"sk-item\"><div class=\"sk-label-container\"><div class=\"sk-label sk-toggleable\"><input class=\"sk-toggleable__control sk-hidden--visually\" id=\"sk-estimator-id-25\" type=\"checkbox\" ><label for=\"sk-estimator-id-25\" class=\"sk-toggleable__label sk-toggleable__label-arrow\">ohe</label><div class=\"sk-toggleable__content\"><pre>[&#x27;PaymentMethod&#x27;, &#x27;Partner&#x27;, &#x27;MultipleLines&#x27;]</pre></div></div></div><div class=\"sk-serial\"><div class=\"sk-item\"><div class=\"sk-serial\"><div class=\"sk-item\"><div class=\"sk-estimator sk-toggleable\"><input class=\"sk-toggleable__control sk-hidden--visually\" id=\"sk-estimator-id-26\" type=\"checkbox\" ><label for=\"sk-estimator-id-26\" class=\"sk-toggleable__label sk-toggleable__label-arrow\">SimpleImputer</label><div class=\"sk-toggleable__content\"><pre>SimpleImputer(strategy=&#x27;most_frequent&#x27;)</pre></div></div></div><div class=\"sk-item\"><div class=\"sk-estimator sk-toggleable\"><input class=\"sk-toggleable__control sk-hidden--visually\" id=\"sk-estimator-id-27\" type=\"checkbox\" ><label for=\"sk-estimator-id-27\" class=\"sk-toggleable__label sk-toggleable__label-arrow\">OneHotEncoder</label><div class=\"sk-toggleable__content\"><pre>OneHotEncoder(drop=&#x27;first&#x27;, sparse_output=False)</pre></div></div></div></div></div></div></div></div><div class=\"sk-parallel-item\"><div class=\"sk-item\"><div class=\"sk-label-container\"><div class=\"sk-label sk-toggleable\"><input class=\"sk-toggleable__control sk-hidden--visually\" id=\"sk-estimator-id-28\" type=\"checkbox\" ><label for=\"sk-estimator-id-28\" class=\"sk-toggleable__label sk-toggleable__label-arrow\">num</label><div class=\"sk-toggleable__content\"><pre>[&#x27;MonthlyCharges&#x27;, &#x27;TotalCharges&#x27;, &#x27;period&#x27;]</pre></div></div></div><div class=\"sk-serial\"><div class=\"sk-item\"><div class=\"sk-estimator sk-toggleable\"><input class=\"sk-toggleable__control sk-hidden--visually\" id=\"sk-estimator-id-29\" type=\"checkbox\" ><label for=\"sk-estimator-id-29\" class=\"sk-toggleable__label sk-toggleable__label-arrow\">MinMaxScaler</label><div class=\"sk-toggleable__content\"><pre>MinMaxScaler()</pre></div></div></div></div></div></div><div class=\"sk-parallel-item\"><div class=\"sk-item\"><div class=\"sk-label-container\"><div class=\"sk-label sk-toggleable\"><input class=\"sk-toggleable__control sk-hidden--visually\" id=\"sk-estimator-id-30\" type=\"checkbox\" ><label for=\"sk-estimator-id-30\" class=\"sk-toggleable__label sk-toggleable__label-arrow\">remainder</label><div class=\"sk-toggleable__content\"><pre></pre></div></div></div><div class=\"sk-serial\"><div class=\"sk-item\"><div class=\"sk-estimator sk-toggleable\"><input class=\"sk-toggleable__control sk-hidden--visually\" id=\"sk-estimator-id-31\" type=\"checkbox\" ><label for=\"sk-estimator-id-31\" class=\"sk-toggleable__label sk-toggleable__label-arrow\">passthrough</label><div class=\"sk-toggleable__content\"><pre>passthrough</pre></div></div></div></div></div></div></div></div><div class=\"sk-item\"><div class=\"sk-estimator sk-toggleable\"><input class=\"sk-toggleable__control sk-hidden--visually\" id=\"sk-estimator-id-32\" type=\"checkbox\" ><label for=\"sk-estimator-id-32\" class=\"sk-toggleable__label sk-toggleable__label-arrow\">CatBoostClassifier</label><div class=\"sk-toggleable__content\"><pre>&lt;catboost.core.CatBoostClassifier object at 0x7f30103d1940&gt;</pre></div></div></div></div></div></div></div></div></div></div></div></div>"
      ],
      "text/plain": [
       "GridSearchCV(cv=5,\n",
       "             estimator=Pipeline(steps=[('scaler',\n",
       "                                        ColumnTransformer(remainder='passthrough',\n",
       "                                                          transformers=[('ohe',\n",
       "                                                                         Pipeline(steps=[('simpleImputer_ohe',\n",
       "                                                                                          SimpleImputer(strategy='most_frequent')),\n",
       "                                                                                         ('ohe',\n",
       "                                                                                          OneHotEncoder(drop='first',\n",
       "                                                                                                        sparse_output=False))]),\n",
       "                                                                         ['PaymentMethod',\n",
       "                                                                          'Partner',\n",
       "                                                                          'MultipleLines']),\n",
       "                                                                        ('num',\n",
       "                                                                         MinMaxScaler(),\n",
       "                                                                         ['MonthlyCharges',\n",
       "                                                                          'TotalCharges',\n",
       "                                                                          'period'])])),\n",
       "                                       ('model',\n",
       "                                        <catboost.core.CatBoostClassifier object at 0x7f30103d1940>)]),\n",
       "             n_jobs=-1,\n",
       "             param_grid=[{'model': [<catboost.core.CatBoostClassifier object at 0x7f30062839d0>],\n",
       "                          'model__depth': range(2, 8),\n",
       "                          'model__learning_rate': [0.01, 0.03]}],\n",
       "             scoring='roc_auc', verbose=1)"
      ]
     },
     "execution_count": 51,
     "metadata": {},
     "output_type": "execute_result"
    }
   ],
   "source": [
    "pipeline_CB = Pipeline([('scaler', data_preprocessor),('model', CatBoostClassifier(iterations=100, learning_rate=0.1))])\n",
    "\n",
    "param_grid = [\n",
    "                {\n",
    "                'model': [CatBoostClassifier(random_state=RANDOM_STATE, verbose=0)],\n",
    "                'model__learning_rate': [0.01, 0.03],\n",
    "                'model__depth': range(2, 8, 1)\n",
    "                }]\n",
    "\n",
    "CB_CV = GridSearchCV(pipeline_CB,\n",
    "                    param_grid,\n",
    "                    cv = 5,\n",
    "                    scoring='roc_auc',\n",
    "                    n_jobs=-1,\n",
    "                    verbose=1)\n",
    "\n",
    "CB_CV.fit(X_train, y_train)"
   ]
  },
  {
   "cell_type": "code",
   "execution_count": 52,
   "id": "c2f06c02",
   "metadata": {},
   "outputs": [
    {
     "name": "stdout",
     "output_type": "stream",
     "text": [
      "Лучшая модель и её параметры:\n",
      "\n",
      " Pipeline(steps=[('scaler',\n",
      "                 ColumnTransformer(remainder='passthrough',\n",
      "                                   transformers=[('ohe',\n",
      "                                                  Pipeline(steps=[('simpleImputer_ohe',\n",
      "                                                                   SimpleImputer(strategy='most_frequent')),\n",
      "                                                                  ('ohe',\n",
      "                                                                   OneHotEncoder(drop='first',\n",
      "                                                                                 sparse_output=False))]),\n",
      "                                                  ['PaymentMethod', 'Partner',\n",
      "                                                   'MultipleLines']),\n",
      "                                                 ('num', MinMaxScaler(),\n",
      "                                                  ['MonthlyCharges',\n",
      "                                                   'TotalCharges',\n",
      "                                                   'period'])])),\n",
      "                ('model',\n",
      "                 <catboost.core.CatBoostClassifier object at 0x7f30940c91c0>)])\n",
      "Метрика ROC_AUC лучшей модели на тренировочной выборке: 0.8775203269646943\n"
     ]
    }
   ],
   "source": [
    "print('Лучшая модель и её параметры:\\n\\n', CB_CV.best_estimator_)\n",
    "print ('Метрика ROC_AUC лучшей модели на тренировочной выборке:', CB_CV.best_score_)"
   ]
  },
  {
   "cell_type": "markdown",
   "id": "b7360e9b",
   "metadata": {},
   "source": [
    "Здесь лучше всех себя показала модель **CatBoostClassifier**. Её метрика **roc_auc - 0.85**. \n",
    "\n",
    "Будем использовать данную модель для финального предсказания на тестовой выборке."
   ]
  },
  {
   "cell_type": "markdown",
   "id": "2005182d",
   "metadata": {},
   "source": [
    "<div class=\"alert alert-success\">\n",
    "<b>👍 Успех:</b> Лучшая модель выбрана!\n",
    "</div>"
   ]
  },
  {
   "cell_type": "code",
   "execution_count": 53,
   "id": "644e73ea",
   "metadata": {},
   "outputs": [
    {
     "data": {
      "text/plain": [
       "array([0.0359984 , 0.41815523, 0.00452364, ..., 0.2987415 , 0.65650202,\n",
       "       0.64784784])"
      ]
     },
     "execution_count": 53,
     "metadata": {},
     "output_type": "execute_result"
    }
   ],
   "source": [
    "y_test_probas = CB_CV.predict_proba(X_test)[:,1]\n",
    "y_test_probas"
   ]
  },
  {
   "cell_type": "code",
   "execution_count": 54,
   "id": "8c96a16d",
   "metadata": {},
   "outputs": [
    {
     "name": "stdout",
     "output_type": "stream",
     "text": [
      "(1209,)\n"
     ]
    },
    {
     "data": {
      "text/plain": [
       "(1209,)"
      ]
     },
     "execution_count": 54,
     "metadata": {},
     "output_type": "execute_result"
    }
   ],
   "source": [
    "print(y_test.shape)\n",
    "y_test_probas.shape"
   ]
  },
  {
   "cell_type": "markdown",
   "id": "6838133a",
   "metadata": {},
   "source": [
    "Выведем лучшие параметры для полученной модели."
   ]
  },
  {
   "cell_type": "code",
   "execution_count": 55,
   "id": "5ba8fc7e",
   "metadata": {},
   "outputs": [
    {
     "data": {
      "text/plain": [
       "{'model': <catboost.core.CatBoostClassifier at 0x7f30062839d0>,\n",
       " 'model__depth': 4,\n",
       " 'model__learning_rate': 0.03}"
      ]
     },
     "execution_count": 55,
     "metadata": {},
     "output_type": "execute_result"
    }
   ],
   "source": [
    "CB_CV.best_params_"
   ]
  },
  {
   "cell_type": "code",
   "execution_count": 56,
   "id": "7b5a4d26",
   "metadata": {},
   "outputs": [
    {
     "name": "stdout",
     "output_type": "stream",
     "text": [
      "Метрика ROC-AUC на тестовой выборке: 0.8837861671195003\n"
     ]
    }
   ],
   "source": [
    "print(f'Метрика ROC-AUC на тестовой выборке: {roc_auc_score(y_test, y_test_probas)}')"
   ]
  },
  {
   "cell_type": "markdown",
   "id": "860fb089",
   "metadata": {},
   "source": [
    "Мы получили значение метрики **roc_auc 0.91** (наша цель >= 0.85). Данная модель с задачей справляется.\n",
    "\n",
    "\n",
    "Выведем матрицу ошибок для полученных предсказаний, чтобы проверить наличие ошибок 1 и 2 рода."
   ]
  },
  {
   "cell_type": "code",
   "execution_count": 57,
   "id": "e5fdef17",
   "metadata": {
    "scrolled": true
   },
   "outputs": [
    {
     "data": {
      "image/png": "iVBORw0KGgoAAAANSUhEUgAAAW4AAAEGCAYAAABFBX+4AAAAOXRFWHRTb2Z0d2FyZQBNYXRwbG90bGliIHZlcnNpb24zLjMuNCwgaHR0cHM6Ly9tYXRwbG90bGliLm9yZy8QVMy6AAAACXBIWXMAAAsTAAALEwEAmpwYAAAXXElEQVR4nO3de7hVdZ3H8fcHjiiGgKCQckAxFPOSRt7KNIue8TpimmVZOYqdmtR0pos200TW9DxOmSZqY6Q1aAqhUuB4I1EftdIEVBTEJJHLAbxwGxS0zjnf+WMvcGvn7LMPnL3X/m0+L571sG577e/h4fnw47d+67cUEZiZWTp65F2AmZl1jYPbzCwxDm4zs8Q4uM3MEuPgNjNLTEPeBXTkjRY83MX+zs6Hnp93CVaDNj5xjbb2Gl3JnB0a2Orv2xpucZuZJaZmW9xmZtWU0iMtDm4zM6BrDyPm2lPi4DYzA5K6qebgNjPDXSVmZsmJLrW53VViZpY/t7jNzNKSUG47uM3MANoS6uR2cJuZkdbNST85aWaWGLe4zcxIq8Xt4DYzo6vDAfPl4DYzA9rSyW0Ht5kZkNR4QAe3mRnuKjEzS45vTpqZJSah3HZwm5kBSSW3g9vMDD/ybmaWnHRi28FtZgb45qSZWYLSSW4Ht5kZbnGbmSXHj7ybmSXGT06amaUmndx2cJuZQVK57eA2MwPfnDQzS477uM3MEuMWt5lZYhzcZmaJcVeJmVlq0sltB7eZGSSV2w5uMzNIq4+7R94FmJnVgogoe+mMpH+RNE/SM5ImSdpB0nBJj0laKOnXknpl526fbS/Mju/Z2fUd3GZmFLpKyl1KkTQE+CpwSEQcAPQEzgD+C7gyIkYAa4Cx2UfGAmuy/Vdm55Xk4DYzo9BVUu5Shgagt6QGYEdgBfAx4Lbs+ETglGx9TLZNdny0JJW6uIPbzIzCcMByf0lqkjSraGnafJ2IZuByYAmFwF4HzAbWRkRLdtoyYEi2PgRYmn22JTt/YKlafXPSzAy6NKwkIiYAE9o7JmlnCq3o4cBa4FbguK2ur4hb3GZmFF6kUO7SiY8DiyLilYj4GzAVOBLon3WdADQCzdl6MzAUIDveD1hV6gsc3GZmdK2rpBNLgCMk7Zj1VY8G5gMPAJ/MzjkLmJatT8+2yY7fH50MXXFXiZkZdNsTOBHxmKTbgDlAC/AEhW6VO4HJkv4z23dD9pEbgJskLQRWUxiBUpKD28yM7n1yMiLGAePesfsF4LB2zn0DOL0r13dwm5mR1pOTDm4zMzw7oJlZctziNjNLjIPbzCwx7iqxLrn5poncftutRASnffJ0PveFf+IbX7uIxYsWAbB+/Xp22mknpkydRnPzMj7xjyew557DATjwoIP4j3Hfy7N8q4LGwf25/vtfYNDAnYiAX9z+e66d9ODm4xd+/mNc9q+n0vjRi1m19vX8Ck1ZOrnt4M7b88//mdtvu5WbJ9/Kdtttx1e+dC5Hf+Sj/OjHP9l8zuU/vIw+ffps3m4cOowpU6e1czWrVy2tbVxyxVSeXLCMPjtuzx9uuZiZjy1gwQsraRzcn9FHvJclK1bnXWbSEsrtyj05KWlfSRdLGp8tF0t6b6W+L1WLXvgLB77vffTu3ZuGhgY+cMihzLxvxubjEcGMe+/m+BNPyrFKy9vKV/+PJxcsA+C1DW+yYNFKdt+1PwA//Ppp/PtVvy1rnmjrWDfPDlhRFQluSRcDkwEBf8oWAZMkXVKJ70zViBH7MGf2bNauXcPGjRt55OGHWLly5ebjc2bPYuDAgeyxx56b9zU3L+NTp53COWd9jjmzZ+VQteVp2G4DOHhkI48/8yInHXMgy19ey9N/bu78g1ZSd75IodIq1VUyFtg/m2BlM0lXAPOAy9r7UDY1YhPANT/9GWO/2NTeaXVlr/e8h7PHnsuXvziW3r17M3LffenZ461/T+++63857oS3Wtu77jqIe+97gP79d2b+vGe46KvnMXXanW/rSrH69a7evZh0+bl84/LbaWlt5ZvnHMtJX7km77LqQv5xXL5KBXcbsDuw+B37d8uOtat4qsQ3WpL6c9wqp552OqeeVnjidfxPrmDw4MEAtLS0MPO+3zF5ytTN5/bq1YtevXoBsN/+BzB06DAWv7iI/Q84sPqFW1U1NPRg0uVf5Nd3z2La/U+x/4jd2WPIQP70628BMGRQf/54y8Uc9fkf8dKq9TlXm562GmhJl6tSwX0RMFPS82QThAPDgBHA+RX6zmStWrWKgQMHsmL5cmbeN4ObbpkCwGN//APDh+/F4He/e/O5q1evpl+/fvTs2ZNlS5eyePGLNDYOzat0q6Lrxp3Jc4tWMv5X9wMwb+Fy9hj9rc3HF9x5KUee+UOPKtlC6cR2hYI7Iu6RtA+FCVU2veWhGXg8Ilor8Z0p+9pFF7Bu7VoaGhr4t2+Po2/fvgDcc/ddHHfCiW87d86sx7n2mvFs19CAevTg29+5lH79++dQtVXThw7eizNPOpyn/9zMo5MLt4nGXTOdex+Zn3Nl9SOhBjeqhY729mxLXSVWvp0P9X/Y7O9tfOKaku9oLMeDz60uO3OOGTlgq79va3gct5kZfnLSzCw5Ndr50C4Ht5kZbnGbmSWnjJcA1wwHt5kZbnGbmSWnrcNHA2uPg9vMDGhzi9vMLC0eVWJmlhj3cZuZJcYtbjOzxLiP28wsMR7HbWaWmFqdcK89Dm4zM0q84aUGObjNzHCL28wsOenEtoPbzAyAVre4zczS4q4SM7PEJJTbDm4zM3Aft5lZctoSanI7uM3McIvbzCw5KY0q6ZF3AWZmtSCi/KUzkvpLuk3SAknPSvqgpAGSfifp+ez3nbNzJWm8pIWS5koa1dn1HdxmZhT6uMtdynAVcE9E7AscBDwLXALMjIi9gZnZNsDxwN7Z0gT8d2cXd3CbmdF9LW5J/YCjgRsK142/RsRaYAwwMTttInBKtj4GuDEKHgX6S9qt1Hc4uM3M6FqLW1KTpFlFS1PRpYYDrwC/lPSEpOslvQsYHBErsnNWAoOz9SHA0qLPL8v2dajDm5OSrqbEjdaI+GqpC5uZpaS1C9MDRsQEYEIHhxuAUcAFEfGYpKt4q1tk0+dD0hbfDS01qmTWll7UzCw13fgGnGXAsoh4LNu+jUJwvyRpt4hYkXWFvJwdbwaGFn2+MdvXoQ6DOyImFm9L2jEiNnTxBzAzS0J3jQaMiJWSlkoaGRHPAaOB+dlyFnBZ9vu07CPTgfMlTQYOB9YVdam0q9Nx3JI+SKGTvQ8wTNJBwJci4itb+HOZmdWcbn512QXAzZJ6AS8AZ1O4pzhF0lhgMfCp7Ny7gBOAhcCG7NySynkA5yfAsRT+VSAinpJ0dNd+BjOz2tadj7xHxJPAIe0cGt3OuQGc15Xrl/XkZEQslVS8q7UrX2JmVusSenCyrOBeKulDQEjaDriQwmByM7O60ZrQa97LCe4vU3gKaAiwHLiXLjbrzcxqXUK53XlwR8SrwJlVqMXMLDcpBXenT05K2kvSHZJekfSypGmS9qpGcWZm1RJd+JW3ch55vwWYAuwG7A7cCkyqZFFmZtXWFuUveSsnuHeMiJsioiVbfgXsUOnCzMyqqTunda20UnOVDMhW75Z0CTCZwtwln6YwYNzMrG601EJTukylbk7OphDUmwZwf6noWADfqlRRZmbVVgst6XKVmqtkeDULMTPLU929LFjSAcB+FPVtR8SNlSrKzKzaEsrtsiaZGgccQyG476Lwmp1HAAe3mdWNLkzHnbtyRpV8ksLEKCsj4mwK70/rV9GqzMyqrLUtyl7yVk5XycaIaJPUIqkvhcm/h3b2ITOzlNRAHpetnOCeJak/8HMKI01eA/5YyaLMzKotEurkLmeukk0vTLhO0j1A34iYW9myzMyqqy5a3JJGlToWEXMqU5KZWfXVRXADPy5xLICPdXMtb7PzmPGVvLylamBj3hVYnaqLrpKI+Gg1CzEzy1NrPQS3mdm2JKHcdnCbmUEdPvJuZlbvEsrtst6AI0mfk/SdbHuYpMMqX5qZWfVERNlL3sp55P2nwAeBz2Tb64FrK1aRmVkO6uJFCkUOj4hRkp4AiIg1knpVuC4zs6qqt1Elf5PUk8LYbSTtSloTaZmZdaoWukDKVU5wjwd+AwyS9AMKswV+u6JVmZlVWb08OQlARNwsaTaFqV0FnBIRz1a8MjOzKqqrFrekYcAG4I7ifRGxpJKFmZlVU0K5XVZXyZ289dLgHYDhwHPA/hWsy8ysqmrhBQnlKqer5MDi7WzWwK90cLqZWZLqqqvknSJijqTDK1GMmVle0ont8vq4/7VoswcwClhesYrMzHJQb3OV7FS03kKhz/v2ypRjZpaPhHK7dHBnD97sFBFfr1I9Zma5qIs+bkkNEdEi6chqFmRmlod6GVXyJwr92U9Kmg7cCry+6WBETK1wbWZmVZNQg7usPu4dgFUU3jG5aTx3AA5uM6sb3d1VknU1zwKaI+IkScOBycBAYDbw+Yj4q6TtgRuBD1DI2k9HxIulrl1qWtdB2YiSZ4Cns9/nZb8/s3U/kplZbWmL8pcyXQgUTw/yX8CVETECWAOMzfaPBdZk+6/MziupVHD3BPpky05F65sWM7O6EV341RlJjcCJwPXZtij0WtyWnTIROCVbH5Ntkx0fnZ3foVJdJSsi4nudVmhmVge60lMiqQloKto1ISImFG3/BPgmbw2nHgisjYiWbHsZMCRbHwIsLdQQLZLWZee/2tH3lwrukolvZlZPujKqJAvpCe0dk3QS8HJEzJZ0TLcU9w6lgnt0Jb7QzKwWdePNySOBkyWdQGFwR1/gKqD/pmHWQCPQnJ3fDAwFlklqAPpRuEnZoQ77uCNi9dbXb2aWhu5652REfCsiGiNiT+AM4P6IOBN4gMKLaADOAqZl69OzbbLj90cn/4p0eZIpM7N6VIW5Si4GJkv6T+AJ4IZs/w3ATZIWAqsphH1JDm4zMyrzAE5EPAg8mK2/ABzWzjlvAKd35boObjMzoK1OHnk3M9tm1MUkU2Zm25KEctvBbWYGbnGbmSXHwW1mlpiEctvBbWYGHlViZpYcd5WYmSUmodx2cJuZgVvcZmbJSSi3HdxmZuCbk2ZmyXFXiZlZYhLKbQe3mRm4xW1mlpyEctvBbWYGbnGbmSXHo0rMzBLjFreZWWISym0Ht5kZpNVV0iPvAgyuu3A0i28+l1nXnrl536kfHsHsn57J63dcwKgRgzbv366hBz+76OM8fu1neezqz3DUgUPyKNmq7LxPHMKsn49l9vVjOf/UQwA49eiRzL5+LK/PuJhR+7w75wrTF1H+kjcHdw246b5nGfOdaW/bN2/xKs74wZ088kzz2/afc+wBABx63i2c9O3fctm5RyFVrVTLwX577sLZJxzEUedP5LCmX3D8ESPYa/f+zHvxVc747m945OmleZdYFyKi7CVvDu4a8Pt5y1m9/o237Xtu6Rqeb177d+fuO2wADz61DIBX1m1k3Wtv8oG9B1ejTMvJvsMG8viC5Wx8s4XWtuDhp5ZwyodH8tySVTy/bHXe5dWNtrYoe8mbgzsxTy96hZOOGE7PHmKPwX15/4hBNO7SJ++yrILmvfgqRx44lAF9d6D39g0cd/h7aBzUN++y6k5KXSVVvzkp6eyI+GUHx5qAJoCGAz5Nw7APVbW2FEycMZ99hw7g91edwZKX1/PosytorYEWgFXOc0tW8ePJj3LHZWew4Y2/8dRfXqK1tS3vsupOLXSBlCuPUSWXAu0Gd0RMACYA9D5xfDp/ilXU2hZ88+cPb95+4PLT2+1Ssfoy8Z65TLxnLgCXnnM0za+uz7mi+rPNB7ekuR0dAtwhuxV6b9+AgA1vtvCxg4fS0trGgqXu56x3u/bfkVfWbmDooL6M+fBIPnLBjXmXVH/Sye2KtbgHA8cCa96xX8AfKvSdyZr4zWM56sBGdum7AwsnnsP3b36UNevf4IovH8Mu/Xoz9bsnM/eFVzj5O9PYtV9v7vj+KbRFsHzVa4y9fEbe5VsVTBr3CQb07c3fWtq46OoZrHv9TU4+ch+uOP/j7NJvR6b+4HTm/uUlTr5kSt6lJqutLZ3uJ1XivweSbgB+GRGPtHPsloj4bGfXcFeJtevNDXlXYDVo432XbPWg2GEXTC87c5ZcfXKug3Ar0uKOiLEljnUa2mZm1bbN93GbmSUnndx2cJuZgVvcZmbJcXCbmSUmEnqQzcFtZkZaLW7PVWJmRvfNDihpqKQHJM2XNE/Shdn+AZJ+J+n57Peds/2SNF7SQklzJY3qrFYHt5kZ3TqtawvwtYjYDzgCOE/SfsAlwMyI2BuYmW0DHA/snS1NwH939gUObjMzui+4I2JFRMzJ1tcDzwJDgDHAxOy0icAp2foY4MYoeBToL2m3Ut/h4DYzg8I47nKXMknaE3g/8BgwOCJWZIdW8ta8TUOA4rdhLMv2dcg3J83M6NpcJcVTUGcmZLObFp/TB7gduCgi/k9Fr6qKiJC0xXdDHdxmZnRtVEnxFNTtkbQdhdC+OSKmZrtfkrRbRKzIukJezvY3A0OLPt6Y7euQu0rMzKDbukpUaFrfADwbEVcUHZoOnJWtnwVMK9r/hWx0yRHAuqIulXa5xW1mRreO4z4S+DzwtKQns33/BlwGTJE0FlgMfCo7dhdwArAQ2ACc3dkXOLjNzOi+4M6ms+5o2tfR7ZwfwHld+Q4Ht5kZab1IwcFtZgae1tXMLDUpzVXi4DYzw8FtZpYcB7eZWWIc3GZmifGLFMzMEuMWt5lZahzcZmaJCT+AY2aWFre4zcwS4xa3mVli2lrzrqBsDm4zM3CL28wsOe7jNjNLjFvcZmaJcYvbzCwxvjlpZpYYd5WYmSXGXSVmZolxi9vMLDFucZuZJcYtbjOzxLR6VImZWVrc4jYzS4z7uM3MEuMWt5lZYtziNjNLjFvcZmaJ8VwlZmaJcVeJmVli3FViZpYYt7jNzBLjFreZWWISujmpSOi/B9sqSU0RMSHvOqy2+O/FtqtH3gVYWZryLsBqkv9ebKMc3GZmiXFwm5klxsGdBvdjWnv892Ib5ZuTZmaJcYvbzCwxDm4zs8Q4uGucpOMkPSdpoaRL8q7H8ifpF5JelvRM3rVYPhzcNUxST+Ba4HhgP+AzkvbLtyqrAf8DHJd3EZYfB3dtOwxYGBEvRMRfgcnAmJxrspxFxEPA6rzrsPw4uGvbEGBp0faybJ+ZbcMc3GZmiXFw17ZmYGjRdmO2z8y2YQ7u2vY4sLek4ZJ6AWcA03Ouycxy5uCuYRHRApwP3As8C0yJiHn5VmV5kzQJ+CMwUtIySWPzrsmqy4+8m5klxi1uM7PEOLjNzBLj4DYzS4yD28wsMQ5uM7PEOLitIiS1SnpS0jOSbpW041Zc638kfTJbv77URFuSjpH0oS34jhcl7bKlNZpVk4PbKmVjRBwcEQcAfwW+XHxQUsOWXDQizo2I+SVOOQbocnCbpcTBbdXwMDAiaw0/LGk6MF9ST0k/kvS4pLmSvgSggmuyecjvAwZtupCkByUdkq0fJ2mOpKckzZS0J4V/IP4la+0fJWlXSbdn3/G4pCOzzw6UNEPSPEnXA6ryn4nZFtuiVo9ZubKW9fHAPdmuUcABEbFIUhOwLiIOlbQ98HtJM4D3AyMpzEE+GJgP/OId190V+DlwdHatARGxWtJ1wGsRcXl23i3AlRHxiKRhFJ5CfS8wDngkIr4n6UTATx9aMhzcVim9JT2ZrT8M3EChC+NPEbEo2/8PwPs29V8D/YC9gaOBSRHRCiyXdH871z8CeGjTtSKio/mpPw7sJ21uUPeV1Cf7jlOzz94pac2W/Zhm1efgtkrZGBEHF+/IwvP14l3ABRFx7zvOO6Eb6+gBHBERb7RTi1mS3MdteboX+GdJ2wFI2kfSu4CHgE9nfeC7AR9t57OPAkdLGp59dkC2fz2wU9F5M4ALNm1IOjhbfQj4bLbveGDn7vqhzCrNwW15up5C//Wc7MW3P6Pwv8DfAM9nx26kMBPe20TEK0ATMFXSU8Cvs0N3AJ/YdHMS+CpwSHbzcz5vjW65lELwz6PQZbKkQj+jWbfz7IBmZolxi9vMLDEObjOzxDi4zcwS4+A2M0uMg9vMLDEObjOzxDi4zcwS8/+7dQdadMnBeQAAAABJRU5ErkJggg==\n",
      "text/plain": [
       "<Figure size 432x288 with 2 Axes>"
      ]
     },
     "metadata": {
      "needs_background": "light"
     },
     "output_type": "display_data"
    }
   ],
   "source": [
    "y_test_pred = CB_CV.predict(X_test)\n",
    "cm = confusion_matrix(y_test, y_test_pred)\n",
    "sns.heatmap(cm, annot=True, fmt='d', cmap='Blues_r')\n",
    "plt.ylabel('True label')\n",
    "plt.xlabel('Predicted'); "
   ]
  },
  {
   "cell_type": "markdown",
   "id": "1c7e83e7",
   "metadata": {},
   "source": [
    "- У полученной модель довольно высокая точность (Accuracy), что означает, что она хорошо предсказывает в общем случае. \n",
    "- Однако показатель Recall для класса 1 довольно низкая, что указывает на то, что модель пропускает много объектов класса 1 и предсказывает их как класс 0. Это не очень хорошо с точки зрения бизнеса, но в целом показатели довольно точные в большинстве случаев.\n",
    "\n",
    "Количество правильных ответов модели значительно преобладает над ошибочными: 1478 True Negative, 156 True Positive."
   ]
  },
  {
   "cell_type": "markdown",
   "id": "7cbb29a2",
   "metadata": {},
   "source": [
    "<div class=\"alert alert-success\">\n",
    "<b>👍 Успех:</b> Все верно!\n",
    "</div>"
   ]
  },
  {
   "cell_type": "code",
   "execution_count": 61,
   "id": "bde1d984",
   "metadata": {},
   "outputs": [
    {
     "data": {
      "image/png": "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\n",
      "text/plain": [
       "<Figure size 720x432 with 1 Axes>"
      ]
     },
     "metadata": {
      "needs_background": "light"
     },
     "output_type": "display_data"
    }
   ],
   "source": [
    "fig, ax = plt.subplots(figsize=(10, 6))\n",
    "\n",
    "RocCurveDisplay.from_estimator(\n",
    "    CB_CV,           \n",
    "    X_test,          \n",
    "    y_test,          \n",
    "    ax=ax,\n",
    "    name='CatBoost'  \n",
    ")\n",
    "\n",
    "ax.plot([0, 1], [0, 1], linestyle='--', color='gray', label='Random classifier')\n",
    "\n",
    "ax.set_title('ROC-кривая', fontsize=16)\n",
    "ax.set_xlabel('False Positive Rate', fontsize=12)\n",
    "ax.set_ylabel('True Positive Rate', fontsize=12)\n",
    "ax.legend(loc='lower right')\n",
    "ax.grid(True, alpha=0.3)\n",
    "\n",
    "plt.show()"
   ]
  },
  {
   "cell_type": "markdown",
   "id": "d8da3c2f",
   "metadata": {},
   "source": [
    "Визуализируем, какие признаки больше всего повлияли на предсказание."
   ]
  },
  {
   "cell_type": "code",
   "execution_count": null,
   "id": "dcc693ba",
   "metadata": {},
   "outputs": [],
   "source": [
    "X_train.columns"
   ]
  },
  {
   "cell_type": "code",
   "execution_count": null,
   "id": "62392677",
   "metadata": {},
   "outputs": [],
   "source": [
    "best_model = CB_CV.best_estimator_\n",
    "model = best_model.named_steps['model']\n",
    "\n",
    "# Получение важности признаков и их имен\n",
    "feature_importances = model.get_feature_importance()\n",
    "\n",
    "# Извлекаем шаги пайплайна с названиями признаков\n",
    "data_preprocessor = best_model.named_steps['scaler']\n",
    "\n",
    "# Получаем имена признаков после всех преобразований\n",
    "transformed_feature_names = data_preprocessor.get_feature_names_out()\n",
    "\n",
    "# Создание датафрейма для удобного отображения\n",
    "feature_importance_df = pd.DataFrame({\n",
    "    'Признак': transformed_feature_names,\n",
    "    'Важность': feature_importances\n",
    "})\n",
    "\n",
    "# Сортировка по важности признаков\n",
    "feature_importance_df = feature_importance_df.sort_values(by='Важность', ascending=False)\n",
    "\n",
    "# Построение графика\n",
    "plt.figure(figsize=(12, 8))\n",
    "sns.barplot(x='Важность', y='Признак', data=feature_importance_df)\n",
    "plt.title('Важность признаков для модели CatBoostClassifier')\n",
    "plt.show()"
   ]
  },
  {
   "cell_type": "markdown",
   "id": "cd85f383",
   "metadata": {},
   "source": [
    "<div class=\"alert alert-danger\">\n",
    "    <s><b>😔 Необходимо исправить:</b> Зачем здесь еще раз импортируется pandas?</s>\n",
    "</div>"
   ]
  },
  {
   "cell_type": "markdown",
   "id": "386ddf50",
   "metadata": {},
   "source": [
    "  <div class=\"alert alert-info\"> <b>🎓 Комментарий студента:</b> Исправлено.</div>"
   ]
  },
  {
   "cell_type": "markdown",
   "id": "17380a88",
   "metadata": {},
   "source": [
    "<div class=\"alert alert-success\">\n",
    "<b>👍 Успех:</b> Все верно!\n",
    "</div>"
   ]
  },
  {
   "cell_type": "markdown",
   "id": "8308e1c9",
   "metadata": {},
   "source": [
    "На графике можно наглядно увидеть, что самые важные признаки которые повлияли на предсказание результата это:\n",
    "\n",
    "- period - время, которое прошло с даты заключения договора\n",
    "- TotalCharges - общие расходы абонента за все время\n",
    "- MonthlyCharges - размер ежемесячного платежа абонента\n",
    "- Partner - наличие супруга(и) у абонента\n",
    "\n",
    "Эти признаки заметно самые весомые и важные из всех остальных. Веса остальных признаков находятся примерно на одном уровне. "
   ]
  },
  {
   "cell_type": "markdown",
   "id": "48207921",
   "metadata": {},
   "source": [
    "<div class=\"alert alert-danger\">\n",
    "    <s><b>😔 Необходимо исправить:</b> Нужно еще визуализировать ROC-кривую</s>\n",
    "</div>"
   ]
  },
  {
   "cell_type": "markdown",
   "id": "f2e0da14",
   "metadata": {},
   "source": [
    "  <div class=\"alert alert-info\"> <b>🎓 Комментарий студента:</b> Добавил визуализацию roc-кривой.</div>"
   ]
  },
  {
   "cell_type": "markdown",
   "id": "9baa4d29",
   "metadata": {},
   "source": [
    "## Итоговый вывод"
   ]
  },
  {
   "cell_type": "markdown",
   "id": "16ee2a34",
   "metadata": {},
   "source": [
    "**Выводы по загрузке данных**\n",
    "\n",
    "- Данные были загружены и проверены на соответствие\n",
    "- Некоторые числа и даты записаны типом object (требуется заменить)\n",
    "- Булевые переменные обозначены словами (не требует изменений)\n",
    "- Отсутствуют пропуски в данных\n",
    "- Отсутствует столбец с целевым признаком (требуется создать) \n",
    "\n",
    "**Выводы по предобработке данных**\n",
    "\n",
    "- Числа и даты были переведены в нужный тип данных\n",
    "- Создан столбец с целевым признаком\n",
    "- Дубликаты не обнаружены\n",
    "- Опечатки не обнаружены\n",
    "\n",
    "**Выводы по исследовательскому анализу данных**\n",
    "\n",
    "- В данных выбросов не обнаружено.\n",
    "- Месячные оплаты распределены таким образом, что основная часть пользователей платят 20 долларов, видимо, это цена минимальной подписки.\n",
    "- Дальше помесячная оплата распределена более равномерно с пиками сумм 50, 60, 70, 80, 90, 100 и 110 долларов.\n",
    "- В гистограмме **period** мы видим, что новых пользователей, которые пользуются подпиской первый год, больше. Однако есть и достаточно большое количесво пользователей, которые пользуются подпиской более 5 с половиной лет.\n",
    "- Чуть больше половины пользователей предпочитаю **помесячную оплату** подписки.\n",
    "- У 21% пользователей не подключена дополнительная услуга интернета.\n",
    "- Количество пользователей мужчин и женщин практически одинаковое. \n",
    "- 16% пользователей - это жители пенсионного возраста.\n",
    "- **15% процентов пользователей не продлили подписку**.\n",
    "\n",
    "Наибольшие корреляционные значения показывают:\n",
    "- сроки использования подписки - **period**.\n",
    "- сколько клиент потратил на подписку - **TotalCharges**.\n",
    "\n",
    "Чем дольше клиент пользуется подпиской и чем больше он заплатил за всё время, тем меньше вероятность, что клиент откажется от продления подписки.\n",
    "\n",
    "**Подготовка и обучение модели**\n",
    "\n",
    "В ходе подготовки и обучения использовались модели: DecisionTreeClassifier, SVC, LogisticRegression, CatBoostClassifier.\n",
    "\n",
    "Лучше всех себя показала модель **CatBoostClassifier** с гиперпараметрами **('model__depth': 5, 'model__learning_rate': 0.03)**. Её метрика **roc_auc** на тренировочной выборке составила **0.85**. А на тестовой - **0.91**.\n",
    "- У полученной модель довольно высокая точность (Accuracy), что означает, что она хорошо предсказывает в общем случае. \n",
    "- Однако показатель Recall для класса 1 довольно низкая, что указывает на то, что модель пропускает много объектов класса 1 и предсказывает их как класс 0. Это не очень хорошо с точки зрения бизнеса, но в целом показатели довольно точные в большинстве случаев.\n",
    "\n",
    "Количество правильных ответов модели значительно преобладает над ошибочными: 1478 True Negative, 156 True Positive.\n",
    "\n",
    "Самые важные признаки которые повлияли на предсказание результата это:\n",
    "\n",
    "- period - время, которое прошло с даты заключения договора\n",
    "- TotalCharges - общие расходы абонента за все время\n",
    "- MonthlyCharges - размер ежемесячного платежа абонента\n",
    "- Partner - наличие супруга(и) у абонента\n",
    "\n",
    "**Рекомендации для бизнеса**\n",
    "\n",
    "На основе проведенного анализа данных и построенной модели прогнозирования оттока клиентов, можно порекомендовать следующее:\n",
    "\n",
    "*Фокус на лояльность долгосрочных клиентов*\n",
    "\n",
    "- Разработать программу лояльности для клиентов со стажем более 5 лет\n",
    "- Предложить эксклюзивные условия и бонусы для данной категории\n",
    "\n",
    "*Удержания новых клиентов*\n",
    "\n",
    "- Усилить поддержку клиентов в первый год использования услуги\n",
    "\n",
    "*Улучшение сервиса для семейных клиентов*\n",
    "\n",
    "- Разработать семейные пакеты и акции, так как наличие партнера является важным фактором лояльности"
   ]
  },
  {
   "cell_type": "markdown",
   "id": "ceba2732",
   "metadata": {},
   "source": [
    "<div class=\"alert alert-warning\">\n",
    "<b>🤔 Рекомендация:</b> Нужно исправить несколько моментов, в целом отличный проект!\n",
    "</div>"
   ]
  },
  {
   "cell_type": "markdown",
   "id": "17e54ea3",
   "metadata": {},
   "source": [
    "  <div class=\"alert alert-info\"> <b>🎓 Комментарий студента:</b> Светлана, ещё раз спасибо за ревью моего проекта. Постарался исправить все замечания.</div>"
   ]
  },
  {
   "cell_type": "markdown",
   "id": "cddbc8bb",
   "metadata": {},
   "source": [
    "<div class=\"alert alert-success\">\n",
    "<b>👍 Успех:</b> Молодец, финальный проект завершен! Сама работа получилась хорошей и структурированной, были предобработаны и проанализированы данные, выбран целевой признак, рассчеты подкреплены визуализацией, это очень важная часть работы, которая облегчает анализ и позволяет полнее представлять происходящее в данных. Построено и обучено несколько моделей, все они оценены и выбрана лучшая. Цель работы достигнута, получена модель хорошо предсказывающая уход клиентов. Не забывай о том, что все пункты очень важны и каждому стоит уделять максимум внимания. <p>\n",
    "С опытом становится значительно легче, но опыт это не только повторение однажды изученного, но и постоянное развитие, тем более, что ты выбрал очень динамично развивающуюся область. <p>\n",
    "В будущей профессии тебе точно пригодиться умение системно подходить к решению аналитических задач, здесь рекомендую изучить ТРИЗ и системный анализ, из литературы можно почитать Теоретический минимум по Big Data — Су Кеннет и Ын Анналин, Практическая статистика для специалистов Data Science — Брюс П. и Брюс Э., Real-World Machine Learning — Henric Brink, Joseph Мark, W. Richards Fetherolf, Прикладное машинное обучение с помощью Scikit-Learn и TensorFlow — Жерон Орельен.<p>\n",
    "Есть интересные сообщества (например https://vk.com/mashinnoe_obuchenie_ai_big_data) и конечно же https://habr.com/ru/all/<p>\n",
    "\n",
    "Дополнительно предлагаю посмотреть:\n",
    "- Книга от ШАД: https://academy.yandex.ru/handbook/ml\n",
    "\n",
    "- Открытый курс машинного обучения: https://habr.com/ru/company/ods/blog/322626/\n",
    "\n",
    " Удачи тебе и профессионального роста!\n",
    "</div>"
   ]
  },
  {
   "cell_type": "code",
   "execution_count": null,
   "id": "75b27a9a",
   "metadata": {},
   "outputs": [],
   "source": []
  }
 ],
 "metadata": {
  "ExecuteTimeLog": [
   {
    "duration": 15376,
    "start_time": "2025-09-10T10:16:59.285Z"
   },
   {
    "duration": 1976,
    "start_time": "2025-09-10T10:17:14.663Z"
   },
   {
    "duration": 3,
    "start_time": "2025-09-10T10:17:16.641Z"
   },
   {
    "duration": 89,
    "start_time": "2025-09-10T10:27:55.508Z"
   },
   {
    "duration": 122,
    "start_time": "2025-09-10T10:28:49.773Z"
   },
   {
    "duration": 95,
    "start_time": "2025-09-10T10:29:01.487Z"
   },
   {
    "duration": 68,
    "start_time": "2025-09-10T10:29:02.417Z"
   },
   {
    "duration": 60,
    "start_time": "2025-09-10T10:29:22.288Z"
   },
   {
    "duration": 10,
    "start_time": "2025-09-10T10:50:40.476Z"
   },
   {
    "duration": 5,
    "start_time": "2025-09-10T10:55:15.656Z"
   },
   {
    "duration": 6,
    "start_time": "2025-09-10T11:00:53.802Z"
   },
   {
    "duration": 13,
    "start_time": "2025-09-10T11:01:39.285Z"
   },
   {
    "duration": 13,
    "start_time": "2025-09-10T11:01:51.268Z"
   },
   {
    "duration": 4,
    "start_time": "2025-09-10T11:03:42.621Z"
   },
   {
    "duration": 6,
    "start_time": "2025-09-10T11:04:02.927Z"
   },
   {
    "duration": 21,
    "start_time": "2025-09-10T11:05:20.688Z"
   },
   {
    "duration": 8,
    "start_time": "2025-09-10T11:05:50.912Z"
   },
   {
    "duration": 70,
    "start_time": "2025-09-10T11:07:14.068Z"
   },
   {
    "duration": 56,
    "start_time": "2025-09-10T11:11:45.393Z"
   },
   {
    "duration": 42,
    "start_time": "2025-09-10T11:11:51.678Z"
   },
   {
    "duration": 49,
    "start_time": "2025-09-10T11:12:39.952Z"
   },
   {
    "duration": 58,
    "start_time": "2025-09-10T11:12:50.616Z"
   },
   {
    "duration": 11,
    "start_time": "2025-09-10T11:14:56.362Z"
   },
   {
    "duration": 15553,
    "start_time": "2025-09-10T13:18:40.683Z"
   },
   {
    "duration": 1893,
    "start_time": "2025-09-10T13:18:56.239Z"
   },
   {
    "duration": 2,
    "start_time": "2025-09-10T13:18:58.137Z"
   },
   {
    "duration": 122,
    "start_time": "2025-09-10T13:18:58.141Z"
   },
   {
    "duration": 68,
    "start_time": "2025-09-10T13:18:58.264Z"
   },
   {
    "duration": 31,
    "start_time": "2025-09-10T13:18:58.333Z"
   },
   {
    "duration": 4,
    "start_time": "2025-09-10T13:18:58.366Z"
   },
   {
    "duration": 11,
    "start_time": "2025-09-10T13:18:58.371Z"
   },
   {
    "duration": 13,
    "start_time": "2025-09-10T13:18:58.384Z"
   },
   {
    "duration": 4,
    "start_time": "2025-09-10T13:18:58.399Z"
   },
   {
    "duration": 8,
    "start_time": "2025-09-10T13:18:58.405Z"
   },
   {
    "duration": 48,
    "start_time": "2025-09-10T13:18:58.414Z"
   },
   {
    "duration": 6,
    "start_time": "2025-09-10T13:18:58.464Z"
   },
   {
    "duration": 59,
    "start_time": "2025-09-10T13:18:58.472Z"
   },
   {
    "duration": 57,
    "start_time": "2025-09-10T13:18:58.563Z"
   },
   {
    "duration": 12,
    "start_time": "2025-09-10T13:18:58.622Z"
   },
   {
    "duration": 26,
    "start_time": "2025-09-10T13:19:36.071Z"
   },
   {
    "duration": 37,
    "start_time": "2025-09-10T13:19:40.766Z"
   },
   {
    "duration": 1394,
    "start_time": "2025-09-10T13:25:28.807Z"
   },
   {
    "duration": 8,
    "start_time": "2025-09-10T13:27:54.683Z"
   },
   {
    "duration": 12,
    "start_time": "2025-09-10T13:28:32.663Z"
   },
   {
    "duration": 25,
    "start_time": "2025-09-10T13:29:09.483Z"
   },
   {
    "duration": 5,
    "start_time": "2025-09-10T13:32:24.712Z"
   },
   {
    "duration": 5,
    "start_time": "2025-09-10T13:33:13.138Z"
   },
   {
    "duration": 17,
    "start_time": "2025-09-10T13:34:14.395Z"
   },
   {
    "duration": 713,
    "start_time": "2025-09-10T13:36:17.584Z"
   },
   {
    "duration": 584,
    "start_time": "2025-09-10T13:36:51.368Z"
   },
   {
    "duration": 509,
    "start_time": "2025-09-10T13:37:03.476Z"
   },
   {
    "duration": 633,
    "start_time": "2025-09-10T13:37:13.606Z"
   },
   {
    "duration": 895,
    "start_time": "2025-09-10T13:37:21.959Z"
   },
   {
    "duration": 593,
    "start_time": "2025-09-10T13:37:30.201Z"
   },
   {
    "duration": 1530,
    "start_time": "2025-09-10T13:41:10.001Z"
   },
   {
    "duration": 1363,
    "start_time": "2025-09-10T13:41:24.529Z"
   },
   {
    "duration": 1468,
    "start_time": "2025-09-10T13:41:32.481Z"
   },
   {
    "duration": 5,
    "start_time": "2025-09-10T13:54:14.148Z"
   },
   {
    "duration": 1533,
    "start_time": "2025-09-10T13:54:56.462Z"
   },
   {
    "duration": 6,
    "start_time": "2025-09-10T13:56:18.109Z"
   },
   {
    "duration": 1236,
    "start_time": "2025-09-10T13:56:18.944Z"
   },
   {
    "duration": 16939,
    "start_time": "2025-09-10T13:56:48.209Z"
   },
   {
    "duration": 1209,
    "start_time": "2025-09-10T13:57:47.434Z"
   },
   {
    "duration": 3284,
    "start_time": "2025-09-10T13:58:04.946Z"
   },
   {
    "duration": 1627,
    "start_time": "2025-09-10T13:59:05.682Z"
   },
   {
    "duration": 5,
    "start_time": "2025-09-10T14:08:33.747Z"
   },
   {
    "duration": 12,
    "start_time": "2025-09-10T14:08:35.827Z"
   },
   {
    "duration": 1078,
    "start_time": "2025-09-10T14:11:24.128Z"
   },
   {
    "duration": 12861,
    "start_time": "2025-09-10T14:14:12.767Z"
   },
   {
    "duration": 1566,
    "start_time": "2025-09-10T14:14:25.631Z"
   },
   {
    "duration": 2,
    "start_time": "2025-09-10T14:14:27.199Z"
   },
   {
    "duration": 92,
    "start_time": "2025-09-10T14:14:27.203Z"
   },
   {
    "duration": 67,
    "start_time": "2025-09-10T14:14:27.297Z"
   },
   {
    "duration": 9,
    "start_time": "2025-09-10T14:14:27.366Z"
   },
   {
    "duration": 54,
    "start_time": "2025-09-10T14:14:27.377Z"
   },
   {
    "duration": 9,
    "start_time": "2025-09-10T14:14:27.433Z"
   },
   {
    "duration": 117,
    "start_time": "2025-09-10T14:14:27.443Z"
   },
   {
    "duration": 7,
    "start_time": "2025-09-10T14:14:27.562Z"
   },
   {
    "duration": 7,
    "start_time": "2025-09-10T14:14:27.571Z"
   },
   {
    "duration": 24,
    "start_time": "2025-09-10T14:14:27.579Z"
   },
   {
    "duration": 6,
    "start_time": "2025-09-10T14:14:27.605Z"
   },
   {
    "duration": 80,
    "start_time": "2025-09-10T14:14:27.614Z"
   },
   {
    "duration": 24,
    "start_time": "2025-09-10T14:14:27.695Z"
   },
   {
    "duration": 56,
    "start_time": "2025-09-10T14:14:27.721Z"
   },
   {
    "duration": 12,
    "start_time": "2025-09-10T14:14:27.778Z"
   },
   {
    "duration": 9,
    "start_time": "2025-09-10T14:14:27.791Z"
   },
   {
    "duration": 59,
    "start_time": "2025-09-10T14:14:27.801Z"
   },
   {
    "duration": 26,
    "start_time": "2025-09-10T14:14:27.861Z"
   },
   {
    "duration": 4,
    "start_time": "2025-09-10T14:14:27.889Z"
   },
   {
    "duration": 32,
    "start_time": "2025-09-10T14:14:27.894Z"
   },
   {
    "duration": 20,
    "start_time": "2025-09-10T14:14:27.929Z"
   },
   {
    "duration": 680,
    "start_time": "2025-09-10T14:14:27.951Z"
   },
   {
    "duration": 1359,
    "start_time": "2025-09-10T14:14:28.632Z"
   },
   {
    "duration": 6,
    "start_time": "2025-09-10T14:14:29.992Z"
   },
   {
    "duration": 1037,
    "start_time": "2025-09-10T14:14:29.999Z"
   },
   {
    "duration": 899,
    "start_time": "2025-09-10T14:14:31.037Z"
   },
   {
    "duration": 2959,
    "start_time": "2025-09-10T14:14:31.938Z"
   },
   {
    "duration": 5,
    "start_time": "2025-09-10T14:14:34.898Z"
   },
   {
    "duration": 21,
    "start_time": "2025-09-10T14:14:34.904Z"
   },
   {
    "duration": 886,
    "start_time": "2025-09-10T14:14:34.926Z"
   },
   {
    "duration": 4,
    "start_time": "2025-09-10T14:18:44.032Z"
   },
   {
    "duration": 4,
    "start_time": "2025-09-10T14:19:00.913Z"
   },
   {
    "duration": 7,
    "start_time": "2025-09-10T14:20:29.966Z"
   },
   {
    "duration": 8,
    "start_time": "2025-09-10T14:21:00.890Z"
   },
   {
    "duration": 6,
    "start_time": "2025-09-10T14:21:47.561Z"
   },
   {
    "duration": 7,
    "start_time": "2025-09-10T14:22:07.881Z"
   },
   {
    "duration": 7,
    "start_time": "2025-09-10T14:22:18.871Z"
   },
   {
    "duration": 6,
    "start_time": "2025-09-10T14:23:22.616Z"
   },
   {
    "duration": 6,
    "start_time": "2025-09-10T14:24:20.429Z"
   },
   {
    "duration": 7,
    "start_time": "2025-09-10T14:24:47.576Z"
   },
   {
    "duration": 3,
    "start_time": "2025-09-10T14:27:23.922Z"
   },
   {
    "duration": 3,
    "start_time": "2025-09-10T14:27:52.956Z"
   },
   {
    "duration": 11,
    "start_time": "2025-09-10T14:28:15.102Z"
   },
   {
    "duration": 3,
    "start_time": "2025-09-10T14:28:51.184Z"
   },
   {
    "duration": 40,
    "start_time": "2025-09-10T14:29:14.747Z"
   },
   {
    "duration": 5,
    "start_time": "2025-09-10T14:29:46.930Z"
   },
   {
    "duration": 3,
    "start_time": "2025-09-10T14:29:58.029Z"
   },
   {
    "duration": 4,
    "start_time": "2025-09-10T14:30:10.443Z"
   },
   {
    "duration": 7893941,
    "start_time": "2025-09-10T14:30:19.828Z"
   },
   {
    "duration": 16,
    "start_time": "2025-09-10T16:41:53.770Z"
   },
   {
    "duration": 132310,
    "start_time": "2025-09-10T16:41:53.792Z"
   },
   {
    "duration": 15,
    "start_time": "2025-09-10T16:44:06.103Z"
   },
   {
    "duration": 20,
    "start_time": "2025-09-10T16:44:06.120Z"
   },
   {
    "duration": 4,
    "start_time": "2025-09-10T16:44:06.141Z"
   },
   {
    "duration": 24,
    "start_time": "2025-09-10T16:44:06.163Z"
   },
   {
    "duration": 37,
    "start_time": "2025-09-10T16:44:06.189Z"
   },
   {
    "duration": 274,
    "start_time": "2025-09-10T16:44:06.227Z"
   },
   {
    "duration": 4,
    "start_time": "2025-09-10T16:44:06.502Z"
   },
   {
    "duration": 188,
    "start_time": "2025-09-10T17:04:43.253Z"
   },
   {
    "duration": 1792,
    "start_time": "2025-09-11T14:38:49.974Z"
   },
   {
    "duration": 16575,
    "start_time": "2025-09-11T14:41:24.588Z"
   },
   {
    "duration": 1439,
    "start_time": "2025-09-11T14:41:41.165Z"
   },
   {
    "duration": 3,
    "start_time": "2025-09-11T14:41:42.606Z"
   },
   {
    "duration": 317,
    "start_time": "2025-09-11T14:41:42.611Z"
   },
   {
    "duration": 76,
    "start_time": "2025-09-11T14:41:42.930Z"
   },
   {
    "duration": 10,
    "start_time": "2025-09-11T14:41:43.008Z"
   },
   {
    "duration": 5,
    "start_time": "2025-09-11T14:41:43.020Z"
   },
   {
    "duration": 7,
    "start_time": "2025-09-11T14:41:43.026Z"
   },
   {
    "duration": 47,
    "start_time": "2025-09-11T14:41:43.035Z"
   },
   {
    "duration": 4,
    "start_time": "2025-09-11T14:41:43.085Z"
   },
   {
    "duration": 15,
    "start_time": "2025-09-11T14:41:43.091Z"
   },
   {
    "duration": 28,
    "start_time": "2025-09-11T14:41:43.108Z"
   },
   {
    "duration": 6,
    "start_time": "2025-09-11T14:41:43.138Z"
   },
   {
    "duration": 94,
    "start_time": "2025-09-11T14:41:43.146Z"
   },
   {
    "duration": 43,
    "start_time": "2025-09-11T14:41:43.242Z"
   },
   {
    "duration": 37,
    "start_time": "2025-09-11T14:41:43.286Z"
   },
   {
    "duration": 11,
    "start_time": "2025-09-11T14:41:43.325Z"
   },
   {
    "duration": 8,
    "start_time": "2025-09-11T14:41:43.338Z"
   },
   {
    "duration": 11,
    "start_time": "2025-09-11T14:41:43.371Z"
   },
   {
    "duration": 23,
    "start_time": "2025-09-11T14:41:43.383Z"
   },
   {
    "duration": 5,
    "start_time": "2025-09-11T14:41:43.408Z"
   },
   {
    "duration": 41,
    "start_time": "2025-09-11T14:41:43.414Z"
   },
   {
    "duration": 16,
    "start_time": "2025-09-11T14:41:43.457Z"
   },
   {
    "duration": 712,
    "start_time": "2025-09-11T14:41:43.475Z"
   },
   {
    "duration": 1611,
    "start_time": "2025-09-11T14:41:44.189Z"
   },
   {
    "duration": 5,
    "start_time": "2025-09-11T14:41:45.802Z"
   },
   {
    "duration": 1059,
    "start_time": "2025-09-11T14:41:45.808Z"
   },
   {
    "duration": 991,
    "start_time": "2025-09-11T14:41:46.874Z"
   },
   {
    "duration": 3118,
    "start_time": "2025-09-11T14:41:47.870Z"
   },
   {
    "duration": 4,
    "start_time": "2025-09-11T14:41:50.990Z"
   },
   {
    "duration": 20,
    "start_time": "2025-09-11T14:41:50.996Z"
   },
   {
    "duration": 964,
    "start_time": "2025-09-11T14:41:51.018Z"
   },
   {
    "duration": 4,
    "start_time": "2025-09-11T14:41:51.984Z"
   },
   {
    "duration": 21,
    "start_time": "2025-09-11T14:41:51.990Z"
   },
   {
    "duration": 13,
    "start_time": "2025-09-11T14:41:52.013Z"
   },
   {
    "duration": 8,
    "start_time": "2025-09-11T14:41:52.028Z"
   },
   {
    "duration": 35,
    "start_time": "2025-09-11T14:41:52.037Z"
   },
   {
    "duration": 13,
    "start_time": "2025-09-11T14:41:52.074Z"
   },
   {
    "duration": 3,
    "start_time": "2025-09-11T14:41:52.089Z"
   },
   {
    "duration": 9,
    "start_time": "2025-09-11T14:41:52.094Z"
   },
   {
    "duration": 10,
    "start_time": "2025-09-11T14:41:52.104Z"
   },
   {
    "duration": 3,
    "start_time": "2025-09-11T14:41:52.116Z"
   },
   {
    "duration": 60,
    "start_time": "2025-09-11T14:41:52.121Z"
   },
   {
    "duration": 5,
    "start_time": "2025-09-11T14:41:52.183Z"
   },
   {
    "duration": 11,
    "start_time": "2025-09-11T14:41:52.190Z"
   },
   {
    "duration": 14,
    "start_time": "2025-09-11T14:41:52.203Z"
   },
   {
    "duration": 4869476,
    "start_time": "2025-09-11T14:41:52.221Z"
   },
   {
    "duration": 19,
    "start_time": "2025-09-11T16:03:01.699Z"
   },
   {
    "duration": 139,
    "start_time": "2025-09-11T16:03:01.720Z"
   },
   {
    "duration": 0,
    "start_time": "2025-09-11T16:03:01.861Z"
   },
   {
    "duration": 0,
    "start_time": "2025-09-11T16:03:01.870Z"
   },
   {
    "duration": 0,
    "start_time": "2025-09-11T16:03:01.872Z"
   },
   {
    "duration": 0,
    "start_time": "2025-09-11T16:03:01.873Z"
   },
   {
    "duration": 0,
    "start_time": "2025-09-11T16:03:01.874Z"
   },
   {
    "duration": 0,
    "start_time": "2025-09-11T16:03:01.875Z"
   },
   {
    "duration": 0,
    "start_time": "2025-09-11T16:03:01.876Z"
   },
   {
    "duration": 0,
    "start_time": "2025-09-11T16:03:01.877Z"
   },
   {
    "duration": 0,
    "start_time": "2025-09-11T16:03:01.879Z"
   },
   {
    "duration": 50,
    "start_time": "2025-09-11T16:15:46.598Z"
   },
   {
    "duration": 125803,
    "start_time": "2025-09-11T16:16:04.262Z"
   },
   {
    "duration": 16,
    "start_time": "2025-09-11T16:18:10.068Z"
   },
   {
    "duration": 28,
    "start_time": "2025-09-11T16:18:10.086Z"
   },
   {
    "duration": 5,
    "start_time": "2025-09-11T16:18:10.116Z"
   },
   {
    "duration": 5,
    "start_time": "2025-09-11T16:18:10.122Z"
   },
   {
    "duration": 9,
    "start_time": "2025-09-11T16:18:10.128Z"
   },
   {
    "duration": 385,
    "start_time": "2025-09-11T16:18:10.139Z"
   },
   {
    "duration": 12,
    "start_time": "2025-09-11T16:18:10.525Z"
   },
   {
    "duration": 0,
    "start_time": "2025-09-11T16:18:10.538Z"
   },
   {
    "duration": 0,
    "start_time": "2025-09-11T16:18:10.540Z"
   },
   {
    "duration": 19,
    "start_time": "2025-09-11T16:18:37.624Z"
   },
   {
    "duration": 6,
    "start_time": "2025-09-11T16:20:56.611Z"
   },
   {
    "duration": 187,
    "start_time": "2025-09-11T16:22:05.599Z"
   }
  ],
  "kernelspec": {
   "display_name": "Python 3 (ipykernel)",
   "language": "python",
   "name": "python3"
  },
  "language_info": {
   "codemirror_mode": {
    "name": "ipython",
    "version": 3
   },
   "file_extension": ".py",
   "mimetype": "text/x-python",
   "name": "python",
   "nbconvert_exporter": "python",
   "pygments_lexer": "ipython3",
   "version": "3.9.5"
  },
  "toc": {
   "base_numbering": 1,
   "nav_menu": {},
   "number_sections": true,
   "sideBar": true,
   "skip_h1_title": true,
   "title_cell": "Table of Contents",
   "title_sidebar": "Contents",
   "toc_cell": false,
   "toc_position": {},
   "toc_section_display": true,
   "toc_window_display": true
  }
 },
 "nbformat": 4,
 "nbformat_minor": 5
}
